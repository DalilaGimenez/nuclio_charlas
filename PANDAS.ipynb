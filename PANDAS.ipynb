{
 "cells": [
  {
   "cell_type": "markdown",
   "id": "c6ecc561",
   "metadata": {},
   "source": [
    "# Bienvenido al día 1 del workshop de Nuclio Digital School (2/2)\n",
    "## 14-Enero-2025\n",
    "\n",
    "<img src=\"./pictures/PANDAS_DEEP_DIVE.webp\" alt=\"PANDAS_DD\" width=\"700\" height=\"300\"/>"
   ]
  },
  {
   "cell_type": "markdown",
   "id": "996af718",
   "metadata": {},
   "source": [
    "# Objetivos del notebook\n",
    "---\n",
    "En este notebook vamos a hacer una introducción a la librería de pandas y explorar algunas de sus ***best practices***.\n",
    "\n",
    "**[pandas](https://pandas.pydata.org)** es una librería enfocada al análisis y manipulación de datos tabulares.<br>\n",
    "\n",
    "Este paquete junto con [numpy](https://numpy.org), [matplotlib](https://matplotlib.org), [xgboost](https://xgboost.readthedocs.io/en/stable/) y [scikit-learn](https://scikit-learn.org/stable/index.html) constituyen las principales librerías de Machine Learning Tabular en Python.\n",
    "\n",
    "**Dado que la mayoría de los problemas a los que se enfrentan las empresas en la vida real son problemas y datasets tabulares, aprendiendo estas 5 librerías, obtenemos una base sólida para empezar a trabajar en el mundo de Machine Learning.**\n",
    "\n",
    "Al final del notebook, el alumno se tiene que sentir cómodo con los siguientes funcionalidades:\n",
    "\n",
    "1. Saber como podemos \"cargar\" un fichero que tenemos en nuestro ordenador a pandas para poder empezar a manipularlo.\n",
    "1. Entender los objetos básicos que tenemos cuando usamos pandas: **DataFrame** y **Series**.\n",
    "1. Dar a conocer los métodos más simples de un pandas DataFrame: **head**, **tail**, **describe**, **info** etc.\n",
    "1. Entender en que consiste el **pandas groupby** y como podemos utilizarlo para hacer cálculo de manera **rápida, limpia y eficiente.**\n",
    "1. Conocer que es la **pivot_table** de pandas.\n",
    "1. Conocer los **merge* y **concat** de pandas.\n",
    "1. Saber utilizar **pipe** dentro de **chaining** de pandas.\n",
    "---\n",
    "\n",
    "# Let's go!\n",
    "\n",
    "---"
   ]
  },
  {
   "cell_type": "markdown",
   "id": "09e745e6",
   "metadata": {},
   "source": [
    "<a id='index'></a>\n",
    "## 1. Índice\n",
    "\n",
    "[1. Imports del notebook](#imports_notebook)<br>\n",
    "\n",
    "## 2. Dataset\n",
    "[2. Dataset que vamos a utilizar: animes](#animes)<br>\n",
    "\n",
    "\n",
    "## 3. Intro to pandas\n",
    "[3.1 Cargar datos a pandas](#datos)<br>\n",
    "[3.2 Métodos básicos de pandas](#intro_pandas)<br>\n",
    "[3.3 Mas métodos de pandas](#pandas2)<br>\n",
    "[3.4 Groupby y pivot_table](#gbpt)<br>\n",
    "[3.5 Merge y Concat](#merge_concat)<br>\n",
    "[3.6 Pipe](#pipe)<br>\n",
    "\n",
    "## 4. Wrap up y conclusiones\n",
    "[4. Wrap up y conclusiones](#conclusion)<br>\n",
    "\n",
    "## 5. Next steps\n",
    "[5. Next steps](#next_steps)<br>\n",
    "\n",
    "## 6. Referencias\n",
    "[6. Referencias y lecturas recomendables](#referencias)<br>"
   ]
  },
  {
   "cell_type": "markdown",
   "id": "8734afb5",
   "metadata": {},
   "source": [
    "<a id='imports_notebook'></a>\n",
    "# 1. Imports del notebook\n",
    "[Volver al índice](#index)\n",
    "\n",
    "En este apartado hacemos los principales imports del notebook.<br>\n",
    "Sobre todo vamos a trabajar con **pandas**."
   ]
  },
  {
   "cell_type": "code",
   "execution_count": 31,
   "id": "0b03528f",
   "metadata": {},
   "outputs": [],
   "source": [
    "import pandas as pd\n",
    "pd.options.display.float_format = '{:.2f}'.format"
   ]
  },
  {
   "cell_type": "code",
   "execution_count": 2,
   "id": "4d5949e6",
   "metadata": {},
   "outputs": [
    {
     "name": "stdout",
     "output_type": "stream",
     "text": [
      "Working with these versions of libraries\n",
      "\n",
      "--------------------------------------------------\n",
      "Pandas version 2.2.1\n"
     ]
    }
   ],
   "source": [
    "print(\"Working with these versions of libraries\\n\")\n",
    "print(\"-\"*50)\n",
    "print(f\"Pandas version {pd.__version__}\")"
   ]
  },
  {
   "cell_type": "markdown",
   "id": "aa4632ee",
   "metadata": {},
   "source": [
    "<a id='animes'></a>\n",
    "# 2. Dataset que vamos a utilizar: animes\n",
    "[Volver al índice](#index)\n",
    "\n",
    "Todo proyecto de Machine Learning requiere de datos. Los datos son la parte **FUNDAMENTAL** y si la calidad de los datos es **<ins>mala</ins>**, muchas veces los resultados que vamos a obtener van a ser **<ins>malos</ins>**.\n",
    "\n",
    "Gran parte de un proyecto de ML consiste en <ins>limpiar, analizar y preparar los datos</ins> para **\"alimentar\"** al algoritmo. Muy a menudo, todo esto se realiza con **pandas**.\n",
    "\n",
    "Dado que nuestro objetivo final es crear un recomendador basado en el historial de los clientes (lo haremos en el notebook [CBRS.ipynb](./CBRS.ipynb)), en este notebook vamos a hacer la limpieza y el análisis de los datos y por el camino vamos a aprender **pandas**.\n",
    "\n",
    "**¿Que dataset vamos a utilizar en nuestro proyecto?**\n",
    "\n",
    "Vamos a utilizar un dataset muy famoso de [Animes Japoneses](https://es.wikipedia.org/wiki/Anime) que se puede descargar de manera gratuita del [siguiente enlace](https://www.kaggle.com/datasets/CooperUnion/anime-recommendations-database/data)."
   ]
  },
  {
   "cell_type": "markdown",
   "id": "0e7fea6f",
   "metadata": {},
   "source": [
    "# 3. Intro to pandas\n",
    "\n",
    "<a id='datos'></a>\n",
    "# 3.1 Cargar datos a pandas\n",
    "[Volver al índice](#index)\n",
    "\n",
    "Normalmente los datos con los que trabajamos en la vida real están en diferentes bases de datos y utilizamos el lenguaje de programación [SQL](https://es.wikipedia.org/wiki/SQL) para descargarlos o manipularlos.\n",
    "\n",
    "En este workshop, para simplificar algo las cosas, vamos a trabajar con ficheros que están en el disco duro de nuestro ordenador para \"leerlos\" con pandas."
   ]
  },
  {
   "cell_type": "code",
   "execution_count": 3,
   "id": "d1189cab",
   "metadata": {},
   "outputs": [],
   "source": [
    "# hacer el import de pandas\n",
    "import pandas as pd"
   ]
  },
  {
   "cell_type": "code",
   "execution_count": 4,
   "id": "87b94a6a",
   "metadata": {},
   "outputs": [
    {
     "name": "stdout",
     "output_type": "stream",
     "text": [
      "/Users/nicolaepopescul/code/nuclio_charlas\r\n"
     ]
    }
   ],
   "source": [
    "# donde están mis datos\n",
    "! pwd"
   ]
  },
  {
   "cell_type": "code",
   "execution_count": 5,
   "id": "4475c112",
   "metadata": {},
   "outputs": [
    {
     "name": "stdout",
     "output_type": "stream",
     "text": [
      "CBRS.ipynb   INTRO.ipynb  PANDAS.ipynb README.md    \u001b[34minput\u001b[m\u001b[m        \u001b[34mpictures\u001b[m\u001b[m\r\n"
     ]
    }
   ],
   "source": [
    "# que tengo en esta ruta\n",
    "! ls"
   ]
  },
  {
   "cell_type": "code",
   "execution_count": 6,
   "id": "a148337e",
   "metadata": {},
   "outputs": [
    {
     "name": "stdout",
     "output_type": "stream",
     "text": [
      "cf_-1.parquet.gzip     cf_5.parquet.gzip      cf_anime.parquet.gzip\r\n",
      "cf_1.parquet.gzip      cf_6.parquet.gzip      cf_anime.pkl\r\n",
      "cf_10.parquet.gzip     cf_7.parquet.gzip      cf_anime.xlsx\r\n",
      "cf_2.parquet.gzip      cf_8.parquet.gzip      cf_rating.parquet.gzip\r\n",
      "cf_3.parquet.gzip      cf_9.parquet.gzip\r\n",
      "cf_4.parquet.gzip      cf_anime.csv\r\n"
     ]
    }
   ],
   "source": [
    "# que tengo en la carpeta de input\n",
    "! ls /Users/nicolaepopescul/code/nuclio_charlas/input"
   ]
  },
  {
   "cell_type": "code",
   "execution_count": 7,
   "id": "d05de8ec",
   "metadata": {},
   "outputs": [],
   "source": [
    "# leemos un fichero en un pandas DataFrame\n",
    "# ./ indica: utiliza la ruta relativa (allí donde está el notebook) para ir a la carpeta de input\n",
    "# y leer el fichero cf_anime.parquet.gzip\n",
    "df = pd.read_parquet(\"./input/cf_anime.parquet.gzip\")"
   ]
  },
  {
   "cell_type": "code",
   "execution_count": 8,
   "id": "36973112",
   "metadata": {},
   "outputs": [],
   "source": [
    "df = df.set_index(\"anime_id\")"
   ]
  },
  {
   "cell_type": "code",
   "execution_count": 9,
   "id": "490aa586",
   "metadata": {},
   "outputs": [],
   "source": [
    "# mostar los otros formas para leer ficheros:\n",
    "# csv\n",
    "# pickle\n",
    "# excel\n",
    "# parquet\n",
    "# otros"
   ]
  },
  {
   "cell_type": "code",
   "execution_count": 10,
   "id": "ea53aa28",
   "metadata": {},
   "outputs": [
    {
     "data": {
      "text/html": [
       "<div>\n",
       "<style scoped>\n",
       "    .dataframe tbody tr th:only-of-type {\n",
       "        vertical-align: middle;\n",
       "    }\n",
       "\n",
       "    .dataframe tbody tr th {\n",
       "        vertical-align: top;\n",
       "    }\n",
       "\n",
       "    .dataframe thead th {\n",
       "        text-align: right;\n",
       "    }\n",
       "</style>\n",
       "<table border=\"1\" class=\"dataframe\">\n",
       "  <thead>\n",
       "    <tr style=\"text-align: right;\">\n",
       "      <th></th>\n",
       "      <th>name</th>\n",
       "      <th>genre</th>\n",
       "      <th>type</th>\n",
       "      <th>episodes</th>\n",
       "      <th>rating</th>\n",
       "      <th>members</th>\n",
       "    </tr>\n",
       "    <tr>\n",
       "      <th>anime_id</th>\n",
       "      <th></th>\n",
       "      <th></th>\n",
       "      <th></th>\n",
       "      <th></th>\n",
       "      <th></th>\n",
       "      <th></th>\n",
       "    </tr>\n",
       "  </thead>\n",
       "  <tbody>\n",
       "    <tr>\n",
       "      <th>32281</th>\n",
       "      <td>Kimi no Na wa.</td>\n",
       "      <td>Drama, Romance, School, Supernatural</td>\n",
       "      <td>Movie</td>\n",
       "      <td>1</td>\n",
       "      <td>9.37</td>\n",
       "      <td>200630</td>\n",
       "    </tr>\n",
       "    <tr>\n",
       "      <th>5114</th>\n",
       "      <td>Fullmetal Alchemist: Brotherhood</td>\n",
       "      <td>Action, Adventure, Drama, Fantasy, Magic, Mili...</td>\n",
       "      <td>TV</td>\n",
       "      <td>64</td>\n",
       "      <td>9.26</td>\n",
       "      <td>793665</td>\n",
       "    </tr>\n",
       "    <tr>\n",
       "      <th>28977</th>\n",
       "      <td>Gintama°</td>\n",
       "      <td>Action, Comedy, Historical, Parody, Samurai, S...</td>\n",
       "      <td>TV</td>\n",
       "      <td>51</td>\n",
       "      <td>9.25</td>\n",
       "      <td>114262</td>\n",
       "    </tr>\n",
       "    <tr>\n",
       "      <th>9253</th>\n",
       "      <td>Steins;Gate</td>\n",
       "      <td>Sci-Fi, Thriller</td>\n",
       "      <td>TV</td>\n",
       "      <td>24</td>\n",
       "      <td>9.17</td>\n",
       "      <td>673572</td>\n",
       "    </tr>\n",
       "    <tr>\n",
       "      <th>9969</th>\n",
       "      <td>Gintama&amp;#039;</td>\n",
       "      <td>Action, Comedy, Historical, Parody, Samurai, S...</td>\n",
       "      <td>TV</td>\n",
       "      <td>51</td>\n",
       "      <td>9.16</td>\n",
       "      <td>151266</td>\n",
       "    </tr>\n",
       "    <tr>\n",
       "      <th>...</th>\n",
       "      <td>...</td>\n",
       "      <td>...</td>\n",
       "      <td>...</td>\n",
       "      <td>...</td>\n",
       "      <td>...</td>\n",
       "      <td>...</td>\n",
       "    </tr>\n",
       "    <tr>\n",
       "      <th>9316</th>\n",
       "      <td>Toushindai My Lover: Minami tai Mecha-Minami</td>\n",
       "      <td>Hentai</td>\n",
       "      <td>OVA</td>\n",
       "      <td>1</td>\n",
       "      <td>4.15</td>\n",
       "      <td>211</td>\n",
       "    </tr>\n",
       "    <tr>\n",
       "      <th>5543</th>\n",
       "      <td>Under World</td>\n",
       "      <td>Hentai</td>\n",
       "      <td>OVA</td>\n",
       "      <td>1</td>\n",
       "      <td>4.28</td>\n",
       "      <td>183</td>\n",
       "    </tr>\n",
       "    <tr>\n",
       "      <th>5621</th>\n",
       "      <td>Violence Gekiga David no Hoshi</td>\n",
       "      <td>Hentai</td>\n",
       "      <td>OVA</td>\n",
       "      <td>4</td>\n",
       "      <td>4.88</td>\n",
       "      <td>219</td>\n",
       "    </tr>\n",
       "    <tr>\n",
       "      <th>6133</th>\n",
       "      <td>Violence Gekiga Shin David no Hoshi: Inma Dens...</td>\n",
       "      <td>Hentai</td>\n",
       "      <td>OVA</td>\n",
       "      <td>1</td>\n",
       "      <td>4.98</td>\n",
       "      <td>175</td>\n",
       "    </tr>\n",
       "    <tr>\n",
       "      <th>26081</th>\n",
       "      <td>Yasuji no Pornorama: Yacchimae!!</td>\n",
       "      <td>Hentai</td>\n",
       "      <td>Movie</td>\n",
       "      <td>1</td>\n",
       "      <td>5.46</td>\n",
       "      <td>142</td>\n",
       "    </tr>\n",
       "  </tbody>\n",
       "</table>\n",
       "<p>12294 rows × 6 columns</p>\n",
       "</div>"
      ],
      "text/plain": [
       "                                                       name  \\\n",
       "anime_id                                                      \n",
       "32281                                        Kimi no Na wa.   \n",
       "5114                       Fullmetal Alchemist: Brotherhood   \n",
       "28977                                              Gintama°   \n",
       "9253                                            Steins;Gate   \n",
       "9969                                          Gintama&#039;   \n",
       "...                                                     ...   \n",
       "9316           Toushindai My Lover: Minami tai Mecha-Minami   \n",
       "5543                                            Under World   \n",
       "5621                         Violence Gekiga David no Hoshi   \n",
       "6133      Violence Gekiga Shin David no Hoshi: Inma Dens...   \n",
       "26081                      Yasuji no Pornorama: Yacchimae!!   \n",
       "\n",
       "                                                      genre   type episodes  \\\n",
       "anime_id                                                                      \n",
       "32281                  Drama, Romance, School, Supernatural  Movie        1   \n",
       "5114      Action, Adventure, Drama, Fantasy, Magic, Mili...     TV       64   \n",
       "28977     Action, Comedy, Historical, Parody, Samurai, S...     TV       51   \n",
       "9253                                       Sci-Fi, Thriller     TV       24   \n",
       "9969      Action, Comedy, Historical, Parody, Samurai, S...     TV       51   \n",
       "...                                                     ...    ...      ...   \n",
       "9316                                                 Hentai    OVA        1   \n",
       "5543                                                 Hentai    OVA        1   \n",
       "5621                                                 Hentai    OVA        4   \n",
       "6133                                                 Hentai    OVA        1   \n",
       "26081                                                Hentai  Movie        1   \n",
       "\n",
       "          rating  members  \n",
       "anime_id                   \n",
       "32281       9.37   200630  \n",
       "5114        9.26   793665  \n",
       "28977       9.25   114262  \n",
       "9253        9.17   673572  \n",
       "9969        9.16   151266  \n",
       "...          ...      ...  \n",
       "9316        4.15      211  \n",
       "5543        4.28      183  \n",
       "5621        4.88      219  \n",
       "6133        4.98      175  \n",
       "26081       5.46      142  \n",
       "\n",
       "[12294 rows x 6 columns]"
      ]
     },
     "execution_count": 10,
     "metadata": {},
     "output_type": "execute_result"
    }
   ],
   "source": [
    "df"
   ]
  },
  {
   "cell_type": "markdown",
   "id": "d589efd7",
   "metadata": {},
   "source": [
    "Acabamos de cargar nuestro fichero en un pandas **DataFrame.**\n",
    "\n",
    "El **DataFrame** es el objeto central de pandas y representa una tabla/matriz que tiene 2 ejes (o axis).\n",
    "\n",
    "<img src=\"./Pictures/DATAFRAME.png\">\n",
    "\n",
    "[Fuente: www.geeksforgeeks.org](https://www.geeksforgeeks.org/creating-a-pandas-dataframe/)\n",
    "\n",
    "Un eje son las **filas del DataFrame** y básicamente vienen a representar los **registros** que tenemos en la tabla. A menudo, cuando trabajamos en problemas de ML Supervisados, también los llamamos **\"instancias\"**.\n",
    "\n",
    "El otro eje que tenemos son **las columnas del DataFrame**. Las columnas a menudo se conocen como las **\"features\"** o **\"atributos\"** y vienen a captar diferentes variables/información sobre nuestras instancias.\n",
    "\n",
    "**Por ejemplo: si 1 fila es un cliente, las columnas son las variables que tenemos de este cliente y podrían ser la edad, el salario, el móvil que usa etc.**"
   ]
  },
  {
   "cell_type": "markdown",
   "id": "a0682f2e",
   "metadata": {},
   "source": [
    "<a id='intro_pandas'></a>\n",
    "# 3.2 Métodos básicos de pandas\n",
    "[Volver al índice](#index)\n",
    "\n",
    "**Nota:** a menudo a lo largo del workshop voy a utilizar la palabra **método** cuando hable de pandas o bien de un **DataFrame/Series**. Por ejemplo: **el DataFrame tiene el método de sum**.\n",
    "\n",
    "Lo que esto quiere decir es que cuando tengo una DataFrame, con el DataFrame viene una **FUNCIONALIDAD** incorporada, en este caso, la suma. Por lo tanto, si tengo un DataFrame que tiene una columna númerica, podré calcular la suma de esta columna usando esta funcionalidad.\n",
    "\n",
    "---\n",
    "\n",
    "Con el método de `df.shape` podemos llegar a saber el número de filas y de columnas que tiene nuestro dataset."
   ]
  },
  {
   "cell_type": "code",
   "execution_count": 11,
   "id": "7a6b41d6",
   "metadata": {},
   "outputs": [
    {
     "data": {
      "text/plain": [
       "(12294, 6)"
      ]
     },
     "execution_count": 11,
     "metadata": {},
     "output_type": "execute_result"
    }
   ],
   "source": [
    "df.shape"
   ]
  },
  {
   "cell_type": "markdown",
   "id": "0ba261f9",
   "metadata": {},
   "source": [
    "**Tip:** para recordar que las filas son el axis 0 y las columnas el axis 1, podemos recordar que `df.shape` 0 nos da las filas y `df.shape` 1 nos da las columnas.\n",
    "\n",
    "**Nota:** en la mayoría de los lenguajes de programación, el índice empieza por el 0. Esto quiere decir que el primer elemento tiene el índice de 0, el segundo elemento tiene el índice de 1 etc."
   ]
  },
  {
   "cell_type": "markdown",
   "id": "b4bafa34",
   "metadata": {},
   "source": [
    "Cuando hacemos nuestro primer contacto con un dataset, a menudo nos interesa ver los primeros 5 registros o los últimos 5 registros de una tabla.\n",
    "\n",
    "Los métodos de `df.head()` o `df.tail()` sirven justo para este propósito."
   ]
  },
  {
   "cell_type": "code",
   "execution_count": 12,
   "id": "6574bc84",
   "metadata": {},
   "outputs": [
    {
     "data": {
      "text/html": [
       "<div>\n",
       "<style scoped>\n",
       "    .dataframe tbody tr th:only-of-type {\n",
       "        vertical-align: middle;\n",
       "    }\n",
       "\n",
       "    .dataframe tbody tr th {\n",
       "        vertical-align: top;\n",
       "    }\n",
       "\n",
       "    .dataframe thead th {\n",
       "        text-align: right;\n",
       "    }\n",
       "</style>\n",
       "<table border=\"1\" class=\"dataframe\">\n",
       "  <thead>\n",
       "    <tr style=\"text-align: right;\">\n",
       "      <th></th>\n",
       "      <th>name</th>\n",
       "      <th>genre</th>\n",
       "      <th>type</th>\n",
       "      <th>episodes</th>\n",
       "      <th>rating</th>\n",
       "      <th>members</th>\n",
       "    </tr>\n",
       "    <tr>\n",
       "      <th>anime_id</th>\n",
       "      <th></th>\n",
       "      <th></th>\n",
       "      <th></th>\n",
       "      <th></th>\n",
       "      <th></th>\n",
       "      <th></th>\n",
       "    </tr>\n",
       "  </thead>\n",
       "  <tbody>\n",
       "    <tr>\n",
       "      <th>32281</th>\n",
       "      <td>Kimi no Na wa.</td>\n",
       "      <td>Drama, Romance, School, Supernatural</td>\n",
       "      <td>Movie</td>\n",
       "      <td>1</td>\n",
       "      <td>9.37</td>\n",
       "      <td>200630</td>\n",
       "    </tr>\n",
       "    <tr>\n",
       "      <th>5114</th>\n",
       "      <td>Fullmetal Alchemist: Brotherhood</td>\n",
       "      <td>Action, Adventure, Drama, Fantasy, Magic, Mili...</td>\n",
       "      <td>TV</td>\n",
       "      <td>64</td>\n",
       "      <td>9.26</td>\n",
       "      <td>793665</td>\n",
       "    </tr>\n",
       "    <tr>\n",
       "      <th>28977</th>\n",
       "      <td>Gintama°</td>\n",
       "      <td>Action, Comedy, Historical, Parody, Samurai, S...</td>\n",
       "      <td>TV</td>\n",
       "      <td>51</td>\n",
       "      <td>9.25</td>\n",
       "      <td>114262</td>\n",
       "    </tr>\n",
       "    <tr>\n",
       "      <th>9253</th>\n",
       "      <td>Steins;Gate</td>\n",
       "      <td>Sci-Fi, Thriller</td>\n",
       "      <td>TV</td>\n",
       "      <td>24</td>\n",
       "      <td>9.17</td>\n",
       "      <td>673572</td>\n",
       "    </tr>\n",
       "    <tr>\n",
       "      <th>9969</th>\n",
       "      <td>Gintama&amp;#039;</td>\n",
       "      <td>Action, Comedy, Historical, Parody, Samurai, S...</td>\n",
       "      <td>TV</td>\n",
       "      <td>51</td>\n",
       "      <td>9.16</td>\n",
       "      <td>151266</td>\n",
       "    </tr>\n",
       "  </tbody>\n",
       "</table>\n",
       "</div>"
      ],
      "text/plain": [
       "                                      name  \\\n",
       "anime_id                                     \n",
       "32281                       Kimi no Na wa.   \n",
       "5114      Fullmetal Alchemist: Brotherhood   \n",
       "28977                             Gintama°   \n",
       "9253                           Steins;Gate   \n",
       "9969                         Gintama&#039;   \n",
       "\n",
       "                                                      genre   type episodes  \\\n",
       "anime_id                                                                      \n",
       "32281                  Drama, Romance, School, Supernatural  Movie        1   \n",
       "5114      Action, Adventure, Drama, Fantasy, Magic, Mili...     TV       64   \n",
       "28977     Action, Comedy, Historical, Parody, Samurai, S...     TV       51   \n",
       "9253                                       Sci-Fi, Thriller     TV       24   \n",
       "9969      Action, Comedy, Historical, Parody, Samurai, S...     TV       51   \n",
       "\n",
       "          rating  members  \n",
       "anime_id                   \n",
       "32281       9.37   200630  \n",
       "5114        9.26   793665  \n",
       "28977       9.25   114262  \n",
       "9253        9.17   673572  \n",
       "9969        9.16   151266  "
      ]
     },
     "execution_count": 12,
     "metadata": {},
     "output_type": "execute_result"
    }
   ],
   "source": [
    "df.head()"
   ]
  },
  {
   "cell_type": "code",
   "execution_count": 13,
   "id": "2b6cac95",
   "metadata": {},
   "outputs": [
    {
     "data": {
      "text/html": [
       "<div>\n",
       "<style scoped>\n",
       "    .dataframe tbody tr th:only-of-type {\n",
       "        vertical-align: middle;\n",
       "    }\n",
       "\n",
       "    .dataframe tbody tr th {\n",
       "        vertical-align: top;\n",
       "    }\n",
       "\n",
       "    .dataframe thead th {\n",
       "        text-align: right;\n",
       "    }\n",
       "</style>\n",
       "<table border=\"1\" class=\"dataframe\">\n",
       "  <thead>\n",
       "    <tr style=\"text-align: right;\">\n",
       "      <th></th>\n",
       "      <th>name</th>\n",
       "      <th>genre</th>\n",
       "      <th>type</th>\n",
       "      <th>episodes</th>\n",
       "      <th>rating</th>\n",
       "      <th>members</th>\n",
       "    </tr>\n",
       "    <tr>\n",
       "      <th>anime_id</th>\n",
       "      <th></th>\n",
       "      <th></th>\n",
       "      <th></th>\n",
       "      <th></th>\n",
       "      <th></th>\n",
       "      <th></th>\n",
       "    </tr>\n",
       "  </thead>\n",
       "  <tbody>\n",
       "    <tr>\n",
       "      <th>9316</th>\n",
       "      <td>Toushindai My Lover: Minami tai Mecha-Minami</td>\n",
       "      <td>Hentai</td>\n",
       "      <td>OVA</td>\n",
       "      <td>1</td>\n",
       "      <td>4.15</td>\n",
       "      <td>211</td>\n",
       "    </tr>\n",
       "    <tr>\n",
       "      <th>5543</th>\n",
       "      <td>Under World</td>\n",
       "      <td>Hentai</td>\n",
       "      <td>OVA</td>\n",
       "      <td>1</td>\n",
       "      <td>4.28</td>\n",
       "      <td>183</td>\n",
       "    </tr>\n",
       "    <tr>\n",
       "      <th>5621</th>\n",
       "      <td>Violence Gekiga David no Hoshi</td>\n",
       "      <td>Hentai</td>\n",
       "      <td>OVA</td>\n",
       "      <td>4</td>\n",
       "      <td>4.88</td>\n",
       "      <td>219</td>\n",
       "    </tr>\n",
       "    <tr>\n",
       "      <th>6133</th>\n",
       "      <td>Violence Gekiga Shin David no Hoshi: Inma Dens...</td>\n",
       "      <td>Hentai</td>\n",
       "      <td>OVA</td>\n",
       "      <td>1</td>\n",
       "      <td>4.98</td>\n",
       "      <td>175</td>\n",
       "    </tr>\n",
       "    <tr>\n",
       "      <th>26081</th>\n",
       "      <td>Yasuji no Pornorama: Yacchimae!!</td>\n",
       "      <td>Hentai</td>\n",
       "      <td>Movie</td>\n",
       "      <td>1</td>\n",
       "      <td>5.46</td>\n",
       "      <td>142</td>\n",
       "    </tr>\n",
       "  </tbody>\n",
       "</table>\n",
       "</div>"
      ],
      "text/plain": [
       "                                                       name   genre   type  \\\n",
       "anime_id                                                                     \n",
       "9316           Toushindai My Lover: Minami tai Mecha-Minami  Hentai    OVA   \n",
       "5543                                            Under World  Hentai    OVA   \n",
       "5621                         Violence Gekiga David no Hoshi  Hentai    OVA   \n",
       "6133      Violence Gekiga Shin David no Hoshi: Inma Dens...  Hentai    OVA   \n",
       "26081                      Yasuji no Pornorama: Yacchimae!!  Hentai  Movie   \n",
       "\n",
       "         episodes  rating  members  \n",
       "anime_id                            \n",
       "9316            1    4.15      211  \n",
       "5543            1    4.28      183  \n",
       "5621            4    4.88      219  \n",
       "6133            1    4.98      175  \n",
       "26081           1    5.46      142  "
      ]
     },
     "execution_count": 13,
     "metadata": {},
     "output_type": "execute_result"
    }
   ],
   "source": [
    "# el valor por defecto de los métodos head y tail es 5, es decir muestra 5 filas\n",
    "# por este motivo no lo hemos especificado antes en el head\n",
    "df.tail(5)"
   ]
  },
  {
   "cell_type": "markdown",
   "id": "b7a24899",
   "metadata": {},
   "source": [
    "Muy a menudo queremos sacar una pequeña muestra de clientes de nuestra tabla para analizarla rápidamente.\n",
    "\n",
    "El método `df.sample(nr_registros)` nos permite hacer una muestra aleatoria sin reemplazo.\n",
    "\n",
    "Con la siguiente línea de código vamos a seleccionar al azar 15 registros de nuestro dataset."
   ]
  },
  {
   "cell_type": "code",
   "execution_count": 14,
   "id": "9f842cb8",
   "metadata": {},
   "outputs": [
    {
     "data": {
      "text/html": [
       "<div>\n",
       "<style scoped>\n",
       "    .dataframe tbody tr th:only-of-type {\n",
       "        vertical-align: middle;\n",
       "    }\n",
       "\n",
       "    .dataframe tbody tr th {\n",
       "        vertical-align: top;\n",
       "    }\n",
       "\n",
       "    .dataframe thead th {\n",
       "        text-align: right;\n",
       "    }\n",
       "</style>\n",
       "<table border=\"1\" class=\"dataframe\">\n",
       "  <thead>\n",
       "    <tr style=\"text-align: right;\">\n",
       "      <th></th>\n",
       "      <th>name</th>\n",
       "      <th>genre</th>\n",
       "      <th>type</th>\n",
       "      <th>episodes</th>\n",
       "      <th>rating</th>\n",
       "      <th>members</th>\n",
       "    </tr>\n",
       "    <tr>\n",
       "      <th>anime_id</th>\n",
       "      <th></th>\n",
       "      <th></th>\n",
       "      <th></th>\n",
       "      <th></th>\n",
       "      <th></th>\n",
       "      <th></th>\n",
       "    </tr>\n",
       "  </thead>\n",
       "  <tbody>\n",
       "    <tr>\n",
       "      <th>4490</th>\n",
       "      <td>Soap no Moko-chan</td>\n",
       "      <td>Hentai</td>\n",
       "      <td>OVA</td>\n",
       "      <td>1</td>\n",
       "      <td>6.30</td>\n",
       "      <td>717</td>\n",
       "    </tr>\n",
       "    <tr>\n",
       "      <th>31519</th>\n",
       "      <td>Anitore! EX</td>\n",
       "      <td>Comedy, Sports</td>\n",
       "      <td>TV</td>\n",
       "      <td>12</td>\n",
       "      <td>5.62</td>\n",
       "      <td>15005</td>\n",
       "    </tr>\n",
       "    <tr>\n",
       "      <th>30695</th>\n",
       "      <td>Pop in Q</td>\n",
       "      <td>Fantasy, Music</td>\n",
       "      <td>Movie</td>\n",
       "      <td>1</td>\n",
       "      <td>NaN</td>\n",
       "      <td>5207</td>\n",
       "    </tr>\n",
       "    <tr>\n",
       "      <th>30269</th>\n",
       "      <td>Momoiro Milk</td>\n",
       "      <td>Hentai</td>\n",
       "      <td>OVA</td>\n",
       "      <td>2</td>\n",
       "      <td>6.37</td>\n",
       "      <td>1628</td>\n",
       "    </tr>\n",
       "    <tr>\n",
       "      <th>569</th>\n",
       "      <td>Musekinin Kanchou Tylor</td>\n",
       "      <td>Comedy, Military, Parody, Sci-Fi, Space</td>\n",
       "      <td>TV</td>\n",
       "      <td>26</td>\n",
       "      <td>7.97</td>\n",
       "      <td>19841</td>\n",
       "    </tr>\n",
       "    <tr>\n",
       "      <th>304</th>\n",
       "      <td>Aa! Megami-sama! Movie</td>\n",
       "      <td>Comedy, Magic, Romance, Seinen, Supernatural</td>\n",
       "      <td>Movie</td>\n",
       "      <td>1</td>\n",
       "      <td>7.65</td>\n",
       "      <td>29330</td>\n",
       "    </tr>\n",
       "    <tr>\n",
       "      <th>8492</th>\n",
       "      <td>Kikansha Yaemon</td>\n",
       "      <td>Fantasy, Kids</td>\n",
       "      <td>Movie</td>\n",
       "      <td>1</td>\n",
       "      <td>5.64</td>\n",
       "      <td>89</td>\n",
       "    </tr>\n",
       "    <tr>\n",
       "      <th>20713</th>\n",
       "      <td>Mai Zhu</td>\n",
       "      <td>Comedy, Historical</td>\n",
       "      <td>Movie</td>\n",
       "      <td>1</td>\n",
       "      <td>5.78</td>\n",
       "      <td>180</td>\n",
       "    </tr>\n",
       "    <tr>\n",
       "      <th>10936</th>\n",
       "      <td>Nekogami Yaoyorozu: Ohanami Ghostbusters</td>\n",
       "      <td>Comedy, Seinen, Supernatural</td>\n",
       "      <td>OVA</td>\n",
       "      <td>1</td>\n",
       "      <td>6.76</td>\n",
       "      <td>2515</td>\n",
       "    </tr>\n",
       "    <tr>\n",
       "      <th>6324</th>\n",
       "      <td>Omamori Himari</td>\n",
       "      <td>Action, Comedy, Demons, Ecchi, Harem, Romance,...</td>\n",
       "      <td>TV</td>\n",
       "      <td>12</td>\n",
       "      <td>7.19</td>\n",
       "      <td>119572</td>\n",
       "    </tr>\n",
       "    <tr>\n",
       "      <th>6401</th>\n",
       "      <td>ef: A Tale of Melodies. - Prologue</td>\n",
       "      <td>Music</td>\n",
       "      <td>Special</td>\n",
       "      <td>1</td>\n",
       "      <td>7.43</td>\n",
       "      <td>13745</td>\n",
       "    </tr>\n",
       "    <tr>\n",
       "      <th>5763</th>\n",
       "      <td>Uchuu Kuubo Blue Noah</td>\n",
       "      <td>Action, Drama, Military, Sci-Fi, Space</td>\n",
       "      <td>TV</td>\n",
       "      <td>24</td>\n",
       "      <td>6.91</td>\n",
       "      <td>612</td>\n",
       "    </tr>\n",
       "    <tr>\n",
       "      <th>24773</th>\n",
       "      <td>Norasco</td>\n",
       "      <td>Comedy, Slice of Life</td>\n",
       "      <td>ONA</td>\n",
       "      <td>Unknown</td>\n",
       "      <td>4.75</td>\n",
       "      <td>93</td>\n",
       "    </tr>\n",
       "    <tr>\n",
       "      <th>4136</th>\n",
       "      <td>Penguin Musume♥Heart</td>\n",
       "      <td>Comedy, Ecchi, School, Slice of Life</td>\n",
       "      <td>ONA</td>\n",
       "      <td>22</td>\n",
       "      <td>6.85</td>\n",
       "      <td>12195</td>\n",
       "    </tr>\n",
       "    <tr>\n",
       "      <th>4718</th>\n",
       "      <td>AIKa: Special Trial</td>\n",
       "      <td>Ecchi</td>\n",
       "      <td>Special</td>\n",
       "      <td>1</td>\n",
       "      <td>5.83</td>\n",
       "      <td>4116</td>\n",
       "    </tr>\n",
       "  </tbody>\n",
       "</table>\n",
       "</div>"
      ],
      "text/plain": [
       "                                              name  \\\n",
       "anime_id                                             \n",
       "4490                             Soap no Moko-chan   \n",
       "31519                                  Anitore! EX   \n",
       "30695                                     Pop in Q   \n",
       "30269                                 Momoiro Milk   \n",
       "569                        Musekinin Kanchou Tylor   \n",
       "304                         Aa! Megami-sama! Movie   \n",
       "8492                               Kikansha Yaemon   \n",
       "20713                                      Mai Zhu   \n",
       "10936     Nekogami Yaoyorozu: Ohanami Ghostbusters   \n",
       "6324                                Omamori Himari   \n",
       "6401            ef: A Tale of Melodies. - Prologue   \n",
       "5763                         Uchuu Kuubo Blue Noah   \n",
       "24773                                      Norasco   \n",
       "4136                          Penguin Musume♥Heart   \n",
       "4718                           AIKa: Special Trial   \n",
       "\n",
       "                                                      genre     type episodes  \\\n",
       "anime_id                                                                        \n",
       "4490                                                 Hentai      OVA        1   \n",
       "31519                                        Comedy, Sports       TV       12   \n",
       "30695                                        Fantasy, Music    Movie        1   \n",
       "30269                                                Hentai      OVA        2   \n",
       "569                 Comedy, Military, Parody, Sci-Fi, Space       TV       26   \n",
       "304            Comedy, Magic, Romance, Seinen, Supernatural    Movie        1   \n",
       "8492                                          Fantasy, Kids    Movie        1   \n",
       "20713                                    Comedy, Historical    Movie        1   \n",
       "10936                          Comedy, Seinen, Supernatural      OVA        1   \n",
       "6324      Action, Comedy, Demons, Ecchi, Harem, Romance,...       TV       12   \n",
       "6401                                                  Music  Special        1   \n",
       "5763                 Action, Drama, Military, Sci-Fi, Space       TV       24   \n",
       "24773                                 Comedy, Slice of Life      ONA  Unknown   \n",
       "4136                   Comedy, Ecchi, School, Slice of Life      ONA       22   \n",
       "4718                                                  Ecchi  Special        1   \n",
       "\n",
       "          rating  members  \n",
       "anime_id                   \n",
       "4490        6.30      717  \n",
       "31519       5.62    15005  \n",
       "30695        NaN     5207  \n",
       "30269       6.37     1628  \n",
       "569         7.97    19841  \n",
       "304         7.65    29330  \n",
       "8492        5.64       89  \n",
       "20713       5.78      180  \n",
       "10936       6.76     2515  \n",
       "6324        7.19   119572  \n",
       "6401        7.43    13745  \n",
       "5763        6.91      612  \n",
       "24773       4.75       93  \n",
       "4136        6.85    12195  \n",
       "4718        5.83     4116  "
      ]
     },
     "execution_count": 14,
     "metadata": {},
     "output_type": "execute_result"
    }
   ],
   "source": [
    "df.sample(15)"
   ]
  },
  {
   "cell_type": "markdown",
   "id": "690e9b43",
   "metadata": {},
   "source": [
    "Vemos que nuestro dataset está formado por 6 columnas.\n",
    "\n",
    "Cuando usamos pandas, decimos que 1 columna es un **pandas Series**. \n",
    "\n",
    "Por tanto, nuestro **DataFrame** es básicamente una colección de 6 pandas **Series**.\n",
    "\n",
    "Si queremos seleccionar 1 única columna de nuestro **DataFrame** lo podemos hacer con el siguiente código."
   ]
  },
  {
   "cell_type": "code",
   "execution_count": 15,
   "id": "29bb5cc6",
   "metadata": {},
   "outputs": [],
   "source": [
    "series = df[\"rating\"]"
   ]
  },
  {
   "cell_type": "markdown",
   "id": "33473edc",
   "metadata": {},
   "source": [
    "Las **Series** a menudo tienen los mismos métodos que un **DataFrame**: `head`, `tail`etc."
   ]
  },
  {
   "cell_type": "code",
   "execution_count": 16,
   "id": "4d8d04ce",
   "metadata": {},
   "outputs": [
    {
     "data": {
      "text/plain": [
       "anime_id\n",
       "32281    9.37\n",
       "5114     9.26\n",
       "28977    9.25\n",
       "9253     9.17\n",
       "9969     9.16\n",
       "Name: rating, dtype: float64"
      ]
     },
     "execution_count": 16,
     "metadata": {},
     "output_type": "execute_result"
    }
   ],
   "source": [
    "series.head()"
   ]
  },
  {
   "cell_type": "markdown",
   "id": "19441013",
   "metadata": {},
   "source": [
    "En el ejemplo de antes, hemos utilizado el nombre de la columna entre **corchetes** para seleccionar 1 columna.\n",
    "\n",
    "Existen otras formas de hacer lo mismo.\n",
    "\n",
    "Por ejemplo, si el nombre **<u>no contiene ningún espacio</u>**, podemos escribir `df.nombre_columna` para obtener este **Series**."
   ]
  },
  {
   "cell_type": "code",
   "execution_count": 17,
   "id": "260729cf",
   "metadata": {},
   "outputs": [
    {
     "data": {
      "text/plain": [
       "anime_id\n",
       "32281    9.37\n",
       "5114     9.26\n",
       "28977    9.25\n",
       "9253     9.17\n",
       "9969     9.16\n",
       "         ... \n",
       "9316     4.15\n",
       "5543     4.28\n",
       "5621     4.88\n",
       "6133     4.98\n",
       "26081    5.46\n",
       "Name: rating, Length: 12294, dtype: float64"
      ]
     },
     "execution_count": 17,
     "metadata": {},
     "output_type": "execute_result"
    }
   ],
   "source": [
    "df.rating"
   ]
  },
  {
   "cell_type": "markdown",
   "id": "b1a2719d",
   "metadata": {},
   "source": [
    "Por último, es muy común utilizar el método `loc` o `iloc` para seleccionar columnas o filas o una combinación de ambas.\n",
    "\n",
    "Con `loc` podemos acceder a diferentes filas usando el nombre de la fila o columna."
   ]
  },
  {
   "cell_type": "code",
   "execution_count": 18,
   "id": "a9185fce",
   "metadata": {},
   "outputs": [
    {
     "data": {
      "text/html": [
       "<div>\n",
       "<style scoped>\n",
       "    .dataframe tbody tr th:only-of-type {\n",
       "        vertical-align: middle;\n",
       "    }\n",
       "\n",
       "    .dataframe tbody tr th {\n",
       "        vertical-align: top;\n",
       "    }\n",
       "\n",
       "    .dataframe thead th {\n",
       "        text-align: right;\n",
       "    }\n",
       "</style>\n",
       "<table border=\"1\" class=\"dataframe\">\n",
       "  <thead>\n",
       "    <tr style=\"text-align: right;\">\n",
       "      <th></th>\n",
       "      <th>name</th>\n",
       "      <th>genre</th>\n",
       "      <th>type</th>\n",
       "      <th>episodes</th>\n",
       "      <th>rating</th>\n",
       "      <th>members</th>\n",
       "    </tr>\n",
       "    <tr>\n",
       "      <th>anime_id</th>\n",
       "      <th></th>\n",
       "      <th></th>\n",
       "      <th></th>\n",
       "      <th></th>\n",
       "      <th></th>\n",
       "      <th></th>\n",
       "    </tr>\n",
       "  </thead>\n",
       "  <tbody>\n",
       "    <tr>\n",
       "      <th>32281</th>\n",
       "      <td>Kimi no Na wa.</td>\n",
       "      <td>Drama, Romance, School, Supernatural</td>\n",
       "      <td>Movie</td>\n",
       "      <td>1</td>\n",
       "      <td>9.37</td>\n",
       "      <td>200630</td>\n",
       "    </tr>\n",
       "    <tr>\n",
       "      <th>5114</th>\n",
       "      <td>Fullmetal Alchemist: Brotherhood</td>\n",
       "      <td>Action, Adventure, Drama, Fantasy, Magic, Mili...</td>\n",
       "      <td>TV</td>\n",
       "      <td>64</td>\n",
       "      <td>9.26</td>\n",
       "      <td>793665</td>\n",
       "    </tr>\n",
       "    <tr>\n",
       "      <th>28977</th>\n",
       "      <td>Gintama°</td>\n",
       "      <td>Action, Comedy, Historical, Parody, Samurai, S...</td>\n",
       "      <td>TV</td>\n",
       "      <td>51</td>\n",
       "      <td>9.25</td>\n",
       "      <td>114262</td>\n",
       "    </tr>\n",
       "    <tr>\n",
       "      <th>9253</th>\n",
       "      <td>Steins;Gate</td>\n",
       "      <td>Sci-Fi, Thriller</td>\n",
       "      <td>TV</td>\n",
       "      <td>24</td>\n",
       "      <td>9.17</td>\n",
       "      <td>673572</td>\n",
       "    </tr>\n",
       "    <tr>\n",
       "      <th>9969</th>\n",
       "      <td>Gintama&amp;#039;</td>\n",
       "      <td>Action, Comedy, Historical, Parody, Samurai, S...</td>\n",
       "      <td>TV</td>\n",
       "      <td>51</td>\n",
       "      <td>9.16</td>\n",
       "      <td>151266</td>\n",
       "    </tr>\n",
       "  </tbody>\n",
       "</table>\n",
       "</div>"
      ],
      "text/plain": [
       "                                      name  \\\n",
       "anime_id                                     \n",
       "32281                       Kimi no Na wa.   \n",
       "5114      Fullmetal Alchemist: Brotherhood   \n",
       "28977                             Gintama°   \n",
       "9253                           Steins;Gate   \n",
       "9969                         Gintama&#039;   \n",
       "\n",
       "                                                      genre   type episodes  \\\n",
       "anime_id                                                                      \n",
       "32281                  Drama, Romance, School, Supernatural  Movie        1   \n",
       "5114      Action, Adventure, Drama, Fantasy, Magic, Mili...     TV       64   \n",
       "28977     Action, Comedy, Historical, Parody, Samurai, S...     TV       51   \n",
       "9253                                       Sci-Fi, Thriller     TV       24   \n",
       "9969      Action, Comedy, Historical, Parody, Samurai, S...     TV       51   \n",
       "\n",
       "          rating  members  \n",
       "anime_id                   \n",
       "32281       9.37   200630  \n",
       "5114        9.26   793665  \n",
       "28977       9.25   114262  \n",
       "9253        9.17   673572  \n",
       "9969        9.16   151266  "
      ]
     },
     "execution_count": 18,
     "metadata": {},
     "output_type": "execute_result"
    }
   ],
   "source": [
    "df.head()"
   ]
  },
  {
   "cell_type": "code",
   "execution_count": 19,
   "id": "08fd4721",
   "metadata": {},
   "outputs": [
    {
     "data": {
      "text/plain": [
       "name                              Kimi no Na wa.\n",
       "genre       Drama, Romance, School, Supernatural\n",
       "type                                       Movie\n",
       "episodes                                       1\n",
       "rating                                      9.37\n",
       "members                                   200630\n",
       "Name: 32281, dtype: object"
      ]
     },
     "execution_count": 19,
     "metadata": {},
     "output_type": "execute_result"
    }
   ],
   "source": [
    "# en este ejemplo, 32281 es el anime_id que tenemos en la primera fila (índice 0).\n",
    "# si fuese un text en vez de número deberíamos escribir el nombre con comillas simples '' o comillas dobles \"\".\n",
    "df.loc[32281]"
   ]
  },
  {
   "cell_type": "markdown",
   "id": "8f40b732",
   "metadata": {},
   "source": [
    "Con el loc puedo seleccionar diferentes filas y columnas especificando más parámetros en el loc."
   ]
  },
  {
   "cell_type": "code",
   "execution_count": 20,
   "id": "e5bc108b",
   "metadata": {},
   "outputs": [
    {
     "data": {
      "text/plain": [
       "'Drama, Romance, School, Supernatural'"
      ]
     },
     "execution_count": 20,
     "metadata": {},
     "output_type": "execute_result"
    }
   ],
   "source": [
    "df.loc[32281, \"genre\"]"
   ]
  },
  {
   "cell_type": "markdown",
   "id": "dbcb1fd7",
   "metadata": {},
   "source": [
    "Si quiero seleccionar \"genre\" y también la columna de \"type\" lo puedo hacer poniendo \"genre\" y \"type\" dentro de una lista de python: `[\"genre\", \"type\"]` es decir, usamos otra vez corchetes."
   ]
  },
  {
   "cell_type": "code",
   "execution_count": 21,
   "id": "fb24d65b",
   "metadata": {},
   "outputs": [
    {
     "data": {
      "text/plain": [
       "genre    Drama, Romance, School, Supernatural\n",
       "type                                    Movie\n",
       "Name: 32281, dtype: object"
      ]
     },
     "execution_count": 21,
     "metadata": {},
     "output_type": "execute_result"
    }
   ],
   "source": [
    "df.loc[32281, [\"genre\", \"type\"]]"
   ]
  },
  {
   "cell_type": "markdown",
   "id": "fea630e1",
   "metadata": {},
   "source": [
    "Mientras que `loc` permite acceder a las diferentes filas y columnas por el nombre, `iloc` lo hace por el índice."
   ]
  },
  {
   "cell_type": "code",
   "execution_count": 22,
   "id": "eebf3078",
   "metadata": {},
   "outputs": [
    {
     "data": {
      "text/html": [
       "<div>\n",
       "<style scoped>\n",
       "    .dataframe tbody tr th:only-of-type {\n",
       "        vertical-align: middle;\n",
       "    }\n",
       "\n",
       "    .dataframe tbody tr th {\n",
       "        vertical-align: top;\n",
       "    }\n",
       "\n",
       "    .dataframe thead th {\n",
       "        text-align: right;\n",
       "    }\n",
       "</style>\n",
       "<table border=\"1\" class=\"dataframe\">\n",
       "  <thead>\n",
       "    <tr style=\"text-align: right;\">\n",
       "      <th></th>\n",
       "      <th>name</th>\n",
       "      <th>genre</th>\n",
       "      <th>type</th>\n",
       "      <th>episodes</th>\n",
       "      <th>rating</th>\n",
       "      <th>members</th>\n",
       "    </tr>\n",
       "    <tr>\n",
       "      <th>anime_id</th>\n",
       "      <th></th>\n",
       "      <th></th>\n",
       "      <th></th>\n",
       "      <th></th>\n",
       "      <th></th>\n",
       "      <th></th>\n",
       "    </tr>\n",
       "  </thead>\n",
       "  <tbody>\n",
       "    <tr>\n",
       "      <th>32281</th>\n",
       "      <td>Kimi no Na wa.</td>\n",
       "      <td>Drama, Romance, School, Supernatural</td>\n",
       "      <td>Movie</td>\n",
       "      <td>1</td>\n",
       "      <td>9.37</td>\n",
       "      <td>200630</td>\n",
       "    </tr>\n",
       "    <tr>\n",
       "      <th>5114</th>\n",
       "      <td>Fullmetal Alchemist: Brotherhood</td>\n",
       "      <td>Action, Adventure, Drama, Fantasy, Magic, Mili...</td>\n",
       "      <td>TV</td>\n",
       "      <td>64</td>\n",
       "      <td>9.26</td>\n",
       "      <td>793665</td>\n",
       "    </tr>\n",
       "    <tr>\n",
       "      <th>28977</th>\n",
       "      <td>Gintama°</td>\n",
       "      <td>Action, Comedy, Historical, Parody, Samurai, S...</td>\n",
       "      <td>TV</td>\n",
       "      <td>51</td>\n",
       "      <td>9.25</td>\n",
       "      <td>114262</td>\n",
       "    </tr>\n",
       "    <tr>\n",
       "      <th>9253</th>\n",
       "      <td>Steins;Gate</td>\n",
       "      <td>Sci-Fi, Thriller</td>\n",
       "      <td>TV</td>\n",
       "      <td>24</td>\n",
       "      <td>9.17</td>\n",
       "      <td>673572</td>\n",
       "    </tr>\n",
       "    <tr>\n",
       "      <th>9969</th>\n",
       "      <td>Gintama&amp;#039;</td>\n",
       "      <td>Action, Comedy, Historical, Parody, Samurai, S...</td>\n",
       "      <td>TV</td>\n",
       "      <td>51</td>\n",
       "      <td>9.16</td>\n",
       "      <td>151266</td>\n",
       "    </tr>\n",
       "  </tbody>\n",
       "</table>\n",
       "</div>"
      ],
      "text/plain": [
       "                                      name  \\\n",
       "anime_id                                     \n",
       "32281                       Kimi no Na wa.   \n",
       "5114      Fullmetal Alchemist: Brotherhood   \n",
       "28977                             Gintama°   \n",
       "9253                           Steins;Gate   \n",
       "9969                         Gintama&#039;   \n",
       "\n",
       "                                                      genre   type episodes  \\\n",
       "anime_id                                                                      \n",
       "32281                  Drama, Romance, School, Supernatural  Movie        1   \n",
       "5114      Action, Adventure, Drama, Fantasy, Magic, Mili...     TV       64   \n",
       "28977     Action, Comedy, Historical, Parody, Samurai, S...     TV       51   \n",
       "9253                                       Sci-Fi, Thriller     TV       24   \n",
       "9969      Action, Comedy, Historical, Parody, Samurai, S...     TV       51   \n",
       "\n",
       "          rating  members  \n",
       "anime_id                   \n",
       "32281       9.37   200630  \n",
       "5114        9.26   793665  \n",
       "28977       9.25   114262  \n",
       "9253        9.17   673572  \n",
       "9969        9.16   151266  "
      ]
     },
     "execution_count": 22,
     "metadata": {},
     "output_type": "execute_result"
    }
   ],
   "source": [
    "df.head()"
   ]
  },
  {
   "cell_type": "code",
   "execution_count": 23,
   "id": "795e56db",
   "metadata": {},
   "outputs": [
    {
     "data": {
      "text/plain": [
       "name                              Kimi no Na wa.\n",
       "genre       Drama, Romance, School, Supernatural\n",
       "type                                       Movie\n",
       "episodes                                       1\n",
       "rating                                      9.37\n",
       "members                                   200630\n",
       "Name: 32281, dtype: object"
      ]
     },
     "execution_count": 23,
     "metadata": {},
     "output_type": "execute_result"
    }
   ],
   "source": [
    "# el resultado es el mismo que usando df.loc[32281]\n",
    "df.iloc[0]"
   ]
  },
  {
   "cell_type": "code",
   "execution_count": 24,
   "id": "ab9feade",
   "metadata": {},
   "outputs": [
    {
     "data": {
      "text/plain": [
       "'Drama, Romance, School, Supernatural'"
      ]
     },
     "execution_count": 24,
     "metadata": {},
     "output_type": "execute_result"
    }
   ],
   "source": [
    "# el resultado es el mismo que usando df.loc[32281, \"genre\"]\n",
    "df.iloc[0, 1]"
   ]
  },
  {
   "cell_type": "code",
   "execution_count": 25,
   "id": "5b6c0c25",
   "metadata": {},
   "outputs": [
    {
     "data": {
      "text/plain": [
       "genre    Drama, Romance, School, Supernatural\n",
       "type                                    Movie\n",
       "Name: 32281, dtype: object"
      ]
     },
     "execution_count": 25,
     "metadata": {},
     "output_type": "execute_result"
    }
   ],
   "source": [
    "# el resultado es el mismo que usando df.loc[32281, [\"genre\", \"type\"]]\n",
    "df.iloc[0, [1, 2]]"
   ]
  },
  {
   "cell_type": "markdown",
   "id": "3bf57086",
   "metadata": {},
   "source": [
    "Los métodos de antes, `loc` y `iloc` permite filtrar también varias filas como se muestra a continuación."
   ]
  },
  {
   "cell_type": "code",
   "execution_count": 26,
   "id": "476b946d",
   "metadata": {},
   "outputs": [
    {
     "data": {
      "text/html": [
       "<div>\n",
       "<style scoped>\n",
       "    .dataframe tbody tr th:only-of-type {\n",
       "        vertical-align: middle;\n",
       "    }\n",
       "\n",
       "    .dataframe tbody tr th {\n",
       "        vertical-align: top;\n",
       "    }\n",
       "\n",
       "    .dataframe thead th {\n",
       "        text-align: right;\n",
       "    }\n",
       "</style>\n",
       "<table border=\"1\" class=\"dataframe\">\n",
       "  <thead>\n",
       "    <tr style=\"text-align: right;\">\n",
       "      <th></th>\n",
       "      <th>name</th>\n",
       "      <th>episodes</th>\n",
       "    </tr>\n",
       "    <tr>\n",
       "      <th>anime_id</th>\n",
       "      <th></th>\n",
       "      <th></th>\n",
       "    </tr>\n",
       "  </thead>\n",
       "  <tbody>\n",
       "    <tr>\n",
       "      <th>32281</th>\n",
       "      <td>Kimi no Na wa.</td>\n",
       "      <td>1</td>\n",
       "    </tr>\n",
       "    <tr>\n",
       "      <th>28977</th>\n",
       "      <td>Gintama°</td>\n",
       "      <td>51</td>\n",
       "    </tr>\n",
       "  </tbody>\n",
       "</table>\n",
       "</div>"
      ],
      "text/plain": [
       "                    name episodes\n",
       "anime_id                         \n",
       "32281     Kimi no Na wa.        1\n",
       "28977           Gintama°       51"
      ]
     },
     "execution_count": 26,
     "metadata": {},
     "output_type": "execute_result"
    }
   ],
   "source": [
    "df.loc[[32281, 28977], [\"name\", \"episodes\"]]"
   ]
  },
  {
   "cell_type": "markdown",
   "id": "aaae54d4",
   "metadata": {},
   "source": [
    "Para conseguir lo mismo con `iloc` podemos hacerlo de la siguiente manera:"
   ]
  },
  {
   "cell_type": "code",
   "execution_count": 27,
   "id": "d56d4653",
   "metadata": {},
   "outputs": [
    {
     "data": {
      "text/html": [
       "<div>\n",
       "<style scoped>\n",
       "    .dataframe tbody tr th:only-of-type {\n",
       "        vertical-align: middle;\n",
       "    }\n",
       "\n",
       "    .dataframe tbody tr th {\n",
       "        vertical-align: top;\n",
       "    }\n",
       "\n",
       "    .dataframe thead th {\n",
       "        text-align: right;\n",
       "    }\n",
       "</style>\n",
       "<table border=\"1\" class=\"dataframe\">\n",
       "  <thead>\n",
       "    <tr style=\"text-align: right;\">\n",
       "      <th></th>\n",
       "      <th>name</th>\n",
       "      <th>episodes</th>\n",
       "    </tr>\n",
       "    <tr>\n",
       "      <th>anime_id</th>\n",
       "      <th></th>\n",
       "      <th></th>\n",
       "    </tr>\n",
       "  </thead>\n",
       "  <tbody>\n",
       "    <tr>\n",
       "      <th>32281</th>\n",
       "      <td>Kimi no Na wa.</td>\n",
       "      <td>1</td>\n",
       "    </tr>\n",
       "    <tr>\n",
       "      <th>28977</th>\n",
       "      <td>Gintama°</td>\n",
       "      <td>51</td>\n",
       "    </tr>\n",
       "  </tbody>\n",
       "</table>\n",
       "</div>"
      ],
      "text/plain": [
       "                    name episodes\n",
       "anime_id                         \n",
       "32281     Kimi no Na wa.        1\n",
       "28977           Gintama°       51"
      ]
     },
     "execution_count": 27,
     "metadata": {},
     "output_type": "execute_result"
    }
   ],
   "source": [
    "df.iloc[[0, 2], [0, 3]]"
   ]
  },
  {
   "cell_type": "markdown",
   "id": "1085d603",
   "metadata": {},
   "source": [
    "<a id='pandas2'></a>\n",
    "# 3.3 Mas métodos de pandas\n",
    "[Volver al índice](#index)"
   ]
  },
  {
   "cell_type": "markdown",
   "id": "a8708b03",
   "metadata": {},
   "source": [
    "Hasta ahora hemos visto los métodos más simples que hay de pandas **DataFrames**.\n",
    "\n",
    "Veamos ahora otros métodos muy utilizados y que nos permiten tener una idea sobre nuestros datos de manera muy rápida."
   ]
  },
  {
   "cell_type": "markdown",
   "id": "2eb1ebed",
   "metadata": {},
   "source": [
    "`df.info()` nos muestra un resumen sobre todas nuestras columnas.\n",
    "\n",
    "Vemos de golpe el nombre de la columna, la cantidad de no nulos que hay en cada columna y el tipo de columna que es (númerica: `int` o `float`, categórica: `category` o bien objetos python o texto: `object`)."
   ]
  },
  {
   "cell_type": "code",
   "execution_count": 28,
   "id": "1b1b6eb4",
   "metadata": {},
   "outputs": [
    {
     "name": "stdout",
     "output_type": "stream",
     "text": [
      "<class 'pandas.core.frame.DataFrame'>\n",
      "Index: 12294 entries, 32281 to 26081\n",
      "Data columns (total 6 columns):\n",
      " #   Column    Non-Null Count  Dtype  \n",
      "---  ------    --------------  -----  \n",
      " 0   name      12294 non-null  object \n",
      " 1   genre     12232 non-null  object \n",
      " 2   type      12269 non-null  object \n",
      " 3   episodes  12294 non-null  object \n",
      " 4   rating    12064 non-null  float64\n",
      " 5   members   12294 non-null  int64  \n",
      "dtypes: float64(1), int64(1), object(4)\n",
      "memory usage: 930.4+ KB\n"
     ]
    }
   ],
   "source": [
    "df.info()"
   ]
  },
  {
   "cell_type": "markdown",
   "id": "9ce96c87",
   "metadata": {},
   "source": [
    "Con el método de `df.describe()` podemos ver rápidamente algunos estadísticos rápidos de nuestras columnas númericas."
   ]
  },
  {
   "cell_type": "code",
   "execution_count": 32,
   "id": "0a8d9b08",
   "metadata": {},
   "outputs": [
    {
     "data": {
      "text/html": [
       "<div>\n",
       "<style scoped>\n",
       "    .dataframe tbody tr th:only-of-type {\n",
       "        vertical-align: middle;\n",
       "    }\n",
       "\n",
       "    .dataframe tbody tr th {\n",
       "        vertical-align: top;\n",
       "    }\n",
       "\n",
       "    .dataframe thead th {\n",
       "        text-align: right;\n",
       "    }\n",
       "</style>\n",
       "<table border=\"1\" class=\"dataframe\">\n",
       "  <thead>\n",
       "    <tr style=\"text-align: right;\">\n",
       "      <th></th>\n",
       "      <th>rating</th>\n",
       "      <th>members</th>\n",
       "    </tr>\n",
       "  </thead>\n",
       "  <tbody>\n",
       "    <tr>\n",
       "      <th>count</th>\n",
       "      <td>12064.00</td>\n",
       "      <td>12294.00</td>\n",
       "    </tr>\n",
       "    <tr>\n",
       "      <th>mean</th>\n",
       "      <td>6.47</td>\n",
       "      <td>18071.34</td>\n",
       "    </tr>\n",
       "    <tr>\n",
       "      <th>std</th>\n",
       "      <td>1.03</td>\n",
       "      <td>54820.68</td>\n",
       "    </tr>\n",
       "    <tr>\n",
       "      <th>min</th>\n",
       "      <td>1.67</td>\n",
       "      <td>5.00</td>\n",
       "    </tr>\n",
       "    <tr>\n",
       "      <th>25%</th>\n",
       "      <td>5.88</td>\n",
       "      <td>225.00</td>\n",
       "    </tr>\n",
       "    <tr>\n",
       "      <th>50%</th>\n",
       "      <td>6.57</td>\n",
       "      <td>1550.00</td>\n",
       "    </tr>\n",
       "    <tr>\n",
       "      <th>75%</th>\n",
       "      <td>7.18</td>\n",
       "      <td>9437.00</td>\n",
       "    </tr>\n",
       "    <tr>\n",
       "      <th>max</th>\n",
       "      <td>10.00</td>\n",
       "      <td>1013917.00</td>\n",
       "    </tr>\n",
       "  </tbody>\n",
       "</table>\n",
       "</div>"
      ],
      "text/plain": [
       "        rating    members\n",
       "count 12064.00   12294.00\n",
       "mean      6.47   18071.34\n",
       "std       1.03   54820.68\n",
       "min       1.67       5.00\n",
       "25%       5.88     225.00\n",
       "50%       6.57    1550.00\n",
       "75%       7.18    9437.00\n",
       "max      10.00 1013917.00"
      ]
     },
     "execution_count": 32,
     "metadata": {},
     "output_type": "execute_result"
    }
   ],
   "source": [
    "df.describe()"
   ]
  },
  {
   "cell_type": "markdown",
   "id": "be05243e",
   "metadata": {},
   "source": [
    "Otro método muy común que usamos a menudo es `df.isnull()` para calcular el número de nulos que tenemos en cada columna.\n",
    "\n",
    "Si observamods con detenimieto vemos que los valores de antes (los números y el texto) han desaparecido y ahora únicamente tenemos True y False.\n",
    "\n",
    "Decimos que en este caso, hemos \"evaluado\" si cada valor es un nulo o no\n",
    "\n",
    "1. Cuando es un nulo -> True\n",
    "1. Cuando no es un nulo -> False\n",
    "\n",
    "**Además, en este ejemplo, vemos que podemos \"concatenar\" o utilizar un método detrás de otro en cadena.**"
   ]
  },
  {
   "cell_type": "code",
   "execution_count": 33,
   "id": "88bb53ce",
   "metadata": {},
   "outputs": [
    {
     "data": {
      "text/html": [
       "<div>\n",
       "<style scoped>\n",
       "    .dataframe tbody tr th:only-of-type {\n",
       "        vertical-align: middle;\n",
       "    }\n",
       "\n",
       "    .dataframe tbody tr th {\n",
       "        vertical-align: top;\n",
       "    }\n",
       "\n",
       "    .dataframe thead th {\n",
       "        text-align: right;\n",
       "    }\n",
       "</style>\n",
       "<table border=\"1\" class=\"dataframe\">\n",
       "  <thead>\n",
       "    <tr style=\"text-align: right;\">\n",
       "      <th></th>\n",
       "      <th>name</th>\n",
       "      <th>genre</th>\n",
       "      <th>type</th>\n",
       "      <th>episodes</th>\n",
       "      <th>rating</th>\n",
       "      <th>members</th>\n",
       "    </tr>\n",
       "    <tr>\n",
       "      <th>anime_id</th>\n",
       "      <th></th>\n",
       "      <th></th>\n",
       "      <th></th>\n",
       "      <th></th>\n",
       "      <th></th>\n",
       "      <th></th>\n",
       "    </tr>\n",
       "  </thead>\n",
       "  <tbody>\n",
       "    <tr>\n",
       "      <th>32281</th>\n",
       "      <td>False</td>\n",
       "      <td>False</td>\n",
       "      <td>False</td>\n",
       "      <td>False</td>\n",
       "      <td>False</td>\n",
       "      <td>False</td>\n",
       "    </tr>\n",
       "    <tr>\n",
       "      <th>5114</th>\n",
       "      <td>False</td>\n",
       "      <td>False</td>\n",
       "      <td>False</td>\n",
       "      <td>False</td>\n",
       "      <td>False</td>\n",
       "      <td>False</td>\n",
       "    </tr>\n",
       "    <tr>\n",
       "      <th>28977</th>\n",
       "      <td>False</td>\n",
       "      <td>False</td>\n",
       "      <td>False</td>\n",
       "      <td>False</td>\n",
       "      <td>False</td>\n",
       "      <td>False</td>\n",
       "    </tr>\n",
       "    <tr>\n",
       "      <th>9253</th>\n",
       "      <td>False</td>\n",
       "      <td>False</td>\n",
       "      <td>False</td>\n",
       "      <td>False</td>\n",
       "      <td>False</td>\n",
       "      <td>False</td>\n",
       "    </tr>\n",
       "    <tr>\n",
       "      <th>9969</th>\n",
       "      <td>False</td>\n",
       "      <td>False</td>\n",
       "      <td>False</td>\n",
       "      <td>False</td>\n",
       "      <td>False</td>\n",
       "      <td>False</td>\n",
       "    </tr>\n",
       "  </tbody>\n",
       "</table>\n",
       "</div>"
      ],
      "text/plain": [
       "           name  genre   type  episodes  rating  members\n",
       "anime_id                                                \n",
       "32281     False  False  False     False   False    False\n",
       "5114      False  False  False     False   False    False\n",
       "28977     False  False  False     False   False    False\n",
       "9253      False  False  False     False   False    False\n",
       "9969      False  False  False     False   False    False"
      ]
     },
     "execution_count": 33,
     "metadata": {},
     "output_type": "execute_result"
    }
   ],
   "source": [
    "df.head().isnull()"
   ]
  },
  {
   "cell_type": "markdown",
   "id": "23294f6c",
   "metadata": {},
   "source": [
    "Quitamos el método de `.head()` y añadimos el método de `.sum()` con esto podemos saber el número de nulos que tenemos en cada columna."
   ]
  },
  {
   "cell_type": "code",
   "execution_count": 34,
   "id": "5026c6b7",
   "metadata": {},
   "outputs": [
    {
     "data": {
      "text/plain": [
       "name          0\n",
       "genre        62\n",
       "type         25\n",
       "episodes      0\n",
       "rating      230\n",
       "members       0\n",
       "dtype: int64"
      ]
     },
     "execution_count": 34,
     "metadata": {},
     "output_type": "execute_result"
    }
   ],
   "source": [
    "df.isnull().sum()"
   ]
  },
  {
   "cell_type": "markdown",
   "id": "45f344b9",
   "metadata": {},
   "source": [
    "Si tengo valores nulos, puedo utilizar el método de `.fillna()` para reemplazar los valores que faltan por otro valor que a mi me interesa."
   ]
  },
  {
   "cell_type": "code",
   "execution_count": 38,
   "id": "a01a57c2",
   "metadata": {},
   "outputs": [],
   "source": [
    "df[\"genre\"] = df[\"genre\"].fillna(\"Missing\")"
   ]
  },
  {
   "cell_type": "markdown",
   "id": "d7277da2",
   "metadata": {},
   "source": [
    "En la celda anterior, hemos reemplazado todos los valores nulos que tenemos en la columna de **genre** por el valor **Missing**."
   ]
  },
  {
   "cell_type": "markdown",
   "id": "1be8cc83",
   "metadata": {},
   "source": [
    "En el ejemplo de antes, hemos introducido otro concepto muy importante cuando trabajamos con pandas **DataFrame**: **los boolean masks**.\n",
    "\n",
    "Cuando hemos **evaluado** si un valor determinado cumple o no una condición (si es nulo o no), obtenemos o bien un True o bien un False. A este conjunto de datos que son True o False lo llamamos **máscara booleana** y podemos usarla para filtar nuestro **DataFrame**."
   ]
  },
  {
   "cell_type": "code",
   "execution_count": 39,
   "id": "bd8c59a5",
   "metadata": {},
   "outputs": [
    {
     "data": {
      "text/plain": [
       "anime_id\n",
       "32281    False\n",
       "5114      True\n",
       "28977     True\n",
       "9253      True\n",
       "9969      True\n",
       "         ...  \n",
       "9316     False\n",
       "5543     False\n",
       "5621     False\n",
       "6133     False\n",
       "26081    False\n",
       "Name: type, Length: 12294, dtype: bool"
      ]
     },
     "execution_count": 39,
     "metadata": {},
     "output_type": "execute_result"
    }
   ],
   "source": [
    "# evaluamos si los valores que tenemos es TV o no\n",
    "df[\"type\"] == \"TV\""
   ]
  },
  {
   "cell_type": "code",
   "execution_count": 40,
   "id": "f4580ffa",
   "metadata": {},
   "outputs": [],
   "source": [
    "boolean_mask = df[\"type\"] == \"TV\""
   ]
  },
  {
   "cell_type": "markdown",
   "id": "bd594b7c",
   "metadata": {},
   "source": [
    "Si despúes ponemos nuestra máscara dentro de un corchete de pandas, podemos filtrar nuestro **DataFrame**.\n",
    "\n",
    "En este caso en concreto, obtenemos/filtramos únicamente los animes que son del `type TV`."
   ]
  },
  {
   "cell_type": "code",
   "execution_count": 41,
   "id": "7e6918f2",
   "metadata": {},
   "outputs": [],
   "source": [
    "tvs = df[boolean_mask]"
   ]
  },
  {
   "cell_type": "code",
   "execution_count": 44,
   "id": "be3bf2d4",
   "metadata": {},
   "outputs": [
    {
     "data": {
      "text/html": [
       "<div>\n",
       "<style scoped>\n",
       "    .dataframe tbody tr th:only-of-type {\n",
       "        vertical-align: middle;\n",
       "    }\n",
       "\n",
       "    .dataframe tbody tr th {\n",
       "        vertical-align: top;\n",
       "    }\n",
       "\n",
       "    .dataframe thead th {\n",
       "        text-align: right;\n",
       "    }\n",
       "</style>\n",
       "<table border=\"1\" class=\"dataframe\">\n",
       "  <thead>\n",
       "    <tr style=\"text-align: right;\">\n",
       "      <th></th>\n",
       "      <th>name</th>\n",
       "      <th>genre</th>\n",
       "      <th>type</th>\n",
       "      <th>episodes</th>\n",
       "      <th>rating</th>\n",
       "      <th>members</th>\n",
       "    </tr>\n",
       "    <tr>\n",
       "      <th>anime_id</th>\n",
       "      <th></th>\n",
       "      <th></th>\n",
       "      <th></th>\n",
       "      <th></th>\n",
       "      <th></th>\n",
       "      <th></th>\n",
       "    </tr>\n",
       "  </thead>\n",
       "  <tbody>\n",
       "    <tr>\n",
       "      <th>5114</th>\n",
       "      <td>Fullmetal Alchemist: Brotherhood</td>\n",
       "      <td>Action, Adventure, Drama, Fantasy, Magic, Mili...</td>\n",
       "      <td>TV</td>\n",
       "      <td>64</td>\n",
       "      <td>9.26</td>\n",
       "      <td>793665</td>\n",
       "    </tr>\n",
       "    <tr>\n",
       "      <th>28977</th>\n",
       "      <td>Gintama°</td>\n",
       "      <td>Action, Comedy, Historical, Parody, Samurai, S...</td>\n",
       "      <td>TV</td>\n",
       "      <td>51</td>\n",
       "      <td>9.25</td>\n",
       "      <td>114262</td>\n",
       "    </tr>\n",
       "    <tr>\n",
       "      <th>9253</th>\n",
       "      <td>Steins;Gate</td>\n",
       "      <td>Sci-Fi, Thriller</td>\n",
       "      <td>TV</td>\n",
       "      <td>24</td>\n",
       "      <td>9.17</td>\n",
       "      <td>673572</td>\n",
       "    </tr>\n",
       "  </tbody>\n",
       "</table>\n",
       "</div>"
      ],
      "text/plain": [
       "                                      name  \\\n",
       "anime_id                                     \n",
       "5114      Fullmetal Alchemist: Brotherhood   \n",
       "28977                             Gintama°   \n",
       "9253                           Steins;Gate   \n",
       "\n",
       "                                                      genre type episodes  \\\n",
       "anime_id                                                                    \n",
       "5114      Action, Adventure, Drama, Fantasy, Magic, Mili...   TV       64   \n",
       "28977     Action, Comedy, Historical, Parody, Samurai, S...   TV       51   \n",
       "9253                                       Sci-Fi, Thriller   TV       24   \n",
       "\n",
       "          rating  members  \n",
       "anime_id                   \n",
       "5114        9.26   793665  \n",
       "28977       9.25   114262  \n",
       "9253        9.17   673572  "
      ]
     },
     "execution_count": 44,
     "metadata": {},
     "output_type": "execute_result"
    }
   ],
   "source": [
    "tvs.head(3)"
   ]
  },
  {
   "cell_type": "code",
   "execution_count": 45,
   "id": "ccd85f20",
   "metadata": {},
   "outputs": [
    {
     "data": {
      "text/plain": [
       "3787"
      ]
     },
     "execution_count": 45,
     "metadata": {},
     "output_type": "execute_result"
    }
   ],
   "source": [
    "# en total tenemos 3.787 animes del tipo TV.\n",
    "\n",
    "tvs.shape[0]"
   ]
  },
  {
   "cell_type": "markdown",
   "id": "d6ebeaed",
   "metadata": {},
   "source": [
    "Las **boolean masks** es una forma muy versátil subseleccionar partes de nuestro **DataFrame** para hacer un zoom o un análisis más profundo."
   ]
  },
  {
   "cell_type": "markdown",
   "id": "bf8070aa",
   "metadata": {},
   "source": [
    "<a id='gbpt'></a>\n",
    "## 3.4 Groupby y pivot_table\n",
    "[Volver al índice](#index)<br>"
   ]
  },
  {
   "cell_type": "markdown",
   "id": "97870e90",
   "metadata": {},
   "source": [
    "Quizás la operación más frecuente que se realiza a la hora de analizar un dataset sea la del `groupby` o con la `pivot_table`.\n",
    "\n",
    "Cualquier persona que haya trabajado con datos y con excel, se habrá encontrado con que su jefe le pide: \n",
    "\n",
    "### ¿Podemos sacar las ventas medias por xyz subcategorías?\n",
    "\n",
    "Cuando nos piden este tipo de datos, normalmente en Excel hacemos una tabla_dinámica o una pivot_table.\n",
    "\n",
    "Pues bien, en pandas también lo podemos hacer de 2 maneras: con los métodos de `groupby` o con la `pivot_table`."
   ]
  },
  {
   "cell_type": "code",
   "execution_count": 46,
   "id": "f95aa7d2",
   "metadata": {},
   "outputs": [
    {
     "data": {
      "text/plain": [
       "type\n",
       "Movie      2348\n",
       "Music       488\n",
       "ONA         659\n",
       "OVA        3311\n",
       "Special    1676\n",
       "TV         3787\n",
       "Name: name, dtype: int64"
      ]
     },
     "execution_count": 46,
     "metadata": {},
     "output_type": "execute_result"
    }
   ],
   "source": [
    "df.groupby(by=[\"type\"])[\"name\"].count()"
   ]
  },
  {
   "cell_type": "markdown",
   "id": "fb8d731d",
   "metadata": {},
   "source": [
    "La lógica más simple de los groupbies es como sigue:\n",
    "\n",
    "1. Partimos de un DataFrame (en nuestro caso se llama df).\n",
    "1. Llamamos el método de `.groupby` del df y le pasamos las columnas por las que queremos agrupar en el parámetro by (en nuestro caso es [\"type\"]).\n",
    "1. Posteriormente seleccionamos la columna que nos interesa calcular entre corchetes (en nuestro caso es [\"name\"]).\n",
    "1. Por último llamamos una función de agregación cualquiera (en nuestro caso es `.count()` que viene a ser un contador normal y corriente).\n",
    "\n",
    "En el ejemplo anterior hacemos la agrupación de una única columna, pero en más de una ocasión nos interesa hacer varios cálculos de golpe.\n",
    "\n",
    "Por ejemplo: **el jefe nos pide no solo las ventas medias sino también las ventas totales.** En este caso podemos usar la siguiente síntaxis."
   ]
  },
  {
   "cell_type": "code",
   "execution_count": 49,
   "id": "db2facfb",
   "metadata": {},
   "outputs": [
    {
     "data": {
      "text/html": [
       "<div>\n",
       "<style scoped>\n",
       "    .dataframe tbody tr th:only-of-type {\n",
       "        vertical-align: middle;\n",
       "    }\n",
       "\n",
       "    .dataframe tbody tr th {\n",
       "        vertical-align: top;\n",
       "    }\n",
       "\n",
       "    .dataframe thead th {\n",
       "        text-align: right;\n",
       "    }\n",
       "</style>\n",
       "<table border=\"1\" class=\"dataframe\">\n",
       "  <thead>\n",
       "    <tr style=\"text-align: right;\">\n",
       "      <th></th>\n",
       "      <th>rating</th>\n",
       "      <th>name</th>\n",
       "    </tr>\n",
       "    <tr>\n",
       "      <th>type</th>\n",
       "      <th></th>\n",
       "      <th></th>\n",
       "    </tr>\n",
       "  </thead>\n",
       "  <tbody>\n",
       "    <tr>\n",
       "      <th>Movie</th>\n",
       "      <td>6.32</td>\n",
       "      <td>2348</td>\n",
       "    </tr>\n",
       "    <tr>\n",
       "      <th>Music</th>\n",
       "      <td>5.59</td>\n",
       "      <td>488</td>\n",
       "    </tr>\n",
       "    <tr>\n",
       "      <th>ONA</th>\n",
       "      <td>5.64</td>\n",
       "      <td>659</td>\n",
       "    </tr>\n",
       "    <tr>\n",
       "      <th>OVA</th>\n",
       "      <td>6.38</td>\n",
       "      <td>3311</td>\n",
       "    </tr>\n",
       "    <tr>\n",
       "      <th>Special</th>\n",
       "      <td>6.52</td>\n",
       "      <td>1676</td>\n",
       "    </tr>\n",
       "    <tr>\n",
       "      <th>TV</th>\n",
       "      <td>6.90</td>\n",
       "      <td>3787</td>\n",
       "    </tr>\n",
       "  </tbody>\n",
       "</table>\n",
       "</div>"
      ],
      "text/plain": [
       "         rating  name\n",
       "type                 \n",
       "Movie      6.32  2348\n",
       "Music      5.59   488\n",
       "ONA        5.64   659\n",
       "OVA        6.38  3311\n",
       "Special    6.52  1676\n",
       "TV         6.90  3787"
      ]
     },
     "execution_count": 49,
     "metadata": {},
     "output_type": "execute_result"
    }
   ],
   "source": [
    "df.groupby(by=[\"type\"]).agg({\"rating\":\"mean\", \"name\":\"count\"})"
   ]
  },
  {
   "cell_type": "markdown",
   "id": "b630e749",
   "metadata": {},
   "source": [
    "Lo único que cambia con respecto a la explicación anterior es que usamos el método especial `.agg()` que permite pasar un diccionario o pares de **llave:valor** `{\"key\":\"value\"}` tal y como lo hacemos a continuación.\n",
    "\n",
    "`.agg({\"rating\":\"mean\", \"name\":\"count\"})`\n",
    "\n",
    "Este mismo resultado lo podemos obtener con la `pivot_table` pero antes de seguir, vamos a introduccir otra **best practice** de pandas que es el **chaining** de las operaciones.\n",
    "\n",
    "Si somos muy críticos con nuestro código antes escrito:\n",
    "\n",
    "```python\n",
    "df.groupby(by=[\"type\"]).agg({\"rating\":\"mean\", \"name\":\"count\"})\n",
    "```\n",
    "\n",
    "Podemos reconocer que cuesta mucho leerlo porque esta escrito todo en una única línea.\n",
    "\n",
    "Podemos obtener un resultado mucho más visual y fácil de leer usando el **chaining**, para ello debemos \"encapsular\" nuestro código dentro de un paréntesis.\n",
    "\n",
    "Lo que obtenemos es básicamente una receta, donde cada línea de código viene a representar un paso en concreto que queremos hacer sobre nuestro **DataFrame**."
   ]
  },
  {
   "cell_type": "code",
   "execution_count": 52,
   "id": "95717e58",
   "metadata": {},
   "outputs": [
    {
     "data": {
      "text/html": [
       "<div>\n",
       "<style scoped>\n",
       "    .dataframe tbody tr th:only-of-type {\n",
       "        vertical-align: middle;\n",
       "    }\n",
       "\n",
       "    .dataframe tbody tr th {\n",
       "        vertical-align: top;\n",
       "    }\n",
       "\n",
       "    .dataframe thead th {\n",
       "        text-align: right;\n",
       "    }\n",
       "</style>\n",
       "<table border=\"1\" class=\"dataframe\">\n",
       "  <thead>\n",
       "    <tr style=\"text-align: right;\">\n",
       "      <th></th>\n",
       "      <th>rating</th>\n",
       "      <th>name</th>\n",
       "    </tr>\n",
       "    <tr>\n",
       "      <th>type</th>\n",
       "      <th></th>\n",
       "      <th></th>\n",
       "    </tr>\n",
       "  </thead>\n",
       "  <tbody>\n",
       "    <tr>\n",
       "      <th>Movie</th>\n",
       "      <td>6.32</td>\n",
       "      <td>2348</td>\n",
       "    </tr>\n",
       "    <tr>\n",
       "      <th>Music</th>\n",
       "      <td>5.59</td>\n",
       "      <td>488</td>\n",
       "    </tr>\n",
       "    <tr>\n",
       "      <th>ONA</th>\n",
       "      <td>5.64</td>\n",
       "      <td>659</td>\n",
       "    </tr>\n",
       "    <tr>\n",
       "      <th>OVA</th>\n",
       "      <td>6.38</td>\n",
       "      <td>3311</td>\n",
       "    </tr>\n",
       "    <tr>\n",
       "      <th>Special</th>\n",
       "      <td>6.52</td>\n",
       "      <td>1676</td>\n",
       "    </tr>\n",
       "    <tr>\n",
       "      <th>TV</th>\n",
       "      <td>6.90</td>\n",
       "      <td>3787</td>\n",
       "    </tr>\n",
       "  </tbody>\n",
       "</table>\n",
       "</div>"
      ],
      "text/plain": [
       "         rating  name\n",
       "type                 \n",
       "Movie      6.32  2348\n",
       "Music      5.59   488\n",
       "ONA        5.64   659\n",
       "OVA        6.38  3311\n",
       "Special    6.52  1676\n",
       "TV         6.90  3787"
      ]
     },
     "execution_count": 52,
     "metadata": {},
     "output_type": "execute_result"
    }
   ],
   "source": [
    "# antes\n",
    "df.groupby(by=[\"type\"]).agg({\"rating\":\"mean\", \"name\":\"count\"})"
   ]
  },
  {
   "cell_type": "code",
   "execution_count": 53,
   "id": "049da2a1",
   "metadata": {},
   "outputs": [
    {
     "data": {
      "text/html": [
       "<div>\n",
       "<style scoped>\n",
       "    .dataframe tbody tr th:only-of-type {\n",
       "        vertical-align: middle;\n",
       "    }\n",
       "\n",
       "    .dataframe tbody tr th {\n",
       "        vertical-align: top;\n",
       "    }\n",
       "\n",
       "    .dataframe thead th {\n",
       "        text-align: right;\n",
       "    }\n",
       "</style>\n",
       "<table border=\"1\" class=\"dataframe\">\n",
       "  <thead>\n",
       "    <tr style=\"text-align: right;\">\n",
       "      <th></th>\n",
       "      <th>rating</th>\n",
       "      <th>name</th>\n",
       "    </tr>\n",
       "    <tr>\n",
       "      <th>type</th>\n",
       "      <th></th>\n",
       "      <th></th>\n",
       "    </tr>\n",
       "  </thead>\n",
       "  <tbody>\n",
       "    <tr>\n",
       "      <th>Movie</th>\n",
       "      <td>6.32</td>\n",
       "      <td>2348</td>\n",
       "    </tr>\n",
       "    <tr>\n",
       "      <th>Music</th>\n",
       "      <td>5.59</td>\n",
       "      <td>488</td>\n",
       "    </tr>\n",
       "    <tr>\n",
       "      <th>ONA</th>\n",
       "      <td>5.64</td>\n",
       "      <td>659</td>\n",
       "    </tr>\n",
       "    <tr>\n",
       "      <th>OVA</th>\n",
       "      <td>6.38</td>\n",
       "      <td>3311</td>\n",
       "    </tr>\n",
       "    <tr>\n",
       "      <th>Special</th>\n",
       "      <td>6.52</td>\n",
       "      <td>1676</td>\n",
       "    </tr>\n",
       "    <tr>\n",
       "      <th>TV</th>\n",
       "      <td>6.90</td>\n",
       "      <td>3787</td>\n",
       "    </tr>\n",
       "  </tbody>\n",
       "</table>\n",
       "</div>"
      ],
      "text/plain": [
       "         rating  name\n",
       "type                 \n",
       "Movie      6.32  2348\n",
       "Music      5.59   488\n",
       "ONA        5.64   659\n",
       "OVA        6.38  3311\n",
       "Special    6.52  1676\n",
       "TV         6.90  3787"
      ]
     },
     "execution_count": 53,
     "metadata": {},
     "output_type": "execute_result"
    }
   ],
   "source": [
    "# ahora\n",
    "(\n",
    "    df                        # paso 1: parto de mi df\n",
    "    .groupby(by=[\"type\"])     # paso 2: hago el groupby por el campo type\n",
    "    .agg(                     # paso 3: llamo el método agg\n",
    "        {\n",
    "            \"rating\":\"mean\",  # paso 4: calcularé la media del campo rating (dentro de agg)\n",
    "            \"name\":\"count\"    # paso 5: calcularé el count del campo name (dentro del agg)\n",
    "        }\n",
    "    )                         # paso n: podemos seguir con más pasos\n",
    ")"
   ]
  },
  {
   "cell_type": "markdown",
   "id": "06e0eda5",
   "metadata": {},
   "source": [
    "Espero que todo el mundo esta de acuerdo en que esta forma de escribir nuestro código es mucho mas \"limpia\" y \"fácil de leer\".\n",
    "\n",
    "Ahora vayamos a obtener el mismo resultado de antes con la `.pivot_table`.\n",
    "\n",
    "La lógica más simple de las pivot_tables es:\n",
    "\n",
    "1. Partimos de un DataFrame (en nuestro caso se llama df).\n",
    "1. Llamamos el método de `.pivot_table` del df y le pasamos las columnas por las que queremos agrupar en el parámetro index (en nuestro caso es la columna **\"type\"**).\n",
    "1. En el parámetro `values` le especificamos a pandas con que columnas vamos a tener que trabajar (en determinados casos este valor se puede omitir).\n",
    "1. Por último, tenemos el parámetro de `aggfunc`. A este parámetro le podemos pasar diferentes valores, en nuestro caso le pasamos un diccionario de python o pares de **llave**:**valor** entre llaves ({}). Es exactamente lo mismo que hemos hecho en el caso anterior.\n",
    "1. Margins es otro parámetro opcional que nos permite hacer **totales** (aparece la fila \"All\")."
   ]
  },
  {
   "cell_type": "code",
   "execution_count": 54,
   "id": "fcf8d639",
   "metadata": {},
   "outputs": [
    {
     "data": {
      "text/html": [
       "<div>\n",
       "<style scoped>\n",
       "    .dataframe tbody tr th:only-of-type {\n",
       "        vertical-align: middle;\n",
       "    }\n",
       "\n",
       "    .dataframe tbody tr th {\n",
       "        vertical-align: top;\n",
       "    }\n",
       "\n",
       "    .dataframe thead th {\n",
       "        text-align: right;\n",
       "    }\n",
       "</style>\n",
       "<table border=\"1\" class=\"dataframe\">\n",
       "  <thead>\n",
       "    <tr style=\"text-align: right;\">\n",
       "      <th></th>\n",
       "      <th>name</th>\n",
       "      <th>rating</th>\n",
       "    </tr>\n",
       "    <tr>\n",
       "      <th>type</th>\n",
       "      <th></th>\n",
       "      <th></th>\n",
       "    </tr>\n",
       "  </thead>\n",
       "  <tbody>\n",
       "    <tr>\n",
       "      <th>Movie</th>\n",
       "      <td>2348</td>\n",
       "      <td>6.32</td>\n",
       "    </tr>\n",
       "    <tr>\n",
       "      <th>Music</th>\n",
       "      <td>488</td>\n",
       "      <td>5.59</td>\n",
       "    </tr>\n",
       "    <tr>\n",
       "      <th>ONA</th>\n",
       "      <td>659</td>\n",
       "      <td>5.64</td>\n",
       "    </tr>\n",
       "    <tr>\n",
       "      <th>OVA</th>\n",
       "      <td>3311</td>\n",
       "      <td>6.38</td>\n",
       "    </tr>\n",
       "    <tr>\n",
       "      <th>Special</th>\n",
       "      <td>1676</td>\n",
       "      <td>6.52</td>\n",
       "    </tr>\n",
       "    <tr>\n",
       "      <th>TV</th>\n",
       "      <td>3787</td>\n",
       "      <td>6.90</td>\n",
       "    </tr>\n",
       "    <tr>\n",
       "      <th>All</th>\n",
       "      <td>12064</td>\n",
       "      <td>6.47</td>\n",
       "    </tr>\n",
       "  </tbody>\n",
       "</table>\n",
       "</div>"
      ],
      "text/plain": [
       "          name  rating\n",
       "type                  \n",
       "Movie     2348    6.32\n",
       "Music      488    5.59\n",
       "ONA        659    5.64\n",
       "OVA       3311    6.38\n",
       "Special   1676    6.52\n",
       "TV        3787    6.90\n",
       "All      12064    6.47"
      ]
     },
     "execution_count": 54,
     "metadata": {},
     "output_type": "execute_result"
    }
   ],
   "source": [
    "(\n",
    "    df\n",
    "    .pivot_table(\n",
    "        index = \"type\",\n",
    "        values = [\"rating\", \"name\"],\n",
    "        aggfunc = {\n",
    "            \"rating\":\"mean\",\n",
    "            \"name\":\"count\"\n",
    "        },\n",
    "        margins = True\n",
    "    )\n",
    ")"
   ]
  },
  {
   "cell_type": "markdown",
   "id": "072fe699",
   "metadata": {},
   "source": [
    "<a id='merge_concat'></a>\n",
    "### 3.5 Merge y Concat\n",
    "[Volver al índice](#index)<br>"
   ]
  },
  {
   "cell_type": "markdown",
   "id": "e0cccd80",
   "metadata": {},
   "source": [
    "Hasta ahora siempre hemos trabajado con un único `df`, pero en más de una ocasión queremos o tenemos que analizar más de 1 `df` y a menudo nos interesa \"juntar\" estos **DataFrames** para hacer el análisis mucho más rápido y ágil.\n",
    "\n",
    "Los dos métodos clave que nos ofrece **pandas** para este tipo de operaciones son `pd.merge` y `pd.concat`.\n",
    "\n",
    "Veamos ahora cada uno de estos métodos por separado."
   ]
  },
  {
   "cell_type": "markdown",
   "id": "953987cc",
   "metadata": {},
   "source": [
    "El método `pd.merge` sirve para \"cruzar\" 2 **DataFrames** por algún campo en común. Es similar a un [join](https://www.w3schools.com/SQl/sql_join.asp) de SQL.\n",
    "\n",
    "<img src=\"./Pictures/SQL_JOINS.png\">\n",
    "\n",
    "[Fuente: www.w3schools.com](https://www.w3schools.com/SQl/sql_join.asp)\n",
    "\n",
    "### Para demostrar este método, vamos a ver cuáles son los top 30 animes más \"vistos\" cuando los han puntuado con un 10. Buscamos el anime perfecto."
   ]
  },
  {
   "cell_type": "code",
   "execution_count": 55,
   "id": "02b709ee",
   "metadata": {},
   "outputs": [],
   "source": [
    "rating_10 = pd.read_parquet(\"./input/cf_10.parquet.gzip\")"
   ]
  },
  {
   "cell_type": "code",
   "execution_count": 56,
   "id": "8d42de85",
   "metadata": {},
   "outputs": [
    {
     "data": {
      "text/html": [
       "<div>\n",
       "<style scoped>\n",
       "    .dataframe tbody tr th:only-of-type {\n",
       "        vertical-align: middle;\n",
       "    }\n",
       "\n",
       "    .dataframe tbody tr th {\n",
       "        vertical-align: top;\n",
       "    }\n",
       "\n",
       "    .dataframe thead th {\n",
       "        text-align: right;\n",
       "    }\n",
       "</style>\n",
       "<table border=\"1\" class=\"dataframe\">\n",
       "  <thead>\n",
       "    <tr style=\"text-align: right;\">\n",
       "      <th></th>\n",
       "      <th>user_id</th>\n",
       "      <th>anime_id</th>\n",
       "      <th>rating</th>\n",
       "    </tr>\n",
       "  </thead>\n",
       "  <tbody>\n",
       "    <tr>\n",
       "      <th>47</th>\n",
       "      <td>1</td>\n",
       "      <td>8074</td>\n",
       "      <td>10</td>\n",
       "    </tr>\n",
       "    <tr>\n",
       "      <th>81</th>\n",
       "      <td>1</td>\n",
       "      <td>11617</td>\n",
       "      <td>10</td>\n",
       "    </tr>\n",
       "    <tr>\n",
       "      <th>83</th>\n",
       "      <td>1</td>\n",
       "      <td>11757</td>\n",
       "      <td>10</td>\n",
       "    </tr>\n",
       "  </tbody>\n",
       "</table>\n",
       "</div>"
      ],
      "text/plain": [
       "    user_id  anime_id  rating\n",
       "47        1      8074      10\n",
       "81        1     11617      10\n",
       "83        1     11757      10"
      ]
     },
     "execution_count": 56,
     "metadata": {},
     "output_type": "execute_result"
    }
   ],
   "source": [
    "rating_10.head(3)"
   ]
  },
  {
   "cell_type": "code",
   "execution_count": 57,
   "id": "3945ba0b",
   "metadata": {},
   "outputs": [
    {
     "data": {
      "text/html": [
       "<div>\n",
       "<style scoped>\n",
       "    .dataframe tbody tr th:only-of-type {\n",
       "        vertical-align: middle;\n",
       "    }\n",
       "\n",
       "    .dataframe tbody tr th {\n",
       "        vertical-align: top;\n",
       "    }\n",
       "\n",
       "    .dataframe thead th {\n",
       "        text-align: right;\n",
       "    }\n",
       "</style>\n",
       "<table border=\"1\" class=\"dataframe\">\n",
       "  <thead>\n",
       "    <tr style=\"text-align: right;\">\n",
       "      <th></th>\n",
       "      <th>name</th>\n",
       "      <th>genre</th>\n",
       "      <th>type</th>\n",
       "      <th>episodes</th>\n",
       "      <th>rating</th>\n",
       "      <th>members</th>\n",
       "    </tr>\n",
       "    <tr>\n",
       "      <th>anime_id</th>\n",
       "      <th></th>\n",
       "      <th></th>\n",
       "      <th></th>\n",
       "      <th></th>\n",
       "      <th></th>\n",
       "      <th></th>\n",
       "    </tr>\n",
       "  </thead>\n",
       "  <tbody>\n",
       "    <tr>\n",
       "      <th>32281</th>\n",
       "      <td>Kimi no Na wa.</td>\n",
       "      <td>Drama, Romance, School, Supernatural</td>\n",
       "      <td>Movie</td>\n",
       "      <td>1</td>\n",
       "      <td>9.37</td>\n",
       "      <td>200630</td>\n",
       "    </tr>\n",
       "    <tr>\n",
       "      <th>5114</th>\n",
       "      <td>Fullmetal Alchemist: Brotherhood</td>\n",
       "      <td>Action, Adventure, Drama, Fantasy, Magic, Mili...</td>\n",
       "      <td>TV</td>\n",
       "      <td>64</td>\n",
       "      <td>9.26</td>\n",
       "      <td>793665</td>\n",
       "    </tr>\n",
       "    <tr>\n",
       "      <th>28977</th>\n",
       "      <td>Gintama°</td>\n",
       "      <td>Action, Comedy, Historical, Parody, Samurai, S...</td>\n",
       "      <td>TV</td>\n",
       "      <td>51</td>\n",
       "      <td>9.25</td>\n",
       "      <td>114262</td>\n",
       "    </tr>\n",
       "  </tbody>\n",
       "</table>\n",
       "</div>"
      ],
      "text/plain": [
       "                                      name  \\\n",
       "anime_id                                     \n",
       "32281                       Kimi no Na wa.   \n",
       "5114      Fullmetal Alchemist: Brotherhood   \n",
       "28977                             Gintama°   \n",
       "\n",
       "                                                      genre   type episodes  \\\n",
       "anime_id                                                                      \n",
       "32281                  Drama, Romance, School, Supernatural  Movie        1   \n",
       "5114      Action, Adventure, Drama, Fantasy, Magic, Mili...     TV       64   \n",
       "28977     Action, Comedy, Historical, Parody, Samurai, S...     TV       51   \n",
       "\n",
       "          rating  members  \n",
       "anime_id                   \n",
       "32281       9.37   200630  \n",
       "5114        9.26   793665  \n",
       "28977       9.25   114262  "
      ]
     },
     "execution_count": 57,
     "metadata": {},
     "output_type": "execute_result"
    }
   ],
   "source": [
    "df.head(3)"
   ]
  },
  {
   "cell_type": "code",
   "execution_count": 58,
   "id": "2ab517c8",
   "metadata": {},
   "outputs": [],
   "source": [
    "df.reset_index(inplace = True)"
   ]
  },
  {
   "cell_type": "markdown",
   "id": "f8cc0f3e",
   "metadata": {},
   "source": [
    "Como podemos ver, los dos campos que hay en común entre el `rating_10` y `df` es **anime_id**.\n",
    "\n",
    "Vamos a usar este campo para hacer el merge."
   ]
  },
  {
   "cell_type": "code",
   "execution_count": 59,
   "id": "5b55a3f4",
   "metadata": {},
   "outputs": [],
   "source": [
    "rating_with_names = pd.merge(          # invocamos el método merge de pandas\n",
    "    left = rating_10,                  # seleccionamos 1 df\n",
    "    right = df[[\"anime_id\", \"name\"]],  # seleccionamos 2 columnas del otro df\n",
    "    how = \"left\",                      # hacemos un left join\n",
    "    on = [\"anime_id\"]                  # el campo común es anime_id así que hacemos el cruce por este campo\n",
    ")"
   ]
  },
  {
   "cell_type": "code",
   "execution_count": 60,
   "id": "f32a0c70",
   "metadata": {},
   "outputs": [
    {
     "data": {
      "text/plain": [
       "name\n",
       "Death Note                                                  12892\n",
       "Fullmetal Alchemist: Brotherhood                            11869\n",
       "Code Geass: Hangyaku no Lelouch R2                          10082\n",
       "Code Geass: Hangyaku no Lelouch                              9500\n",
       "Steins;Gate                                                  9179\n",
       "Clannad: After Story                                         8570\n",
       "Shingeki no Kyojin                                           8183\n",
       "Sen to Chihiro no Kamikakushi                                7980\n",
       "Tengen Toppa Gurren Lagann                                   6959\n",
       "Angel Beats!                                                 6797\n",
       "Sword Art Online                                             6702\n",
       "Toradora!                                                    5599\n",
       "Clannad                                                      5583\n",
       "Cowboy Bebop                                                 5158\n",
       "Howl no Ugoku Shiro                                          5118\n",
       "Ano Hi Mita Hana no Namae wo Bokutachi wa Mada Shiranai.     5024\n",
       "Mononoke Hime                                                4914\n",
       "Elfen Lied                                                   4883\n",
       "Fullmetal Alchemist                                          4875\n",
       "No Game No Life                                              4462\n",
       "Mahou Shoujo Madoka★Magica                                   4192\n",
       "One Punch Man                                                4182\n",
       "Ouran Koukou Host Club                                       4180\n",
       "Neon Genesis Evangelion                                      4156\n",
       "Mirai Nikki (TV)                                             4078\n",
       "Dragon Ball Z                                                3894\n",
       "Hunter x Hunter (2011)                                       3791\n",
       "Durarara!!                                                   3778\n",
       "Naruto                                                       3544\n",
       "Shigatsu wa Kimi no Uso                                      3527\n",
       "dtype: int64"
      ]
     },
     "execution_count": 60,
     "metadata": {},
     "output_type": "execute_result"
    }
   ],
   "source": [
    "(\n",
    "    rating_with_names\n",
    "    .groupby([\"name\"])\n",
    "    .size()\n",
    "    .sort_values(ascending = False)\n",
    "    .head(30)\n",
    ")"
   ]
  },
  {
   "cell_type": "code",
   "execution_count": 61,
   "id": "3cc0b7f4",
   "metadata": {},
   "outputs": [],
   "source": [
    "del rating_10"
   ]
  },
  {
   "cell_type": "code",
   "execution_count": 62,
   "id": "d7b4134b",
   "metadata": {},
   "outputs": [],
   "source": [
    "del rating_with_names"
   ]
  },
  {
   "cell_type": "markdown",
   "id": "80ff91b2",
   "metadata": {},
   "source": [
    "A veces no interesa \"apilar\" diferentes `dfs`.\n",
    "\n",
    "Por ejemplo, en nuestro caso tenemos un df específico para cada uno de los ratings que han dejado los usuarios.\n",
    "\n",
    "Podría ser muy útil \"juntarlos\" todos en un único `df` para agilizar el análisis."
   ]
  },
  {
   "cell_type": "code",
   "execution_count": 63,
   "id": "adde2884",
   "metadata": {},
   "outputs": [
    {
     "name": "stdout",
     "output_type": "stream",
     "text": [
      "total 142840\r\n",
      "-rw-r--r--  1 nicolaepopescul  staff   9483708 11 ene 18:21 cf_-1.parquet.gzip\r\n",
      "-rw-r--r--  1 nicolaepopescul  staff    193900 11 ene 18:21 cf_1.parquet.gzip\r\n",
      "-rw-r--r--  1 nicolaepopescul  staff   6251475 11 ene 18:21 cf_10.parquet.gzip\r\n",
      "-rw-r--r--  1 nicolaepopescul  staff    270828 11 ene 18:21 cf_2.parquet.gzip\r\n",
      "-rw-r--r--  1 nicolaepopescul  staff    454624 11 ene 18:21 cf_3.parquet.gzip\r\n",
      "-rw-r--r--  1 nicolaepopescul  staff   1064510 11 ene 18:21 cf_4.parquet.gzip\r\n",
      "-rw-r--r--  1 nicolaepopescul  staff   2249386 11 ene 18:21 cf_5.parquet.gzip\r\n",
      "-rw-r--r--  1 nicolaepopescul  staff   4407473 11 ene 18:21 cf_6.parquet.gzip\r\n",
      "-rw-r--r--  1 nicolaepopescul  staff   8936548 11 ene 18:21 cf_7.parquet.gzip\r\n",
      "-rw-r--r--  1 nicolaepopescul  staff  10518165 11 ene 18:21 cf_8.parquet.gzip\r\n",
      "-rw-r--r--  1 nicolaepopescul  staff   8298450 11 ene 18:21 cf_9.parquet.gzip\r\n",
      "-rw-r--r--  1 nicolaepopescul  staff    985151  5 ene 18:56 cf_anime.csv\r\n",
      "-rw-r--r--@ 1 nicolaepopescul  staff    468099 21 dic 11:22 cf_anime.parquet.gzip\r\n",
      "-rw-r--r--  1 nicolaepopescul  staff    941696  5 ene 18:57 cf_anime.pkl\r\n",
      "-rw-r--r--  1 nicolaepopescul  staff    714680  5 ene 18:57 cf_anime.xlsx\r\n",
      "-rw-r--r--@ 1 nicolaepopescul  staff  17866289 21 dic 11:22 cf_rating.parquet.gzip\r\n"
     ]
    }
   ],
   "source": [
    "! ls -l ./input"
   ]
  },
  {
   "cell_type": "code",
   "execution_count": 64,
   "id": "20621185",
   "metadata": {},
   "outputs": [],
   "source": [
    "DFS_TO_CONCAT = [\n",
    "    \"cf_-1.parquet.gzip\",\n",
    "    \"cf_1.parquet.gzip\",\n",
    "    \"cf_2.parquet.gzip\",\n",
    "    \"cf_3.parquet.gzip\",\n",
    "    \"cf_4.parquet.gzip\",\n",
    "    \"cf_5.parquet.gzip\",\n",
    "    \"cf_6.parquet.gzip\",\n",
    "    \"cf_7.parquet.gzip\",\n",
    "    \"cf_8.parquet.gzip\",\n",
    "    \"cf_9.parquet.gzip\",\n",
    "    \"cf_10.parquet.gzip\"\n",
    "]"
   ]
  },
  {
   "cell_type": "code",
   "execution_count": 65,
   "id": "0ea09942",
   "metadata": {},
   "outputs": [],
   "source": [
    "r1 = pd.read_parquet(\"./input/cf_1.parquet.gzip\")\n",
    "r2 = pd.read_parquet(\"./input/cf_2.parquet.gzip\")"
   ]
  },
  {
   "cell_type": "code",
   "execution_count": 66,
   "id": "a3b4ccab",
   "metadata": {},
   "outputs": [
    {
     "data": {
      "text/html": [
       "<div>\n",
       "<style scoped>\n",
       "    .dataframe tbody tr th:only-of-type {\n",
       "        vertical-align: middle;\n",
       "    }\n",
       "\n",
       "    .dataframe tbody tr th {\n",
       "        vertical-align: top;\n",
       "    }\n",
       "\n",
       "    .dataframe thead th {\n",
       "        text-align: right;\n",
       "    }\n",
       "</style>\n",
       "<table border=\"1\" class=\"dataframe\">\n",
       "  <thead>\n",
       "    <tr style=\"text-align: right;\">\n",
       "      <th></th>\n",
       "      <th>user_id</th>\n",
       "      <th>anime_id</th>\n",
       "      <th>rating</th>\n",
       "    </tr>\n",
       "  </thead>\n",
       "  <tbody>\n",
       "    <tr>\n",
       "      <th>308</th>\n",
       "      <td>5</td>\n",
       "      <td>24</td>\n",
       "      <td>1</td>\n",
       "    </tr>\n",
       "  </tbody>\n",
       "</table>\n",
       "</div>"
      ],
      "text/plain": [
       "     user_id  anime_id  rating\n",
       "308        5        24       1"
      ]
     },
     "execution_count": 66,
     "metadata": {},
     "output_type": "execute_result"
    }
   ],
   "source": [
    "r1.head(1)"
   ]
  },
  {
   "cell_type": "code",
   "execution_count": 70,
   "id": "44db198c",
   "metadata": {},
   "outputs": [
    {
     "data": {
      "text/plain": [
       "(16649, 3)"
      ]
     },
     "execution_count": 70,
     "metadata": {},
     "output_type": "execute_result"
    }
   ],
   "source": [
    "r1.shape"
   ]
  },
  {
   "cell_type": "code",
   "execution_count": 67,
   "id": "85b602f3",
   "metadata": {},
   "outputs": [
    {
     "data": {
      "text/html": [
       "<div>\n",
       "<style scoped>\n",
       "    .dataframe tbody tr th:only-of-type {\n",
       "        vertical-align: middle;\n",
       "    }\n",
       "\n",
       "    .dataframe tbody tr th {\n",
       "        vertical-align: top;\n",
       "    }\n",
       "\n",
       "    .dataframe thead th {\n",
       "        text-align: right;\n",
       "    }\n",
       "</style>\n",
       "<table border=\"1\" class=\"dataframe\">\n",
       "  <thead>\n",
       "    <tr style=\"text-align: right;\">\n",
       "      <th></th>\n",
       "      <th>user_id</th>\n",
       "      <th>anime_id</th>\n",
       "      <th>rating</th>\n",
       "    </tr>\n",
       "  </thead>\n",
       "  <tbody>\n",
       "    <tr>\n",
       "      <th>321</th>\n",
       "      <td>5</td>\n",
       "      <td>150</td>\n",
       "      <td>2</td>\n",
       "    </tr>\n",
       "  </tbody>\n",
       "</table>\n",
       "</div>"
      ],
      "text/plain": [
       "     user_id  anime_id  rating\n",
       "321        5       150       2"
      ]
     },
     "execution_count": 67,
     "metadata": {},
     "output_type": "execute_result"
    }
   ],
   "source": [
    "r2.head(1)"
   ]
  },
  {
   "cell_type": "code",
   "execution_count": 71,
   "id": "0cf2cfb0",
   "metadata": {},
   "outputs": [
    {
     "data": {
      "text/plain": [
       "(23150, 3)"
      ]
     },
     "execution_count": 71,
     "metadata": {},
     "output_type": "execute_result"
    }
   ],
   "source": [
    "r2.shape"
   ]
  },
  {
   "cell_type": "code",
   "execution_count": 72,
   "id": "c2023c64",
   "metadata": {},
   "outputs": [
    {
     "data": {
      "text/plain": [
       "39799"
      ]
     },
     "execution_count": 72,
     "metadata": {},
     "output_type": "execute_result"
    }
   ],
   "source": [
    "16649 + 23150"
   ]
  },
  {
   "cell_type": "code",
   "execution_count": 73,
   "id": "e3bc5497",
   "metadata": {},
   "outputs": [],
   "source": [
    "r = pd.concat([r1, r2], axis = 0)"
   ]
  },
  {
   "cell_type": "code",
   "execution_count": 75,
   "id": "68512264",
   "metadata": {},
   "outputs": [
    {
     "data": {
      "text/html": [
       "<div>\n",
       "<style scoped>\n",
       "    .dataframe tbody tr th:only-of-type {\n",
       "        vertical-align: middle;\n",
       "    }\n",
       "\n",
       "    .dataframe tbody tr th {\n",
       "        vertical-align: top;\n",
       "    }\n",
       "\n",
       "    .dataframe thead th {\n",
       "        text-align: right;\n",
       "    }\n",
       "</style>\n",
       "<table border=\"1\" class=\"dataframe\">\n",
       "  <thead>\n",
       "    <tr style=\"text-align: right;\">\n",
       "      <th></th>\n",
       "      <th>user_id</th>\n",
       "      <th>anime_id</th>\n",
       "      <th>rating</th>\n",
       "    </tr>\n",
       "  </thead>\n",
       "  <tbody>\n",
       "    <tr>\n",
       "      <th>6597485</th>\n",
       "      <td>60936</td>\n",
       "      <td>790</td>\n",
       "      <td>2</td>\n",
       "    </tr>\n",
       "    <tr>\n",
       "      <th>3942189</th>\n",
       "      <td>37238</td>\n",
       "      <td>1722</td>\n",
       "      <td>2</td>\n",
       "    </tr>\n",
       "    <tr>\n",
       "      <th>4278557</th>\n",
       "      <td>40515</td>\n",
       "      <td>169</td>\n",
       "      <td>2</td>\n",
       "    </tr>\n",
       "    <tr>\n",
       "      <th>1536846</th>\n",
       "      <td>14844</td>\n",
       "      <td>1157</td>\n",
       "      <td>1</td>\n",
       "    </tr>\n",
       "    <tr>\n",
       "      <th>7547416</th>\n",
       "      <td>70686</td>\n",
       "      <td>22199</td>\n",
       "      <td>2</td>\n",
       "    </tr>\n",
       "    <tr>\n",
       "      <th>5562830</th>\n",
       "      <td>52260</td>\n",
       "      <td>724</td>\n",
       "      <td>1</td>\n",
       "    </tr>\n",
       "    <tr>\n",
       "      <th>5080240</th>\n",
       "      <td>48606</td>\n",
       "      <td>12255</td>\n",
       "      <td>2</td>\n",
       "    </tr>\n",
       "    <tr>\n",
       "      <th>890542</th>\n",
       "      <td>8094</td>\n",
       "      <td>11491</td>\n",
       "      <td>2</td>\n",
       "    </tr>\n",
       "    <tr>\n",
       "      <th>7260910</th>\n",
       "      <td>67670</td>\n",
       "      <td>2403</td>\n",
       "      <td>2</td>\n",
       "    </tr>\n",
       "    <tr>\n",
       "      <th>1878963</th>\n",
       "      <td>18232</td>\n",
       "      <td>6166</td>\n",
       "      <td>1</td>\n",
       "    </tr>\n",
       "  </tbody>\n",
       "</table>\n",
       "</div>"
      ],
      "text/plain": [
       "         user_id  anime_id  rating\n",
       "6597485    60936       790       2\n",
       "3942189    37238      1722       2\n",
       "4278557    40515       169       2\n",
       "1536846    14844      1157       1\n",
       "7547416    70686     22199       2\n",
       "5562830    52260       724       1\n",
       "5080240    48606     12255       2\n",
       "890542      8094     11491       2\n",
       "7260910    67670      2403       2\n",
       "1878963    18232      6166       1"
      ]
     },
     "execution_count": 75,
     "metadata": {},
     "output_type": "execute_result"
    }
   ],
   "source": [
    "r.sample(10)"
   ]
  },
  {
   "cell_type": "code",
   "execution_count": 76,
   "id": "d5e6f124",
   "metadata": {},
   "outputs": [
    {
     "data": {
      "text/plain": [
       "(39799, 3)"
      ]
     },
     "execution_count": 76,
     "metadata": {},
     "output_type": "execute_result"
    }
   ],
   "source": [
    "r.shape"
   ]
  },
  {
   "cell_type": "code",
   "execution_count": 77,
   "id": "36cc6187",
   "metadata": {},
   "outputs": [],
   "source": [
    "del r1, r2, r"
   ]
  },
  {
   "cell_type": "markdown",
   "id": "9a710122",
   "metadata": {},
   "source": [
    "En la siguiente celda, vamos a hacer un poco de \"magia\" de Python.\n",
    "\n",
    "Vamos a usar [list compherensions](https://www.w3schools.com/python/python_lists_comprehension.asp) para crear un lista rápida que contiene cada uno de los dfs.\n",
    "\n",
    "Una vez que estos están dentro de la lista, podemos hacer el `pd.concat` sin mayores problemas."
   ]
  },
  {
   "cell_type": "code",
   "execution_count": 78,
   "id": "caf8a530",
   "metadata": {},
   "outputs": [],
   "source": [
    "r = pd.concat(\n",
    "    [pd.read_parquet(f\"./input/{file}\") for file in DFS_TO_CONCAT],\n",
    "    axis = 0\n",
    ")"
   ]
  },
  {
   "cell_type": "code",
   "execution_count": 80,
   "id": "904b1875",
   "metadata": {},
   "outputs": [
    {
     "data": {
      "text/html": [
       "<div>\n",
       "<style scoped>\n",
       "    .dataframe tbody tr th:only-of-type {\n",
       "        vertical-align: middle;\n",
       "    }\n",
       "\n",
       "    .dataframe tbody tr th {\n",
       "        vertical-align: top;\n",
       "    }\n",
       "\n",
       "    .dataframe thead th {\n",
       "        text-align: right;\n",
       "    }\n",
       "</style>\n",
       "<table border=\"1\" class=\"dataframe\">\n",
       "  <thead>\n",
       "    <tr style=\"text-align: right;\">\n",
       "      <th></th>\n",
       "      <th>user_id</th>\n",
       "      <th>anime_id</th>\n",
       "      <th>rating</th>\n",
       "    </tr>\n",
       "  </thead>\n",
       "  <tbody>\n",
       "    <tr>\n",
       "      <th>6743852</th>\n",
       "      <td>62309</td>\n",
       "      <td>23209</td>\n",
       "      <td>10</td>\n",
       "    </tr>\n",
       "    <tr>\n",
       "      <th>3031050</th>\n",
       "      <td>28119</td>\n",
       "      <td>1840</td>\n",
       "      <td>8</td>\n",
       "    </tr>\n",
       "    <tr>\n",
       "      <th>7175754</th>\n",
       "      <td>66928</td>\n",
       "      <td>9441</td>\n",
       "      <td>7</td>\n",
       "    </tr>\n",
       "    <tr>\n",
       "      <th>7033257</th>\n",
       "      <td>65723</td>\n",
       "      <td>8348</td>\n",
       "      <td>7</td>\n",
       "    </tr>\n",
       "    <tr>\n",
       "      <th>2596259</th>\n",
       "      <td>24559</td>\n",
       "      <td>4382</td>\n",
       "      <td>7</td>\n",
       "    </tr>\n",
       "    <tr>\n",
       "      <th>1913845</th>\n",
       "      <td>18588</td>\n",
       "      <td>18119</td>\n",
       "      <td>10</td>\n",
       "    </tr>\n",
       "    <tr>\n",
       "      <th>7179695</th>\n",
       "      <td>66957</td>\n",
       "      <td>22135</td>\n",
       "      <td>8</td>\n",
       "    </tr>\n",
       "    <tr>\n",
       "      <th>5120594</th>\n",
       "      <td>48905</td>\n",
       "      <td>93</td>\n",
       "      <td>7</td>\n",
       "    </tr>\n",
       "    <tr>\n",
       "      <th>4180425</th>\n",
       "      <td>39616</td>\n",
       "      <td>813</td>\n",
       "      <td>8</td>\n",
       "    </tr>\n",
       "    <tr>\n",
       "      <th>5760324</th>\n",
       "      <td>53948</td>\n",
       "      <td>4901</td>\n",
       "      <td>-1</td>\n",
       "    </tr>\n",
       "  </tbody>\n",
       "</table>\n",
       "</div>"
      ],
      "text/plain": [
       "         user_id  anime_id  rating\n",
       "6743852    62309     23209      10\n",
       "3031050    28119      1840       8\n",
       "7175754    66928      9441       7\n",
       "7033257    65723      8348       7\n",
       "2596259    24559      4382       7\n",
       "1913845    18588     18119      10\n",
       "7179695    66957     22135       8\n",
       "5120594    48905        93       7\n",
       "4180425    39616       813       8\n",
       "5760324    53948      4901      -1"
      ]
     },
     "execution_count": 80,
     "metadata": {},
     "output_type": "execute_result"
    }
   ],
   "source": [
    "r.sample(10)"
   ]
  },
  {
   "cell_type": "code",
   "execution_count": 79,
   "id": "28c16364",
   "metadata": {},
   "outputs": [
    {
     "data": {
      "text/plain": [
       "(7813737, 3)"
      ]
     },
     "execution_count": 79,
     "metadata": {},
     "output_type": "execute_result"
    }
   ],
   "source": [
    "r.shape"
   ]
  },
  {
   "cell_type": "code",
   "execution_count": 81,
   "id": "7264b658",
   "metadata": {},
   "outputs": [],
   "source": [
    "del r"
   ]
  },
  {
   "cell_type": "markdown",
   "id": "b81c04ee",
   "metadata": {},
   "source": [
    "<a id='pipe'></a>\n",
    "### 3.6 Pipe\n",
    "[Volver al índice](#index)<br>"
   ]
  },
  {
   "cell_type": "markdown",
   "id": "65fd5f2b",
   "metadata": {},
   "source": [
    "Por último, vamos a introducir otro método de **pandas** que es muy versátil y que permite hacer añadir \"operaciones custom\" dentro de nuestro \"chaining\"."
   ]
  },
  {
   "cell_type": "code",
   "execution_count": 83,
   "id": "32226e71",
   "metadata": {},
   "outputs": [
    {
     "data": {
      "text/html": [
       "<div>\n",
       "<style scoped>\n",
       "    .dataframe tbody tr th:only-of-type {\n",
       "        vertical-align: middle;\n",
       "    }\n",
       "\n",
       "    .dataframe tbody tr th {\n",
       "        vertical-align: top;\n",
       "    }\n",
       "\n",
       "    .dataframe thead th {\n",
       "        text-align: right;\n",
       "    }\n",
       "</style>\n",
       "<table border=\"1\" class=\"dataframe\">\n",
       "  <thead>\n",
       "    <tr style=\"text-align: right;\">\n",
       "      <th></th>\n",
       "      <th>nr</th>\n",
       "    </tr>\n",
       "    <tr>\n",
       "      <th>type</th>\n",
       "      <th></th>\n",
       "    </tr>\n",
       "  </thead>\n",
       "  <tbody>\n",
       "    <tr>\n",
       "      <th>Movie</th>\n",
       "      <td>0.19</td>\n",
       "    </tr>\n",
       "    <tr>\n",
       "      <th>Music</th>\n",
       "      <td>0.04</td>\n",
       "    </tr>\n",
       "    <tr>\n",
       "      <th>ONA</th>\n",
       "      <td>0.05</td>\n",
       "    </tr>\n",
       "    <tr>\n",
       "      <th>OVA</th>\n",
       "      <td>0.27</td>\n",
       "    </tr>\n",
       "    <tr>\n",
       "      <th>Special</th>\n",
       "      <td>0.14</td>\n",
       "    </tr>\n",
       "    <tr>\n",
       "      <th>TV</th>\n",
       "      <td>0.31</td>\n",
       "    </tr>\n",
       "  </tbody>\n",
       "</table>\n",
       "</div>"
      ],
      "text/plain": [
       "          nr\n",
       "type        \n",
       "Movie   0.19\n",
       "Music   0.04\n",
       "ONA     0.05\n",
       "OVA     0.27\n",
       "Special 0.14\n",
       "TV      0.31"
      ]
     },
     "execution_count": 83,
     "metadata": {},
     "output_type": "execute_result"
    }
   ],
   "source": [
    "(\n",
    "    df\n",
    "    .groupby([\"type\"])\n",
    "    .size()\n",
    "    .to_frame()\n",
    "    .rename(columns = {0:\"nr\"})\n",
    "    .pipe(lambda df: df.divide(df.sum(axis = 0), axis = 1))\n",
    ")"
   ]
  },
  {
   "cell_type": "markdown",
   "id": "41fe7e1a",
   "metadata": {},
   "source": [
    "<a id='conclusion'></a>\n",
    "### 4. Wrap up y conclusiones\n",
    "[Volver al índice](#index)<br>\n",
    "\n",
    "Hemos hecho una breve introducción a pandas y hemos visto los principales métodos que hay."
   ]
  },
  {
   "cell_type": "markdown",
   "id": "669165f3",
   "metadata": {},
   "source": [
    "<a id='next_steps'></a>\n",
    "### 5. Next steps\n",
    "[Volver al índice](#index)<br>"
   ]
  },
  {
   "cell_type": "markdown",
   "id": "fad50dd7",
   "metadata": {},
   "source": [
    "En el siguiente notebook [CBRS.ipynb](./CBRS.ipynb) vamos a usar todo lo aprendido sobre **pandas** para hacer un \"Content Based Recommendation System\" end to end.\n",
    "\n",
    "De cara a la próxima sesión sería de extrema utilidad que puedan repasar todo lo aprendido hoy sobre pandas.\n",
    "\n",
    "Los puntos más importantes serían:\n",
    "1. Saber leer ficheros en un DataFrame (métodos que empiezan por `pd.read_`).\n",
    "1. Entender como podemos filtrar columnas y/o filas de un DataFrame (métodos como `df.loc` y `df.iloc`).\n",
    "1. Practicar y entender el método de `df.groupby`.\n",
    "1. Practicar y entender los métodos de `pd.merge` y `pd.concat`.\n",
    "\n",
    "Básicamente con lo expuesto antes y algunos métodos que veremos el próximo día vamos a poder hacer nuestro recomendador."
   ]
  },
  {
   "cell_type": "markdown",
   "id": "ff2355fc",
   "metadata": {},
   "source": [
    "<a id='referencias'></a>\n",
    "### 6. Referencias y lecturas recomendables\n",
    "[Volver al índice](#index)<br>\n",
    "\n",
    "A continuación dejamos algunos links útiles para profundizar en algunos de los conceptos que hemos visto en el notebook:\n",
    "\n",
    "[Sitio oficial de pandas](https://pandas.pydata.org/)\n",
    "\n",
    "[Is it too late for me to learn programming and land a job with it?\n",
    "](https://www.reddit.com/r/learnprogramming/comments/67bary/is_it_too_late_for_me_to_learn_programming_and/)"
   ]
  },
  {
   "cell_type": "code",
   "execution_count": null,
   "id": "aee847af",
   "metadata": {},
   "outputs": [],
   "source": []
  }
 ],
 "metadata": {
  "kernelspec": {
   "display_name": "env_main",
   "language": "python",
   "name": "env_main"
  },
  "language_info": {
   "codemirror_mode": {
    "name": "ipython",
    "version": 3
   },
   "file_extension": ".py",
   "mimetype": "text/x-python",
   "name": "python",
   "nbconvert_exporter": "python",
   "pygments_lexer": "ipython3",
   "version": "3.10.15"
  }
 },
 "nbformat": 4,
 "nbformat_minor": 5
}

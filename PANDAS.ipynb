{
 "cells": [
  {
   "cell_type": "markdown",
   "id": "c6ecc561",
   "metadata": {},
   "source": [
    "# Bienvenido al día 1 del workshop de Nuclio Digital School: Parte 2\n",
    "## 14-Enero-2025\n",
    "\n",
    "<img src=\"./pictures/PANDAS_DEEP_DIVE.webp\" alt=\"PANDAS_DD\" width=\"700\" height=\"300\"/>"
   ]
  },
  {
   "cell_type": "markdown",
   "id": "996af718",
   "metadata": {},
   "source": [
    "# Objetivos del notebook\n",
    "---\n",
    "En este notebook vamos a hacer una introducción a la librería de pandas y explorar algunas de sus ***best practices***.\n",
    "\n",
    "**[pandas](https://pandas.pydata.org)** es una librería enfocada al análisis y manipulación de datos tabulares.<br>\n",
    "\n",
    "Este paquete junto con [numpy](https://numpy.org), [matplotlib](https://matplotlib.org), [xgboost](https://xgboost.readthedocs.io/en/stable/) y [scikit-learn](https://scikit-learn.org/stable/index.html) constituyen las principales librerías de Machine Learning Tabular en Python.\n",
    "\n",
    "**Dado que la mayoría de los problemas a los que se enfrentan las empresas en la vida real son problemas y datasets tabulares, aprendiendo estas 5 librerías, obtenemos una base sólida para empezar a trabajar en el mundo de Machine Learning.**\n",
    "\n",
    "Al final del notebook, el alumno se tiene que sentir cómodo con los siguientes funcionalidades:\n",
    "\n",
    "1. Saber como podemos \"cargar\" un fichero que tenemos en nuestro ordenador a pandas para poder empezar a manipularlo.\n",
    "1. Entender los objetos básicos que tenemos cuando usamos pandas: **DataFrame** y **Series**.\n",
    "1. Dar a conocer los métodos más simples de un pandas DataFrame: **head**, **tail**, **describe**, **info** etc.\n",
    "1. Entender en que consiste el **pandas groupby** y como podemos utilizarlo para hacer cálculo de manera **rápida, limpia y eficiente.**\n",
    "1. Conocer que es la **pivot_table** de pandas.\n",
    "1. Ver como podemos hacer algunas visualizaciones básicas con pandas.\n",
    "1. Hacer una breve intro a **matplotlib** para gráficos más avanzados.\n",
    "---\n",
    "\n",
    "# Let's go!\n",
    "\n",
    "---"
   ]
  },
  {
   "cell_type": "markdown",
   "id": "09e745e6",
   "metadata": {},
   "source": [
    "<a id='index'></a>\n",
    "## Índice\n",
    "\n",
    "[Imports del notebook](#imports_notebook)<br>\n",
    "\n",
    "## Dataset\n",
    "[Dataset que vamos a utilizar: animes](#animes)<br>\n",
    "\n",
    "\n",
    "## Intro to pandas\n",
    "[Cargar datos a pandas](#datos)<br>\n",
    "[Métodos básicos de pandas](#intro_pandas)<br>\n",
    "[Mas métodos de pandas](#pandas2)<br>\n",
    "\n",
    "## Conclusión\n",
    "[Conclusión](#conclusion)<br>\n",
    "\n",
    "## Referencias\n",
    "[Referencias y lecturas recomendables](#referencias)<br>"
   ]
  },
  {
   "cell_type": "markdown",
   "id": "8734afb5",
   "metadata": {},
   "source": [
    "<a id='imports_notebook'></a>\n",
    "# Imports del notebook\n",
    "[Volver al índice](#index)\n",
    "\n",
    "En este apartado hacemos los principales imports del notebook.<br>\n",
    "Sobre todo vamos a trabajar con **pandas**."
   ]
  },
  {
   "cell_type": "code",
   "execution_count": 1,
   "id": "0b03528f",
   "metadata": {},
   "outputs": [],
   "source": [
    "import pandas as pd"
   ]
  },
  {
   "cell_type": "code",
   "execution_count": 2,
   "id": "4d5949e6",
   "metadata": {},
   "outputs": [
    {
     "name": "stdout",
     "output_type": "stream",
     "text": [
      "Working with these versions of libraries\n",
      "\n",
      "--------------------------------------------------\n",
      "Pandas version 2.2.1\n"
     ]
    }
   ],
   "source": [
    "print(\"Working with these versions of libraries\\n\")\n",
    "print(\"-\"*50)\n",
    "print(f\"Pandas version {pd.__version__}\")"
   ]
  },
  {
   "cell_type": "markdown",
   "id": "aa4632ee",
   "metadata": {},
   "source": [
    "<a id='animes'></a>\n",
    "# Dataset que vamos a utilizar: animes\n",
    "[Volver al índice](#index)\n",
    "\n",
    "Todo proyecto de Machine Learning requiere de datos. Los datos son la parte **FUNDAMENTAL** y si la calidad de los datos es **<ins>mala</ins>**, muchas veces los resultados que vamos a obtener van a ser **<ins>malos</ins>**.\n",
    "\n",
    "Gran parte de un proyecto de ML consiste en <ins>limpiar, analizar y preparar los datos</ins> para **\"alimentar\"** al algoritmo. Muy a menudo, todo esto se realiza con **pandas**.\n",
    "\n",
    "Dado que nuestro objetivo final es crear un recomendador basado en el historial de los clientes (lo haremos en el notebook [CBRS.ipynb](./CBRS.ipynb)), en este notebook vamos a hacer la limpieza y el análisis de los datos y por el camino vamos a aprender **pandas**.\n",
    "\n",
    "**¿Que dataset vamos a utilizar en nuestro proyecto?**\n",
    "\n",
    "Vamos a utilizar un dataset muy famoso de [Animes Japoneses](https://es.wikipedia.org/wiki/Anime) que se puede descargar de manera gratuita del [siguiente enlace](https://www.kaggle.com/datasets/CooperUnion/anime-recommendations-database/data)."
   ]
  },
  {
   "cell_type": "markdown",
   "id": "0e7fea6f",
   "metadata": {},
   "source": [
    "# Intro to pandas\n",
    "\n",
    "<a id='datos'></a>\n",
    "# Cargar datos a pandas\n",
    "[Volver al índice](#index)\n",
    "\n",
    "Normalmente los datos con los que trabajamos en la vida real están en diferentes bases de datos y utilizamos el lenguaje de programación [SQL](https://es.wikipedia.org/wiki/SQL) para descargarlos o manipularlos.\n",
    "\n",
    "En este workshop, para simplificar algo las cosas, vamos a trabajar con ficheros que están en el disco duro de nuestro ordenador para \"leerlos\" con pandas."
   ]
  },
  {
   "cell_type": "code",
   "execution_count": 3,
   "id": "d1189cab",
   "metadata": {},
   "outputs": [],
   "source": [
    "# hacer el import de pandas\n",
    "import pandas as pd"
   ]
  },
  {
   "cell_type": "code",
   "execution_count": 4,
   "id": "87b94a6a",
   "metadata": {},
   "outputs": [
    {
     "name": "stdout",
     "output_type": "stream",
     "text": [
      "/Users/nicolaepopescul/code/nuclio_charlas\r\n"
     ]
    }
   ],
   "source": [
    "# donde están mis datos\n",
    "! pwd"
   ]
  },
  {
   "cell_type": "code",
   "execution_count": 5,
   "id": "4475c112",
   "metadata": {},
   "outputs": [
    {
     "name": "stdout",
     "output_type": "stream",
     "text": [
      "CBRS.ipynb   INTRO.ipynb  PANDAS.ipynb README.md    \u001b[34minput\u001b[m\u001b[m        \u001b[34mpictures\u001b[m\u001b[m\r\n"
     ]
    }
   ],
   "source": [
    "# que tengo en esta ruta\n",
    "! ls"
   ]
  },
  {
   "cell_type": "code",
   "execution_count": 6,
   "id": "a148337e",
   "metadata": {},
   "outputs": [
    {
     "name": "stdout",
     "output_type": "stream",
     "text": [
      "cf_anime.csv           cf_anime.pkl           cf_rating.parquet.gzip\r\n",
      "cf_anime.parquet.gzip  cf_anime.xlsx\r\n"
     ]
    }
   ],
   "source": [
    "# que tengo en la carpeta de input\n",
    "! ls /Users/nicolaepopescul/code/nuclio_charlas/input"
   ]
  },
  {
   "cell_type": "code",
   "execution_count": 7,
   "id": "d05de8ec",
   "metadata": {},
   "outputs": [],
   "source": [
    "# leemos un fichero en un pandas DataFrame\n",
    "# ./ indica: utiliza la ruta relativa (allí donde está el notebook) para ir a la carpeta de input\n",
    "# y leer el fichero cf_anime.parquet.gzip\n",
    "df = pd.read_parquet(\"./input/cf_anime.parquet.gzip\")"
   ]
  },
  {
   "cell_type": "code",
   "execution_count": 8,
   "id": "36973112",
   "metadata": {},
   "outputs": [],
   "source": [
    "df = df.set_index(\"anime_id\")"
   ]
  },
  {
   "cell_type": "code",
   "execution_count": 9,
   "id": "490aa586",
   "metadata": {},
   "outputs": [],
   "source": [
    "# mostar los otros formas para leer ficheros:\n",
    "# csv\n",
    "# pickle\n",
    "# excel\n",
    "# parquet\n",
    "# otros"
   ]
  },
  {
   "cell_type": "code",
   "execution_count": 10,
   "id": "ea53aa28",
   "metadata": {},
   "outputs": [
    {
     "data": {
      "text/html": [
       "<div>\n",
       "<style scoped>\n",
       "    .dataframe tbody tr th:only-of-type {\n",
       "        vertical-align: middle;\n",
       "    }\n",
       "\n",
       "    .dataframe tbody tr th {\n",
       "        vertical-align: top;\n",
       "    }\n",
       "\n",
       "    .dataframe thead th {\n",
       "        text-align: right;\n",
       "    }\n",
       "</style>\n",
       "<table border=\"1\" class=\"dataframe\">\n",
       "  <thead>\n",
       "    <tr style=\"text-align: right;\">\n",
       "      <th></th>\n",
       "      <th>name</th>\n",
       "      <th>genre</th>\n",
       "      <th>type</th>\n",
       "      <th>episodes</th>\n",
       "      <th>rating</th>\n",
       "      <th>members</th>\n",
       "    </tr>\n",
       "    <tr>\n",
       "      <th>anime_id</th>\n",
       "      <th></th>\n",
       "      <th></th>\n",
       "      <th></th>\n",
       "      <th></th>\n",
       "      <th></th>\n",
       "      <th></th>\n",
       "    </tr>\n",
       "  </thead>\n",
       "  <tbody>\n",
       "    <tr>\n",
       "      <th>32281</th>\n",
       "      <td>Kimi no Na wa.</td>\n",
       "      <td>Drama, Romance, School, Supernatural</td>\n",
       "      <td>Movie</td>\n",
       "      <td>1</td>\n",
       "      <td>9.37</td>\n",
       "      <td>200630</td>\n",
       "    </tr>\n",
       "    <tr>\n",
       "      <th>5114</th>\n",
       "      <td>Fullmetal Alchemist: Brotherhood</td>\n",
       "      <td>Action, Adventure, Drama, Fantasy, Magic, Mili...</td>\n",
       "      <td>TV</td>\n",
       "      <td>64</td>\n",
       "      <td>9.26</td>\n",
       "      <td>793665</td>\n",
       "    </tr>\n",
       "    <tr>\n",
       "      <th>28977</th>\n",
       "      <td>Gintama°</td>\n",
       "      <td>Action, Comedy, Historical, Parody, Samurai, S...</td>\n",
       "      <td>TV</td>\n",
       "      <td>51</td>\n",
       "      <td>9.25</td>\n",
       "      <td>114262</td>\n",
       "    </tr>\n",
       "    <tr>\n",
       "      <th>9253</th>\n",
       "      <td>Steins;Gate</td>\n",
       "      <td>Sci-Fi, Thriller</td>\n",
       "      <td>TV</td>\n",
       "      <td>24</td>\n",
       "      <td>9.17</td>\n",
       "      <td>673572</td>\n",
       "    </tr>\n",
       "    <tr>\n",
       "      <th>9969</th>\n",
       "      <td>Gintama&amp;#039;</td>\n",
       "      <td>Action, Comedy, Historical, Parody, Samurai, S...</td>\n",
       "      <td>TV</td>\n",
       "      <td>51</td>\n",
       "      <td>9.16</td>\n",
       "      <td>151266</td>\n",
       "    </tr>\n",
       "    <tr>\n",
       "      <th>...</th>\n",
       "      <td>...</td>\n",
       "      <td>...</td>\n",
       "      <td>...</td>\n",
       "      <td>...</td>\n",
       "      <td>...</td>\n",
       "      <td>...</td>\n",
       "    </tr>\n",
       "    <tr>\n",
       "      <th>9316</th>\n",
       "      <td>Toushindai My Lover: Minami tai Mecha-Minami</td>\n",
       "      <td>Hentai</td>\n",
       "      <td>OVA</td>\n",
       "      <td>1</td>\n",
       "      <td>4.15</td>\n",
       "      <td>211</td>\n",
       "    </tr>\n",
       "    <tr>\n",
       "      <th>5543</th>\n",
       "      <td>Under World</td>\n",
       "      <td>Hentai</td>\n",
       "      <td>OVA</td>\n",
       "      <td>1</td>\n",
       "      <td>4.28</td>\n",
       "      <td>183</td>\n",
       "    </tr>\n",
       "    <tr>\n",
       "      <th>5621</th>\n",
       "      <td>Violence Gekiga David no Hoshi</td>\n",
       "      <td>Hentai</td>\n",
       "      <td>OVA</td>\n",
       "      <td>4</td>\n",
       "      <td>4.88</td>\n",
       "      <td>219</td>\n",
       "    </tr>\n",
       "    <tr>\n",
       "      <th>6133</th>\n",
       "      <td>Violence Gekiga Shin David no Hoshi: Inma Dens...</td>\n",
       "      <td>Hentai</td>\n",
       "      <td>OVA</td>\n",
       "      <td>1</td>\n",
       "      <td>4.98</td>\n",
       "      <td>175</td>\n",
       "    </tr>\n",
       "    <tr>\n",
       "      <th>26081</th>\n",
       "      <td>Yasuji no Pornorama: Yacchimae!!</td>\n",
       "      <td>Hentai</td>\n",
       "      <td>Movie</td>\n",
       "      <td>1</td>\n",
       "      <td>5.46</td>\n",
       "      <td>142</td>\n",
       "    </tr>\n",
       "  </tbody>\n",
       "</table>\n",
       "<p>12294 rows × 6 columns</p>\n",
       "</div>"
      ],
      "text/plain": [
       "                                                       name  \\\n",
       "anime_id                                                      \n",
       "32281                                        Kimi no Na wa.   \n",
       "5114                       Fullmetal Alchemist: Brotherhood   \n",
       "28977                                              Gintama°   \n",
       "9253                                            Steins;Gate   \n",
       "9969                                          Gintama&#039;   \n",
       "...                                                     ...   \n",
       "9316           Toushindai My Lover: Minami tai Mecha-Minami   \n",
       "5543                                            Under World   \n",
       "5621                         Violence Gekiga David no Hoshi   \n",
       "6133      Violence Gekiga Shin David no Hoshi: Inma Dens...   \n",
       "26081                      Yasuji no Pornorama: Yacchimae!!   \n",
       "\n",
       "                                                      genre   type episodes  \\\n",
       "anime_id                                                                      \n",
       "32281                  Drama, Romance, School, Supernatural  Movie        1   \n",
       "5114      Action, Adventure, Drama, Fantasy, Magic, Mili...     TV       64   \n",
       "28977     Action, Comedy, Historical, Parody, Samurai, S...     TV       51   \n",
       "9253                                       Sci-Fi, Thriller     TV       24   \n",
       "9969      Action, Comedy, Historical, Parody, Samurai, S...     TV       51   \n",
       "...                                                     ...    ...      ...   \n",
       "9316                                                 Hentai    OVA        1   \n",
       "5543                                                 Hentai    OVA        1   \n",
       "5621                                                 Hentai    OVA        4   \n",
       "6133                                                 Hentai    OVA        1   \n",
       "26081                                                Hentai  Movie        1   \n",
       "\n",
       "          rating  members  \n",
       "anime_id                   \n",
       "32281       9.37   200630  \n",
       "5114        9.26   793665  \n",
       "28977       9.25   114262  \n",
       "9253        9.17   673572  \n",
       "9969        9.16   151266  \n",
       "...          ...      ...  \n",
       "9316        4.15      211  \n",
       "5543        4.28      183  \n",
       "5621        4.88      219  \n",
       "6133        4.98      175  \n",
       "26081       5.46      142  \n",
       "\n",
       "[12294 rows x 6 columns]"
      ]
     },
     "execution_count": 10,
     "metadata": {},
     "output_type": "execute_result"
    }
   ],
   "source": [
    "df"
   ]
  },
  {
   "cell_type": "markdown",
   "id": "d589efd7",
   "metadata": {},
   "source": [
    "Acabamos de cargar nuestro fichero en un pandas **DataFrame.**\n",
    "\n",
    "El **DataFrame** es el objeto central en pandas y representa una tabla/matriz que tiene 2 ejes (o axis).\n",
    "\n",
    "<img src=\"./Pictures/DATAFRAME.png\">\n",
    "\n",
    "[Fuente: www.geeksforgeeks.org](https://www.geeksforgeeks.org/creating-a-pandas-dataframe/)\n",
    "\n",
    "Un eje son las **filas del DataFrame** y básicamente vienen a representar los **registros** que tenemos en la tabla. A menudo, cuando trabajamos en problemas de ML Supervisados, también los llamamos **\"instancias\"**.\n",
    "\n",
    "El otro eje que tenemos son **las columnas del DataFrame**. Las columnas a menudo se conocen como las **\"features\"** o **\"atributos\"** y vienen a captar diferentes variables/información sobre nuestras instancias.\n",
    "\n",
    "**Por ejemplo: si 1 fila es un cliente, las columnas son las variables que tenemos de este cliente y podrían ser la edad, el salario, el móvil que usa etc.**"
   ]
  },
  {
   "cell_type": "markdown",
   "id": "a0682f2e",
   "metadata": {},
   "source": [
    "<a id='intro_pandas'></a>\n",
    "# Métodos básicos de pandas\n",
    "[Volver al índice](#index)\n",
    "\n",
    "**Nota:** a menudo a lo largo del workshop voy a utilizar la palabra **método** cuando hable de pandas o bien de un **DataFrame/Series**. Por ejemplo: **el DataFrame tiene el método de sum**.\n",
    "\n",
    "Lo que esto quiere decir es que cuando tengo una DataFrame, con el DataFrame viene una **FUNCIONALIDAD** incorporada, en este caso, la suma. Por lo tanto, si tengo un DataFrame que tiene una columna númerica, podré calcular la suma de esta columna usando esta funcionalidad incorporada. Dicho de otro modo, el DataFrame sabe hacerlo (porque algún desarrollador había escrito el código) si yo se lo pido.\n",
    "\n",
    "---\n",
    "\n",
    "Con el método de `df.shape` podemos llegar a saber el número de filas y de columnas que tiene nuestro dataset."
   ]
  },
  {
   "cell_type": "code",
   "execution_count": 12,
   "id": "7a6b41d6",
   "metadata": {},
   "outputs": [
    {
     "data": {
      "text/plain": [
       "(12294, 6)"
      ]
     },
     "execution_count": 12,
     "metadata": {},
     "output_type": "execute_result"
    }
   ],
   "source": [
    "df.shape"
   ]
  },
  {
   "cell_type": "markdown",
   "id": "0ba261f9",
   "metadata": {},
   "source": [
    "**Tip:** para recordar que las filas son el axis 0 y las columnas el axis 1, podemos recordar que `df.shape` 0 nos da las filas y `df.shape` 1 nos da las columnas.\n",
    "\n",
    "**Nota:** en la mayoría de los lenguajes de programación, el índice empieza por el 0. Esto quiere decir que el primer elemento tiene el índice de 0, el segundo elemento tiene el índice de 1 etc."
   ]
  },
  {
   "cell_type": "markdown",
   "id": "b4bafa34",
   "metadata": {},
   "source": [
    "Cuando hacemos nuestro primer contacto con un dataset, a menudo nos interesa ver los primeros 5 registros o los últimos 5 registros de una tabla.\n",
    "\n",
    "Los métodos de `df.head()` o `df.tail()` sirven justo para este propósito."
   ]
  },
  {
   "cell_type": "code",
   "execution_count": 13,
   "id": "6574bc84",
   "metadata": {},
   "outputs": [
    {
     "data": {
      "text/html": [
       "<div>\n",
       "<style scoped>\n",
       "    .dataframe tbody tr th:only-of-type {\n",
       "        vertical-align: middle;\n",
       "    }\n",
       "\n",
       "    .dataframe tbody tr th {\n",
       "        vertical-align: top;\n",
       "    }\n",
       "\n",
       "    .dataframe thead th {\n",
       "        text-align: right;\n",
       "    }\n",
       "</style>\n",
       "<table border=\"1\" class=\"dataframe\">\n",
       "  <thead>\n",
       "    <tr style=\"text-align: right;\">\n",
       "      <th></th>\n",
       "      <th>name</th>\n",
       "      <th>genre</th>\n",
       "      <th>type</th>\n",
       "      <th>episodes</th>\n",
       "      <th>rating</th>\n",
       "      <th>members</th>\n",
       "    </tr>\n",
       "    <tr>\n",
       "      <th>anime_id</th>\n",
       "      <th></th>\n",
       "      <th></th>\n",
       "      <th></th>\n",
       "      <th></th>\n",
       "      <th></th>\n",
       "      <th></th>\n",
       "    </tr>\n",
       "  </thead>\n",
       "  <tbody>\n",
       "    <tr>\n",
       "      <th>32281</th>\n",
       "      <td>Kimi no Na wa.</td>\n",
       "      <td>Drama, Romance, School, Supernatural</td>\n",
       "      <td>Movie</td>\n",
       "      <td>1</td>\n",
       "      <td>9.37</td>\n",
       "      <td>200630</td>\n",
       "    </tr>\n",
       "    <tr>\n",
       "      <th>5114</th>\n",
       "      <td>Fullmetal Alchemist: Brotherhood</td>\n",
       "      <td>Action, Adventure, Drama, Fantasy, Magic, Mili...</td>\n",
       "      <td>TV</td>\n",
       "      <td>64</td>\n",
       "      <td>9.26</td>\n",
       "      <td>793665</td>\n",
       "    </tr>\n",
       "    <tr>\n",
       "      <th>28977</th>\n",
       "      <td>Gintama°</td>\n",
       "      <td>Action, Comedy, Historical, Parody, Samurai, S...</td>\n",
       "      <td>TV</td>\n",
       "      <td>51</td>\n",
       "      <td>9.25</td>\n",
       "      <td>114262</td>\n",
       "    </tr>\n",
       "    <tr>\n",
       "      <th>9253</th>\n",
       "      <td>Steins;Gate</td>\n",
       "      <td>Sci-Fi, Thriller</td>\n",
       "      <td>TV</td>\n",
       "      <td>24</td>\n",
       "      <td>9.17</td>\n",
       "      <td>673572</td>\n",
       "    </tr>\n",
       "    <tr>\n",
       "      <th>9969</th>\n",
       "      <td>Gintama&amp;#039;</td>\n",
       "      <td>Action, Comedy, Historical, Parody, Samurai, S...</td>\n",
       "      <td>TV</td>\n",
       "      <td>51</td>\n",
       "      <td>9.16</td>\n",
       "      <td>151266</td>\n",
       "    </tr>\n",
       "  </tbody>\n",
       "</table>\n",
       "</div>"
      ],
      "text/plain": [
       "                                      name  \\\n",
       "anime_id                                     \n",
       "32281                       Kimi no Na wa.   \n",
       "5114      Fullmetal Alchemist: Brotherhood   \n",
       "28977                             Gintama°   \n",
       "9253                           Steins;Gate   \n",
       "9969                         Gintama&#039;   \n",
       "\n",
       "                                                      genre   type episodes  \\\n",
       "anime_id                                                                      \n",
       "32281                  Drama, Romance, School, Supernatural  Movie        1   \n",
       "5114      Action, Adventure, Drama, Fantasy, Magic, Mili...     TV       64   \n",
       "28977     Action, Comedy, Historical, Parody, Samurai, S...     TV       51   \n",
       "9253                                       Sci-Fi, Thriller     TV       24   \n",
       "9969      Action, Comedy, Historical, Parody, Samurai, S...     TV       51   \n",
       "\n",
       "          rating  members  \n",
       "anime_id                   \n",
       "32281       9.37   200630  \n",
       "5114        9.26   793665  \n",
       "28977       9.25   114262  \n",
       "9253        9.17   673572  \n",
       "9969        9.16   151266  "
      ]
     },
     "execution_count": 13,
     "metadata": {},
     "output_type": "execute_result"
    }
   ],
   "source": [
    "df.head()"
   ]
  },
  {
   "cell_type": "code",
   "execution_count": 14,
   "id": "2b6cac95",
   "metadata": {},
   "outputs": [
    {
     "data": {
      "text/html": [
       "<div>\n",
       "<style scoped>\n",
       "    .dataframe tbody tr th:only-of-type {\n",
       "        vertical-align: middle;\n",
       "    }\n",
       "\n",
       "    .dataframe tbody tr th {\n",
       "        vertical-align: top;\n",
       "    }\n",
       "\n",
       "    .dataframe thead th {\n",
       "        text-align: right;\n",
       "    }\n",
       "</style>\n",
       "<table border=\"1\" class=\"dataframe\">\n",
       "  <thead>\n",
       "    <tr style=\"text-align: right;\">\n",
       "      <th></th>\n",
       "      <th>name</th>\n",
       "      <th>genre</th>\n",
       "      <th>type</th>\n",
       "      <th>episodes</th>\n",
       "      <th>rating</th>\n",
       "      <th>members</th>\n",
       "    </tr>\n",
       "    <tr>\n",
       "      <th>anime_id</th>\n",
       "      <th></th>\n",
       "      <th></th>\n",
       "      <th></th>\n",
       "      <th></th>\n",
       "      <th></th>\n",
       "      <th></th>\n",
       "    </tr>\n",
       "  </thead>\n",
       "  <tbody>\n",
       "    <tr>\n",
       "      <th>9316</th>\n",
       "      <td>Toushindai My Lover: Minami tai Mecha-Minami</td>\n",
       "      <td>Hentai</td>\n",
       "      <td>OVA</td>\n",
       "      <td>1</td>\n",
       "      <td>4.15</td>\n",
       "      <td>211</td>\n",
       "    </tr>\n",
       "    <tr>\n",
       "      <th>5543</th>\n",
       "      <td>Under World</td>\n",
       "      <td>Hentai</td>\n",
       "      <td>OVA</td>\n",
       "      <td>1</td>\n",
       "      <td>4.28</td>\n",
       "      <td>183</td>\n",
       "    </tr>\n",
       "    <tr>\n",
       "      <th>5621</th>\n",
       "      <td>Violence Gekiga David no Hoshi</td>\n",
       "      <td>Hentai</td>\n",
       "      <td>OVA</td>\n",
       "      <td>4</td>\n",
       "      <td>4.88</td>\n",
       "      <td>219</td>\n",
       "    </tr>\n",
       "    <tr>\n",
       "      <th>6133</th>\n",
       "      <td>Violence Gekiga Shin David no Hoshi: Inma Dens...</td>\n",
       "      <td>Hentai</td>\n",
       "      <td>OVA</td>\n",
       "      <td>1</td>\n",
       "      <td>4.98</td>\n",
       "      <td>175</td>\n",
       "    </tr>\n",
       "    <tr>\n",
       "      <th>26081</th>\n",
       "      <td>Yasuji no Pornorama: Yacchimae!!</td>\n",
       "      <td>Hentai</td>\n",
       "      <td>Movie</td>\n",
       "      <td>1</td>\n",
       "      <td>5.46</td>\n",
       "      <td>142</td>\n",
       "    </tr>\n",
       "  </tbody>\n",
       "</table>\n",
       "</div>"
      ],
      "text/plain": [
       "                                                       name   genre   type  \\\n",
       "anime_id                                                                     \n",
       "9316           Toushindai My Lover: Minami tai Mecha-Minami  Hentai    OVA   \n",
       "5543                                            Under World  Hentai    OVA   \n",
       "5621                         Violence Gekiga David no Hoshi  Hentai    OVA   \n",
       "6133      Violence Gekiga Shin David no Hoshi: Inma Dens...  Hentai    OVA   \n",
       "26081                      Yasuji no Pornorama: Yacchimae!!  Hentai  Movie   \n",
       "\n",
       "         episodes  rating  members  \n",
       "anime_id                            \n",
       "9316            1    4.15      211  \n",
       "5543            1    4.28      183  \n",
       "5621            4    4.88      219  \n",
       "6133            1    4.98      175  \n",
       "26081           1    5.46      142  "
      ]
     },
     "execution_count": 14,
     "metadata": {},
     "output_type": "execute_result"
    }
   ],
   "source": [
    "# el valor por defecto de los métodos head y tail es 5, es decir muestra 5 filas\n",
    "# por este motivo no lo hemos especificado antes en el head\n",
    "df.tail(5)"
   ]
  },
  {
   "cell_type": "markdown",
   "id": "b7a24899",
   "metadata": {},
   "source": [
    "Muy a menudo queremos sacar una pequeña muestra de clientes de nuestra tabla para analizarla rápidamente.\n",
    "\n",
    "El método `df.sample(nr_registros)` nos permite hacer una muestra aleatoria sin reemplazo.\n",
    "\n",
    "Con la siguiente línea de código vamos a seleccionar al azar 15 registros de nuestro dataset."
   ]
  },
  {
   "cell_type": "code",
   "execution_count": 15,
   "id": "9f842cb8",
   "metadata": {},
   "outputs": [
    {
     "data": {
      "text/html": [
       "<div>\n",
       "<style scoped>\n",
       "    .dataframe tbody tr th:only-of-type {\n",
       "        vertical-align: middle;\n",
       "    }\n",
       "\n",
       "    .dataframe tbody tr th {\n",
       "        vertical-align: top;\n",
       "    }\n",
       "\n",
       "    .dataframe thead th {\n",
       "        text-align: right;\n",
       "    }\n",
       "</style>\n",
       "<table border=\"1\" class=\"dataframe\">\n",
       "  <thead>\n",
       "    <tr style=\"text-align: right;\">\n",
       "      <th></th>\n",
       "      <th>name</th>\n",
       "      <th>genre</th>\n",
       "      <th>type</th>\n",
       "      <th>episodes</th>\n",
       "      <th>rating</th>\n",
       "      <th>members</th>\n",
       "    </tr>\n",
       "    <tr>\n",
       "      <th>anime_id</th>\n",
       "      <th></th>\n",
       "      <th></th>\n",
       "      <th></th>\n",
       "      <th></th>\n",
       "      <th></th>\n",
       "      <th></th>\n",
       "    </tr>\n",
       "  </thead>\n",
       "  <tbody>\n",
       "    <tr>\n",
       "      <th>1385</th>\n",
       "      <td>Kurohime: Shikkoku no Yakata</td>\n",
       "      <td>Hentai</td>\n",
       "      <td>OVA</td>\n",
       "      <td>2</td>\n",
       "      <td>6.05</td>\n",
       "      <td>2377</td>\n",
       "    </tr>\n",
       "    <tr>\n",
       "      <th>6460</th>\n",
       "      <td>Crayon Shin-chan Movie 05: Ankoku Tamatama Dai...</td>\n",
       "      <td>Comedy, Ecchi, Kids, School, Shounen, Slice of...</td>\n",
       "      <td>Movie</td>\n",
       "      <td>1</td>\n",
       "      <td>7.29</td>\n",
       "      <td>1640</td>\n",
       "    </tr>\n",
       "    <tr>\n",
       "      <th>3962</th>\n",
       "      <td>Chocolate Underground</td>\n",
       "      <td>Comedy, Kids</td>\n",
       "      <td>ONA</td>\n",
       "      <td>13</td>\n",
       "      <td>6.28</td>\n",
       "      <td>9351</td>\n",
       "    </tr>\n",
       "    <tr>\n",
       "      <th>34456</th>\n",
       "      <td>Sentai Hero Sukiyaki Force</td>\n",
       "      <td>Comedy</td>\n",
       "      <td>TV</td>\n",
       "      <td>Unknown</td>\n",
       "      <td>NaN</td>\n",
       "      <td>43</td>\n",
       "    </tr>\n",
       "    <tr>\n",
       "      <th>11853</th>\n",
       "      <td>Pokemon: Pikachu no Summer Bridge Story</td>\n",
       "      <td>Adventure, Comedy, Fantasy, Kids</td>\n",
       "      <td>Special</td>\n",
       "      <td>1</td>\n",
       "      <td>6.57</td>\n",
       "      <td>2535</td>\n",
       "    </tr>\n",
       "    <tr>\n",
       "      <th>11268</th>\n",
       "      <td>Ganso Tensai Bakabon</td>\n",
       "      <td>Comedy, Slice of Life</td>\n",
       "      <td>TV</td>\n",
       "      <td>103</td>\n",
       "      <td>6.75</td>\n",
       "      <td>288</td>\n",
       "    </tr>\n",
       "    <tr>\n",
       "      <th>22399</th>\n",
       "      <td>Saru Kani Gassen</td>\n",
       "      <td>Kids</td>\n",
       "      <td>OVA</td>\n",
       "      <td>1</td>\n",
       "      <td>5.23</td>\n",
       "      <td>62</td>\n",
       "    </tr>\n",
       "    <tr>\n",
       "      <th>11711</th>\n",
       "      <td>Me wo Samase Toragorou</td>\n",
       "      <td>Kids</td>\n",
       "      <td>Special</td>\n",
       "      <td>1</td>\n",
       "      <td>5.67</td>\n",
       "      <td>69</td>\n",
       "    </tr>\n",
       "    <tr>\n",
       "      <th>316</th>\n",
       "      <td>Nageki no Kenkou Yuuryouji</td>\n",
       "      <td>Comedy, Hentai, Yuri</td>\n",
       "      <td>OVA</td>\n",
       "      <td>3</td>\n",
       "      <td>6.40</td>\n",
       "      <td>2594</td>\n",
       "    </tr>\n",
       "    <tr>\n",
       "      <th>29349</th>\n",
       "      <td>Doron Coron</td>\n",
       "      <td>Kids, Slice of Life</td>\n",
       "      <td>Movie</td>\n",
       "      <td>1</td>\n",
       "      <td>4.62</td>\n",
       "      <td>46</td>\n",
       "    </tr>\n",
       "    <tr>\n",
       "      <th>17209</th>\n",
       "      <td>Suzy&amp;#039;s Zoo: Daisuki! Witzy - Happy Birthday</td>\n",
       "      <td>Kids</td>\n",
       "      <td>Special</td>\n",
       "      <td>1</td>\n",
       "      <td>6.17</td>\n",
       "      <td>158</td>\n",
       "    </tr>\n",
       "    <tr>\n",
       "      <th>29825</th>\n",
       "      <td>Onnanoko tte.</td>\n",
       "      <td>Comedy, Shoujo, Slice of Life</td>\n",
       "      <td>Special</td>\n",
       "      <td>4</td>\n",
       "      <td>5.78</td>\n",
       "      <td>171</td>\n",
       "    </tr>\n",
       "    <tr>\n",
       "      <th>29904</th>\n",
       "      <td>Yellow</td>\n",
       "      <td>Psychological</td>\n",
       "      <td>Movie</td>\n",
       "      <td>1</td>\n",
       "      <td>5.30</td>\n",
       "      <td>144</td>\n",
       "    </tr>\n",
       "    <tr>\n",
       "      <th>4149</th>\n",
       "      <td>Body Jack: Tanoshii Yutai Ridatsu</td>\n",
       "      <td>Comedy, Ecchi, Yuri</td>\n",
       "      <td>OVA</td>\n",
       "      <td>1</td>\n",
       "      <td>5.51</td>\n",
       "      <td>1073</td>\n",
       "    </tr>\n",
       "    <tr>\n",
       "      <th>17291</th>\n",
       "      <td>Jinzou Konchuu Kabutoborg VxV</td>\n",
       "      <td>Action, Comedy, Fantasy, Game, Shounen</td>\n",
       "      <td>TV</td>\n",
       "      <td>52</td>\n",
       "      <td>6.94</td>\n",
       "      <td>188</td>\n",
       "    </tr>\n",
       "  </tbody>\n",
       "</table>\n",
       "</div>"
      ],
      "text/plain": [
       "                                                       name  \\\n",
       "anime_id                                                      \n",
       "1385                           Kurohime: Shikkoku no Yakata   \n",
       "6460      Crayon Shin-chan Movie 05: Ankoku Tamatama Dai...   \n",
       "3962                                  Chocolate Underground   \n",
       "34456                            Sentai Hero Sukiyaki Force   \n",
       "11853               Pokemon: Pikachu no Summer Bridge Story   \n",
       "11268                                  Ganso Tensai Bakabon   \n",
       "22399                                      Saru Kani Gassen   \n",
       "11711                                Me wo Samase Toragorou   \n",
       "316                              Nageki no Kenkou Yuuryouji   \n",
       "29349                                           Doron Coron   \n",
       "17209      Suzy&#039;s Zoo: Daisuki! Witzy - Happy Birthday   \n",
       "29825                                         Onnanoko tte.   \n",
       "29904                                                Yellow   \n",
       "4149                      Body Jack: Tanoshii Yutai Ridatsu   \n",
       "17291                         Jinzou Konchuu Kabutoborg VxV   \n",
       "\n",
       "                                                      genre     type episodes  \\\n",
       "anime_id                                                                        \n",
       "1385                                                 Hentai      OVA        2   \n",
       "6460      Comedy, Ecchi, Kids, School, Shounen, Slice of...    Movie        1   \n",
       "3962                                           Comedy, Kids      ONA       13   \n",
       "34456                                                Comedy       TV  Unknown   \n",
       "11853                      Adventure, Comedy, Fantasy, Kids  Special        1   \n",
       "11268                                 Comedy, Slice of Life       TV      103   \n",
       "22399                                                  Kids      OVA        1   \n",
       "11711                                                  Kids  Special        1   \n",
       "316                                    Comedy, Hentai, Yuri      OVA        3   \n",
       "29349                                   Kids, Slice of Life    Movie        1   \n",
       "17209                                                  Kids  Special        1   \n",
       "29825                         Comedy, Shoujo, Slice of Life  Special        4   \n",
       "29904                                         Psychological    Movie        1   \n",
       "4149                                    Comedy, Ecchi, Yuri      OVA        1   \n",
       "17291                Action, Comedy, Fantasy, Game, Shounen       TV       52   \n",
       "\n",
       "          rating  members  \n",
       "anime_id                   \n",
       "1385        6.05     2377  \n",
       "6460        7.29     1640  \n",
       "3962        6.28     9351  \n",
       "34456        NaN       43  \n",
       "11853       6.57     2535  \n",
       "11268       6.75      288  \n",
       "22399       5.23       62  \n",
       "11711       5.67       69  \n",
       "316         6.40     2594  \n",
       "29349       4.62       46  \n",
       "17209       6.17      158  \n",
       "29825       5.78      171  \n",
       "29904       5.30      144  \n",
       "4149        5.51     1073  \n",
       "17291       6.94      188  "
      ]
     },
     "execution_count": 15,
     "metadata": {},
     "output_type": "execute_result"
    }
   ],
   "source": [
    "df.sample(15)"
   ]
  },
  {
   "cell_type": "markdown",
   "id": "690e9b43",
   "metadata": {},
   "source": [
    "Vemos que nuestro dataset está formado por 6 columnas.\n",
    "\n",
    "Cuando usamos pandas, decimos que 1 columna es un **pandas Series**. \n",
    "\n",
    "Por tanto, nuestro **DataFrame** es básicamente una colección de 6 pandas **Series**.\n",
    "\n",
    "Si queremos seleccionar 1 única columna de nuestro **DataFrame** lo podemos hacer con el siguiente código."
   ]
  },
  {
   "cell_type": "code",
   "execution_count": 16,
   "id": "29bb5cc6",
   "metadata": {},
   "outputs": [],
   "source": [
    "series = df[\"rating\"]"
   ]
  },
  {
   "cell_type": "markdown",
   "id": "33473edc",
   "metadata": {},
   "source": [
    "Las **Series** a menudo tienen los mismos métodos que un **DataFrame**: `head`, `tail`etc."
   ]
  },
  {
   "cell_type": "code",
   "execution_count": 17,
   "id": "4d8d04ce",
   "metadata": {},
   "outputs": [
    {
     "data": {
      "text/plain": [
       "anime_id\n",
       "32281    9.37\n",
       "5114     9.26\n",
       "28977    9.25\n",
       "9253     9.17\n",
       "9969     9.16\n",
       "Name: rating, dtype: float64"
      ]
     },
     "execution_count": 17,
     "metadata": {},
     "output_type": "execute_result"
    }
   ],
   "source": [
    "series.head()"
   ]
  },
  {
   "cell_type": "markdown",
   "id": "19441013",
   "metadata": {},
   "source": [
    "En el ejemplo de antes, hemos utilizado el nombre de la columna entre **corchetes** para seleccionar 1 columna.\n",
    "\n",
    "Existen otras formas de hacer lo mismo.\n",
    "\n",
    "Por ejemplo, si el nombre **<u>no contiene ningún espacio</u>**, podemos escribir `df.nombre_columna` para obtener este **Series**."
   ]
  },
  {
   "cell_type": "code",
   "execution_count": 18,
   "id": "260729cf",
   "metadata": {},
   "outputs": [
    {
     "data": {
      "text/plain": [
       "anime_id\n",
       "32281    9.37\n",
       "5114     9.26\n",
       "28977    9.25\n",
       "9253     9.17\n",
       "9969     9.16\n",
       "         ... \n",
       "9316     4.15\n",
       "5543     4.28\n",
       "5621     4.88\n",
       "6133     4.98\n",
       "26081    5.46\n",
       "Name: rating, Length: 12294, dtype: float64"
      ]
     },
     "execution_count": 18,
     "metadata": {},
     "output_type": "execute_result"
    }
   ],
   "source": [
    "df.rating"
   ]
  },
  {
   "cell_type": "markdown",
   "id": "b1a2719d",
   "metadata": {},
   "source": [
    "Por último, es muy común utilizar el método `loc` o `iloc` para seleccionar columnas o filas o una combinación de ambas.\n",
    "\n",
    "Con `loc` podemos acceder a diferentes filas usando el nombre de la fila o columna."
   ]
  },
  {
   "cell_type": "code",
   "execution_count": 19,
   "id": "a9185fce",
   "metadata": {},
   "outputs": [
    {
     "data": {
      "text/html": [
       "<div>\n",
       "<style scoped>\n",
       "    .dataframe tbody tr th:only-of-type {\n",
       "        vertical-align: middle;\n",
       "    }\n",
       "\n",
       "    .dataframe tbody tr th {\n",
       "        vertical-align: top;\n",
       "    }\n",
       "\n",
       "    .dataframe thead th {\n",
       "        text-align: right;\n",
       "    }\n",
       "</style>\n",
       "<table border=\"1\" class=\"dataframe\">\n",
       "  <thead>\n",
       "    <tr style=\"text-align: right;\">\n",
       "      <th></th>\n",
       "      <th>name</th>\n",
       "      <th>genre</th>\n",
       "      <th>type</th>\n",
       "      <th>episodes</th>\n",
       "      <th>rating</th>\n",
       "      <th>members</th>\n",
       "    </tr>\n",
       "    <tr>\n",
       "      <th>anime_id</th>\n",
       "      <th></th>\n",
       "      <th></th>\n",
       "      <th></th>\n",
       "      <th></th>\n",
       "      <th></th>\n",
       "      <th></th>\n",
       "    </tr>\n",
       "  </thead>\n",
       "  <tbody>\n",
       "    <tr>\n",
       "      <th>32281</th>\n",
       "      <td>Kimi no Na wa.</td>\n",
       "      <td>Drama, Romance, School, Supernatural</td>\n",
       "      <td>Movie</td>\n",
       "      <td>1</td>\n",
       "      <td>9.37</td>\n",
       "      <td>200630</td>\n",
       "    </tr>\n",
       "    <tr>\n",
       "      <th>5114</th>\n",
       "      <td>Fullmetal Alchemist: Brotherhood</td>\n",
       "      <td>Action, Adventure, Drama, Fantasy, Magic, Mili...</td>\n",
       "      <td>TV</td>\n",
       "      <td>64</td>\n",
       "      <td>9.26</td>\n",
       "      <td>793665</td>\n",
       "    </tr>\n",
       "    <tr>\n",
       "      <th>28977</th>\n",
       "      <td>Gintama°</td>\n",
       "      <td>Action, Comedy, Historical, Parody, Samurai, S...</td>\n",
       "      <td>TV</td>\n",
       "      <td>51</td>\n",
       "      <td>9.25</td>\n",
       "      <td>114262</td>\n",
       "    </tr>\n",
       "    <tr>\n",
       "      <th>9253</th>\n",
       "      <td>Steins;Gate</td>\n",
       "      <td>Sci-Fi, Thriller</td>\n",
       "      <td>TV</td>\n",
       "      <td>24</td>\n",
       "      <td>9.17</td>\n",
       "      <td>673572</td>\n",
       "    </tr>\n",
       "    <tr>\n",
       "      <th>9969</th>\n",
       "      <td>Gintama&amp;#039;</td>\n",
       "      <td>Action, Comedy, Historical, Parody, Samurai, S...</td>\n",
       "      <td>TV</td>\n",
       "      <td>51</td>\n",
       "      <td>9.16</td>\n",
       "      <td>151266</td>\n",
       "    </tr>\n",
       "  </tbody>\n",
       "</table>\n",
       "</div>"
      ],
      "text/plain": [
       "                                      name  \\\n",
       "anime_id                                     \n",
       "32281                       Kimi no Na wa.   \n",
       "5114      Fullmetal Alchemist: Brotherhood   \n",
       "28977                             Gintama°   \n",
       "9253                           Steins;Gate   \n",
       "9969                         Gintama&#039;   \n",
       "\n",
       "                                                      genre   type episodes  \\\n",
       "anime_id                                                                      \n",
       "32281                  Drama, Romance, School, Supernatural  Movie        1   \n",
       "5114      Action, Adventure, Drama, Fantasy, Magic, Mili...     TV       64   \n",
       "28977     Action, Comedy, Historical, Parody, Samurai, S...     TV       51   \n",
       "9253                                       Sci-Fi, Thriller     TV       24   \n",
       "9969      Action, Comedy, Historical, Parody, Samurai, S...     TV       51   \n",
       "\n",
       "          rating  members  \n",
       "anime_id                   \n",
       "32281       9.37   200630  \n",
       "5114        9.26   793665  \n",
       "28977       9.25   114262  \n",
       "9253        9.17   673572  \n",
       "9969        9.16   151266  "
      ]
     },
     "execution_count": 19,
     "metadata": {},
     "output_type": "execute_result"
    }
   ],
   "source": [
    "df.head()"
   ]
  },
  {
   "cell_type": "code",
   "execution_count": 23,
   "id": "08fd4721",
   "metadata": {},
   "outputs": [
    {
     "data": {
      "text/plain": [
       "name                              Kimi no Na wa.\n",
       "genre       Drama, Romance, School, Supernatural\n",
       "type                                       Movie\n",
       "episodes                                       1\n",
       "rating                                      9.37\n",
       "members                                   200630\n",
       "Name: 32281, dtype: object"
      ]
     },
     "execution_count": 23,
     "metadata": {},
     "output_type": "execute_result"
    }
   ],
   "source": [
    "# en este ejemplo, 32281 es el anime_id que tenemos en la primera fila (índice 0).\n",
    "# si fuese un text en vez de número deberíamos escribir el nombre con comillas simples '' o comillas dobles \"\".\n",
    "df.loc[32281]"
   ]
  },
  {
   "cell_type": "markdown",
   "id": "8f40b732",
   "metadata": {},
   "source": [
    "Con el loc puedo seleccionar diferentes filas y columnas especificando más parámetros en el loc."
   ]
  },
  {
   "cell_type": "code",
   "execution_count": 24,
   "id": "e5bc108b",
   "metadata": {},
   "outputs": [
    {
     "data": {
      "text/plain": [
       "'Drama, Romance, School, Supernatural'"
      ]
     },
     "execution_count": 24,
     "metadata": {},
     "output_type": "execute_result"
    }
   ],
   "source": [
    "df.loc[32281, \"genre\"]"
   ]
  },
  {
   "cell_type": "markdown",
   "id": "dbcb1fd7",
   "metadata": {},
   "source": [
    "Si quiero seleccionar \"genre\" y también la columna de \"type\" lo puedo hacer poniendo \"genre\" y \"type\" dentro de una lista de python: `[\"genre\", \"type\"]` es decir, usamos otra vez corchetes."
   ]
  },
  {
   "cell_type": "code",
   "execution_count": 25,
   "id": "fb24d65b",
   "metadata": {},
   "outputs": [
    {
     "data": {
      "text/plain": [
       "genre    Drama, Romance, School, Supernatural\n",
       "type                                    Movie\n",
       "Name: 32281, dtype: object"
      ]
     },
     "execution_count": 25,
     "metadata": {},
     "output_type": "execute_result"
    }
   ],
   "source": [
    "df.loc[32281, [\"genre\", \"type\"]]"
   ]
  },
  {
   "cell_type": "markdown",
   "id": "fea630e1",
   "metadata": {},
   "source": [
    "Mientras que `loc` permite acceder a las diferentes filas y columnas por el nombre, `iloc` lo hace por el índice."
   ]
  },
  {
   "cell_type": "code",
   "execution_count": 26,
   "id": "eebf3078",
   "metadata": {},
   "outputs": [
    {
     "data": {
      "text/html": [
       "<div>\n",
       "<style scoped>\n",
       "    .dataframe tbody tr th:only-of-type {\n",
       "        vertical-align: middle;\n",
       "    }\n",
       "\n",
       "    .dataframe tbody tr th {\n",
       "        vertical-align: top;\n",
       "    }\n",
       "\n",
       "    .dataframe thead th {\n",
       "        text-align: right;\n",
       "    }\n",
       "</style>\n",
       "<table border=\"1\" class=\"dataframe\">\n",
       "  <thead>\n",
       "    <tr style=\"text-align: right;\">\n",
       "      <th></th>\n",
       "      <th>name</th>\n",
       "      <th>genre</th>\n",
       "      <th>type</th>\n",
       "      <th>episodes</th>\n",
       "      <th>rating</th>\n",
       "      <th>members</th>\n",
       "    </tr>\n",
       "    <tr>\n",
       "      <th>anime_id</th>\n",
       "      <th></th>\n",
       "      <th></th>\n",
       "      <th></th>\n",
       "      <th></th>\n",
       "      <th></th>\n",
       "      <th></th>\n",
       "    </tr>\n",
       "  </thead>\n",
       "  <tbody>\n",
       "    <tr>\n",
       "      <th>32281</th>\n",
       "      <td>Kimi no Na wa.</td>\n",
       "      <td>Drama, Romance, School, Supernatural</td>\n",
       "      <td>Movie</td>\n",
       "      <td>1</td>\n",
       "      <td>9.37</td>\n",
       "      <td>200630</td>\n",
       "    </tr>\n",
       "    <tr>\n",
       "      <th>5114</th>\n",
       "      <td>Fullmetal Alchemist: Brotherhood</td>\n",
       "      <td>Action, Adventure, Drama, Fantasy, Magic, Mili...</td>\n",
       "      <td>TV</td>\n",
       "      <td>64</td>\n",
       "      <td>9.26</td>\n",
       "      <td>793665</td>\n",
       "    </tr>\n",
       "    <tr>\n",
       "      <th>28977</th>\n",
       "      <td>Gintama°</td>\n",
       "      <td>Action, Comedy, Historical, Parody, Samurai, S...</td>\n",
       "      <td>TV</td>\n",
       "      <td>51</td>\n",
       "      <td>9.25</td>\n",
       "      <td>114262</td>\n",
       "    </tr>\n",
       "    <tr>\n",
       "      <th>9253</th>\n",
       "      <td>Steins;Gate</td>\n",
       "      <td>Sci-Fi, Thriller</td>\n",
       "      <td>TV</td>\n",
       "      <td>24</td>\n",
       "      <td>9.17</td>\n",
       "      <td>673572</td>\n",
       "    </tr>\n",
       "    <tr>\n",
       "      <th>9969</th>\n",
       "      <td>Gintama&amp;#039;</td>\n",
       "      <td>Action, Comedy, Historical, Parody, Samurai, S...</td>\n",
       "      <td>TV</td>\n",
       "      <td>51</td>\n",
       "      <td>9.16</td>\n",
       "      <td>151266</td>\n",
       "    </tr>\n",
       "  </tbody>\n",
       "</table>\n",
       "</div>"
      ],
      "text/plain": [
       "                                      name  \\\n",
       "anime_id                                     \n",
       "32281                       Kimi no Na wa.   \n",
       "5114      Fullmetal Alchemist: Brotherhood   \n",
       "28977                             Gintama°   \n",
       "9253                           Steins;Gate   \n",
       "9969                         Gintama&#039;   \n",
       "\n",
       "                                                      genre   type episodes  \\\n",
       "anime_id                                                                      \n",
       "32281                  Drama, Romance, School, Supernatural  Movie        1   \n",
       "5114      Action, Adventure, Drama, Fantasy, Magic, Mili...     TV       64   \n",
       "28977     Action, Comedy, Historical, Parody, Samurai, S...     TV       51   \n",
       "9253                                       Sci-Fi, Thriller     TV       24   \n",
       "9969      Action, Comedy, Historical, Parody, Samurai, S...     TV       51   \n",
       "\n",
       "          rating  members  \n",
       "anime_id                   \n",
       "32281       9.37   200630  \n",
       "5114        9.26   793665  \n",
       "28977       9.25   114262  \n",
       "9253        9.17   673572  \n",
       "9969        9.16   151266  "
      ]
     },
     "execution_count": 26,
     "metadata": {},
     "output_type": "execute_result"
    }
   ],
   "source": [
    "df.head()"
   ]
  },
  {
   "cell_type": "code",
   "execution_count": 27,
   "id": "795e56db",
   "metadata": {},
   "outputs": [
    {
     "data": {
      "text/plain": [
       "name                              Kimi no Na wa.\n",
       "genre       Drama, Romance, School, Supernatural\n",
       "type                                       Movie\n",
       "episodes                                       1\n",
       "rating                                      9.37\n",
       "members                                   200630\n",
       "Name: 32281, dtype: object"
      ]
     },
     "execution_count": 27,
     "metadata": {},
     "output_type": "execute_result"
    }
   ],
   "source": [
    "# el resultado es el mismo que usando df.loc[32281]\n",
    "df.iloc[0]"
   ]
  },
  {
   "cell_type": "code",
   "execution_count": 28,
   "id": "ab9feade",
   "metadata": {},
   "outputs": [
    {
     "data": {
      "text/plain": [
       "'Drama, Romance, School, Supernatural'"
      ]
     },
     "execution_count": 28,
     "metadata": {},
     "output_type": "execute_result"
    }
   ],
   "source": [
    "# el resultado es el mismo que usando df.loc[32281, \"genre\"]\n",
    "df.iloc[0, 1]"
   ]
  },
  {
   "cell_type": "code",
   "execution_count": 29,
   "id": "5b6c0c25",
   "metadata": {},
   "outputs": [
    {
     "data": {
      "text/plain": [
       "genre    Drama, Romance, School, Supernatural\n",
       "type                                    Movie\n",
       "Name: 32281, dtype: object"
      ]
     },
     "execution_count": 29,
     "metadata": {},
     "output_type": "execute_result"
    }
   ],
   "source": [
    "# el resultado es el mismo que usando df.loc[32281, [\"genre\", \"type\"]]\n",
    "df.iloc[0, [1, 2]]"
   ]
  },
  {
   "cell_type": "markdown",
   "id": "3bf57086",
   "metadata": {},
   "source": [
    "Los métodos de antes, `loc` y `iloc` permite filtrar también varias filas como se muestra a continuación."
   ]
  },
  {
   "cell_type": "code",
   "execution_count": 30,
   "id": "476b946d",
   "metadata": {},
   "outputs": [
    {
     "data": {
      "text/html": [
       "<div>\n",
       "<style scoped>\n",
       "    .dataframe tbody tr th:only-of-type {\n",
       "        vertical-align: middle;\n",
       "    }\n",
       "\n",
       "    .dataframe tbody tr th {\n",
       "        vertical-align: top;\n",
       "    }\n",
       "\n",
       "    .dataframe thead th {\n",
       "        text-align: right;\n",
       "    }\n",
       "</style>\n",
       "<table border=\"1\" class=\"dataframe\">\n",
       "  <thead>\n",
       "    <tr style=\"text-align: right;\">\n",
       "      <th></th>\n",
       "      <th>name</th>\n",
       "      <th>episodes</th>\n",
       "    </tr>\n",
       "    <tr>\n",
       "      <th>anime_id</th>\n",
       "      <th></th>\n",
       "      <th></th>\n",
       "    </tr>\n",
       "  </thead>\n",
       "  <tbody>\n",
       "    <tr>\n",
       "      <th>32281</th>\n",
       "      <td>Kimi no Na wa.</td>\n",
       "      <td>1</td>\n",
       "    </tr>\n",
       "    <tr>\n",
       "      <th>28977</th>\n",
       "      <td>Gintama°</td>\n",
       "      <td>51</td>\n",
       "    </tr>\n",
       "  </tbody>\n",
       "</table>\n",
       "</div>"
      ],
      "text/plain": [
       "                    name episodes\n",
       "anime_id                         \n",
       "32281     Kimi no Na wa.        1\n",
       "28977           Gintama°       51"
      ]
     },
     "execution_count": 30,
     "metadata": {},
     "output_type": "execute_result"
    }
   ],
   "source": [
    "df.loc[[32281, 28977], [\"name\", \"episodes\"]]"
   ]
  },
  {
   "cell_type": "markdown",
   "id": "aaae54d4",
   "metadata": {},
   "source": [
    "Para conseguir lo mismo con `iloc` podemos hacerlo de la siguiente manera:"
   ]
  },
  {
   "cell_type": "code",
   "execution_count": 31,
   "id": "d56d4653",
   "metadata": {},
   "outputs": [
    {
     "data": {
      "text/html": [
       "<div>\n",
       "<style scoped>\n",
       "    .dataframe tbody tr th:only-of-type {\n",
       "        vertical-align: middle;\n",
       "    }\n",
       "\n",
       "    .dataframe tbody tr th {\n",
       "        vertical-align: top;\n",
       "    }\n",
       "\n",
       "    .dataframe thead th {\n",
       "        text-align: right;\n",
       "    }\n",
       "</style>\n",
       "<table border=\"1\" class=\"dataframe\">\n",
       "  <thead>\n",
       "    <tr style=\"text-align: right;\">\n",
       "      <th></th>\n",
       "      <th>name</th>\n",
       "      <th>episodes</th>\n",
       "    </tr>\n",
       "    <tr>\n",
       "      <th>anime_id</th>\n",
       "      <th></th>\n",
       "      <th></th>\n",
       "    </tr>\n",
       "  </thead>\n",
       "  <tbody>\n",
       "    <tr>\n",
       "      <th>32281</th>\n",
       "      <td>Kimi no Na wa.</td>\n",
       "      <td>1</td>\n",
       "    </tr>\n",
       "    <tr>\n",
       "      <th>28977</th>\n",
       "      <td>Gintama°</td>\n",
       "      <td>51</td>\n",
       "    </tr>\n",
       "  </tbody>\n",
       "</table>\n",
       "</div>"
      ],
      "text/plain": [
       "                    name episodes\n",
       "anime_id                         \n",
       "32281     Kimi no Na wa.        1\n",
       "28977           Gintama°       51"
      ]
     },
     "execution_count": 31,
     "metadata": {},
     "output_type": "execute_result"
    }
   ],
   "source": [
    "df.iloc[[0, 2], [0, 3]]"
   ]
  },
  {
   "cell_type": "markdown",
   "id": "6e2c1d80",
   "metadata": {},
   "source": [
    "### ¿Sabrían explicar el código de antes?"
   ]
  },
  {
   "cell_type": "markdown",
   "id": "1085d603",
   "metadata": {},
   "source": [
    "<a id='pandas2'></a>\n",
    "# Mas métodos de pandas\n",
    "[Volver al índice](#index)"
   ]
  },
  {
   "cell_type": "markdown",
   "id": "a8708b03",
   "metadata": {},
   "source": [
    "Hasta ahora hemos visto los métodos más simples que hay de pandas **DataFrames**.\n",
    "\n",
    "Veamos ahora otros métodos muy utilizados y que nos permiten tener una idea sobre nuestros datos de manera muy rápida."
   ]
  },
  {
   "cell_type": "markdown",
   "id": "2eb1ebed",
   "metadata": {},
   "source": [
    "`df.info()` nos muestra un resumen sobre todas nuestras columnas.\n",
    "\n",
    "Vemos de golpe el nombre de la columna, la cantidad de no nulos que hay en cada columna y el tipo de columna que es (númerica: `int` o `float`, categórica: `category` o bien objetos python o texto: `object`)."
   ]
  },
  {
   "cell_type": "code",
   "execution_count": 32,
   "id": "1b1b6eb4",
   "metadata": {},
   "outputs": [
    {
     "name": "stdout",
     "output_type": "stream",
     "text": [
      "<class 'pandas.core.frame.DataFrame'>\n",
      "Index: 12294 entries, 32281 to 26081\n",
      "Data columns (total 6 columns):\n",
      " #   Column    Non-Null Count  Dtype  \n",
      "---  ------    --------------  -----  \n",
      " 0   name      12294 non-null  object \n",
      " 1   genre     12232 non-null  object \n",
      " 2   type      12269 non-null  object \n",
      " 3   episodes  12294 non-null  object \n",
      " 4   rating    12064 non-null  float64\n",
      " 5   members   12294 non-null  int64  \n",
      "dtypes: float64(1), int64(1), object(4)\n",
      "memory usage: 930.4+ KB\n"
     ]
    }
   ],
   "source": [
    "df.info()"
   ]
  },
  {
   "cell_type": "markdown",
   "id": "9ce96c87",
   "metadata": {},
   "source": [
    "Con el método de `df.describe()` podemos ver rápidamente algunos estadísticos rápidos de nuestras columnas númericas."
   ]
  },
  {
   "cell_type": "code",
   "execution_count": 33,
   "id": "b16b8dde",
   "metadata": {},
   "outputs": [],
   "source": [
    "pd.options.display.float_format = '{:.2f}'.format"
   ]
  },
  {
   "cell_type": "code",
   "execution_count": 34,
   "id": "0a8d9b08",
   "metadata": {},
   "outputs": [
    {
     "data": {
      "text/html": [
       "<div>\n",
       "<style scoped>\n",
       "    .dataframe tbody tr th:only-of-type {\n",
       "        vertical-align: middle;\n",
       "    }\n",
       "\n",
       "    .dataframe tbody tr th {\n",
       "        vertical-align: top;\n",
       "    }\n",
       "\n",
       "    .dataframe thead th {\n",
       "        text-align: right;\n",
       "    }\n",
       "</style>\n",
       "<table border=\"1\" class=\"dataframe\">\n",
       "  <thead>\n",
       "    <tr style=\"text-align: right;\">\n",
       "      <th></th>\n",
       "      <th>rating</th>\n",
       "      <th>members</th>\n",
       "    </tr>\n",
       "  </thead>\n",
       "  <tbody>\n",
       "    <tr>\n",
       "      <th>count</th>\n",
       "      <td>12064.00</td>\n",
       "      <td>12294.00</td>\n",
       "    </tr>\n",
       "    <tr>\n",
       "      <th>mean</th>\n",
       "      <td>6.47</td>\n",
       "      <td>18071.34</td>\n",
       "    </tr>\n",
       "    <tr>\n",
       "      <th>std</th>\n",
       "      <td>1.03</td>\n",
       "      <td>54820.68</td>\n",
       "    </tr>\n",
       "    <tr>\n",
       "      <th>min</th>\n",
       "      <td>1.67</td>\n",
       "      <td>5.00</td>\n",
       "    </tr>\n",
       "    <tr>\n",
       "      <th>25%</th>\n",
       "      <td>5.88</td>\n",
       "      <td>225.00</td>\n",
       "    </tr>\n",
       "    <tr>\n",
       "      <th>50%</th>\n",
       "      <td>6.57</td>\n",
       "      <td>1550.00</td>\n",
       "    </tr>\n",
       "    <tr>\n",
       "      <th>75%</th>\n",
       "      <td>7.18</td>\n",
       "      <td>9437.00</td>\n",
       "    </tr>\n",
       "    <tr>\n",
       "      <th>max</th>\n",
       "      <td>10.00</td>\n",
       "      <td>1013917.00</td>\n",
       "    </tr>\n",
       "  </tbody>\n",
       "</table>\n",
       "</div>"
      ],
      "text/plain": [
       "        rating    members\n",
       "count 12064.00   12294.00\n",
       "mean      6.47   18071.34\n",
       "std       1.03   54820.68\n",
       "min       1.67       5.00\n",
       "25%       5.88     225.00\n",
       "50%       6.57    1550.00\n",
       "75%       7.18    9437.00\n",
       "max      10.00 1013917.00"
      ]
     },
     "execution_count": 34,
     "metadata": {},
     "output_type": "execute_result"
    }
   ],
   "source": [
    "df.describe()"
   ]
  },
  {
   "cell_type": "markdown",
   "id": "be05243e",
   "metadata": {},
   "source": [
    "Otro método muy común que usamos a menudo es `df.isnull()` para calcular el número de nulos que tenemos en cada columna.\n",
    "\n",
    "Si observamods con detenimieto vemos que los valores de antes (los números y el texto) han desaparecido y ahora únicamente tenemos True y False.\n",
    "\n",
    "Decimos que en este caso, hemos \"evaluado\" si cada valor es un nulo o no\n",
    "\n",
    "1. Cuando es un nulo -> True\n",
    "1. Cuando no es un nulo -> False\n",
    "\n",
    "**Además, en este ejemplo, vemos que podemos \"concatenar\" o utilizar un método detrás de otro en cadena.**"
   ]
  },
  {
   "cell_type": "code",
   "execution_count": 36,
   "id": "88bb53ce",
   "metadata": {},
   "outputs": [
    {
     "data": {
      "text/html": [
       "<div>\n",
       "<style scoped>\n",
       "    .dataframe tbody tr th:only-of-type {\n",
       "        vertical-align: middle;\n",
       "    }\n",
       "\n",
       "    .dataframe tbody tr th {\n",
       "        vertical-align: top;\n",
       "    }\n",
       "\n",
       "    .dataframe thead th {\n",
       "        text-align: right;\n",
       "    }\n",
       "</style>\n",
       "<table border=\"1\" class=\"dataframe\">\n",
       "  <thead>\n",
       "    <tr style=\"text-align: right;\">\n",
       "      <th></th>\n",
       "      <th>name</th>\n",
       "      <th>genre</th>\n",
       "      <th>type</th>\n",
       "      <th>episodes</th>\n",
       "      <th>rating</th>\n",
       "      <th>members</th>\n",
       "    </tr>\n",
       "    <tr>\n",
       "      <th>anime_id</th>\n",
       "      <th></th>\n",
       "      <th></th>\n",
       "      <th></th>\n",
       "      <th></th>\n",
       "      <th></th>\n",
       "      <th></th>\n",
       "    </tr>\n",
       "  </thead>\n",
       "  <tbody>\n",
       "    <tr>\n",
       "      <th>32281</th>\n",
       "      <td>False</td>\n",
       "      <td>False</td>\n",
       "      <td>False</td>\n",
       "      <td>False</td>\n",
       "      <td>False</td>\n",
       "      <td>False</td>\n",
       "    </tr>\n",
       "    <tr>\n",
       "      <th>5114</th>\n",
       "      <td>False</td>\n",
       "      <td>False</td>\n",
       "      <td>False</td>\n",
       "      <td>False</td>\n",
       "      <td>False</td>\n",
       "      <td>False</td>\n",
       "    </tr>\n",
       "    <tr>\n",
       "      <th>28977</th>\n",
       "      <td>False</td>\n",
       "      <td>False</td>\n",
       "      <td>False</td>\n",
       "      <td>False</td>\n",
       "      <td>False</td>\n",
       "      <td>False</td>\n",
       "    </tr>\n",
       "    <tr>\n",
       "      <th>9253</th>\n",
       "      <td>False</td>\n",
       "      <td>False</td>\n",
       "      <td>False</td>\n",
       "      <td>False</td>\n",
       "      <td>False</td>\n",
       "      <td>False</td>\n",
       "    </tr>\n",
       "    <tr>\n",
       "      <th>9969</th>\n",
       "      <td>False</td>\n",
       "      <td>False</td>\n",
       "      <td>False</td>\n",
       "      <td>False</td>\n",
       "      <td>False</td>\n",
       "      <td>False</td>\n",
       "    </tr>\n",
       "  </tbody>\n",
       "</table>\n",
       "</div>"
      ],
      "text/plain": [
       "           name  genre   type  episodes  rating  members\n",
       "anime_id                                                \n",
       "32281     False  False  False     False   False    False\n",
       "5114      False  False  False     False   False    False\n",
       "28977     False  False  False     False   False    False\n",
       "9253      False  False  False     False   False    False\n",
       "9969      False  False  False     False   False    False"
      ]
     },
     "execution_count": 36,
     "metadata": {},
     "output_type": "execute_result"
    }
   ],
   "source": [
    "df.head().isnull()"
   ]
  },
  {
   "cell_type": "markdown",
   "id": "23294f6c",
   "metadata": {},
   "source": [
    "Quitamos el método de `.head()` y añadimos el método de `.sum()` con esto podemos saber el número de nulos que tenemos en cada columna."
   ]
  },
  {
   "cell_type": "code",
   "execution_count": 37,
   "id": "5026c6b7",
   "metadata": {},
   "outputs": [
    {
     "data": {
      "text/plain": [
       "name          0\n",
       "genre        62\n",
       "type         25\n",
       "episodes      0\n",
       "rating      230\n",
       "members       0\n",
       "dtype: int64"
      ]
     },
     "execution_count": 37,
     "metadata": {},
     "output_type": "execute_result"
    }
   ],
   "source": [
    "df.isnull().sum()"
   ]
  },
  {
   "cell_type": "markdown",
   "id": "1be8cc83",
   "metadata": {},
   "source": [
    "En el ejemplo de antes, hemos introducido otro concepto muy importante cuando trabajamos con pandas **DataFrame**: **los boolean masks**.\n",
    "\n",
    "Cuando hemos **evaluado** si un valor determinado cumple o no una condición (si es nulo o no), obtenemos o bien un True o bien un False. A este conjunto de datos que son True o False lo llamamos **máscara booleana** y podemos usarla para filtar nuestro **DataFrame**."
   ]
  },
  {
   "cell_type": "code",
   "execution_count": 38,
   "id": "bd8c59a5",
   "metadata": {},
   "outputs": [
    {
     "data": {
      "text/plain": [
       "anime_id\n",
       "32281    False\n",
       "5114      True\n",
       "28977     True\n",
       "9253      True\n",
       "9969      True\n",
       "         ...  \n",
       "9316     False\n",
       "5543     False\n",
       "5621     False\n",
       "6133     False\n",
       "26081    False\n",
       "Name: type, Length: 12294, dtype: bool"
      ]
     },
     "execution_count": 38,
     "metadata": {},
     "output_type": "execute_result"
    }
   ],
   "source": [
    "# evaluamos si los valores que tenemos es TV o no\n",
    "df[\"type\"] == \"TV\""
   ]
  },
  {
   "cell_type": "code",
   "execution_count": 39,
   "id": "f4580ffa",
   "metadata": {},
   "outputs": [],
   "source": [
    "boolean_mask = df[\"type\"] == \"TV\""
   ]
  },
  {
   "cell_type": "markdown",
   "id": "bd594b7c",
   "metadata": {},
   "source": [
    "Si despúes ponemos nuestra máscara dentro de un corchete de pandas, podemos filtrar nuestro **DataFrame**.\n",
    "\n",
    "En este caso en concreto, obtenemos/filtramos únicamente los animes que son del `type TV`."
   ]
  },
  {
   "cell_type": "code",
   "execution_count": 40,
   "id": "7e6918f2",
   "metadata": {},
   "outputs": [],
   "source": [
    "tvs = df[boolean_mask]"
   ]
  },
  {
   "cell_type": "code",
   "execution_count": 41,
   "id": "be3bf2d4",
   "metadata": {},
   "outputs": [
    {
     "data": {
      "text/html": [
       "<div>\n",
       "<style scoped>\n",
       "    .dataframe tbody tr th:only-of-type {\n",
       "        vertical-align: middle;\n",
       "    }\n",
       "\n",
       "    .dataframe tbody tr th {\n",
       "        vertical-align: top;\n",
       "    }\n",
       "\n",
       "    .dataframe thead th {\n",
       "        text-align: right;\n",
       "    }\n",
       "</style>\n",
       "<table border=\"1\" class=\"dataframe\">\n",
       "  <thead>\n",
       "    <tr style=\"text-align: right;\">\n",
       "      <th></th>\n",
       "      <th>name</th>\n",
       "      <th>genre</th>\n",
       "      <th>type</th>\n",
       "      <th>episodes</th>\n",
       "      <th>rating</th>\n",
       "      <th>members</th>\n",
       "    </tr>\n",
       "    <tr>\n",
       "      <th>anime_id</th>\n",
       "      <th></th>\n",
       "      <th></th>\n",
       "      <th></th>\n",
       "      <th></th>\n",
       "      <th></th>\n",
       "      <th></th>\n",
       "    </tr>\n",
       "  </thead>\n",
       "  <tbody>\n",
       "    <tr>\n",
       "      <th>5114</th>\n",
       "      <td>Fullmetal Alchemist: Brotherhood</td>\n",
       "      <td>Action, Adventure, Drama, Fantasy, Magic, Mili...</td>\n",
       "      <td>TV</td>\n",
       "      <td>64</td>\n",
       "      <td>9.26</td>\n",
       "      <td>793665</td>\n",
       "    </tr>\n",
       "    <tr>\n",
       "      <th>28977</th>\n",
       "      <td>Gintama°</td>\n",
       "      <td>Action, Comedy, Historical, Parody, Samurai, S...</td>\n",
       "      <td>TV</td>\n",
       "      <td>51</td>\n",
       "      <td>9.25</td>\n",
       "      <td>114262</td>\n",
       "    </tr>\n",
       "    <tr>\n",
       "      <th>9253</th>\n",
       "      <td>Steins;Gate</td>\n",
       "      <td>Sci-Fi, Thriller</td>\n",
       "      <td>TV</td>\n",
       "      <td>24</td>\n",
       "      <td>9.17</td>\n",
       "      <td>673572</td>\n",
       "    </tr>\n",
       "    <tr>\n",
       "      <th>9969</th>\n",
       "      <td>Gintama&amp;#039;</td>\n",
       "      <td>Action, Comedy, Historical, Parody, Samurai, S...</td>\n",
       "      <td>TV</td>\n",
       "      <td>51</td>\n",
       "      <td>9.16</td>\n",
       "      <td>151266</td>\n",
       "    </tr>\n",
       "    <tr>\n",
       "      <th>32935</th>\n",
       "      <td>Haikyuu!!: Karasuno Koukou VS Shiratorizawa Ga...</td>\n",
       "      <td>Comedy, Drama, School, Shounen, Sports</td>\n",
       "      <td>TV</td>\n",
       "      <td>10</td>\n",
       "      <td>9.15</td>\n",
       "      <td>93351</td>\n",
       "    </tr>\n",
       "    <tr>\n",
       "      <th>...</th>\n",
       "      <td>...</td>\n",
       "      <td>...</td>\n",
       "      <td>...</td>\n",
       "      <td>...</td>\n",
       "      <td>...</td>\n",
       "      <td>...</td>\n",
       "    </tr>\n",
       "    <tr>\n",
       "      <th>34522</th>\n",
       "      <td>Wake Up, Girls! Shin Shou</td>\n",
       "      <td>Drama, Music</td>\n",
       "      <td>TV</td>\n",
       "      <td>Unknown</td>\n",
       "      <td>NaN</td>\n",
       "      <td>381</td>\n",
       "    </tr>\n",
       "    <tr>\n",
       "      <th>34467</th>\n",
       "      <td>Yami Shibai 4th Season</td>\n",
       "      <td>Dementia, Horror, Supernatural</td>\n",
       "      <td>TV</td>\n",
       "      <td>Unknown</td>\n",
       "      <td>NaN</td>\n",
       "      <td>1838</td>\n",
       "    </tr>\n",
       "    <tr>\n",
       "      <th>32615</th>\n",
       "      <td>Youjo Senki</td>\n",
       "      <td>Magic, Military</td>\n",
       "      <td>TV</td>\n",
       "      <td>Unknown</td>\n",
       "      <td>NaN</td>\n",
       "      <td>6652</td>\n",
       "    </tr>\n",
       "    <tr>\n",
       "      <th>34284</th>\n",
       "      <td>Yuuki Yuuna wa Yuusha de Aru: Washio Sumi no Shou</td>\n",
       "      <td>Drama, Fantasy, Magic, Slice of Life</td>\n",
       "      <td>TV</td>\n",
       "      <td>6</td>\n",
       "      <td>NaN</td>\n",
       "      <td>2593</td>\n",
       "    </tr>\n",
       "    <tr>\n",
       "      <th>34445</th>\n",
       "      <td>Yuuki Yuuna wa Yuusha de Aru: Yuusha no Shou</td>\n",
       "      <td>Drama, Fantasy, Magic, Slice of Life</td>\n",
       "      <td>TV</td>\n",
       "      <td>6</td>\n",
       "      <td>NaN</td>\n",
       "      <td>4439</td>\n",
       "    </tr>\n",
       "  </tbody>\n",
       "</table>\n",
       "<p>3787 rows × 6 columns</p>\n",
       "</div>"
      ],
      "text/plain": [
       "                                                       name  \\\n",
       "anime_id                                                      \n",
       "5114                       Fullmetal Alchemist: Brotherhood   \n",
       "28977                                              Gintama°   \n",
       "9253                                            Steins;Gate   \n",
       "9969                                          Gintama&#039;   \n",
       "32935     Haikyuu!!: Karasuno Koukou VS Shiratorizawa Ga...   \n",
       "...                                                     ...   \n",
       "34522                             Wake Up, Girls! Shin Shou   \n",
       "34467                                Yami Shibai 4th Season   \n",
       "32615                                           Youjo Senki   \n",
       "34284     Yuuki Yuuna wa Yuusha de Aru: Washio Sumi no Shou   \n",
       "34445          Yuuki Yuuna wa Yuusha de Aru: Yuusha no Shou   \n",
       "\n",
       "                                                      genre type episodes  \\\n",
       "anime_id                                                                    \n",
       "5114      Action, Adventure, Drama, Fantasy, Magic, Mili...   TV       64   \n",
       "28977     Action, Comedy, Historical, Parody, Samurai, S...   TV       51   \n",
       "9253                                       Sci-Fi, Thriller   TV       24   \n",
       "9969      Action, Comedy, Historical, Parody, Samurai, S...   TV       51   \n",
       "32935                Comedy, Drama, School, Shounen, Sports   TV       10   \n",
       "...                                                     ...  ...      ...   \n",
       "34522                                          Drama, Music   TV  Unknown   \n",
       "34467                        Dementia, Horror, Supernatural   TV  Unknown   \n",
       "32615                                       Magic, Military   TV  Unknown   \n",
       "34284                  Drama, Fantasy, Magic, Slice of Life   TV        6   \n",
       "34445                  Drama, Fantasy, Magic, Slice of Life   TV        6   \n",
       "\n",
       "          rating  members  \n",
       "anime_id                   \n",
       "5114        9.26   793665  \n",
       "28977       9.25   114262  \n",
       "9253        9.17   673572  \n",
       "9969        9.16   151266  \n",
       "32935       9.15    93351  \n",
       "...          ...      ...  \n",
       "34522        NaN      381  \n",
       "34467        NaN     1838  \n",
       "32615        NaN     6652  \n",
       "34284        NaN     2593  \n",
       "34445        NaN     4439  \n",
       "\n",
       "[3787 rows x 6 columns]"
      ]
     },
     "execution_count": 41,
     "metadata": {},
     "output_type": "execute_result"
    }
   ],
   "source": [
    "tvs"
   ]
  },
  {
   "cell_type": "markdown",
   "id": "33eb41d9",
   "metadata": {},
   "source": [
    "### Conclusión\n",
    "<a id='conclusion'></a>\n",
    "[Volver al índice](#index)<br>\n",
    "\n"
   ]
  },
  {
   "cell_type": "markdown",
   "id": "fc2c42e9",
   "metadata": {},
   "source": [
    "### Referencias y lecturas recomendables\n",
    "<a id='referencias'></a>\n",
    "[Volver al índice](#index)<br>"
   ]
  },
  {
   "cell_type": "markdown",
   "id": "acf5642a",
   "metadata": {},
   "source": [
    "A continuación dejamos algunos links útiles para profundizar en algunos de los conceptos que hemos visto en el notebook:\n",
    "\n",
    "[Sitio oficial de pandas](https://pandas.pydata.org/)"
   ]
  },
  {
   "cell_type": "code",
   "execution_count": null,
   "id": "6537e621",
   "metadata": {},
   "outputs": [],
   "source": []
  }
 ],
 "metadata": {
  "kernelspec": {
   "display_name": "env_main",
   "language": "python",
   "name": "env_main"
  },
  "language_info": {
   "codemirror_mode": {
    "name": "ipython",
    "version": 3
   },
   "file_extension": ".py",
   "mimetype": "text/x-python",
   "name": "python",
   "nbconvert_exporter": "python",
   "pygments_lexer": "ipython3",
   "version": "3.10.15"
  }
 },
 "nbformat": 4,
 "nbformat_minor": 5
}

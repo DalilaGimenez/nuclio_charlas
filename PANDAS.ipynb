{
 "cells": [
  {
   "cell_type": "markdown",
   "id": "c6ecc561",
   "metadata": {},
   "source": [
    "# Bienvenido al día 1 de la workshop de Nuclio Digital School: Parte 2\n",
    "## 14-Enero-2025\n",
    "\n",
    "<img src=\"./pictures/PANDAS_DEEP_DIVE.webp\" alt=\"PANDAS_DD\" width=\"700\" height=\"300\"/>"
   ]
  },
  {
   "cell_type": "markdown",
   "id": "996af718",
   "metadata": {},
   "source": [
    "# Objetivos del notebook\n",
    "---\n",
    "En este notebook vamos a hacer una introducción a la librería de pandas y explorar algunas de sus ***best practices***.\n",
    "\n",
    "**[pandas](https://pandas.pydata.org)** es una librería enfocada al análisis y manipulación de datos tabulares.<br>\n",
    "\n",
    "Este paquete junto con [numpy](https://numpy.org), [matplotlib](https://matplotlib.org), [xgboost](https://xgboost.readthedocs.io/en/stable/) y [scikit-learn](https://scikit-learn.org/stable/index.html) constituyen las principales librerías de Machine Learning Tabular en Python.\n",
    "\n",
    "**Dado que la mayoría de los problemas a los que se enfrentan las empresas en la vida real son problemas y datasets tabulares, aprendiendo estas 5 librerías, obtenemos una base sólida para empezar a trabajar en el mundo de Machine Learning.**\n",
    "\n",
    "Al final del notebook, el alumno se tiene que sentir cómodo con los siguientes funcionalidades:\n",
    "\n",
    "1. Saber como podemos \"cargar\" un fichero que tenemos en nuestro ordenador a pandas para poder empezar a manipularlo.\n",
    "1. Entender los objetos básicos que tenemos cuando usamos pandas: **DataFrame** y **Series**.\n",
    "1. Dar a conocer los métodos más simples de un pandas DataFrame: **head**, **tail**, **describe**, **info** etc.\n",
    "1. Entender en que consiste el **pandas groupby** y como podemos utilizarlo para hacer cálculo de manera **rápida, limpia y eficiente.**\n",
    "1. Conocer que es la **pivot_table** de pandas.\n",
    "1. Ver como podemos hacer algunas visualizaciones básicas con pandas.\n",
    "---\n",
    "\n",
    "# Let's go!\n",
    "\n",
    "---"
   ]
  },
  {
   "cell_type": "markdown",
   "id": "09e745e6",
   "metadata": {},
   "source": [
    "<a id='index'></a>\n",
    "## Índice\n",
    "\n",
    "[Imports del notebook](#imports_notebook)<br>\n",
    "\n",
    "## Dataset\n",
    "[Dataset que vamos a utilizar: animes](#animes)<br>\n",
    "\n",
    "\n",
    "## Intro to pandas\n",
    "[Helpers pandas](#helpers_pandas)<br>\n",
    "[¿Que es el pandas groupby?](#pandas_groupby)<br>\n",
    "[Pandas transform (**CORE IDEA**)](#pandas_transform)<br>\n",
    "[Groupby eficiente (**CORE IDEA**)](#pandas_gbe)<br>\n",
    "[Funciones personalizadas](#pandas_custom_func)<br>\n",
    "[Nueva columna utilizando la información de 2 columnas](#pandas_custom_func_2_cols)<br>\n",
    "\n",
    "## Conclusión\n",
    "[Conclusión](#conclusion)<br>\n",
    "\n",
    "## Referencias\n",
    "[Referencias y lecturas recomendables](#referencias)<br>"
   ]
  },
  {
   "cell_type": "markdown",
   "id": "8734afb5",
   "metadata": {},
   "source": [
    "<a id='imports_notebook'></a>\n",
    "# Imports del notebook\n",
    "[Volver al índice](#index)\n",
    "\n",
    "En este apartado hacemos los principales imports del notebook.<br>\n",
    "Sobre todo vamos a trabajar con **pandas** y **matplotlib**."
   ]
  },
  {
   "cell_type": "code",
   "execution_count": 1,
   "id": "0b03528f",
   "metadata": {},
   "outputs": [],
   "source": [
    "import pandas as pd\n",
    "\n",
    "import matplotlib.pyplot as plt\n",
    "%matplotlib inline"
   ]
  },
  {
   "cell_type": "code",
   "execution_count": 2,
   "id": "4d5949e6",
   "metadata": {},
   "outputs": [
    {
     "name": "stdout",
     "output_type": "stream",
     "text": [
      "Working with these versions of libraries\n",
      "\n",
      "--------------------------------------------------\n",
      "Pandas version 2.2.1\n"
     ]
    }
   ],
   "source": [
    "print(\"Working with these versions of libraries\\n\")\n",
    "print(\"-\"*50)\n",
    "print(f\"Pandas version {pd.__version__}\")"
   ]
  },
  {
   "cell_type": "markdown",
   "id": "aa4632ee",
   "metadata": {},
   "source": [
    "<a id='animes'></a>\n",
    "# Dataset que vamos a utilizar: animes\n",
    "[Volver al índice](#index)\n",
    "\n",
    "Todo proyecto de Machine Learning requiere de datos. Los datos son la parte **FUNDAMENTAL** y si la calidad de los datos es mala, muchas veces los resultados que vamos a obtener van a ser malos.\n",
    "\n",
    "Gran parte de un proyecto de ML consiste en limpiar, analizar y preparar los datos para **\"alimentarlo\"** al algoritmo. Muy a menudo, todo esto se realiza con **pandas**.\n",
    "\n",
    "Dado que nuestro objetivo final es crear un recomendador basado en el historial de los clientes (lo haremos en el notebook [CBRS.ipynb](./CBRS.ipynb)), en este notebook vamos a hacer la limpieza y el análisis de los datos y por el camino vamos a aprender de pandas."
   ]
  },
  {
   "cell_type": "markdown",
   "id": "7ba648b4",
   "metadata": {},
   "source": [
    "**¿Que dataset vamos a utilizar en nuestro proyecto?**\n",
    "\n",
    "Vamos a utilizar un dataset muy famoso de [Animes Japoneses](https://es.wikipedia.org/wiki/Anime) que se puede descargar de manera gratuita del [siguiente enlace](https://www.kaggle.com/datasets/CooperUnion/anime-recommendations-database/data)."
   ]
  },
  {
   "cell_type": "markdown",
   "id": "0e7fea6f",
   "metadata": {},
   "source": [
    "# Intro to pandas"
   ]
  },
  {
   "cell_type": "markdown",
   "id": "2fe04c04",
   "metadata": {},
   "source": [
    "<a id='helpers_pandas'></a>\n",
    "# Cargar datos a pandas\n",
    "[Volver al índice](#index)\n",
    "\n",
    "Normalmente los datos con los que trabajamos en la vida real están en diferentes bases de datos y utilizamos el lenguaje de programación [SQL](https://es.wikipedia.org/wiki/SQL) para descargarlos.\n",
    "\n",
    "En este workshop, para simplificar algo las cosas, vamos a trabajar con ficheros que están en el disco duro de nuestro ordenador para \"leerlos\" con pandas."
   ]
  },
  {
   "cell_type": "code",
   "execution_count": 15,
   "id": "d1189cab",
   "metadata": {},
   "outputs": [],
   "source": [
    "# hacer el import de pandas\n",
    "import pandas as pd"
   ]
  },
  {
   "cell_type": "code",
   "execution_count": 20,
   "id": "87b94a6a",
   "metadata": {},
   "outputs": [
    {
     "name": "stdout",
     "output_type": "stream",
     "text": [
      "/Users/nicolaepopescul/code/nuclio_charlas\r\n"
     ]
    }
   ],
   "source": [
    "# donde están mis datos\n",
    "! pwd"
   ]
  },
  {
   "cell_type": "code",
   "execution_count": 23,
   "id": "27c242de",
   "metadata": {},
   "outputs": [
    {
     "name": "stdout",
     "output_type": "stream",
     "text": [
      "CBRS.ipynb   INTRO.ipynb  PANDAS.ipynb README.md    \u001b[34minput\u001b[m\u001b[m        \u001b[34mpictures\u001b[m\u001b[m\r\n"
     ]
    }
   ],
   "source": [
    "# que tengo en esta ruta\n",
    "! ls"
   ]
  },
  {
   "cell_type": "code",
   "execution_count": 24,
   "id": "a148337e",
   "metadata": {},
   "outputs": [
    {
     "name": "stdout",
     "output_type": "stream",
     "text": [
      "cf_anime.csv           cf_anime.pkl           cf_rating.parquet.gzip\r\n",
      "cf_anime.parquet.gzip  cf_anime.xlsx\r\n"
     ]
    }
   ],
   "source": [
    "# que tengo en la carpeta de input\n",
    "! ls /Users/nicolaepopescul/code/nuclio_charlas/input"
   ]
  },
  {
   "cell_type": "code",
   "execution_count": 40,
   "id": "d05de8ec",
   "metadata": {},
   "outputs": [],
   "source": [
    "# leemos un fichero en un pandas DataFrame\n",
    "df = pd.read_parquet(\"./input/cf_anime.parquet.gzip\")"
   ]
  },
  {
   "cell_type": "code",
   "execution_count": 42,
   "id": "36973112",
   "metadata": {},
   "outputs": [],
   "source": [
    "df = df.set_index(\"anime_id\")"
   ]
  },
  {
   "cell_type": "markdown",
   "id": "529356fe",
   "metadata": {},
   "source": [
    "Acabamos de cargar nuestro fichero en un pandas **DataFrame.**\n",
    "\n",
    "El **DataFrame** es el objeto central en pandas y representa una tabla/matriz que tiene 2 ejes.\n",
    "\n",
    "Un eje son las **filas del DataFrame** y básicamente vienen a representar los registros que tenemos en la tabla. A menudo, cuando trabajamos en problemas de ML Supervisados, también los llamamos \"instancias\".\n",
    "\n",
    "El otro eje que tenemos son **las columnas del DataFrame**. Las columnas a menudo se conocen como las \"features\" o \"atributos\" y vienen a captar diferentes variables/información sobre nuestras instancias.\n",
    "\n",
    "Por ejemplo: si 1 fila es un cliente, las columnas son las variables que tenemos de este cliente y podrían ser la edad, el patrimonio, el móvil que usa etc.\n",
    "\n",
    "Con el método de `df.shape` podemos llegar a saber el número de filas y de columnas que tiene nuestro dataset."
   ]
  },
  {
   "cell_type": "code",
   "execution_count": 43,
   "id": "7a6b41d6",
   "metadata": {},
   "outputs": [
    {
     "data": {
      "text/plain": [
       "(12294, 6)"
      ]
     },
     "execution_count": 43,
     "metadata": {},
     "output_type": "execute_result"
    }
   ],
   "source": [
    "df.shape"
   ]
  },
  {
   "cell_type": "markdown",
   "id": "b4bafa34",
   "metadata": {},
   "source": [
    "Cuando hacemos nuestro primer contacto con un dataset, a menudo nos interesa ver los primeros 5 registros o los últimos 5 registros de una tabla.\n",
    "\n",
    "Los métodos de `df.head()` o `df.tail()` sirven justo para este propósito."
   ]
  },
  {
   "cell_type": "code",
   "execution_count": 44,
   "id": "6574bc84",
   "metadata": {},
   "outputs": [
    {
     "data": {
      "text/html": [
       "<div>\n",
       "<style scoped>\n",
       "    .dataframe tbody tr th:only-of-type {\n",
       "        vertical-align: middle;\n",
       "    }\n",
       "\n",
       "    .dataframe tbody tr th {\n",
       "        vertical-align: top;\n",
       "    }\n",
       "\n",
       "    .dataframe thead th {\n",
       "        text-align: right;\n",
       "    }\n",
       "</style>\n",
       "<table border=\"1\" class=\"dataframe\">\n",
       "  <thead>\n",
       "    <tr style=\"text-align: right;\">\n",
       "      <th></th>\n",
       "      <th>name</th>\n",
       "      <th>genre</th>\n",
       "      <th>type</th>\n",
       "      <th>episodes</th>\n",
       "      <th>rating</th>\n",
       "      <th>members</th>\n",
       "    </tr>\n",
       "    <tr>\n",
       "      <th>anime_id</th>\n",
       "      <th></th>\n",
       "      <th></th>\n",
       "      <th></th>\n",
       "      <th></th>\n",
       "      <th></th>\n",
       "      <th></th>\n",
       "    </tr>\n",
       "  </thead>\n",
       "  <tbody>\n",
       "    <tr>\n",
       "      <th>32281</th>\n",
       "      <td>Kimi no Na wa.</td>\n",
       "      <td>Drama, Romance, School, Supernatural</td>\n",
       "      <td>Movie</td>\n",
       "      <td>1</td>\n",
       "      <td>9.37</td>\n",
       "      <td>200630</td>\n",
       "    </tr>\n",
       "    <tr>\n",
       "      <th>5114</th>\n",
       "      <td>Fullmetal Alchemist: Brotherhood</td>\n",
       "      <td>Action, Adventure, Drama, Fantasy, Magic, Mili...</td>\n",
       "      <td>TV</td>\n",
       "      <td>64</td>\n",
       "      <td>9.26</td>\n",
       "      <td>793665</td>\n",
       "    </tr>\n",
       "    <tr>\n",
       "      <th>28977</th>\n",
       "      <td>Gintama°</td>\n",
       "      <td>Action, Comedy, Historical, Parody, Samurai, S...</td>\n",
       "      <td>TV</td>\n",
       "      <td>51</td>\n",
       "      <td>9.25</td>\n",
       "      <td>114262</td>\n",
       "    </tr>\n",
       "    <tr>\n",
       "      <th>9253</th>\n",
       "      <td>Steins;Gate</td>\n",
       "      <td>Sci-Fi, Thriller</td>\n",
       "      <td>TV</td>\n",
       "      <td>24</td>\n",
       "      <td>9.17</td>\n",
       "      <td>673572</td>\n",
       "    </tr>\n",
       "    <tr>\n",
       "      <th>9969</th>\n",
       "      <td>Gintama&amp;#039;</td>\n",
       "      <td>Action, Comedy, Historical, Parody, Samurai, S...</td>\n",
       "      <td>TV</td>\n",
       "      <td>51</td>\n",
       "      <td>9.16</td>\n",
       "      <td>151266</td>\n",
       "    </tr>\n",
       "  </tbody>\n",
       "</table>\n",
       "</div>"
      ],
      "text/plain": [
       "                                      name  \\\n",
       "anime_id                                     \n",
       "32281                       Kimi no Na wa.   \n",
       "5114      Fullmetal Alchemist: Brotherhood   \n",
       "28977                             Gintama°   \n",
       "9253                           Steins;Gate   \n",
       "9969                         Gintama&#039;   \n",
       "\n",
       "                                                      genre   type episodes  \\\n",
       "anime_id                                                                      \n",
       "32281                  Drama, Romance, School, Supernatural  Movie        1   \n",
       "5114      Action, Adventure, Drama, Fantasy, Magic, Mili...     TV       64   \n",
       "28977     Action, Comedy, Historical, Parody, Samurai, S...     TV       51   \n",
       "9253                                       Sci-Fi, Thriller     TV       24   \n",
       "9969      Action, Comedy, Historical, Parody, Samurai, S...     TV       51   \n",
       "\n",
       "          rating  members  \n",
       "anime_id                   \n",
       "32281       9.37   200630  \n",
       "5114        9.26   793665  \n",
       "28977       9.25   114262  \n",
       "9253        9.17   673572  \n",
       "9969        9.16   151266  "
      ]
     },
     "execution_count": 44,
     "metadata": {},
     "output_type": "execute_result"
    }
   ],
   "source": [
    "df.head()"
   ]
  },
  {
   "cell_type": "code",
   "execution_count": 45,
   "id": "2b6cac95",
   "metadata": {},
   "outputs": [
    {
     "data": {
      "text/html": [
       "<div>\n",
       "<style scoped>\n",
       "    .dataframe tbody tr th:only-of-type {\n",
       "        vertical-align: middle;\n",
       "    }\n",
       "\n",
       "    .dataframe tbody tr th {\n",
       "        vertical-align: top;\n",
       "    }\n",
       "\n",
       "    .dataframe thead th {\n",
       "        text-align: right;\n",
       "    }\n",
       "</style>\n",
       "<table border=\"1\" class=\"dataframe\">\n",
       "  <thead>\n",
       "    <tr style=\"text-align: right;\">\n",
       "      <th></th>\n",
       "      <th>name</th>\n",
       "      <th>genre</th>\n",
       "      <th>type</th>\n",
       "      <th>episodes</th>\n",
       "      <th>rating</th>\n",
       "      <th>members</th>\n",
       "    </tr>\n",
       "    <tr>\n",
       "      <th>anime_id</th>\n",
       "      <th></th>\n",
       "      <th></th>\n",
       "      <th></th>\n",
       "      <th></th>\n",
       "      <th></th>\n",
       "      <th></th>\n",
       "    </tr>\n",
       "  </thead>\n",
       "  <tbody>\n",
       "    <tr>\n",
       "      <th>9316</th>\n",
       "      <td>Toushindai My Lover: Minami tai Mecha-Minami</td>\n",
       "      <td>Hentai</td>\n",
       "      <td>OVA</td>\n",
       "      <td>1</td>\n",
       "      <td>4.15</td>\n",
       "      <td>211</td>\n",
       "    </tr>\n",
       "    <tr>\n",
       "      <th>5543</th>\n",
       "      <td>Under World</td>\n",
       "      <td>Hentai</td>\n",
       "      <td>OVA</td>\n",
       "      <td>1</td>\n",
       "      <td>4.28</td>\n",
       "      <td>183</td>\n",
       "    </tr>\n",
       "    <tr>\n",
       "      <th>5621</th>\n",
       "      <td>Violence Gekiga David no Hoshi</td>\n",
       "      <td>Hentai</td>\n",
       "      <td>OVA</td>\n",
       "      <td>4</td>\n",
       "      <td>4.88</td>\n",
       "      <td>219</td>\n",
       "    </tr>\n",
       "    <tr>\n",
       "      <th>6133</th>\n",
       "      <td>Violence Gekiga Shin David no Hoshi: Inma Dens...</td>\n",
       "      <td>Hentai</td>\n",
       "      <td>OVA</td>\n",
       "      <td>1</td>\n",
       "      <td>4.98</td>\n",
       "      <td>175</td>\n",
       "    </tr>\n",
       "    <tr>\n",
       "      <th>26081</th>\n",
       "      <td>Yasuji no Pornorama: Yacchimae!!</td>\n",
       "      <td>Hentai</td>\n",
       "      <td>Movie</td>\n",
       "      <td>1</td>\n",
       "      <td>5.46</td>\n",
       "      <td>142</td>\n",
       "    </tr>\n",
       "  </tbody>\n",
       "</table>\n",
       "</div>"
      ],
      "text/plain": [
       "                                                       name   genre   type  \\\n",
       "anime_id                                                                     \n",
       "9316           Toushindai My Lover: Minami tai Mecha-Minami  Hentai    OVA   \n",
       "5543                                            Under World  Hentai    OVA   \n",
       "5621                         Violence Gekiga David no Hoshi  Hentai    OVA   \n",
       "6133      Violence Gekiga Shin David no Hoshi: Inma Dens...  Hentai    OVA   \n",
       "26081                      Yasuji no Pornorama: Yacchimae!!  Hentai  Movie   \n",
       "\n",
       "         episodes  rating  members  \n",
       "anime_id                            \n",
       "9316            1    4.15      211  \n",
       "5543            1    4.28      183  \n",
       "5621            4    4.88      219  \n",
       "6133            1    4.98      175  \n",
       "26081           1    5.46      142  "
      ]
     },
     "execution_count": 45,
     "metadata": {},
     "output_type": "execute_result"
    }
   ],
   "source": [
    "df.tail(5)"
   ]
  },
  {
   "cell_type": "markdown",
   "id": "b7a24899",
   "metadata": {},
   "source": [
    "Muy a menudo queremos sacar una pequeña muestra de clientes de nuestra tabla para analizarla rápidamente.\n",
    "\n",
    "El método `df.sample(nr_registros)` nos permite hacer una muestra aleatoria sin reemplazo.\n",
    "\n",
    "Con la siguiente línea de código vamos a seleccionar al azar 25 registros de nuestro dataset."
   ]
  },
  {
   "cell_type": "code",
   "execution_count": 46,
   "id": "9f842cb8",
   "metadata": {},
   "outputs": [
    {
     "data": {
      "text/html": [
       "<div>\n",
       "<style scoped>\n",
       "    .dataframe tbody tr th:only-of-type {\n",
       "        vertical-align: middle;\n",
       "    }\n",
       "\n",
       "    .dataframe tbody tr th {\n",
       "        vertical-align: top;\n",
       "    }\n",
       "\n",
       "    .dataframe thead th {\n",
       "        text-align: right;\n",
       "    }\n",
       "</style>\n",
       "<table border=\"1\" class=\"dataframe\">\n",
       "  <thead>\n",
       "    <tr style=\"text-align: right;\">\n",
       "      <th></th>\n",
       "      <th>name</th>\n",
       "      <th>genre</th>\n",
       "      <th>type</th>\n",
       "      <th>episodes</th>\n",
       "      <th>rating</th>\n",
       "      <th>members</th>\n",
       "    </tr>\n",
       "    <tr>\n",
       "      <th>anime_id</th>\n",
       "      <th></th>\n",
       "      <th></th>\n",
       "      <th></th>\n",
       "      <th></th>\n",
       "      <th></th>\n",
       "      <th></th>\n",
       "    </tr>\n",
       "  </thead>\n",
       "  <tbody>\n",
       "    <tr>\n",
       "      <th>4800</th>\n",
       "      <td>Huckleberry Finn Monogatari</td>\n",
       "      <td>Adventure</td>\n",
       "      <td>TV</td>\n",
       "      <td>26</td>\n",
       "      <td>6.53</td>\n",
       "      <td>665</td>\n",
       "    </tr>\n",
       "    <tr>\n",
       "      <th>31361</th>\n",
       "      <td>Neko Enikki</td>\n",
       "      <td>Comedy, Slice of Life</td>\n",
       "      <td>TV</td>\n",
       "      <td>13</td>\n",
       "      <td>6.67</td>\n",
       "      <td>133</td>\n",
       "    </tr>\n",
       "    <tr>\n",
       "      <th>17733</th>\n",
       "      <td>Dibetagurashi: Ahiru no Seikatsu</td>\n",
       "      <td>Comedy, Slice of Life</td>\n",
       "      <td>TV</td>\n",
       "      <td>39</td>\n",
       "      <td>5.99</td>\n",
       "      <td>586</td>\n",
       "    </tr>\n",
       "    <tr>\n",
       "      <th>33803</th>\n",
       "      <td>Sengoku Choujuu Giga</td>\n",
       "      <td>Demons, Historical, Supernatural</td>\n",
       "      <td>TV</td>\n",
       "      <td>26</td>\n",
       "      <td>5.56</td>\n",
       "      <td>3248</td>\n",
       "    </tr>\n",
       "    <tr>\n",
       "      <th>33505</th>\n",
       "      <td>Tsumamigui 3 The Animation</td>\n",
       "      <td>Hentai</td>\n",
       "      <td>OVA</td>\n",
       "      <td>Unknown</td>\n",
       "      <td>6.87</td>\n",
       "      <td>1400</td>\n",
       "    </tr>\n",
       "    <tr>\n",
       "      <th>1397</th>\n",
       "      <td>Macross 7</td>\n",
       "      <td>Action, Adventure, Comedy, Drama, Mecha, Milit...</td>\n",
       "      <td>TV</td>\n",
       "      <td>49</td>\n",
       "      <td>7.23</td>\n",
       "      <td>15420</td>\n",
       "    </tr>\n",
       "    <tr>\n",
       "      <th>16377</th>\n",
       "      <td>Peeping Life: The Perfect Extension</td>\n",
       "      <td>Comedy, Slice of Life</td>\n",
       "      <td>OVA</td>\n",
       "      <td>10</td>\n",
       "      <td>5.89</td>\n",
       "      <td>245</td>\n",
       "    </tr>\n",
       "    <tr>\n",
       "      <th>11673</th>\n",
       "      <td>Hal no Fue</td>\n",
       "      <td>Adventure, Kids</td>\n",
       "      <td>Movie</td>\n",
       "      <td>1</td>\n",
       "      <td>6.44</td>\n",
       "      <td>202</td>\n",
       "    </tr>\n",
       "    <tr>\n",
       "      <th>15359</th>\n",
       "      <td>Kyousou Giga (2012)</td>\n",
       "      <td>Action, Fantasy, Supernatural</td>\n",
       "      <td>ONA</td>\n",
       "      <td>5</td>\n",
       "      <td>7.25</td>\n",
       "      <td>17584</td>\n",
       "    </tr>\n",
       "    <tr>\n",
       "      <th>5956</th>\n",
       "      <td>High School! Kimengumi (Movie)</td>\n",
       "      <td>Action, Comedy, Parody, Romance, School, Shounen</td>\n",
       "      <td>Movie</td>\n",
       "      <td>1</td>\n",
       "      <td>6.51</td>\n",
       "      <td>270</td>\n",
       "    </tr>\n",
       "    <tr>\n",
       "      <th>30749</th>\n",
       "      <td>Saijaku Muhai no Bahamut</td>\n",
       "      <td>Action, Ecchi, Fantasy, Harem, Mecha, Romance,...</td>\n",
       "      <td>TV</td>\n",
       "      <td>12</td>\n",
       "      <td>6.87</td>\n",
       "      <td>94430</td>\n",
       "    </tr>\n",
       "    <tr>\n",
       "      <th>16415</th>\n",
       "      <td>Sousei no Aquarion Special</td>\n",
       "      <td>Comedy, Mecha</td>\n",
       "      <td>Special</td>\n",
       "      <td>1</td>\n",
       "      <td>6.48</td>\n",
       "      <td>1419</td>\n",
       "    </tr>\n",
       "    <tr>\n",
       "      <th>32483</th>\n",
       "      <td>Cheer Danshi!!</td>\n",
       "      <td>School, Sports</td>\n",
       "      <td>TV</td>\n",
       "      <td>12</td>\n",
       "      <td>7.00</td>\n",
       "      <td>29219</td>\n",
       "    </tr>\n",
       "    <tr>\n",
       "      <th>9874</th>\n",
       "      <td>Touhou Niji Sousaku Doujin Anime: Musou Kakyou</td>\n",
       "      <td>Fantasy, Magic</td>\n",
       "      <td>OVA</td>\n",
       "      <td>2</td>\n",
       "      <td>7.07</td>\n",
       "      <td>18305</td>\n",
       "    </tr>\n",
       "    <tr>\n",
       "      <th>20603</th>\n",
       "      <td>Kyoufu no Kyou-chan</td>\n",
       "      <td>Comedy, Parody</td>\n",
       "      <td>TV</td>\n",
       "      <td>7</td>\n",
       "      <td>4.58</td>\n",
       "      <td>66</td>\n",
       "    </tr>\n",
       "    <tr>\n",
       "      <th>33545</th>\n",
       "      <td>Henna Omamesan</td>\n",
       "      <td>Comedy, Parody</td>\n",
       "      <td>Special</td>\n",
       "      <td>1</td>\n",
       "      <td>5.21</td>\n",
       "      <td>185</td>\n",
       "    </tr>\n",
       "    <tr>\n",
       "      <th>30812</th>\n",
       "      <td>Gyakuten Majo Saiban: Chijo na Majo ni Sabakar...</td>\n",
       "      <td>Hentai</td>\n",
       "      <td>OVA</td>\n",
       "      <td>1</td>\n",
       "      <td>6.60</td>\n",
       "      <td>2791</td>\n",
       "    </tr>\n",
       "    <tr>\n",
       "      <th>22841</th>\n",
       "      <td>Okashina Hotel</td>\n",
       "      <td>Dementia</td>\n",
       "      <td>Special</td>\n",
       "      <td>1</td>\n",
       "      <td>5.60</td>\n",
       "      <td>309</td>\n",
       "    </tr>\n",
       "    <tr>\n",
       "      <th>6115</th>\n",
       "      <td>Lupin III vs. Detective Conan</td>\n",
       "      <td>Action, Adventure, Comedy, Mystery, Shounen</td>\n",
       "      <td>Special</td>\n",
       "      <td>1</td>\n",
       "      <td>7.89</td>\n",
       "      <td>15220</td>\n",
       "    </tr>\n",
       "    <tr>\n",
       "      <th>30118</th>\n",
       "      <td>Futari wa Nakayoshi: Goo to Sue</td>\n",
       "      <td>Kids, Slice of Life</td>\n",
       "      <td>TV</td>\n",
       "      <td>84</td>\n",
       "      <td>4.75</td>\n",
       "      <td>40</td>\n",
       "    </tr>\n",
       "    <tr>\n",
       "      <th>29673</th>\n",
       "      <td>Shin Tenchi Souzou</td>\n",
       "      <td>Comedy</td>\n",
       "      <td>Movie</td>\n",
       "      <td>1</td>\n",
       "      <td>5.44</td>\n",
       "      <td>129</td>\n",
       "    </tr>\n",
       "    <tr>\n",
       "      <th>31690</th>\n",
       "      <td>Chuugakusei</td>\n",
       "      <td>Comedy</td>\n",
       "      <td>OVA</td>\n",
       "      <td>2</td>\n",
       "      <td>5.00</td>\n",
       "      <td>52</td>\n",
       "    </tr>\n",
       "    <tr>\n",
       "      <th>396</th>\n",
       "      <td>Seikai no Senki</td>\n",
       "      <td>Action, Military, Romance, Sci-Fi, Space</td>\n",
       "      <td>TV</td>\n",
       "      <td>13</td>\n",
       "      <td>7.86</td>\n",
       "      <td>18580</td>\n",
       "    </tr>\n",
       "    <tr>\n",
       "      <th>4012</th>\n",
       "      <td>First Squad</td>\n",
       "      <td>Action, Music</td>\n",
       "      <td>Music</td>\n",
       "      <td>1</td>\n",
       "      <td>5.99</td>\n",
       "      <td>4946</td>\n",
       "    </tr>\n",
       "    <tr>\n",
       "      <th>29665</th>\n",
       "      <td>Genei Toshi</td>\n",
       "      <td>Dementia</td>\n",
       "      <td>Movie</td>\n",
       "      <td>1</td>\n",
       "      <td>4.13</td>\n",
       "      <td>98</td>\n",
       "    </tr>\n",
       "  </tbody>\n",
       "</table>\n",
       "</div>"
      ],
      "text/plain": [
       "                                                       name  \\\n",
       "anime_id                                                      \n",
       "4800                            Huckleberry Finn Monogatari   \n",
       "31361                                           Neko Enikki   \n",
       "17733                      Dibetagurashi: Ahiru no Seikatsu   \n",
       "33803                                  Sengoku Choujuu Giga   \n",
       "33505                            Tsumamigui 3 The Animation   \n",
       "1397                                              Macross 7   \n",
       "16377                   Peeping Life: The Perfect Extension   \n",
       "11673                                            Hal no Fue   \n",
       "15359                                   Kyousou Giga (2012)   \n",
       "5956                         High School! Kimengumi (Movie)   \n",
       "30749                              Saijaku Muhai no Bahamut   \n",
       "16415                            Sousei no Aquarion Special   \n",
       "32483                                        Cheer Danshi!!   \n",
       "9874         Touhou Niji Sousaku Doujin Anime: Musou Kakyou   \n",
       "20603                                   Kyoufu no Kyou-chan   \n",
       "33545                                        Henna Omamesan   \n",
       "30812     Gyakuten Majo Saiban: Chijo na Majo ni Sabakar...   \n",
       "22841                                        Okashina Hotel   \n",
       "6115                          Lupin III vs. Detective Conan   \n",
       "30118                       Futari wa Nakayoshi: Goo to Sue   \n",
       "29673                                    Shin Tenchi Souzou   \n",
       "31690                                           Chuugakusei   \n",
       "396                                         Seikai no Senki   \n",
       "4012                                            First Squad   \n",
       "29665                                           Genei Toshi   \n",
       "\n",
       "                                                      genre     type episodes  \\\n",
       "anime_id                                                                        \n",
       "4800                                              Adventure       TV       26   \n",
       "31361                                 Comedy, Slice of Life       TV       13   \n",
       "17733                                 Comedy, Slice of Life       TV       39   \n",
       "33803                      Demons, Historical, Supernatural       TV       26   \n",
       "33505                                                Hentai      OVA  Unknown   \n",
       "1397      Action, Adventure, Comedy, Drama, Mecha, Milit...       TV       49   \n",
       "16377                                 Comedy, Slice of Life      OVA       10   \n",
       "11673                                       Adventure, Kids    Movie        1   \n",
       "15359                         Action, Fantasy, Supernatural      ONA        5   \n",
       "5956       Action, Comedy, Parody, Romance, School, Shounen    Movie        1   \n",
       "30749     Action, Ecchi, Fantasy, Harem, Mecha, Romance,...       TV       12   \n",
       "16415                                         Comedy, Mecha  Special        1   \n",
       "32483                                        School, Sports       TV       12   \n",
       "9874                                         Fantasy, Magic      OVA        2   \n",
       "20603                                        Comedy, Parody       TV        7   \n",
       "33545                                        Comedy, Parody  Special        1   \n",
       "30812                                                Hentai      OVA        1   \n",
       "22841                                              Dementia  Special        1   \n",
       "6115            Action, Adventure, Comedy, Mystery, Shounen  Special        1   \n",
       "30118                                   Kids, Slice of Life       TV       84   \n",
       "29673                                                Comedy    Movie        1   \n",
       "31690                                                Comedy      OVA        2   \n",
       "396                Action, Military, Romance, Sci-Fi, Space       TV       13   \n",
       "4012                                          Action, Music    Music        1   \n",
       "29665                                              Dementia    Movie        1   \n",
       "\n",
       "          rating  members  \n",
       "anime_id                   \n",
       "4800        6.53      665  \n",
       "31361       6.67      133  \n",
       "17733       5.99      586  \n",
       "33803       5.56     3248  \n",
       "33505       6.87     1400  \n",
       "1397        7.23    15420  \n",
       "16377       5.89      245  \n",
       "11673       6.44      202  \n",
       "15359       7.25    17584  \n",
       "5956        6.51      270  \n",
       "30749       6.87    94430  \n",
       "16415       6.48     1419  \n",
       "32483       7.00    29219  \n",
       "9874        7.07    18305  \n",
       "20603       4.58       66  \n",
       "33545       5.21      185  \n",
       "30812       6.60     2791  \n",
       "22841       5.60      309  \n",
       "6115        7.89    15220  \n",
       "30118       4.75       40  \n",
       "29673       5.44      129  \n",
       "31690       5.00       52  \n",
       "396         7.86    18580  \n",
       "4012        5.99     4946  \n",
       "29665       4.13       98  "
      ]
     },
     "execution_count": 46,
     "metadata": {},
     "output_type": "execute_result"
    }
   ],
   "source": [
    "df.sample(25)"
   ]
  },
  {
   "cell_type": "markdown",
   "id": "690e9b43",
   "metadata": {},
   "source": [
    "Vemos que nuestro dataset está formado por 6 columnas.\n",
    "\n",
    "Cuando usamos pandas, decimos que 1 columna es un **pandas Series**. \n",
    "\n",
    "Por tanto, nuestro **DataFrame** es básicamente una colección de 6 pandas **Series**.\n",
    "\n",
    "Si queremos seleccionar 1 única columna de nuestro **DataFrame** lo podemos hacer con el siguiente código."
   ]
  },
  {
   "cell_type": "code",
   "execution_count": 36,
   "id": "29bb5cc6",
   "metadata": {},
   "outputs": [],
   "source": [
    "series = df[\"rating\"]"
   ]
  },
  {
   "cell_type": "markdown",
   "id": "33473edc",
   "metadata": {},
   "source": [
    "Las **Series** a menudo tienen los mismos métodos que un **DataFrame**: `head`, `tail`etc."
   ]
  },
  {
   "cell_type": "code",
   "execution_count": 37,
   "id": "4d8d04ce",
   "metadata": {},
   "outputs": [
    {
     "data": {
      "text/plain": [
       "0    9.37\n",
       "1    9.26\n",
       "2    9.25\n",
       "3    9.17\n",
       "4    9.16\n",
       "Name: rating, dtype: float64"
      ]
     },
     "execution_count": 37,
     "metadata": {},
     "output_type": "execute_result"
    }
   ],
   "source": [
    "series.head()"
   ]
  },
  {
   "cell_type": "markdown",
   "id": "19441013",
   "metadata": {},
   "source": [
    "En el ejemplo de antes, hemos utilizado el nombre de la columna entre **corchetes** para seleccionar 1 columna.\n",
    "\n",
    "Existen otras formas de hacer lo mismo.\n",
    "\n",
    "Por ejemplo, si el nombre **<u>no contiene ningún espacio</u>**, podemos escribir `df.nombre_columna` para obtener este **Series**."
   ]
  },
  {
   "cell_type": "code",
   "execution_count": 38,
   "id": "260729cf",
   "metadata": {},
   "outputs": [
    {
     "data": {
      "text/plain": [
       "0        9.37\n",
       "1        9.26\n",
       "2        9.25\n",
       "3        9.17\n",
       "4        9.16\n",
       "         ... \n",
       "12289    4.15\n",
       "12290    4.28\n",
       "12291    4.88\n",
       "12292    4.98\n",
       "12293    5.46\n",
       "Name: rating, Length: 12294, dtype: float64"
      ]
     },
     "execution_count": 38,
     "metadata": {},
     "output_type": "execute_result"
    }
   ],
   "source": [
    "df.rating"
   ]
  },
  {
   "cell_type": "markdown",
   "id": "b1a2719d",
   "metadata": {},
   "source": [
    "Por último, es muy común utilizar el método `loc` o `iloc` para seleccionar columnas o filas.\n",
    "\n",
    "Con `loc` podemos acceder a diferentes filas en base al nombre de la fila o columna."
   ]
  },
  {
   "cell_type": "code",
   "execution_count": 53,
   "id": "a9185fce",
   "metadata": {},
   "outputs": [
    {
     "data": {
      "text/html": [
       "<div>\n",
       "<style scoped>\n",
       "    .dataframe tbody tr th:only-of-type {\n",
       "        vertical-align: middle;\n",
       "    }\n",
       "\n",
       "    .dataframe tbody tr th {\n",
       "        vertical-align: top;\n",
       "    }\n",
       "\n",
       "    .dataframe thead th {\n",
       "        text-align: right;\n",
       "    }\n",
       "</style>\n",
       "<table border=\"1\" class=\"dataframe\">\n",
       "  <thead>\n",
       "    <tr style=\"text-align: right;\">\n",
       "      <th></th>\n",
       "      <th>name</th>\n",
       "      <th>genre</th>\n",
       "      <th>type</th>\n",
       "      <th>episodes</th>\n",
       "      <th>rating</th>\n",
       "      <th>members</th>\n",
       "    </tr>\n",
       "    <tr>\n",
       "      <th>anime_id</th>\n",
       "      <th></th>\n",
       "      <th></th>\n",
       "      <th></th>\n",
       "      <th></th>\n",
       "      <th></th>\n",
       "      <th></th>\n",
       "    </tr>\n",
       "  </thead>\n",
       "  <tbody>\n",
       "    <tr>\n",
       "      <th>32281</th>\n",
       "      <td>Kimi no Na wa.</td>\n",
       "      <td>Drama, Romance, School, Supernatural</td>\n",
       "      <td>Movie</td>\n",
       "      <td>1</td>\n",
       "      <td>9.37</td>\n",
       "      <td>200630</td>\n",
       "    </tr>\n",
       "    <tr>\n",
       "      <th>5114</th>\n",
       "      <td>Fullmetal Alchemist: Brotherhood</td>\n",
       "      <td>Action, Adventure, Drama, Fantasy, Magic, Mili...</td>\n",
       "      <td>TV</td>\n",
       "      <td>64</td>\n",
       "      <td>9.26</td>\n",
       "      <td>793665</td>\n",
       "    </tr>\n",
       "    <tr>\n",
       "      <th>28977</th>\n",
       "      <td>Gintama°</td>\n",
       "      <td>Action, Comedy, Historical, Parody, Samurai, S...</td>\n",
       "      <td>TV</td>\n",
       "      <td>51</td>\n",
       "      <td>9.25</td>\n",
       "      <td>114262</td>\n",
       "    </tr>\n",
       "    <tr>\n",
       "      <th>9253</th>\n",
       "      <td>Steins;Gate</td>\n",
       "      <td>Sci-Fi, Thriller</td>\n",
       "      <td>TV</td>\n",
       "      <td>24</td>\n",
       "      <td>9.17</td>\n",
       "      <td>673572</td>\n",
       "    </tr>\n",
       "    <tr>\n",
       "      <th>9969</th>\n",
       "      <td>Gintama&amp;#039;</td>\n",
       "      <td>Action, Comedy, Historical, Parody, Samurai, S...</td>\n",
       "      <td>TV</td>\n",
       "      <td>51</td>\n",
       "      <td>9.16</td>\n",
       "      <td>151266</td>\n",
       "    </tr>\n",
       "  </tbody>\n",
       "</table>\n",
       "</div>"
      ],
      "text/plain": [
       "                                      name  \\\n",
       "anime_id                                     \n",
       "32281                       Kimi no Na wa.   \n",
       "5114      Fullmetal Alchemist: Brotherhood   \n",
       "28977                             Gintama°   \n",
       "9253                           Steins;Gate   \n",
       "9969                         Gintama&#039;   \n",
       "\n",
       "                                                      genre   type episodes  \\\n",
       "anime_id                                                                      \n",
       "32281                  Drama, Romance, School, Supernatural  Movie        1   \n",
       "5114      Action, Adventure, Drama, Fantasy, Magic, Mili...     TV       64   \n",
       "28977     Action, Comedy, Historical, Parody, Samurai, S...     TV       51   \n",
       "9253                                       Sci-Fi, Thriller     TV       24   \n",
       "9969      Action, Comedy, Historical, Parody, Samurai, S...     TV       51   \n",
       "\n",
       "          rating  members  \n",
       "anime_id                   \n",
       "32281       9.37   200630  \n",
       "5114        9.26   793665  \n",
       "28977       9.25   114262  \n",
       "9253        9.17   673572  \n",
       "9969        9.16   151266  "
      ]
     },
     "execution_count": 53,
     "metadata": {},
     "output_type": "execute_result"
    }
   ],
   "source": [
    "df.head()"
   ]
  },
  {
   "cell_type": "code",
   "execution_count": 62,
   "id": "08fd4721",
   "metadata": {},
   "outputs": [
    {
     "data": {
      "text/plain": [
       "name                              Kimi no Na wa.\n",
       "genre       Drama, Romance, School, Supernatural\n",
       "type                                       Movie\n",
       "episodes                                       1\n",
       "rating                                      9.37\n",
       "members                                   200630\n",
       "Name: 32281, dtype: object"
      ]
     },
     "execution_count": 62,
     "metadata": {},
     "output_type": "execute_result"
    }
   ],
   "source": [
    "# en este ejemplo, 32281 es el anime_id que tenemos en la primera fila.\n",
    "# si fuese un text en vez de número deberíamos escribir el nombre con comillas simples '' o comillas dobles \"\".\n",
    "df.loc[32281]"
   ]
  },
  {
   "cell_type": "markdown",
   "id": "8f40b732",
   "metadata": {},
   "source": [
    "Con el loc puedo seleccionar diferentes filas y columnas especificando más parámetros en el loc."
   ]
  },
  {
   "cell_type": "code",
   "execution_count": 66,
   "id": "e5bc108b",
   "metadata": {},
   "outputs": [
    {
     "data": {
      "text/plain": [
       "'Drama, Romance, School, Supernatural'"
      ]
     },
     "execution_count": 66,
     "metadata": {},
     "output_type": "execute_result"
    }
   ],
   "source": [
    "df.loc[32281, \"genre\"]"
   ]
  },
  {
   "cell_type": "markdown",
   "id": "dbcb1fd7",
   "metadata": {},
   "source": [
    "Si quiero seleccionar \"genre\" y también la columna de \"type\" lo puedo hacer poniendo \"genre\" y \"type\" dentro de una lista de python: `[\"genre\", \"type\"]` es decir, usamos otra vez corchetes."
   ]
  },
  {
   "cell_type": "code",
   "execution_count": 67,
   "id": "fb24d65b",
   "metadata": {},
   "outputs": [
    {
     "data": {
      "text/plain": [
       "genre    Drama, Romance, School, Supernatural\n",
       "type                                    Movie\n",
       "Name: 32281, dtype: object"
      ]
     },
     "execution_count": 67,
     "metadata": {},
     "output_type": "execute_result"
    }
   ],
   "source": [
    "df.loc[32281, [\"genre\", \"type\"]]"
   ]
  },
  {
   "cell_type": "markdown",
   "id": "fea630e1",
   "metadata": {},
   "source": [
    "Mientras que `loc` permite acceder a las diferentes filas y columnas por el nombre, `iloc` lo hace por el índice.\n",
    "\n",
    "**Nota:** en la mayoría de los lenguajes de programación, el índice empieza por el 0. Es decir, el primer eleme noto tiene el índice de 0, el segundo elemento tiene el índice de 1 etc."
   ]
  },
  {
   "cell_type": "code",
   "execution_count": 68,
   "id": "eebf3078",
   "metadata": {},
   "outputs": [
    {
     "data": {
      "text/html": [
       "<div>\n",
       "<style scoped>\n",
       "    .dataframe tbody tr th:only-of-type {\n",
       "        vertical-align: middle;\n",
       "    }\n",
       "\n",
       "    .dataframe tbody tr th {\n",
       "        vertical-align: top;\n",
       "    }\n",
       "\n",
       "    .dataframe thead th {\n",
       "        text-align: right;\n",
       "    }\n",
       "</style>\n",
       "<table border=\"1\" class=\"dataframe\">\n",
       "  <thead>\n",
       "    <tr style=\"text-align: right;\">\n",
       "      <th></th>\n",
       "      <th>name</th>\n",
       "      <th>genre</th>\n",
       "      <th>type</th>\n",
       "      <th>episodes</th>\n",
       "      <th>rating</th>\n",
       "      <th>members</th>\n",
       "    </tr>\n",
       "    <tr>\n",
       "      <th>anime_id</th>\n",
       "      <th></th>\n",
       "      <th></th>\n",
       "      <th></th>\n",
       "      <th></th>\n",
       "      <th></th>\n",
       "      <th></th>\n",
       "    </tr>\n",
       "  </thead>\n",
       "  <tbody>\n",
       "    <tr>\n",
       "      <th>32281</th>\n",
       "      <td>Kimi no Na wa.</td>\n",
       "      <td>Drama, Romance, School, Supernatural</td>\n",
       "      <td>Movie</td>\n",
       "      <td>1</td>\n",
       "      <td>9.37</td>\n",
       "      <td>200630</td>\n",
       "    </tr>\n",
       "    <tr>\n",
       "      <th>5114</th>\n",
       "      <td>Fullmetal Alchemist: Brotherhood</td>\n",
       "      <td>Action, Adventure, Drama, Fantasy, Magic, Mili...</td>\n",
       "      <td>TV</td>\n",
       "      <td>64</td>\n",
       "      <td>9.26</td>\n",
       "      <td>793665</td>\n",
       "    </tr>\n",
       "    <tr>\n",
       "      <th>28977</th>\n",
       "      <td>Gintama°</td>\n",
       "      <td>Action, Comedy, Historical, Parody, Samurai, S...</td>\n",
       "      <td>TV</td>\n",
       "      <td>51</td>\n",
       "      <td>9.25</td>\n",
       "      <td>114262</td>\n",
       "    </tr>\n",
       "    <tr>\n",
       "      <th>9253</th>\n",
       "      <td>Steins;Gate</td>\n",
       "      <td>Sci-Fi, Thriller</td>\n",
       "      <td>TV</td>\n",
       "      <td>24</td>\n",
       "      <td>9.17</td>\n",
       "      <td>673572</td>\n",
       "    </tr>\n",
       "    <tr>\n",
       "      <th>9969</th>\n",
       "      <td>Gintama&amp;#039;</td>\n",
       "      <td>Action, Comedy, Historical, Parody, Samurai, S...</td>\n",
       "      <td>TV</td>\n",
       "      <td>51</td>\n",
       "      <td>9.16</td>\n",
       "      <td>151266</td>\n",
       "    </tr>\n",
       "  </tbody>\n",
       "</table>\n",
       "</div>"
      ],
      "text/plain": [
       "                                      name  \\\n",
       "anime_id                                     \n",
       "32281                       Kimi no Na wa.   \n",
       "5114      Fullmetal Alchemist: Brotherhood   \n",
       "28977                             Gintama°   \n",
       "9253                           Steins;Gate   \n",
       "9969                         Gintama&#039;   \n",
       "\n",
       "                                                      genre   type episodes  \\\n",
       "anime_id                                                                      \n",
       "32281                  Drama, Romance, School, Supernatural  Movie        1   \n",
       "5114      Action, Adventure, Drama, Fantasy, Magic, Mili...     TV       64   \n",
       "28977     Action, Comedy, Historical, Parody, Samurai, S...     TV       51   \n",
       "9253                                       Sci-Fi, Thriller     TV       24   \n",
       "9969      Action, Comedy, Historical, Parody, Samurai, S...     TV       51   \n",
       "\n",
       "          rating  members  \n",
       "anime_id                   \n",
       "32281       9.37   200630  \n",
       "5114        9.26   793665  \n",
       "28977       9.25   114262  \n",
       "9253        9.17   673572  \n",
       "9969        9.16   151266  "
      ]
     },
     "execution_count": 68,
     "metadata": {},
     "output_type": "execute_result"
    }
   ],
   "source": [
    "df.head()"
   ]
  },
  {
   "cell_type": "code",
   "execution_count": 70,
   "id": "795e56db",
   "metadata": {},
   "outputs": [
    {
     "data": {
      "text/plain": [
       "name                              Kimi no Na wa.\n",
       "genre       Drama, Romance, School, Supernatural\n",
       "type                                       Movie\n",
       "episodes                                       1\n",
       "rating                                      9.37\n",
       "members                                   200630\n",
       "Name: 32281, dtype: object"
      ]
     },
     "execution_count": 70,
     "metadata": {},
     "output_type": "execute_result"
    }
   ],
   "source": [
    "df.iloc[0]"
   ]
  },
  {
   "cell_type": "code",
   "execution_count": 71,
   "id": "ab9feade",
   "metadata": {},
   "outputs": [
    {
     "data": {
      "text/plain": [
       "'Drama, Romance, School, Supernatural'"
      ]
     },
     "execution_count": 71,
     "metadata": {},
     "output_type": "execute_result"
    }
   ],
   "source": [
    "df.iloc[0, 1]"
   ]
  },
  {
   "cell_type": "code",
   "execution_count": 73,
   "id": "5b6c0c25",
   "metadata": {},
   "outputs": [
    {
     "data": {
      "text/plain": [
       "genre    Drama, Romance, School, Supernatural\n",
       "type                                    Movie\n",
       "Name: 32281, dtype: object"
      ]
     },
     "execution_count": 73,
     "metadata": {},
     "output_type": "execute_result"
    }
   ],
   "source": [
    "df.iloc[0, [1, 2]]"
   ]
  },
  {
   "cell_type": "code",
   "execution_count": null,
   "id": "871f6373",
   "metadata": {},
   "outputs": [],
   "source": [
    "def get_category(nr_rows):\n",
    "    '''\n",
    "    Generates random category.\n",
    "    '''\n",
    "    categories = [\"A\", \"B\", \"C\", \"X\", \"Y\", \"Z\"]\n",
    "    random_categories = np.random.choice(categories, size = nr_rows)\n",
    "    \n",
    "    return random_categories"
   ]
  },
  {
   "cell_type": "code",
   "execution_count": null,
   "id": "411db0e9",
   "metadata": {},
   "outputs": [],
   "source": [
    "def generate_dummy_dataframe(nr_rows, nr_columns, nr_categoricals):\n",
    "    '''\n",
    "    Generates a dummy DataFrame.\n",
    "    '''\n",
    "    la = []\n",
    "    \n",
    "    for nr_ in range(nr_columns):\n",
    "        la.append(np.random.randint(-1000, 1000, size = nr_rows))\n",
    "            \n",
    "    df = pd.DataFrame(la).T\n",
    "    \n",
    "    cat_index = [cat + str(i) for i, cat in enumerate(get_category(nr_rows = nr_rows))]\n",
    "    df.index = cat_index\n",
    "    \n",
    "    dummy_column_names = [\"Column_{}\".format(i) for i in range(1, nr_columns + 1)]\n",
    "    \n",
    "    df.columns = dummy_column_names\n",
    "    \n",
    "    for nr_categorical in range(nr_categoricals):\n",
    "        df[\"Categorical_{}\".format(nr_categorical + 1)] = get_category(nr_rows = nr_rows)\n",
    "    \n",
    "    return df\n",
    "    "
   ]
  },
  {
   "cell_type": "code",
   "execution_count": null,
   "id": "cc969e5a",
   "metadata": {},
   "outputs": [],
   "source": [
    "df = pd.read_csv(os.path.join(DATA_PATH, \"pd_sklearn_dummy.csv\"))"
   ]
  },
  {
   "cell_type": "markdown",
   "id": "05d435ba",
   "metadata": {},
   "source": [
    "Veamos nuestro dataframe"
   ]
  },
  {
   "cell_type": "code",
   "execution_count": null,
   "id": "a45735c4",
   "metadata": {},
   "outputs": [],
   "source": [
    "df.head(5)"
   ]
  },
  {
   "cell_type": "markdown",
   "id": "3d0435e0",
   "metadata": {},
   "source": [
    "## ¿Que es el pandas groupby?\n",
    "<a id='pandas_groupby'></a>\n",
    "[Volver al índice](#index)<br>\n",
    "\n",
    "La gran mayoría de los ejemplos que siguen a continuación, se van a basar en el **pandas groupby**.<br>\n",
    "Por este motivo, es de vital importancia entender que hay **\"dentro\"** de un pandas groupby y saber cuando es el momento de usarlo.\n",
    "\n",
    "Veamos un ejemplo práctico con nuestro dataset."
   ]
  },
  {
   "cell_type": "markdown",
   "id": "5de98828",
   "metadata": {},
   "source": [
    "### Pregunta 1: hacer la suma de Column_1 cuando Categorical_1 == \"B\""
   ]
  },
  {
   "cell_type": "code",
   "execution_count": null,
   "id": "8a106b11",
   "metadata": {},
   "outputs": [],
   "source": [
    "# code goes here"
   ]
  },
  {
   "cell_type": "code",
   "execution_count": null,
   "id": "03194348",
   "metadata": {},
   "outputs": [],
   "source": [
    "# posible solución\n",
    "df[df[\"Categorical_1\"] == \"B\"][\"Column_1\"].sum()"
   ]
  },
  {
   "cell_type": "markdown",
   "id": "d72e266b",
   "metadata": {},
   "source": [
    "Cuando queremos hacer un cálculo rápido y sencillo, podemos utilizar los **filtros de pandas** para hacer una selección de un subconjunto de datos y aplicar nuestra fórmula.\n",
    "\n",
    "No obstante, ¿Que pasaría si necesitamos calcular esta suma para todas las categorías que hay en Categorical_1?\n",
    "\n",
    "Una implementación rápida sería utilizar una for loop, como en el siguiente ejemplo."
   ]
  },
  {
   "cell_type": "code",
   "execution_count": null,
   "id": "aeb31e76",
   "metadata": {},
   "outputs": [],
   "source": [
    "# posible solución\n",
    "result_dict = {}\n",
    "\n",
    "for category in sorted(df[\"Categorical_1\"].unique()):\n",
    "    result_dict[category] = df[df[\"Categorical_1\"] == category][\"Column_1\"].sum()\n",
    "    \n",
    "result_dict"
   ]
  },
  {
   "cell_type": "markdown",
   "id": "a4a57ab0",
   "metadata": {},
   "source": [
    "La implementación anterior es válida, pero hay un forma mucho mejor de hacerlo. Utilizar el pandas groupby."
   ]
  },
  {
   "cell_type": "code",
   "execution_count": null,
   "id": "01f7daf6",
   "metadata": {},
   "outputs": [],
   "source": [
    "# creamos un objeto de pandas groupby y lo asignamos a gb_df\n",
    "gb_df = df.groupby(\"Categorical_1\")\n",
    "gb_df"
   ]
  },
  {
   "cell_type": "markdown",
   "id": "fe7f3d19",
   "metadata": {},
   "source": [
    "Cuando montamos un pandas groupby e inspeccionamos el objetvo, vemos que el resultado es algo similar a esto:\n",
    "#### **<pandas.core.groupby.generic.DataFrameGroupBy object at 0x7fe5c81de430>**\n",
    "\n",
    "Lo que obtenemos no es más que la dirección en memoria del pandas groupby (en nuestro caso, gb_df).\n",
    "\n",
    "Ahora bien, una forma muy sencilla para ver el contenido del gb_df es utilizar el método **get_group**. Al método get_group le debemos pasar una tupla. El tamaño de la tupla debe ser igual al número de columnas por las cuales has hecho el groupby.\n",
    "\n",
    "Por ejemplo:<br>\n",
    "\n",
    "---\n",
    "\n",
    "**Agrupamos por 2 columnas, la tupla debe ser de 2 elementos**\n",
    "\n",
    "gb_df = df.groupby([\"Cat1\", \"Cat2\"])<br>\n",
    "gb_df.get_group(**(e1, e2)**)\n",
    "\n",
    "**Agrupamos por 3 columnas, la tupla debe ser de 3 elementos**\n",
    "\n",
    "gb_df = df.groupby([\"Cat1\", \"Cat2\", \"Cat3\"])<br>\n",
    "gb_df.get_group(**(e1, e2, e3)**)\n",
    "\n",
    "Donde e1, e2 y e3 son elemento 1, elemento 2 y elemento 3 y son categorías que existen en la Columna Cat1, Cat2 y Cat3 respectivamente (e1 existe en Cat1, e2 existe en Cat2 y e3 existe en Cat3).\n",
    "\n",
    "---\n",
    "\n",
    "### La única condición que deben cumplir los elementos de la tupla, es ser categorías que existen dentro de las columnas del groupby.\n",
    "\n",
    "Veamos unos ejemplos con nuestro dataframe."
   ]
  },
  {
   "cell_type": "code",
   "execution_count": null,
   "id": "ae999acf",
   "metadata": {},
   "outputs": [],
   "source": [
    "# Hice el groupby por Categorical_1, la categoría A existe dentro de Categorical_1\n",
    "# Por este motivo, cuando hago get_group((\"A\")) veo que todos los elementos de Categorical_1 == \"A\"\n",
    "gb_df.get_group((\"A\")).head()"
   ]
  },
  {
   "cell_type": "code",
   "execution_count": null,
   "id": "d24fe30f",
   "metadata": {},
   "outputs": [],
   "source": [
    "# lo mismo pero con el grupo C\n",
    "gb_df.get_group((\"C\")).head()"
   ]
  },
  {
   "cell_type": "code",
   "execution_count": null,
   "id": "17cacbcf",
   "metadata": {},
   "outputs": [],
   "source": [
    "# que pasaría si intento buscar el grupo I\n",
    "try:\n",
    "    gb_df.get_group((\"I\")).head()\n",
    "except:\n",
    "    print('El gb_df.get_group((\"I\")).head() ha fallado! :(')"
   ]
  },
  {
   "cell_type": "markdown",
   "id": "6cc79086",
   "metadata": {},
   "source": [
    "¡La ejecución anterior nos ha dado un error! Intenté buscar una categoría que no existe.\n",
    "\n",
    "### (CORE IDEA) Podemos pensar en un groupby como un conjunto de dataframes pequeños (donde las categorías siempre coinciden). Por tanto, puedo aplicar la mayoría de las transformaciones propias de un df.<br>\n",
    "De hecho, hacer el get_group es idéntico a hacer un filtro de pandas groupby."
   ]
  },
  {
   "cell_type": "code",
   "execution_count": null,
   "id": "853538d3",
   "metadata": {},
   "outputs": [],
   "source": [
    "df[df[\"Categorical_1\"] == \"A\"].head()"
   ]
  },
  {
   "cell_type": "code",
   "execution_count": null,
   "id": "8d789f77",
   "metadata": {},
   "outputs": [],
   "source": [
    "gb_df.get_group((\"A\")).head()"
   ]
  },
  {
   "cell_type": "code",
   "execution_count": null,
   "id": "cb21ef8f",
   "metadata": {},
   "outputs": [],
   "source": [
    "df[df[\"Categorical_1\"] == \"A\"].equals(gb_df.get_group((\"A\"))) # comprobamos que son iguales"
   ]
  },
  {
   "cell_type": "markdown",
   "id": "2a0d27ae",
   "metadata": {},
   "source": [
    "<a id='tip_1_pandas_gb_index'></a>\n",
    "### Si nos fijamos de manera detenida, vemos que el index del df filtrado, es el mismo que el index del get_group.\n",
    "\n",
    "Esta parte va a ser muy importante cuando vamos a trabajar con **pandas transform**.\n",
    "\n",
    "De momento, nos quedamos con la idea de que hacer un filtro o get_group de groupby **me permite acceder a un subconjunto del dataframe en cuestión.**"
   ]
  },
  {
   "cell_type": "code",
   "execution_count": null,
   "id": "af7500d1",
   "metadata": {},
   "outputs": [],
   "source": [
    "print(result_dict)"
   ]
  },
  {
   "cell_type": "code",
   "execution_count": null,
   "id": "83f70ec8",
   "metadata": {},
   "outputs": [],
   "source": [
    "# best praxis\n",
    "gb_df[\"Column_1\"].sum().to_dict()"
   ]
  },
  {
   "cell_type": "markdown",
   "id": "2f14c407",
   "metadata": {},
   "source": [
    "### Pandas transform (CORE IDEA)\n",
    "<a id='pandas_transform'></a>\n",
    "[Volver al índice](#index)<br>"
   ]
  },
  {
   "cell_type": "markdown",
   "id": "3ce6c80c",
   "metadata": {},
   "source": [
    "### Pregunta 2: añadir una nueva columna al df que sea la suma total de Column_1 respetando cada categoría de Categorical_1"
   ]
  },
  {
   "cell_type": "code",
   "execution_count": null,
   "id": "5346501d",
   "metadata": {},
   "outputs": [],
   "source": [
    "# code goes here"
   ]
  },
  {
   "cell_type": "code",
   "execution_count": null,
   "id": "e874a086",
   "metadata": {},
   "outputs": [],
   "source": [
    "# posible solución\n",
    "result_dict_gb = df.groupby(\"Categorical_1\")[\"Column_1\"].sum().to_dict()\n",
    "\n",
    "df[\"New_col_1\"] = df[\"Categorical_1\"].map(result_dict_gb)\n",
    "\n",
    "df"
   ]
  },
  {
   "cell_type": "markdown",
   "id": "9d1b09db",
   "metadata": {},
   "source": [
    "La implementación anterior utiliza una variable temporal, en nuestro caso result_dict_gb para guardar los resultados y después mappear el resultado al df.  Puede parecer una buena forma de hacerlo hasta que conocemos al pandas **transform**."
   ]
  },
  {
   "cell_type": "code",
   "execution_count": null,
   "id": "af86ed2f",
   "metadata": {},
   "outputs": [],
   "source": [
    "# best praxis\n",
    "df[\"New_col_1_bp\"] = df.groupby(\"Categorical_1\")[\"Column_1\"].transform(np.sum)"
   ]
  },
  {
   "cell_type": "markdown",
   "id": "4f107ca5",
   "metadata": {},
   "source": [
    "Pandas **transform** es una mejor solución porque permite conseguir el mismo resultado\n",
    "en 1 única línea de código. No hay necesidad de guardar nada de manera temporal. Con esto conseguimos un código más limpio y elegante.\n",
    "\n",
    "Internamente dentro de groupby lo que ocurre es:\n",
    "1. Calculamos la suma de Column_1 para cada categoría.\n",
    "2. Hacemos el merge con el df orignal, por el index del dataframe.\n",
    "\n",
    "[¿Os acordáis cuando decíamos que dentro del get_group se preserva el index original?](#tip_1_pandas_gb_index)\n",
    "\n",
    "Si nos fijamos en la siguiente línea de código, el index es idéntico al df original."
   ]
  },
  {
   "cell_type": "code",
   "execution_count": null,
   "id": "32d47371",
   "metadata": {},
   "outputs": [],
   "source": [
    "df.groupby(\"Categorical_1\")[\"Column_1\"].transform(np.sum).head()"
   ]
  },
  {
   "cell_type": "code",
   "execution_count": null,
   "id": "9b4bc96c",
   "metadata": {},
   "outputs": [],
   "source": [
    "df.head(5)"
   ]
  },
  {
   "cell_type": "markdown",
   "id": "92254b97",
   "metadata": {},
   "source": [
    "### Groupby eficiente (CORE IDEA)\n",
    "<a id='pandas_gbe'></a>\n",
    "[Volver al índice](#index)<br>\n",
    "\n",
    "En más de una ocasión, queremos hacer varios cálculos dentro de un pandas groupby (por ejemplo: hacer diferentes funciones de agregación como la suma, media, máximos sobre diferentes columnas) y después **concatenar** estos resultados en un nuevo dataframe. Hacemos esto a menudo durante el **EDA** en un proyecto de Machine Learning.\n",
    "\n",
    "---\n",
    "Habitualmente el patrón que se sigue es:\n",
    "\n",
    "1. variable_1 = df.groupby([\"CAT_1\", \"CAT_2\"])[\"COLUMNA_1\"].funcion_agregación()\n",
    "2. variable_2 = df.groupby([\"CAT_1\", \"CAT_2\"])[\"COLUMNA_2\"].otra_funcion_agregación()\n",
    "3. df_resumen = pd.concat([variable_1, variable_2], axis = 1)"
   ]
  },
  {
   "cell_type": "markdown",
   "id": "1e418c15",
   "metadata": {},
   "source": [
    "### Pregunta 3: crear un df_resumen que contenga la suma, media (para Column_1) y un contador de los valores positivos para la columna Column_2, agrupados por Categorical_1\n",
    "\n",
    "El resultado que nos debería dar un df similar a este."
   ]
  },
  {
   "cell_type": "code",
   "execution_count": null,
   "id": "f2f07160",
   "metadata": {},
   "outputs": [],
   "source": [
    "result_data_dict = {\n",
    "    'Sum_column_1': {'A': 1988, 'B': 1006, 'C': -1595, 'X': 11813, 'Y': 6122, 'Z': 9769},\n",
    "    'Mean_column_1': {'A': 10.57, 'B': 5.78, 'C': -9.27, 'X': 78.75, 'Y': 35.59, 'Z': 67.84},\n",
    "    'Counter_non_negative_values_column_2': {'A': 101, 'B': 85, 'C': 89, 'X': 77, 'Y': 91,'Z': 73}\n",
    "}"
   ]
  },
  {
   "cell_type": "code",
   "execution_count": null,
   "id": "0a7560be",
   "metadata": {},
   "outputs": [],
   "source": [
    "pd.DataFrame(data = result_data_dict)"
   ]
  },
  {
   "cell_type": "code",
   "execution_count": null,
   "id": "160d65a7",
   "metadata": {},
   "outputs": [],
   "source": [
    "# code goes here"
   ]
  },
  {
   "cell_type": "code",
   "execution_count": null,
   "id": "d1b32355",
   "metadata": {},
   "outputs": [],
   "source": [
    "# posible solución\n",
    "suma_column_1_categorical_1 = df.groupby(\"Categorical_1\")[\"Column_1\"].sum()\n",
    "mean_column_1_categorical_1 = df.groupby(\"Categorical_1\")[\"Column_1\"].mean()\n",
    "positive_counter = df.groupby(\"Categorical_1\")[\"Column_2\"].agg(lambda series: len(series[series >= 0]))\n",
    "\n",
    "df_resumen = pd.concat([\n",
    "    suma_column_1_categorical_1,\n",
    "    mean_column_1_categorical_1,\n",
    "    positive_counter\n",
    "], axis = 1)\n",
    "\n",
    "df_resumen.columns = [\"Sum_column_1\", \"Mean_column_1\", \"Counter_non_negative_values_column_2\"]\n",
    "\n",
    "del suma_column_1_categorical_1, mean_column_1_categorical_1, positive_counter\n",
    "\n",
    "df_resumen.round(2)"
   ]
  },
  {
   "cell_type": "markdown",
   "id": "a0022619",
   "metadata": {},
   "source": [
    "Si miramos de manera crítica la celda anterior, podemos ver las siguientes ineficiencias:\n",
    "1. Generamos 3 variables temporales que no nos hacen falta a posteriori.\n",
    "2. Debemos añadir varias líneas de código para concatenar estos resultados.\n",
    "3. Tenemos que hacer limpieza de las variables temporales (buena praxis).\n",
    "4. Debemos renombrar las columnas del df_resumen.\n",
    "\n",
    "Todos los pasos anteriores para conseguir un df_resumen.\n",
    "\n",
    "Veamos una forma mucho más elegante y eficiente de hacerlo."
   ]
  },
  {
   "cell_type": "code",
   "execution_count": null,
   "id": "14eca99e",
   "metadata": {},
   "outputs": [],
   "source": [
    "# best praxis\n",
    "df.groupby(\"Categorical_1\").agg(\n",
    "    Sum_column_1 = (\"Column_1\", np.sum),\n",
    "    Max_column_1 = (\"Column_1\", np.max),\n",
    "    Mean_column_1 = (\"Column_1\", np.mean),\n",
    "    Counter_non_negative_values_column_2 = (\"Column_2\", lambda series: len(series[series >= 0])),\n",
    "    Sum_non_negative_values_column_2 = (\"Column_2\", lambda series: np.sum(series[series >= 0])),\n",
    ").round(2)"
   ]
  },
  {
   "cell_type": "markdown",
   "id": "02f2a1d9",
   "metadata": {},
   "source": [
    "Conseguimos el mismo resultado que antes, pero de una manera más rápida y elegante. \n",
    "\n",
    "**En realidad, hacemos 2 operaciones adicionales y todo con menos líneas de código.**\n",
    "\n",
    "### ¿Todos los alumnos has conseguido sacar el resultado Counter_non_negative_values_column_2?"
   ]
  },
  {
   "cell_type": "markdown",
   "id": "a33f2fb0",
   "metadata": {},
   "source": [
    "### Funciones personalizadas\n",
    "<a id='pandas_custom_func'></a>\n",
    "[Volver al índice](#index)<br>\n",
    "\n",
    "En el ejemplo anterior, para calcular **Counter_non_negative_values_column_2** tuvimos que crear una función personalizada (custom function) en forma de ***lambda***.\n",
    "\n",
    "Esto es de extrema relevancia porque significa que dentro de un **pandas groupby** yo puedo utilizar no solo las funciones tipo: suma, media, máximo etc. sino **cualquier función siempre y cuando haga un cálculo y devuelva un resultado agregado.** De hecho, el resultado podría hasta ser un string. \n",
    "\n",
    "Veamos algunos ejemplos."
   ]
  },
  {
   "cell_type": "code",
   "execution_count": null,
   "id": "b856ddea",
   "metadata": {},
   "outputs": [],
   "source": [
    "def custom_func_non_negative_sum(series):\n",
    "    '''\n",
    "    Sums non negative values from a pandas series\n",
    "    '''\n",
    "    return np.sum(series[series >= 0])"
   ]
  },
  {
   "cell_type": "markdown",
   "id": "52d604a9",
   "metadata": {},
   "source": [
    "La función anterior es idéntica a la siguiente función anónima **lambda series: np.sum(series[series >= 0])**"
   ]
  },
  {
   "cell_type": "code",
   "execution_count": null,
   "id": "162af00a",
   "metadata": {},
   "outputs": [],
   "source": [
    "df.groupby(\"Categorical_1\")[\"Column_2\"].agg(custom_func_non_negative_sum)"
   ]
  },
  {
   "cell_type": "markdown",
   "id": "f1f00f98",
   "metadata": {},
   "source": [
    "Por supuesto la función anterior la podemos utilizar con un pandas transform"
   ]
  },
  {
   "cell_type": "code",
   "execution_count": null,
   "id": "d03b9fc2",
   "metadata": {},
   "outputs": [],
   "source": [
    "df[\"New_col_2_cf_bp\"] = df.groupby(\"Categorical_1\")[\"Column_2\"].transform(custom_func_non_negative_sum)"
   ]
  },
  {
   "cell_type": "code",
   "execution_count": null,
   "id": "46ca91ce",
   "metadata": {},
   "outputs": [],
   "source": [
    "df.head(1)"
   ]
  },
  {
   "cell_type": "markdown",
   "id": "582f2c68",
   "metadata": {},
   "source": [
    "Antes hemos comentado, que la función de agregación customizada puede hasta devolver un string como resultado.\n",
    "\n",
    "Veamos un ejemplo rápido."
   ]
  },
  {
   "cell_type": "code",
   "execution_count": null,
   "id": "8ff3b5f0",
   "metadata": {},
   "outputs": [],
   "source": [
    "def custom_func_returns_string(series):\n",
    "    '''\n",
    "    Custom function that returns a string as a result\n",
    "    '''\n",
    "    positive_values = len(series[series >= 0])\n",
    "    negative_values = len(series[series < 0])\n",
    "    \n",
    "    return f\"Positive Values: {positive_values} Negative Values: {negative_values}\""
   ]
  },
  {
   "cell_type": "code",
   "execution_count": null,
   "id": "994256ec",
   "metadata": {},
   "outputs": [],
   "source": [
    "print(df.groupby(\"Categorical_1\")[\"Column_1\"].agg(custom_func_returns_string))"
   ]
  },
  {
   "cell_type": "code",
   "execution_count": null,
   "id": "7e9b2b92",
   "metadata": {},
   "outputs": [],
   "source": [
    "df[\"New_col_2_cfs_bp\"] = df.groupby(\"Categorical_1\")[\"Column_1\"].transform(custom_func_returns_string)"
   ]
  },
  {
   "cell_type": "code",
   "execution_count": null,
   "id": "7846bdea",
   "metadata": {},
   "outputs": [],
   "source": [
    "df.sample(5)"
   ]
  },
  {
   "cell_type": "markdown",
   "id": "f239e2aa",
   "metadata": {},
   "source": [
    "En la práctica no obstante, usamos este tipo de funciones sólo cuando queremos hacer un reporting sobre un dataframe e incluirlo en un informe final."
   ]
  },
  {
   "cell_type": "markdown",
   "id": "51e3a8aa",
   "metadata": {},
   "source": [
    "### Nueva columna utilizando la información de 2 columnas\n",
    "<a id='pandas_custom_func_2_cols'></a>\n",
    "[Volver al índice](#index)<br>\n",
    "\n",
    "Vamos a darle otra vuelta de tuerca a las funciones personalizadas.\n",
    "\n",
    "Si hacemos un breve recap de lo visto hasta ahora, sabemos que:\n",
    "1. Dentro de un groupby hay un montón de dfs \"pequeños\". Estos dataframes no se solapan con otros porque tienen categorías únicas (en función de las columnas por las cuales se ha hecho el groupby).\n",
    "2. De alguna manera, hacer un groupby y llamar get_group (que es lo que ocurre dentro de un groupby pero para todas las categorías) es similar a hacer un filtro de df.\n",
    "3. Al hacer un filtro o groupby, sigo operando todo el rato con un df. Si sigo operando con un df, puedo acceder a cualquier columna del df.\n",
    "4. Por tanto, puedo realizar una función de agregación teniendo en cuenta la información de más de una columna, sin necesidad de **iterar** sobre el df.\n",
    "\n",
    "Veamos un ejemplo sencillo:"
   ]
  },
  {
   "cell_type": "markdown",
   "id": "c9c3615a",
   "metadata": {},
   "source": [
    "### Pregunta 4: calcular la media de la Column_1 cuando tengo en la Column_2 más valores positivos que negativos (len_positivos >= len_negativos), en caso contrario devolver -1 todo esto dentro de un groupby."
   ]
  },
  {
   "cell_type": "code",
   "execution_count": null,
   "id": "0ef9d761",
   "metadata": {},
   "outputs": [],
   "source": [
    "# code goes here"
   ]
  },
  {
   "cell_type": "code",
   "execution_count": null,
   "id": "f73d5a66",
   "metadata": {},
   "outputs": [],
   "source": [
    "# posible solución\n",
    "d_ = {}\n",
    "\n",
    "for category in sorted(df[\"Categorical_1\"].unique()):\n",
    "\n",
    "    sample_df = df[\n",
    "        (df[\"Categorical_1\"] == category)\n",
    "    ]\n",
    "\n",
    "    value_counts = (sample_df[\"Column_2\"] >= 0).value_counts()\n",
    "    \n",
    "    true_values = value_counts.loc[True]\n",
    "    false_values = value_counts.loc[False]\n",
    "    \n",
    "    if true_values >= false_values:\n",
    "        d_[category] = sample_df[\"Column_1\"].mean()\n",
    "    else:\n",
    "        d_[category] = -1\n",
    "\n",
    "d_"
   ]
  },
  {
   "cell_type": "code",
   "execution_count": null,
   "id": "4dfaaa91",
   "metadata": {},
   "outputs": [],
   "source": [
    "# best praxis\n",
    "def custom_agg_function_2_cols(df):\n",
    "    '''\n",
    "    Custom function that uses values from 1 column to calculate the value for another column.\n",
    "    '''\n",
    "    value_counts = (df[\"Column_2\"] >= 0).value_counts()\n",
    "    true_values = value_counts.loc[True]\n",
    "    false_values = value_counts.loc[False]\n",
    "    \n",
    "    if true_values >= false_values:\n",
    "        return df[\"Column_1\"].mean()\n",
    "    else:\n",
    "        return -1\n",
    "\n",
    "df.groupby(\"Categorical_1\").apply(custom_agg_function_2_cols)"
   ]
  },
  {
   "cell_type": "markdown",
   "id": "33eb41d9",
   "metadata": {},
   "source": [
    "### Conclusión\n",
    "<a id='conclusion'></a>\n",
    "[Volver al índice](#index)<br>\n",
    "\n",
    "A lo largo de este notebook hemos aprendido nuevas técnicas y algunas de las best practices de **pandas** y **sklearn**.\n",
    "\n",
    "### Siempre debemos intentar escribir un código legible, limpio y procurar reutilizar los módulos o paquetes ya disponibles (para no reinventar la rueda).\n",
    "\n",
    "Tanto **pandas como sklearn** ofrecen mucha flexibilidad así como un montón de funcionalidades para nuestro día a día.\n",
    "\n",
    "La utilización eficiente de pandas groupby puede ayudar mucho a la hora de hacer un análisis más rápido y conciso.\n",
    "\n",
    "A su vez sklearn con sus Transformers, Pipelines y Cross Validation nos da herramientas muy potentes para entrenar nuestros modelos de ML.\n",
    "\n",
    "Recomendamos a los alumnos que los vayan incorporando en su kit diario cuanto antes.\n",
    "\n",
    "# El alumno puede probar montar un nuevo pipeline con todas las columnas del dataset para practicar lo aprendido."
   ]
  },
  {
   "cell_type": "markdown",
   "id": "fc2c42e9",
   "metadata": {},
   "source": [
    "### Referencias y lecturas recomendables\n",
    "<a id='referencias'></a>\n",
    "[Volver al índice](#index)<br>"
   ]
  },
  {
   "cell_type": "markdown",
   "id": "acf5642a",
   "metadata": {},
   "source": [
    "A continuación dejamos algunos links útiles para profundizar en algunos de los conceptos que hemos visto en el notebook:\n",
    "\n",
    "[Sitio oficial de pandas](https://pandas.pydata.org/)\n",
    "\n",
    "[Apply vs Transform en pandas groupby](https://stackoverflow.com/questions/27517425/apply-vs-transform-on-a-group-object/47143056#47143056)\n",
    "\n",
    "[Sitio oficial de sklearn](https://scikit-learn.org/stable/)\n",
    "\n",
    "[Diseño de sklearn](https://arxiv.org/pdf/1309.0238.pdf)\n",
    "\n",
    "[Model Evaluation, Model Selection, and Algorithm Selection in Machine Learning (MUY RECOMENDABLE)\n",
    "](https://arxiv.org/pdf/1811.12808.pdf)\n",
    "\n",
    "[Diferentes estrategias de Cross Validation](https://scikit-learn.org/stable/modules/cross_validation.html)\n",
    "\n",
    "[Duck Typing](https://en.wikipedia.org/wiki/Duck_typing)"
   ]
  },
  {
   "cell_type": "code",
   "execution_count": null,
   "id": "6537e621",
   "metadata": {},
   "outputs": [],
   "source": []
  }
 ],
 "metadata": {
  "kernelspec": {
   "display_name": "env_main",
   "language": "python",
   "name": "env_main"
  },
  "language_info": {
   "codemirror_mode": {
    "name": "ipython",
    "version": 3
   },
   "file_extension": ".py",
   "mimetype": "text/x-python",
   "name": "python",
   "nbconvert_exporter": "python",
   "pygments_lexer": "ipython3",
   "version": "3.10.15"
  }
 },
 "nbformat": 4,
 "nbformat_minor": 5
}

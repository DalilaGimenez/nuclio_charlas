{
 "cells": [
  {
   "cell_type": "markdown",
   "id": "c6ecc561",
   "metadata": {},
   "source": [
    "# Bienvenido al día 1 del workshop de Nuclio Digital School (2/2)\n",
    "## 14-Enero-2025\n",
    "\n",
    "<img src=\"./pictures/PANDAS_DEEP_DIVE.webp\" alt=\"PANDAS_DD\" width=\"700\" height=\"300\"/><br>"
   ]
  },
  {
   "cell_type": "markdown",
   "id": "996af718",
   "metadata": {},
   "source": [
    "# Objetivos del notebook\n",
    "---\n",
    "En este notebook vamos a hacer una introducción a la librería de pandas y explorar algunas de sus ***best practices***.\n",
    "\n",
    "**[pandas](https://pandas.pydata.org)** es una librería enfocada al análisis y manipulación de datos tabulares.<br>\n",
    "\n",
    "Este paquete junto con [numpy](https://numpy.org), [matplotlib](https://matplotlib.org), [xgboost](https://xgboost.readthedocs.io/en/stable/) y [scikit-learn](https://scikit-learn.org/stable/index.html) constituyen las principales librerías de Machine Learning Tabular en Python.\n",
    "\n",
    "**Dado que la mayoría de los problemas a los que se enfrentan las empresas en la vida real son problemas y datasets tabulares, aprendiendo estas 5 librerías, obtenemos una base sólida para empezar a trabajar en el mundo de Machine Learning.**\n",
    "\n",
    "Al final del notebook, el alumno se tiene que sentir cómodo con los siguientes funcionalidades:\n",
    "\n",
    "1. Saber como podemos \"cargar\" un fichero que tenemos en nuestro ordenador a pandas para poder empezar a manipularlo.\n",
    "1. Entender los objetos básicos que tenemos cuando usamos pandas: **DataFrame** y **Series**.\n",
    "1. Dar a conocer los métodos más simples de un pandas DataFrame: **head**, **tail**, **describe**, **info** etc.\n",
    "1. Entender en que consiste el **pandas groupby** y como podemos utilizarlo para hacer cálculo de manera **rápida, limpia y eficiente.**\n",
    "1. Conocer que es la **pivot_table** de pandas.\n",
    "1. Conocer los **merge* y **concat** de pandas.\n",
    "1. Saber utilizar **pipe** dentro de **chaining** de pandas.\n",
    "---\n",
    "\n",
    "# Let's go!\n",
    "\n",
    "---"
   ]
  },
  {
   "cell_type": "markdown",
   "id": "09e745e6",
   "metadata": {},
   "source": [
    "<a id='index'></a>\n",
    "## 1. Índice\n",
    "\n",
    "[1. Imports del notebook](#imports_notebook)<br>\n",
    "\n",
    "## 2. Dataset\n",
    "[2. Dataset que vamos a utilizar: animes](#animes)<br>\n",
    "\n",
    "\n",
    "## 3. Intro to pandas\n",
    "[3.1 Cargar datos a pandas](#datos)<br>\n",
    "[3.2 Métodos básicos de pandas](#intro_pandas)<br>\n",
    "[3.3 Mas métodos de pandas](#pandas2)<br>\n",
    "[3.4 Groupby y pivot_table](#gbpt)<br>\n",
    "[3.5 Merge y Concat](#merge_concat)<br>\n",
    "[3.6 Pipe](#pipe)<br>\n",
    "\n",
    "## 4. Wrap up y conclusiones\n",
    "[4. Wrap up y conclusiones](#conclusion)<br>\n",
    "\n",
    "## 5. Next steps\n",
    "[5. Next steps](#next_steps)<br>\n",
    "\n",
    "## 6. Referencias\n",
    "[6. Referencias y lecturas recomendables](#referencias)<br>"
   ]
  },
  {
   "cell_type": "markdown",
   "id": "8734afb5",
   "metadata": {},
   "source": [
    "<a id='imports_notebook'></a>\n",
    "# 1. Imports del notebook\n",
    "[Volver al índice](#index)\n",
    "\n",
    "En este apartado hacemos los principales imports del notebook.<br>\n",
    "Sobre todo vamos a trabajar con **pandas**."
   ]
  },
  {
   "cell_type": "code",
   "execution_count": 1,
   "id": "0b03528f",
   "metadata": {},
   "outputs": [],
   "source": [
    "import pandas as pd\n",
    "pd.options.display.float_format = '{:.2f}'.format"
   ]
  },
  {
   "cell_type": "code",
   "execution_count": 2,
   "id": "4d5949e6",
   "metadata": {},
   "outputs": [
    {
     "name": "stdout",
     "output_type": "stream",
     "text": [
      "Working with these versions of libraries\n",
      "\n",
      "--------------------------------------------------\n",
      "Pandas version 2.2.1\n"
     ]
    }
   ],
   "source": [
    "print(\"Working with these versions of libraries\\n\")\n",
    "print(\"-\"*50)\n",
    "print(f\"Pandas version {pd.__version__}\")"
   ]
  },
  {
   "cell_type": "markdown",
   "id": "aa4632ee",
   "metadata": {},
   "source": [
    "<a id='animes'></a>\n",
    "# 2. Dataset que vamos a utilizar: animes\n",
    "[Volver al índice](#index)\n",
    "\n",
    "Todo proyecto de Machine Learning requiere de datos. Los datos son la parte **FUNDAMENTAL** y si la calidad de los datos es **<ins>mala</ins>**, muchas veces los resultados que vamos a obtener van a ser **<ins>malos</ins>**.\n",
    "\n",
    "Gran parte de un proyecto de ML consiste en <ins>limpiar, analizar y preparar los datos</ins> para **\"alimentar\"** al algoritmo. Muy a menudo, todo esto se realiza con **pandas**.\n",
    "\n",
    "Dado que nuestro objetivo final es crear un recomendador basado en el historial de los clientes (lo haremos en el notebook [CBRS.ipynb](./CBRS.ipynb)), en este notebook vamos a hacer la limpieza y el análisis de los datos y por el camino vamos a aprender **pandas**.\n",
    "\n",
    "**¿Que dataset vamos a utilizar en nuestro proyecto?**\n",
    "\n",
    "Vamos a utilizar un dataset muy famoso de [Animes Japoneses](https://es.wikipedia.org/wiki/Anime) que se puede descargar de manera gratuita del [siguiente enlace](https://drive.google.com/drive/folders/1VfQ7VHprgku8THsBpJqTLIHyaXFQQA8n?usp=sharing)."
   ]
  },
  {
   "cell_type": "markdown",
   "id": "0e7fea6f",
   "metadata": {},
   "source": [
    "# 3. Intro to pandas\n",
    "\n",
    "<a id='datos'></a>\n",
    "# 3.1 Cargar datos a pandas\n",
    "[Volver al índice](#index)\n",
    "\n",
    "Normalmente los datos con los que trabajamos en la vida real están en diferentes bases de datos y utilizamos el lenguaje de programación [SQL](https://es.wikipedia.org/wiki/SQL) para descargarlos o manipularlos.\n",
    "\n",
    "En este workshop, para simplificar algo las cosas, vamos a trabajar con ficheros que están en el disco duro de nuestro ordenador para \"leerlos\" con pandas."
   ]
  },
  {
   "cell_type": "code",
   "execution_count": 3,
   "id": "d1189cab",
   "metadata": {},
   "outputs": [],
   "source": [
    "# hacer el import de pandas\n",
    "import pandas as pd"
   ]
  },
  {
   "cell_type": "code",
   "execution_count": 4,
   "id": "87b94a6a",
   "metadata": {},
   "outputs": [
    {
     "name": "stdout",
     "output_type": "stream",
     "text": [
      "/Users/nicolaepopescul/code/nuclio_charlas\r\n"
     ]
    }
   ],
   "source": [
    "# donde están mis datos\n",
    "! pwd"
   ]
  },
  {
   "cell_type": "code",
   "execution_count": 5,
   "id": "4475c112",
   "metadata": {},
   "outputs": [
    {
     "name": "stdout",
     "output_type": "stream",
     "text": [
      "CBRS.ipynb       PANDAS.ipynb     \u001b[34mhtml\u001b[m\u001b[m             \u001b[34mpictures\u001b[m\u001b[m\r\n",
      "INTRO.ipynb      README.md        \u001b[34minput\u001b[m\u001b[m            requirements.txt\r\n"
     ]
    }
   ],
   "source": [
    "# que tengo en esta ruta\n",
    "! ls"
   ]
  },
  {
   "cell_type": "code",
   "execution_count": 6,
   "id": "a148337e",
   "metadata": {},
   "outputs": [
    {
     "name": "stdout",
     "output_type": "stream",
     "text": [
      "cf_-1.parquet.gzip     cf_5.parquet.gzip      cf_anime.parquet.gzip\r\n",
      "cf_1.parquet.gzip      cf_6.parquet.gzip      cf_anime.pkl\r\n",
      "cf_10.parquet.gzip     cf_7.parquet.gzip      cf_anime.xlsx\r\n",
      "cf_2.parquet.gzip      cf_8.parquet.gzip      cf_rating.parquet.gzip\r\n",
      "cf_3.parquet.gzip      cf_9.parquet.gzip\r\n",
      "cf_4.parquet.gzip      cf_anime.csv\r\n"
     ]
    }
   ],
   "source": [
    "# que tengo en la carpeta de input\n",
    "! ls /Users/nicolaepopescul/code/nuclio_charlas/input"
   ]
  },
  {
   "cell_type": "code",
   "execution_count": 7,
   "id": "d05de8ec",
   "metadata": {},
   "outputs": [],
   "source": [
    "# leemos un fichero en un pandas DataFrame\n",
    "# ./ indica: utiliza la ruta relativa (allí donde está el notebook) para ir a la carpeta de input\n",
    "# y leer el fichero cf_anime.parquet.gzip\n",
    "df = pd.read_parquet(\"./input/cf_anime.parquet.gzip\")"
   ]
  },
  {
   "cell_type": "code",
   "execution_count": 8,
   "id": "36973112",
   "metadata": {},
   "outputs": [],
   "source": [
    "df = df.set_index(\"anime_id\")"
   ]
  },
  {
   "cell_type": "code",
   "execution_count": 9,
   "id": "490aa586",
   "metadata": {},
   "outputs": [],
   "source": [
    "# mostar los otros formas para leer ficheros:\n",
    "# csv\n",
    "# pickle\n",
    "# excel\n",
    "# parquet\n",
    "# otros"
   ]
  },
  {
   "cell_type": "code",
   "execution_count": 10,
   "id": "ea53aa28",
   "metadata": {},
   "outputs": [
    {
     "data": {
      "text/html": [
       "<div>\n",
       "<style scoped>\n",
       "    .dataframe tbody tr th:only-of-type {\n",
       "        vertical-align: middle;\n",
       "    }\n",
       "\n",
       "    .dataframe tbody tr th {\n",
       "        vertical-align: top;\n",
       "    }\n",
       "\n",
       "    .dataframe thead th {\n",
       "        text-align: right;\n",
       "    }\n",
       "</style>\n",
       "<table border=\"1\" class=\"dataframe\">\n",
       "  <thead>\n",
       "    <tr style=\"text-align: right;\">\n",
       "      <th></th>\n",
       "      <th>name</th>\n",
       "      <th>genre</th>\n",
       "      <th>type</th>\n",
       "      <th>episodes</th>\n",
       "      <th>rating</th>\n",
       "      <th>members</th>\n",
       "    </tr>\n",
       "    <tr>\n",
       "      <th>anime_id</th>\n",
       "      <th></th>\n",
       "      <th></th>\n",
       "      <th></th>\n",
       "      <th></th>\n",
       "      <th></th>\n",
       "      <th></th>\n",
       "    </tr>\n",
       "  </thead>\n",
       "  <tbody>\n",
       "    <tr>\n",
       "      <th>32281</th>\n",
       "      <td>Kimi no Na wa.</td>\n",
       "      <td>Drama, Romance, School, Supernatural</td>\n",
       "      <td>Movie</td>\n",
       "      <td>1</td>\n",
       "      <td>9.37</td>\n",
       "      <td>200630</td>\n",
       "    </tr>\n",
       "    <tr>\n",
       "      <th>5114</th>\n",
       "      <td>Fullmetal Alchemist: Brotherhood</td>\n",
       "      <td>Action, Adventure, Drama, Fantasy, Magic, Mili...</td>\n",
       "      <td>TV</td>\n",
       "      <td>64</td>\n",
       "      <td>9.26</td>\n",
       "      <td>793665</td>\n",
       "    </tr>\n",
       "    <tr>\n",
       "      <th>28977</th>\n",
       "      <td>Gintama°</td>\n",
       "      <td>Action, Comedy, Historical, Parody, Samurai, S...</td>\n",
       "      <td>TV</td>\n",
       "      <td>51</td>\n",
       "      <td>9.25</td>\n",
       "      <td>114262</td>\n",
       "    </tr>\n",
       "    <tr>\n",
       "      <th>9253</th>\n",
       "      <td>Steins;Gate</td>\n",
       "      <td>Sci-Fi, Thriller</td>\n",
       "      <td>TV</td>\n",
       "      <td>24</td>\n",
       "      <td>9.17</td>\n",
       "      <td>673572</td>\n",
       "    </tr>\n",
       "    <tr>\n",
       "      <th>9969</th>\n",
       "      <td>Gintama&amp;#039;</td>\n",
       "      <td>Action, Comedy, Historical, Parody, Samurai, S...</td>\n",
       "      <td>TV</td>\n",
       "      <td>51</td>\n",
       "      <td>9.16</td>\n",
       "      <td>151266</td>\n",
       "    </tr>\n",
       "    <tr>\n",
       "      <th>...</th>\n",
       "      <td>...</td>\n",
       "      <td>...</td>\n",
       "      <td>...</td>\n",
       "      <td>...</td>\n",
       "      <td>...</td>\n",
       "      <td>...</td>\n",
       "    </tr>\n",
       "    <tr>\n",
       "      <th>9316</th>\n",
       "      <td>Toushindai My Lover: Minami tai Mecha-Minami</td>\n",
       "      <td>Hentai</td>\n",
       "      <td>OVA</td>\n",
       "      <td>1</td>\n",
       "      <td>4.15</td>\n",
       "      <td>211</td>\n",
       "    </tr>\n",
       "    <tr>\n",
       "      <th>5543</th>\n",
       "      <td>Under World</td>\n",
       "      <td>Hentai</td>\n",
       "      <td>OVA</td>\n",
       "      <td>1</td>\n",
       "      <td>4.28</td>\n",
       "      <td>183</td>\n",
       "    </tr>\n",
       "    <tr>\n",
       "      <th>5621</th>\n",
       "      <td>Violence Gekiga David no Hoshi</td>\n",
       "      <td>Hentai</td>\n",
       "      <td>OVA</td>\n",
       "      <td>4</td>\n",
       "      <td>4.88</td>\n",
       "      <td>219</td>\n",
       "    </tr>\n",
       "    <tr>\n",
       "      <th>6133</th>\n",
       "      <td>Violence Gekiga Shin David no Hoshi: Inma Dens...</td>\n",
       "      <td>Hentai</td>\n",
       "      <td>OVA</td>\n",
       "      <td>1</td>\n",
       "      <td>4.98</td>\n",
       "      <td>175</td>\n",
       "    </tr>\n",
       "    <tr>\n",
       "      <th>26081</th>\n",
       "      <td>Yasuji no Pornorama: Yacchimae!!</td>\n",
       "      <td>Hentai</td>\n",
       "      <td>Movie</td>\n",
       "      <td>1</td>\n",
       "      <td>5.46</td>\n",
       "      <td>142</td>\n",
       "    </tr>\n",
       "  </tbody>\n",
       "</table>\n",
       "<p>12294 rows × 6 columns</p>\n",
       "</div>"
      ],
      "text/plain": [
       "                                                       name  \\\n",
       "anime_id                                                      \n",
       "32281                                        Kimi no Na wa.   \n",
       "5114                       Fullmetal Alchemist: Brotherhood   \n",
       "28977                                              Gintama°   \n",
       "9253                                            Steins;Gate   \n",
       "9969                                          Gintama&#039;   \n",
       "...                                                     ...   \n",
       "9316           Toushindai My Lover: Minami tai Mecha-Minami   \n",
       "5543                                            Under World   \n",
       "5621                         Violence Gekiga David no Hoshi   \n",
       "6133      Violence Gekiga Shin David no Hoshi: Inma Dens...   \n",
       "26081                      Yasuji no Pornorama: Yacchimae!!   \n",
       "\n",
       "                                                      genre   type episodes  \\\n",
       "anime_id                                                                      \n",
       "32281                  Drama, Romance, School, Supernatural  Movie        1   \n",
       "5114      Action, Adventure, Drama, Fantasy, Magic, Mili...     TV       64   \n",
       "28977     Action, Comedy, Historical, Parody, Samurai, S...     TV       51   \n",
       "9253                                       Sci-Fi, Thriller     TV       24   \n",
       "9969      Action, Comedy, Historical, Parody, Samurai, S...     TV       51   \n",
       "...                                                     ...    ...      ...   \n",
       "9316                                                 Hentai    OVA        1   \n",
       "5543                                                 Hentai    OVA        1   \n",
       "5621                                                 Hentai    OVA        4   \n",
       "6133                                                 Hentai    OVA        1   \n",
       "26081                                                Hentai  Movie        1   \n",
       "\n",
       "          rating  members  \n",
       "anime_id                   \n",
       "32281       9.37   200630  \n",
       "5114        9.26   793665  \n",
       "28977       9.25   114262  \n",
       "9253        9.17   673572  \n",
       "9969        9.16   151266  \n",
       "...          ...      ...  \n",
       "9316        4.15      211  \n",
       "5543        4.28      183  \n",
       "5621        4.88      219  \n",
       "6133        4.98      175  \n",
       "26081       5.46      142  \n",
       "\n",
       "[12294 rows x 6 columns]"
      ]
     },
     "execution_count": 10,
     "metadata": {},
     "output_type": "execute_result"
    }
   ],
   "source": [
    "df"
   ]
  },
  {
   "cell_type": "markdown",
   "id": "d589efd7",
   "metadata": {},
   "source": [
    "Acabamos de cargar nuestro fichero en un pandas **DataFrame.**\n",
    "\n",
    "El **DataFrame** es el objeto central de pandas y representa una tabla/matriz que tiene 2 ejes (o axis).\n",
    "\n",
    "<img src=\"./Pictures/DATAFRAME.png\">\n",
    "\n",
    "[Fuente: www.geeksforgeeks.org](https://www.geeksforgeeks.org/creating-a-pandas-dataframe/)\n",
    "\n",
    "Un eje son las **filas del DataFrame** y básicamente vienen a representar los **registros** que tenemos en la tabla. A menudo, cuando trabajamos en problemas de ML Supervisados, también los llamamos **\"instancias\"**.\n",
    "\n",
    "El otro eje que tenemos son **las columnas del DataFrame**. Las columnas a menudo se conocen como las **\"features\"** o **\"atributos\"** y vienen a captar diferentes variables/información sobre nuestras instancias.\n",
    "\n",
    "**Por ejemplo: si 1 fila es un cliente, las columnas son las variables que tenemos de este cliente y podrían ser la edad, el salario, el móvil que usa etc.**"
   ]
  },
  {
   "cell_type": "markdown",
   "id": "a0682f2e",
   "metadata": {},
   "source": [
    "<a id='intro_pandas'></a>\n",
    "# 3.2 Métodos básicos de pandas\n",
    "[Volver al índice](#index)\n",
    "\n",
    "**Nota:** a menudo a lo largo del workshop voy a utilizar la palabra **método** cuando hable de pandas o bien de un **DataFrame/Series**. Por ejemplo: **el DataFrame tiene el método de sum**.\n",
    "\n",
    "Lo que esto quiere decir es que cuando tengo una DataFrame, con el DataFrame viene una **FUNCIONALIDAD** incorporada, en este caso, la suma. Por lo tanto, si tengo un DataFrame que tiene una columna númerica, podré calcular la suma de esta columna usando esta funcionalidad.\n",
    "\n",
    "---\n",
    "\n",
    "Con el método de `df.shape` podemos llegar a saber el número de filas y de columnas que tiene nuestro dataset."
   ]
  },
  {
   "cell_type": "code",
   "execution_count": 11,
   "id": "7a6b41d6",
   "metadata": {},
   "outputs": [
    {
     "data": {
      "text/plain": [
       "(12294, 6)"
      ]
     },
     "execution_count": 11,
     "metadata": {},
     "output_type": "execute_result"
    }
   ],
   "source": [
    "df.shape"
   ]
  },
  {
   "cell_type": "markdown",
   "id": "0ba261f9",
   "metadata": {},
   "source": [
    "**Tip:** para recordar que las filas son el axis 0 y las columnas el axis 1, podemos recordar que `df.shape` 0 nos da las filas y `df.shape` 1 nos da las columnas.\n",
    "\n",
    "**Nota:** en la mayoría de los lenguajes de programación, el índice empieza por el 0. Esto quiere decir que el primer elemento tiene el índice de 0, el segundo elemento tiene el índice de 1 etc."
   ]
  },
  {
   "cell_type": "markdown",
   "id": "b4bafa34",
   "metadata": {},
   "source": [
    "Cuando hacemos nuestro primer contacto con un dataset, a menudo nos interesa ver los primeros 5 registros o los últimos 5 registros de una tabla.\n",
    "\n",
    "Los métodos de `df.head()` o `df.tail()` sirven justo para este propósito."
   ]
  },
  {
   "cell_type": "code",
   "execution_count": 12,
   "id": "6574bc84",
   "metadata": {},
   "outputs": [
    {
     "data": {
      "text/html": [
       "<div>\n",
       "<style scoped>\n",
       "    .dataframe tbody tr th:only-of-type {\n",
       "        vertical-align: middle;\n",
       "    }\n",
       "\n",
       "    .dataframe tbody tr th {\n",
       "        vertical-align: top;\n",
       "    }\n",
       "\n",
       "    .dataframe thead th {\n",
       "        text-align: right;\n",
       "    }\n",
       "</style>\n",
       "<table border=\"1\" class=\"dataframe\">\n",
       "  <thead>\n",
       "    <tr style=\"text-align: right;\">\n",
       "      <th></th>\n",
       "      <th>name</th>\n",
       "      <th>genre</th>\n",
       "      <th>type</th>\n",
       "      <th>episodes</th>\n",
       "      <th>rating</th>\n",
       "      <th>members</th>\n",
       "    </tr>\n",
       "    <tr>\n",
       "      <th>anime_id</th>\n",
       "      <th></th>\n",
       "      <th></th>\n",
       "      <th></th>\n",
       "      <th></th>\n",
       "      <th></th>\n",
       "      <th></th>\n",
       "    </tr>\n",
       "  </thead>\n",
       "  <tbody>\n",
       "    <tr>\n",
       "      <th>32281</th>\n",
       "      <td>Kimi no Na wa.</td>\n",
       "      <td>Drama, Romance, School, Supernatural</td>\n",
       "      <td>Movie</td>\n",
       "      <td>1</td>\n",
       "      <td>9.37</td>\n",
       "      <td>200630</td>\n",
       "    </tr>\n",
       "    <tr>\n",
       "      <th>5114</th>\n",
       "      <td>Fullmetal Alchemist: Brotherhood</td>\n",
       "      <td>Action, Adventure, Drama, Fantasy, Magic, Mili...</td>\n",
       "      <td>TV</td>\n",
       "      <td>64</td>\n",
       "      <td>9.26</td>\n",
       "      <td>793665</td>\n",
       "    </tr>\n",
       "    <tr>\n",
       "      <th>28977</th>\n",
       "      <td>Gintama°</td>\n",
       "      <td>Action, Comedy, Historical, Parody, Samurai, S...</td>\n",
       "      <td>TV</td>\n",
       "      <td>51</td>\n",
       "      <td>9.25</td>\n",
       "      <td>114262</td>\n",
       "    </tr>\n",
       "    <tr>\n",
       "      <th>9253</th>\n",
       "      <td>Steins;Gate</td>\n",
       "      <td>Sci-Fi, Thriller</td>\n",
       "      <td>TV</td>\n",
       "      <td>24</td>\n",
       "      <td>9.17</td>\n",
       "      <td>673572</td>\n",
       "    </tr>\n",
       "    <tr>\n",
       "      <th>9969</th>\n",
       "      <td>Gintama&amp;#039;</td>\n",
       "      <td>Action, Comedy, Historical, Parody, Samurai, S...</td>\n",
       "      <td>TV</td>\n",
       "      <td>51</td>\n",
       "      <td>9.16</td>\n",
       "      <td>151266</td>\n",
       "    </tr>\n",
       "  </tbody>\n",
       "</table>\n",
       "</div>"
      ],
      "text/plain": [
       "                                      name  \\\n",
       "anime_id                                     \n",
       "32281                       Kimi no Na wa.   \n",
       "5114      Fullmetal Alchemist: Brotherhood   \n",
       "28977                             Gintama°   \n",
       "9253                           Steins;Gate   \n",
       "9969                         Gintama&#039;   \n",
       "\n",
       "                                                      genre   type episodes  \\\n",
       "anime_id                                                                      \n",
       "32281                  Drama, Romance, School, Supernatural  Movie        1   \n",
       "5114      Action, Adventure, Drama, Fantasy, Magic, Mili...     TV       64   \n",
       "28977     Action, Comedy, Historical, Parody, Samurai, S...     TV       51   \n",
       "9253                                       Sci-Fi, Thriller     TV       24   \n",
       "9969      Action, Comedy, Historical, Parody, Samurai, S...     TV       51   \n",
       "\n",
       "          rating  members  \n",
       "anime_id                   \n",
       "32281       9.37   200630  \n",
       "5114        9.26   793665  \n",
       "28977       9.25   114262  \n",
       "9253        9.17   673572  \n",
       "9969        9.16   151266  "
      ]
     },
     "execution_count": 12,
     "metadata": {},
     "output_type": "execute_result"
    }
   ],
   "source": [
    "df.head()"
   ]
  },
  {
   "cell_type": "code",
   "execution_count": 13,
   "id": "2b6cac95",
   "metadata": {},
   "outputs": [
    {
     "data": {
      "text/html": [
       "<div>\n",
       "<style scoped>\n",
       "    .dataframe tbody tr th:only-of-type {\n",
       "        vertical-align: middle;\n",
       "    }\n",
       "\n",
       "    .dataframe tbody tr th {\n",
       "        vertical-align: top;\n",
       "    }\n",
       "\n",
       "    .dataframe thead th {\n",
       "        text-align: right;\n",
       "    }\n",
       "</style>\n",
       "<table border=\"1\" class=\"dataframe\">\n",
       "  <thead>\n",
       "    <tr style=\"text-align: right;\">\n",
       "      <th></th>\n",
       "      <th>name</th>\n",
       "      <th>genre</th>\n",
       "      <th>type</th>\n",
       "      <th>episodes</th>\n",
       "      <th>rating</th>\n",
       "      <th>members</th>\n",
       "    </tr>\n",
       "    <tr>\n",
       "      <th>anime_id</th>\n",
       "      <th></th>\n",
       "      <th></th>\n",
       "      <th></th>\n",
       "      <th></th>\n",
       "      <th></th>\n",
       "      <th></th>\n",
       "    </tr>\n",
       "  </thead>\n",
       "  <tbody>\n",
       "    <tr>\n",
       "      <th>9316</th>\n",
       "      <td>Toushindai My Lover: Minami tai Mecha-Minami</td>\n",
       "      <td>Hentai</td>\n",
       "      <td>OVA</td>\n",
       "      <td>1</td>\n",
       "      <td>4.15</td>\n",
       "      <td>211</td>\n",
       "    </tr>\n",
       "    <tr>\n",
       "      <th>5543</th>\n",
       "      <td>Under World</td>\n",
       "      <td>Hentai</td>\n",
       "      <td>OVA</td>\n",
       "      <td>1</td>\n",
       "      <td>4.28</td>\n",
       "      <td>183</td>\n",
       "    </tr>\n",
       "    <tr>\n",
       "      <th>5621</th>\n",
       "      <td>Violence Gekiga David no Hoshi</td>\n",
       "      <td>Hentai</td>\n",
       "      <td>OVA</td>\n",
       "      <td>4</td>\n",
       "      <td>4.88</td>\n",
       "      <td>219</td>\n",
       "    </tr>\n",
       "    <tr>\n",
       "      <th>6133</th>\n",
       "      <td>Violence Gekiga Shin David no Hoshi: Inma Dens...</td>\n",
       "      <td>Hentai</td>\n",
       "      <td>OVA</td>\n",
       "      <td>1</td>\n",
       "      <td>4.98</td>\n",
       "      <td>175</td>\n",
       "    </tr>\n",
       "    <tr>\n",
       "      <th>26081</th>\n",
       "      <td>Yasuji no Pornorama: Yacchimae!!</td>\n",
       "      <td>Hentai</td>\n",
       "      <td>Movie</td>\n",
       "      <td>1</td>\n",
       "      <td>5.46</td>\n",
       "      <td>142</td>\n",
       "    </tr>\n",
       "  </tbody>\n",
       "</table>\n",
       "</div>"
      ],
      "text/plain": [
       "                                                       name   genre   type  \\\n",
       "anime_id                                                                     \n",
       "9316           Toushindai My Lover: Minami tai Mecha-Minami  Hentai    OVA   \n",
       "5543                                            Under World  Hentai    OVA   \n",
       "5621                         Violence Gekiga David no Hoshi  Hentai    OVA   \n",
       "6133      Violence Gekiga Shin David no Hoshi: Inma Dens...  Hentai    OVA   \n",
       "26081                      Yasuji no Pornorama: Yacchimae!!  Hentai  Movie   \n",
       "\n",
       "         episodes  rating  members  \n",
       "anime_id                            \n",
       "9316            1    4.15      211  \n",
       "5543            1    4.28      183  \n",
       "5621            4    4.88      219  \n",
       "6133            1    4.98      175  \n",
       "26081           1    5.46      142  "
      ]
     },
     "execution_count": 13,
     "metadata": {},
     "output_type": "execute_result"
    }
   ],
   "source": [
    "# el valor por defecto de los métodos head y tail es 5, es decir muestra 5 filas\n",
    "# por este motivo no lo hemos especificado antes en el head\n",
    "df.tail(5)"
   ]
  },
  {
   "cell_type": "markdown",
   "id": "b7a24899",
   "metadata": {},
   "source": [
    "Muy a menudo queremos sacar una pequeña muestra de clientes de nuestra tabla para analizarla rápidamente.\n",
    "\n",
    "El método `df.sample(nr_registros)` nos permite hacer una muestra aleatoria sin reemplazo.\n",
    "\n",
    "Con la siguiente línea de código vamos a seleccionar al azar 15 registros de nuestro dataset."
   ]
  },
  {
   "cell_type": "code",
   "execution_count": 14,
   "id": "9f842cb8",
   "metadata": {},
   "outputs": [
    {
     "data": {
      "text/html": [
       "<div>\n",
       "<style scoped>\n",
       "    .dataframe tbody tr th:only-of-type {\n",
       "        vertical-align: middle;\n",
       "    }\n",
       "\n",
       "    .dataframe tbody tr th {\n",
       "        vertical-align: top;\n",
       "    }\n",
       "\n",
       "    .dataframe thead th {\n",
       "        text-align: right;\n",
       "    }\n",
       "</style>\n",
       "<table border=\"1\" class=\"dataframe\">\n",
       "  <thead>\n",
       "    <tr style=\"text-align: right;\">\n",
       "      <th></th>\n",
       "      <th>name</th>\n",
       "      <th>genre</th>\n",
       "      <th>type</th>\n",
       "      <th>episodes</th>\n",
       "      <th>rating</th>\n",
       "      <th>members</th>\n",
       "    </tr>\n",
       "    <tr>\n",
       "      <th>anime_id</th>\n",
       "      <th></th>\n",
       "      <th></th>\n",
       "      <th></th>\n",
       "      <th></th>\n",
       "      <th></th>\n",
       "      <th></th>\n",
       "    </tr>\n",
       "  </thead>\n",
       "  <tbody>\n",
       "    <tr>\n",
       "      <th>6880</th>\n",
       "      <td>Deadman Wonderland</td>\n",
       "      <td>Action, Horror, Sci-Fi</td>\n",
       "      <td>TV</td>\n",
       "      <td>12</td>\n",
       "      <td>7.48</td>\n",
       "      <td>453454</td>\n",
       "    </tr>\n",
       "    <tr>\n",
       "      <th>10172</th>\n",
       "      <td>Freezing Specials</td>\n",
       "      <td>Action, Comedy, Ecchi</td>\n",
       "      <td>Special</td>\n",
       "      <td>6</td>\n",
       "      <td>6.74</td>\n",
       "      <td>28125</td>\n",
       "    </tr>\n",
       "    <tr>\n",
       "      <th>19187</th>\n",
       "      <td>Fake Doll</td>\n",
       "      <td>Music</td>\n",
       "      <td>Music</td>\n",
       "      <td>1</td>\n",
       "      <td>5.96</td>\n",
       "      <td>893</td>\n",
       "    </tr>\n",
       "    <tr>\n",
       "      <th>1274</th>\n",
       "      <td>Injuu Gakuen EX</td>\n",
       "      <td>Demons, Hentai</td>\n",
       "      <td>OVA</td>\n",
       "      <td>4</td>\n",
       "      <td>6.34</td>\n",
       "      <td>1760</td>\n",
       "    </tr>\n",
       "    <tr>\n",
       "      <th>6062</th>\n",
       "      <td>Duel Masters Movie 2: Lunatic God Saga</td>\n",
       "      <td>Action, Adventure, Comedy, Shounen</td>\n",
       "      <td>Movie</td>\n",
       "      <td>1</td>\n",
       "      <td>6.39</td>\n",
       "      <td>522</td>\n",
       "    </tr>\n",
       "    <tr>\n",
       "      <th>24629</th>\n",
       "      <td>Koufuku Graffiti</td>\n",
       "      <td>Comedy, Seinen, Slice of Life</td>\n",
       "      <td>TV</td>\n",
       "      <td>12</td>\n",
       "      <td>6.84</td>\n",
       "      <td>46093</td>\n",
       "    </tr>\n",
       "    <tr>\n",
       "      <th>21829</th>\n",
       "      <td>Fella Pure: Mitarashi-san Chi no Jijou The Ani...</td>\n",
       "      <td>Hentai</td>\n",
       "      <td>OVA</td>\n",
       "      <td>1</td>\n",
       "      <td>7.52</td>\n",
       "      <td>6648</td>\n",
       "    </tr>\n",
       "    <tr>\n",
       "      <th>487</th>\n",
       "      <td>Girls Bravo: Second Season</td>\n",
       "      <td>Comedy, Ecchi, Fantasy, Harem, Romance, School</td>\n",
       "      <td>TV</td>\n",
       "      <td>13</td>\n",
       "      <td>6.90</td>\n",
       "      <td>57110</td>\n",
       "    </tr>\n",
       "    <tr>\n",
       "      <th>34427</th>\n",
       "      <td>Frame Arms Girl</td>\n",
       "      <td>Mecha</td>\n",
       "      <td>TV</td>\n",
       "      <td>Unknown</td>\n",
       "      <td>NaN</td>\n",
       "      <td>258</td>\n",
       "    </tr>\n",
       "    <tr>\n",
       "      <th>2055</th>\n",
       "      <td>Coo: Tooi Umi kara Kita Coo</td>\n",
       "      <td>Adventure, Drama, Mystery, Slice of Life</td>\n",
       "      <td>Movie</td>\n",
       "      <td>1</td>\n",
       "      <td>7.01</td>\n",
       "      <td>850</td>\n",
       "    </tr>\n",
       "    <tr>\n",
       "      <th>8655</th>\n",
       "      <td>Bijukubo</td>\n",
       "      <td>Hentai</td>\n",
       "      <td>OVA</td>\n",
       "      <td>2</td>\n",
       "      <td>6.47</td>\n",
       "      <td>2918</td>\n",
       "    </tr>\n",
       "    <tr>\n",
       "      <th>9023</th>\n",
       "      <td>Katekyo Hitman Reborn!: Mr. Rebokku no Ciao Ci...</td>\n",
       "      <td>Comedy</td>\n",
       "      <td>Special</td>\n",
       "      <td>3</td>\n",
       "      <td>7.59</td>\n",
       "      <td>12153</td>\n",
       "    </tr>\n",
       "    <tr>\n",
       "      <th>336</th>\n",
       "      <td>Ginyuu Mokushiroku Meine Liebe</td>\n",
       "      <td>Fantasy, Shoujo</td>\n",
       "      <td>TV</td>\n",
       "      <td>13</td>\n",
       "      <td>6.54</td>\n",
       "      <td>9540</td>\n",
       "    </tr>\n",
       "    <tr>\n",
       "      <th>12727</th>\n",
       "      <td>Thermae Romae Specials</td>\n",
       "      <td>Comedy, Historical, Seinen</td>\n",
       "      <td>Special</td>\n",
       "      <td>2</td>\n",
       "      <td>7.01</td>\n",
       "      <td>1953</td>\n",
       "    </tr>\n",
       "    <tr>\n",
       "      <th>33084</th>\n",
       "      <td>Wa Wa Wa Wappi-chan 2nd Season</td>\n",
       "      <td>Kids</td>\n",
       "      <td>TV</td>\n",
       "      <td>26</td>\n",
       "      <td>5.67</td>\n",
       "      <td>28</td>\n",
       "    </tr>\n",
       "  </tbody>\n",
       "</table>\n",
       "</div>"
      ],
      "text/plain": [
       "                                                       name  \\\n",
       "anime_id                                                      \n",
       "6880                                     Deadman Wonderland   \n",
       "10172                                     Freezing Specials   \n",
       "19187                                             Fake Doll   \n",
       "1274                                        Injuu Gakuen EX   \n",
       "6062                 Duel Masters Movie 2: Lunatic God Saga   \n",
       "24629                                      Koufuku Graffiti   \n",
       "21829     Fella Pure: Mitarashi-san Chi no Jijou The Ani...   \n",
       "487                              Girls Bravo: Second Season   \n",
       "34427                                       Frame Arms Girl   \n",
       "2055                            Coo: Tooi Umi kara Kita Coo   \n",
       "8655                                               Bijukubo   \n",
       "9023      Katekyo Hitman Reborn!: Mr. Rebokku no Ciao Ci...   \n",
       "336                          Ginyuu Mokushiroku Meine Liebe   \n",
       "12727                                Thermae Romae Specials   \n",
       "33084                        Wa Wa Wa Wappi-chan 2nd Season   \n",
       "\n",
       "                                                   genre     type episodes  \\\n",
       "anime_id                                                                     \n",
       "6880                              Action, Horror, Sci-Fi       TV       12   \n",
       "10172                              Action, Comedy, Ecchi  Special        6   \n",
       "19187                                              Music    Music        1   \n",
       "1274                                      Demons, Hentai      OVA        4   \n",
       "6062                  Action, Adventure, Comedy, Shounen    Movie        1   \n",
       "24629                      Comedy, Seinen, Slice of Life       TV       12   \n",
       "21829                                             Hentai      OVA        1   \n",
       "487       Comedy, Ecchi, Fantasy, Harem, Romance, School       TV       13   \n",
       "34427                                              Mecha       TV  Unknown   \n",
       "2055            Adventure, Drama, Mystery, Slice of Life    Movie        1   \n",
       "8655                                              Hentai      OVA        2   \n",
       "9023                                              Comedy  Special        3   \n",
       "336                                      Fantasy, Shoujo       TV       13   \n",
       "12727                         Comedy, Historical, Seinen  Special        2   \n",
       "33084                                               Kids       TV       26   \n",
       "\n",
       "          rating  members  \n",
       "anime_id                   \n",
       "6880        7.48   453454  \n",
       "10172       6.74    28125  \n",
       "19187       5.96      893  \n",
       "1274        6.34     1760  \n",
       "6062        6.39      522  \n",
       "24629       6.84    46093  \n",
       "21829       7.52     6648  \n",
       "487         6.90    57110  \n",
       "34427        NaN      258  \n",
       "2055        7.01      850  \n",
       "8655        6.47     2918  \n",
       "9023        7.59    12153  \n",
       "336         6.54     9540  \n",
       "12727       7.01     1953  \n",
       "33084       5.67       28  "
      ]
     },
     "execution_count": 14,
     "metadata": {},
     "output_type": "execute_result"
    }
   ],
   "source": [
    "df.sample(15)"
   ]
  },
  {
   "cell_type": "markdown",
   "id": "690e9b43",
   "metadata": {},
   "source": [
    "Vemos que nuestro dataset está formado por 6 columnas.\n",
    "\n",
    "Cuando usamos pandas, decimos que 1 columna es un **pandas Series**. \n",
    "\n",
    "Por tanto, nuestro **DataFrame** es básicamente una colección de 6 pandas **Series**.\n",
    "\n",
    "Si queremos seleccionar 1 única columna de nuestro **DataFrame** lo podemos hacer con el siguiente código."
   ]
  },
  {
   "cell_type": "code",
   "execution_count": 15,
   "id": "29bb5cc6",
   "metadata": {},
   "outputs": [],
   "source": [
    "series = df[\"rating\"]"
   ]
  },
  {
   "cell_type": "markdown",
   "id": "33473edc",
   "metadata": {},
   "source": [
    "Las **Series** a menudo tienen los mismos métodos que un **DataFrame**: `head`, `tail`etc."
   ]
  },
  {
   "cell_type": "code",
   "execution_count": 16,
   "id": "4d8d04ce",
   "metadata": {},
   "outputs": [
    {
     "data": {
      "text/plain": [
       "anime_id\n",
       "32281   9.37\n",
       "5114    9.26\n",
       "28977   9.25\n",
       "9253    9.17\n",
       "9969    9.16\n",
       "Name: rating, dtype: float64"
      ]
     },
     "execution_count": 16,
     "metadata": {},
     "output_type": "execute_result"
    }
   ],
   "source": [
    "series.head()"
   ]
  },
  {
   "cell_type": "markdown",
   "id": "19441013",
   "metadata": {},
   "source": [
    "En el ejemplo de antes, hemos utilizado el nombre de la columna entre **corchetes** para seleccionar 1 columna.\n",
    "\n",
    "Existen otras formas de hacer lo mismo.\n",
    "\n",
    "Por ejemplo, si el nombre **<u>no contiene ningún espacio</u>**, podemos escribir `df.nombre_columna` para obtener este **Series**."
   ]
  },
  {
   "cell_type": "code",
   "execution_count": 17,
   "id": "260729cf",
   "metadata": {},
   "outputs": [
    {
     "data": {
      "text/plain": [
       "anime_id\n",
       "32281   9.37\n",
       "5114    9.26\n",
       "28977   9.25\n",
       "9253    9.17\n",
       "9969    9.16\n",
       "        ... \n",
       "9316    4.15\n",
       "5543    4.28\n",
       "5621    4.88\n",
       "6133    4.98\n",
       "26081   5.46\n",
       "Name: rating, Length: 12294, dtype: float64"
      ]
     },
     "execution_count": 17,
     "metadata": {},
     "output_type": "execute_result"
    }
   ],
   "source": [
    "df.rating"
   ]
  },
  {
   "cell_type": "markdown",
   "id": "b1a2719d",
   "metadata": {},
   "source": [
    "Por último, es muy común utilizar el método `loc` o `iloc` para seleccionar columnas o filas o una combinación de ambas.\n",
    "\n",
    "Con `loc` podemos acceder a diferentes filas usando el nombre de la fila o columna."
   ]
  },
  {
   "cell_type": "code",
   "execution_count": 18,
   "id": "a9185fce",
   "metadata": {},
   "outputs": [
    {
     "data": {
      "text/html": [
       "<div>\n",
       "<style scoped>\n",
       "    .dataframe tbody tr th:only-of-type {\n",
       "        vertical-align: middle;\n",
       "    }\n",
       "\n",
       "    .dataframe tbody tr th {\n",
       "        vertical-align: top;\n",
       "    }\n",
       "\n",
       "    .dataframe thead th {\n",
       "        text-align: right;\n",
       "    }\n",
       "</style>\n",
       "<table border=\"1\" class=\"dataframe\">\n",
       "  <thead>\n",
       "    <tr style=\"text-align: right;\">\n",
       "      <th></th>\n",
       "      <th>name</th>\n",
       "      <th>genre</th>\n",
       "      <th>type</th>\n",
       "      <th>episodes</th>\n",
       "      <th>rating</th>\n",
       "      <th>members</th>\n",
       "    </tr>\n",
       "    <tr>\n",
       "      <th>anime_id</th>\n",
       "      <th></th>\n",
       "      <th></th>\n",
       "      <th></th>\n",
       "      <th></th>\n",
       "      <th></th>\n",
       "      <th></th>\n",
       "    </tr>\n",
       "  </thead>\n",
       "  <tbody>\n",
       "    <tr>\n",
       "      <th>32281</th>\n",
       "      <td>Kimi no Na wa.</td>\n",
       "      <td>Drama, Romance, School, Supernatural</td>\n",
       "      <td>Movie</td>\n",
       "      <td>1</td>\n",
       "      <td>9.37</td>\n",
       "      <td>200630</td>\n",
       "    </tr>\n",
       "    <tr>\n",
       "      <th>5114</th>\n",
       "      <td>Fullmetal Alchemist: Brotherhood</td>\n",
       "      <td>Action, Adventure, Drama, Fantasy, Magic, Mili...</td>\n",
       "      <td>TV</td>\n",
       "      <td>64</td>\n",
       "      <td>9.26</td>\n",
       "      <td>793665</td>\n",
       "    </tr>\n",
       "    <tr>\n",
       "      <th>28977</th>\n",
       "      <td>Gintama°</td>\n",
       "      <td>Action, Comedy, Historical, Parody, Samurai, S...</td>\n",
       "      <td>TV</td>\n",
       "      <td>51</td>\n",
       "      <td>9.25</td>\n",
       "      <td>114262</td>\n",
       "    </tr>\n",
       "    <tr>\n",
       "      <th>9253</th>\n",
       "      <td>Steins;Gate</td>\n",
       "      <td>Sci-Fi, Thriller</td>\n",
       "      <td>TV</td>\n",
       "      <td>24</td>\n",
       "      <td>9.17</td>\n",
       "      <td>673572</td>\n",
       "    </tr>\n",
       "    <tr>\n",
       "      <th>9969</th>\n",
       "      <td>Gintama&amp;#039;</td>\n",
       "      <td>Action, Comedy, Historical, Parody, Samurai, S...</td>\n",
       "      <td>TV</td>\n",
       "      <td>51</td>\n",
       "      <td>9.16</td>\n",
       "      <td>151266</td>\n",
       "    </tr>\n",
       "  </tbody>\n",
       "</table>\n",
       "</div>"
      ],
      "text/plain": [
       "                                      name  \\\n",
       "anime_id                                     \n",
       "32281                       Kimi no Na wa.   \n",
       "5114      Fullmetal Alchemist: Brotherhood   \n",
       "28977                             Gintama°   \n",
       "9253                           Steins;Gate   \n",
       "9969                         Gintama&#039;   \n",
       "\n",
       "                                                      genre   type episodes  \\\n",
       "anime_id                                                                      \n",
       "32281                  Drama, Romance, School, Supernatural  Movie        1   \n",
       "5114      Action, Adventure, Drama, Fantasy, Magic, Mili...     TV       64   \n",
       "28977     Action, Comedy, Historical, Parody, Samurai, S...     TV       51   \n",
       "9253                                       Sci-Fi, Thriller     TV       24   \n",
       "9969      Action, Comedy, Historical, Parody, Samurai, S...     TV       51   \n",
       "\n",
       "          rating  members  \n",
       "anime_id                   \n",
       "32281       9.37   200630  \n",
       "5114        9.26   793665  \n",
       "28977       9.25   114262  \n",
       "9253        9.17   673572  \n",
       "9969        9.16   151266  "
      ]
     },
     "execution_count": 18,
     "metadata": {},
     "output_type": "execute_result"
    }
   ],
   "source": [
    "df.head()"
   ]
  },
  {
   "cell_type": "code",
   "execution_count": 19,
   "id": "08fd4721",
   "metadata": {},
   "outputs": [
    {
     "data": {
      "text/plain": [
       "name                              Kimi no Na wa.\n",
       "genre       Drama, Romance, School, Supernatural\n",
       "type                                       Movie\n",
       "episodes                                       1\n",
       "rating                                      9.37\n",
       "members                                   200630\n",
       "Name: 32281, dtype: object"
      ]
     },
     "execution_count": 19,
     "metadata": {},
     "output_type": "execute_result"
    }
   ],
   "source": [
    "# en este ejemplo, 32281 es el anime_id que tenemos en la primera fila (índice 0).\n",
    "# si fuese un text en vez de número deberíamos escribir el nombre con comillas simples '' o comillas dobles \"\".\n",
    "df.loc[32281]"
   ]
  },
  {
   "cell_type": "markdown",
   "id": "8f40b732",
   "metadata": {},
   "source": [
    "Con el loc puedo seleccionar diferentes filas y columnas especificando más parámetros en el loc."
   ]
  },
  {
   "cell_type": "code",
   "execution_count": 20,
   "id": "e5bc108b",
   "metadata": {},
   "outputs": [
    {
     "data": {
      "text/plain": [
       "'Drama, Romance, School, Supernatural'"
      ]
     },
     "execution_count": 20,
     "metadata": {},
     "output_type": "execute_result"
    }
   ],
   "source": [
    "df.loc[32281, \"genre\"]"
   ]
  },
  {
   "cell_type": "markdown",
   "id": "dbcb1fd7",
   "metadata": {},
   "source": [
    "Si quiero seleccionar \"genre\" y también la columna de \"type\" lo puedo hacer poniendo \"genre\" y \"type\" dentro de una lista de python: `[\"genre\", \"type\"]` es decir, usamos otra vez corchetes."
   ]
  },
  {
   "cell_type": "code",
   "execution_count": 21,
   "id": "fb24d65b",
   "metadata": {},
   "outputs": [
    {
     "data": {
      "text/plain": [
       "genre    Drama, Romance, School, Supernatural\n",
       "type                                    Movie\n",
       "Name: 32281, dtype: object"
      ]
     },
     "execution_count": 21,
     "metadata": {},
     "output_type": "execute_result"
    }
   ],
   "source": [
    "df.loc[32281, [\"genre\", \"type\"]]"
   ]
  },
  {
   "cell_type": "markdown",
   "id": "fea630e1",
   "metadata": {},
   "source": [
    "Mientras que `loc` permite acceder a las diferentes filas y columnas por el nombre, `iloc` lo hace por el índice."
   ]
  },
  {
   "cell_type": "code",
   "execution_count": 22,
   "id": "eebf3078",
   "metadata": {},
   "outputs": [
    {
     "data": {
      "text/html": [
       "<div>\n",
       "<style scoped>\n",
       "    .dataframe tbody tr th:only-of-type {\n",
       "        vertical-align: middle;\n",
       "    }\n",
       "\n",
       "    .dataframe tbody tr th {\n",
       "        vertical-align: top;\n",
       "    }\n",
       "\n",
       "    .dataframe thead th {\n",
       "        text-align: right;\n",
       "    }\n",
       "</style>\n",
       "<table border=\"1\" class=\"dataframe\">\n",
       "  <thead>\n",
       "    <tr style=\"text-align: right;\">\n",
       "      <th></th>\n",
       "      <th>name</th>\n",
       "      <th>genre</th>\n",
       "      <th>type</th>\n",
       "      <th>episodes</th>\n",
       "      <th>rating</th>\n",
       "      <th>members</th>\n",
       "    </tr>\n",
       "    <tr>\n",
       "      <th>anime_id</th>\n",
       "      <th></th>\n",
       "      <th></th>\n",
       "      <th></th>\n",
       "      <th></th>\n",
       "      <th></th>\n",
       "      <th></th>\n",
       "    </tr>\n",
       "  </thead>\n",
       "  <tbody>\n",
       "    <tr>\n",
       "      <th>32281</th>\n",
       "      <td>Kimi no Na wa.</td>\n",
       "      <td>Drama, Romance, School, Supernatural</td>\n",
       "      <td>Movie</td>\n",
       "      <td>1</td>\n",
       "      <td>9.37</td>\n",
       "      <td>200630</td>\n",
       "    </tr>\n",
       "    <tr>\n",
       "      <th>5114</th>\n",
       "      <td>Fullmetal Alchemist: Brotherhood</td>\n",
       "      <td>Action, Adventure, Drama, Fantasy, Magic, Mili...</td>\n",
       "      <td>TV</td>\n",
       "      <td>64</td>\n",
       "      <td>9.26</td>\n",
       "      <td>793665</td>\n",
       "    </tr>\n",
       "    <tr>\n",
       "      <th>28977</th>\n",
       "      <td>Gintama°</td>\n",
       "      <td>Action, Comedy, Historical, Parody, Samurai, S...</td>\n",
       "      <td>TV</td>\n",
       "      <td>51</td>\n",
       "      <td>9.25</td>\n",
       "      <td>114262</td>\n",
       "    </tr>\n",
       "    <tr>\n",
       "      <th>9253</th>\n",
       "      <td>Steins;Gate</td>\n",
       "      <td>Sci-Fi, Thriller</td>\n",
       "      <td>TV</td>\n",
       "      <td>24</td>\n",
       "      <td>9.17</td>\n",
       "      <td>673572</td>\n",
       "    </tr>\n",
       "    <tr>\n",
       "      <th>9969</th>\n",
       "      <td>Gintama&amp;#039;</td>\n",
       "      <td>Action, Comedy, Historical, Parody, Samurai, S...</td>\n",
       "      <td>TV</td>\n",
       "      <td>51</td>\n",
       "      <td>9.16</td>\n",
       "      <td>151266</td>\n",
       "    </tr>\n",
       "  </tbody>\n",
       "</table>\n",
       "</div>"
      ],
      "text/plain": [
       "                                      name  \\\n",
       "anime_id                                     \n",
       "32281                       Kimi no Na wa.   \n",
       "5114      Fullmetal Alchemist: Brotherhood   \n",
       "28977                             Gintama°   \n",
       "9253                           Steins;Gate   \n",
       "9969                         Gintama&#039;   \n",
       "\n",
       "                                                      genre   type episodes  \\\n",
       "anime_id                                                                      \n",
       "32281                  Drama, Romance, School, Supernatural  Movie        1   \n",
       "5114      Action, Adventure, Drama, Fantasy, Magic, Mili...     TV       64   \n",
       "28977     Action, Comedy, Historical, Parody, Samurai, S...     TV       51   \n",
       "9253                                       Sci-Fi, Thriller     TV       24   \n",
       "9969      Action, Comedy, Historical, Parody, Samurai, S...     TV       51   \n",
       "\n",
       "          rating  members  \n",
       "anime_id                   \n",
       "32281       9.37   200630  \n",
       "5114        9.26   793665  \n",
       "28977       9.25   114262  \n",
       "9253        9.17   673572  \n",
       "9969        9.16   151266  "
      ]
     },
     "execution_count": 22,
     "metadata": {},
     "output_type": "execute_result"
    }
   ],
   "source": [
    "df.head()"
   ]
  },
  {
   "cell_type": "code",
   "execution_count": 23,
   "id": "795e56db",
   "metadata": {},
   "outputs": [
    {
     "data": {
      "text/plain": [
       "name                              Kimi no Na wa.\n",
       "genre       Drama, Romance, School, Supernatural\n",
       "type                                       Movie\n",
       "episodes                                       1\n",
       "rating                                      9.37\n",
       "members                                   200630\n",
       "Name: 32281, dtype: object"
      ]
     },
     "execution_count": 23,
     "metadata": {},
     "output_type": "execute_result"
    }
   ],
   "source": [
    "# el resultado es el mismo que usando df.loc[32281]\n",
    "df.iloc[0]"
   ]
  },
  {
   "cell_type": "code",
   "execution_count": 24,
   "id": "ab9feade",
   "metadata": {},
   "outputs": [
    {
     "data": {
      "text/plain": [
       "'Drama, Romance, School, Supernatural'"
      ]
     },
     "execution_count": 24,
     "metadata": {},
     "output_type": "execute_result"
    }
   ],
   "source": [
    "# el resultado es el mismo que usando df.loc[32281, \"genre\"]\n",
    "df.iloc[0, 1]"
   ]
  },
  {
   "cell_type": "code",
   "execution_count": 25,
   "id": "5b6c0c25",
   "metadata": {},
   "outputs": [
    {
     "data": {
      "text/plain": [
       "genre    Drama, Romance, School, Supernatural\n",
       "type                                    Movie\n",
       "Name: 32281, dtype: object"
      ]
     },
     "execution_count": 25,
     "metadata": {},
     "output_type": "execute_result"
    }
   ],
   "source": [
    "# el resultado es el mismo que usando df.loc[32281, [\"genre\", \"type\"]]\n",
    "df.iloc[0, [1, 2]]"
   ]
  },
  {
   "cell_type": "markdown",
   "id": "3bf57086",
   "metadata": {},
   "source": [
    "Los métodos de antes, `loc` y `iloc` permite filtrar también varias filas como se muestra a continuación."
   ]
  },
  {
   "cell_type": "code",
   "execution_count": 26,
   "id": "476b946d",
   "metadata": {},
   "outputs": [
    {
     "data": {
      "text/html": [
       "<div>\n",
       "<style scoped>\n",
       "    .dataframe tbody tr th:only-of-type {\n",
       "        vertical-align: middle;\n",
       "    }\n",
       "\n",
       "    .dataframe tbody tr th {\n",
       "        vertical-align: top;\n",
       "    }\n",
       "\n",
       "    .dataframe thead th {\n",
       "        text-align: right;\n",
       "    }\n",
       "</style>\n",
       "<table border=\"1\" class=\"dataframe\">\n",
       "  <thead>\n",
       "    <tr style=\"text-align: right;\">\n",
       "      <th></th>\n",
       "      <th>name</th>\n",
       "      <th>episodes</th>\n",
       "    </tr>\n",
       "    <tr>\n",
       "      <th>anime_id</th>\n",
       "      <th></th>\n",
       "      <th></th>\n",
       "    </tr>\n",
       "  </thead>\n",
       "  <tbody>\n",
       "    <tr>\n",
       "      <th>32281</th>\n",
       "      <td>Kimi no Na wa.</td>\n",
       "      <td>1</td>\n",
       "    </tr>\n",
       "    <tr>\n",
       "      <th>28977</th>\n",
       "      <td>Gintama°</td>\n",
       "      <td>51</td>\n",
       "    </tr>\n",
       "  </tbody>\n",
       "</table>\n",
       "</div>"
      ],
      "text/plain": [
       "                    name episodes\n",
       "anime_id                         \n",
       "32281     Kimi no Na wa.        1\n",
       "28977           Gintama°       51"
      ]
     },
     "execution_count": 26,
     "metadata": {},
     "output_type": "execute_result"
    }
   ],
   "source": [
    "df.loc[[32281, 28977], [\"name\", \"episodes\"]]"
   ]
  },
  {
   "cell_type": "markdown",
   "id": "aaae54d4",
   "metadata": {},
   "source": [
    "Para conseguir lo mismo con `iloc` podemos hacerlo de la siguiente manera:"
   ]
  },
  {
   "cell_type": "code",
   "execution_count": 27,
   "id": "d56d4653",
   "metadata": {},
   "outputs": [
    {
     "data": {
      "text/html": [
       "<div>\n",
       "<style scoped>\n",
       "    .dataframe tbody tr th:only-of-type {\n",
       "        vertical-align: middle;\n",
       "    }\n",
       "\n",
       "    .dataframe tbody tr th {\n",
       "        vertical-align: top;\n",
       "    }\n",
       "\n",
       "    .dataframe thead th {\n",
       "        text-align: right;\n",
       "    }\n",
       "</style>\n",
       "<table border=\"1\" class=\"dataframe\">\n",
       "  <thead>\n",
       "    <tr style=\"text-align: right;\">\n",
       "      <th></th>\n",
       "      <th>name</th>\n",
       "      <th>episodes</th>\n",
       "    </tr>\n",
       "    <tr>\n",
       "      <th>anime_id</th>\n",
       "      <th></th>\n",
       "      <th></th>\n",
       "    </tr>\n",
       "  </thead>\n",
       "  <tbody>\n",
       "    <tr>\n",
       "      <th>32281</th>\n",
       "      <td>Kimi no Na wa.</td>\n",
       "      <td>1</td>\n",
       "    </tr>\n",
       "    <tr>\n",
       "      <th>28977</th>\n",
       "      <td>Gintama°</td>\n",
       "      <td>51</td>\n",
       "    </tr>\n",
       "  </tbody>\n",
       "</table>\n",
       "</div>"
      ],
      "text/plain": [
       "                    name episodes\n",
       "anime_id                         \n",
       "32281     Kimi no Na wa.        1\n",
       "28977           Gintama°       51"
      ]
     },
     "execution_count": 27,
     "metadata": {},
     "output_type": "execute_result"
    }
   ],
   "source": [
    "df.iloc[[0, 2], [0, 3]]"
   ]
  },
  {
   "cell_type": "markdown",
   "id": "1085d603",
   "metadata": {},
   "source": [
    "<a id='pandas2'></a>\n",
    "# 3.3 Mas métodos de pandas\n",
    "[Volver al índice](#index)"
   ]
  },
  {
   "cell_type": "markdown",
   "id": "a8708b03",
   "metadata": {},
   "source": [
    "Hasta ahora hemos visto los métodos más simples que hay de pandas **DataFrames**.\n",
    "\n",
    "Veamos ahora otros métodos muy utilizados y que nos permiten tener una idea sobre nuestros datos de manera muy rápida."
   ]
  },
  {
   "cell_type": "markdown",
   "id": "2eb1ebed",
   "metadata": {},
   "source": [
    "`df.info()` nos muestra un resumen sobre todas nuestras columnas.\n",
    "\n",
    "Vemos de golpe el nombre de la columna, la cantidad de no nulos que hay en cada columna y el tipo de columna que es (númerica: `int` o `float`, categórica: `category` o bien objetos python o texto: `object`)."
   ]
  },
  {
   "cell_type": "code",
   "execution_count": 28,
   "id": "1b1b6eb4",
   "metadata": {},
   "outputs": [
    {
     "name": "stdout",
     "output_type": "stream",
     "text": [
      "<class 'pandas.core.frame.DataFrame'>\n",
      "Index: 12294 entries, 32281 to 26081\n",
      "Data columns (total 6 columns):\n",
      " #   Column    Non-Null Count  Dtype  \n",
      "---  ------    --------------  -----  \n",
      " 0   name      12294 non-null  object \n",
      " 1   genre     12232 non-null  object \n",
      " 2   type      12269 non-null  object \n",
      " 3   episodes  12294 non-null  object \n",
      " 4   rating    12064 non-null  float64\n",
      " 5   members   12294 non-null  int64  \n",
      "dtypes: float64(1), int64(1), object(4)\n",
      "memory usage: 930.4+ KB\n"
     ]
    }
   ],
   "source": [
    "df.info()"
   ]
  },
  {
   "cell_type": "markdown",
   "id": "9ce96c87",
   "metadata": {},
   "source": [
    "Con el método de `df.describe()` podemos ver rápidamente algunos estadísticos rápidos de nuestras columnas númericas."
   ]
  },
  {
   "cell_type": "code",
   "execution_count": 29,
   "id": "0a8d9b08",
   "metadata": {},
   "outputs": [
    {
     "data": {
      "text/html": [
       "<div>\n",
       "<style scoped>\n",
       "    .dataframe tbody tr th:only-of-type {\n",
       "        vertical-align: middle;\n",
       "    }\n",
       "\n",
       "    .dataframe tbody tr th {\n",
       "        vertical-align: top;\n",
       "    }\n",
       "\n",
       "    .dataframe thead th {\n",
       "        text-align: right;\n",
       "    }\n",
       "</style>\n",
       "<table border=\"1\" class=\"dataframe\">\n",
       "  <thead>\n",
       "    <tr style=\"text-align: right;\">\n",
       "      <th></th>\n",
       "      <th>rating</th>\n",
       "      <th>members</th>\n",
       "    </tr>\n",
       "  </thead>\n",
       "  <tbody>\n",
       "    <tr>\n",
       "      <th>count</th>\n",
       "      <td>12064.00</td>\n",
       "      <td>12294.00</td>\n",
       "    </tr>\n",
       "    <tr>\n",
       "      <th>mean</th>\n",
       "      <td>6.47</td>\n",
       "      <td>18071.34</td>\n",
       "    </tr>\n",
       "    <tr>\n",
       "      <th>std</th>\n",
       "      <td>1.03</td>\n",
       "      <td>54820.68</td>\n",
       "    </tr>\n",
       "    <tr>\n",
       "      <th>min</th>\n",
       "      <td>1.67</td>\n",
       "      <td>5.00</td>\n",
       "    </tr>\n",
       "    <tr>\n",
       "      <th>25%</th>\n",
       "      <td>5.88</td>\n",
       "      <td>225.00</td>\n",
       "    </tr>\n",
       "    <tr>\n",
       "      <th>50%</th>\n",
       "      <td>6.57</td>\n",
       "      <td>1550.00</td>\n",
       "    </tr>\n",
       "    <tr>\n",
       "      <th>75%</th>\n",
       "      <td>7.18</td>\n",
       "      <td>9437.00</td>\n",
       "    </tr>\n",
       "    <tr>\n",
       "      <th>max</th>\n",
       "      <td>10.00</td>\n",
       "      <td>1013917.00</td>\n",
       "    </tr>\n",
       "  </tbody>\n",
       "</table>\n",
       "</div>"
      ],
      "text/plain": [
       "        rating    members\n",
       "count 12064.00   12294.00\n",
       "mean      6.47   18071.34\n",
       "std       1.03   54820.68\n",
       "min       1.67       5.00\n",
       "25%       5.88     225.00\n",
       "50%       6.57    1550.00\n",
       "75%       7.18    9437.00\n",
       "max      10.00 1013917.00"
      ]
     },
     "execution_count": 29,
     "metadata": {},
     "output_type": "execute_result"
    }
   ],
   "source": [
    "df.describe()"
   ]
  },
  {
   "cell_type": "markdown",
   "id": "be05243e",
   "metadata": {},
   "source": [
    "Otro método muy común que usamos a menudo es `df.isnull()` para calcular el número de nulos que tenemos en cada columna.\n",
    "\n",
    "Si observamods con detenimieto vemos que los valores de antes (los números y el texto) han desaparecido y ahora únicamente tenemos True y False.\n",
    "\n",
    "Decimos que en este caso, hemos \"evaluado\" si cada valor es un nulo o no\n",
    "\n",
    "1. Cuando es un nulo -> True\n",
    "1. Cuando no es un nulo -> False\n",
    "\n",
    "**Además, en este ejemplo, vemos que podemos \"concatenar\" o utilizar un método detrás de otro en cadena.**"
   ]
  },
  {
   "cell_type": "code",
   "execution_count": 30,
   "id": "88bb53ce",
   "metadata": {},
   "outputs": [
    {
     "data": {
      "text/html": [
       "<div>\n",
       "<style scoped>\n",
       "    .dataframe tbody tr th:only-of-type {\n",
       "        vertical-align: middle;\n",
       "    }\n",
       "\n",
       "    .dataframe tbody tr th {\n",
       "        vertical-align: top;\n",
       "    }\n",
       "\n",
       "    .dataframe thead th {\n",
       "        text-align: right;\n",
       "    }\n",
       "</style>\n",
       "<table border=\"1\" class=\"dataframe\">\n",
       "  <thead>\n",
       "    <tr style=\"text-align: right;\">\n",
       "      <th></th>\n",
       "      <th>name</th>\n",
       "      <th>genre</th>\n",
       "      <th>type</th>\n",
       "      <th>episodes</th>\n",
       "      <th>rating</th>\n",
       "      <th>members</th>\n",
       "    </tr>\n",
       "    <tr>\n",
       "      <th>anime_id</th>\n",
       "      <th></th>\n",
       "      <th></th>\n",
       "      <th></th>\n",
       "      <th></th>\n",
       "      <th></th>\n",
       "      <th></th>\n",
       "    </tr>\n",
       "  </thead>\n",
       "  <tbody>\n",
       "    <tr>\n",
       "      <th>32281</th>\n",
       "      <td>False</td>\n",
       "      <td>False</td>\n",
       "      <td>False</td>\n",
       "      <td>False</td>\n",
       "      <td>False</td>\n",
       "      <td>False</td>\n",
       "    </tr>\n",
       "    <tr>\n",
       "      <th>5114</th>\n",
       "      <td>False</td>\n",
       "      <td>False</td>\n",
       "      <td>False</td>\n",
       "      <td>False</td>\n",
       "      <td>False</td>\n",
       "      <td>False</td>\n",
       "    </tr>\n",
       "    <tr>\n",
       "      <th>28977</th>\n",
       "      <td>False</td>\n",
       "      <td>False</td>\n",
       "      <td>False</td>\n",
       "      <td>False</td>\n",
       "      <td>False</td>\n",
       "      <td>False</td>\n",
       "    </tr>\n",
       "    <tr>\n",
       "      <th>9253</th>\n",
       "      <td>False</td>\n",
       "      <td>False</td>\n",
       "      <td>False</td>\n",
       "      <td>False</td>\n",
       "      <td>False</td>\n",
       "      <td>False</td>\n",
       "    </tr>\n",
       "    <tr>\n",
       "      <th>9969</th>\n",
       "      <td>False</td>\n",
       "      <td>False</td>\n",
       "      <td>False</td>\n",
       "      <td>False</td>\n",
       "      <td>False</td>\n",
       "      <td>False</td>\n",
       "    </tr>\n",
       "  </tbody>\n",
       "</table>\n",
       "</div>"
      ],
      "text/plain": [
       "           name  genre   type  episodes  rating  members\n",
       "anime_id                                                \n",
       "32281     False  False  False     False   False    False\n",
       "5114      False  False  False     False   False    False\n",
       "28977     False  False  False     False   False    False\n",
       "9253      False  False  False     False   False    False\n",
       "9969      False  False  False     False   False    False"
      ]
     },
     "execution_count": 30,
     "metadata": {},
     "output_type": "execute_result"
    }
   ],
   "source": [
    "df.head().isnull()"
   ]
  },
  {
   "cell_type": "markdown",
   "id": "23294f6c",
   "metadata": {},
   "source": [
    "Quitamos el método de `.head()` y añadimos el método de `.sum()` con esto podemos saber el número de nulos que tenemos en cada columna."
   ]
  },
  {
   "cell_type": "code",
   "execution_count": 31,
   "id": "5026c6b7",
   "metadata": {},
   "outputs": [
    {
     "data": {
      "text/plain": [
       "name          0\n",
       "genre        62\n",
       "type         25\n",
       "episodes      0\n",
       "rating      230\n",
       "members       0\n",
       "dtype: int64"
      ]
     },
     "execution_count": 31,
     "metadata": {},
     "output_type": "execute_result"
    }
   ],
   "source": [
    "df.isnull().sum()"
   ]
  },
  {
   "cell_type": "markdown",
   "id": "45f344b9",
   "metadata": {},
   "source": [
    "Si tengo valores nulos, puedo utilizar el método de `.fillna()` para reemplazar los valores que faltan por otro valor que a mi me interesa."
   ]
  },
  {
   "cell_type": "code",
   "execution_count": 32,
   "id": "a01a57c2",
   "metadata": {},
   "outputs": [],
   "source": [
    "df[\"genre\"] = df[\"genre\"].fillna(\"Missing\")"
   ]
  },
  {
   "cell_type": "markdown",
   "id": "d7277da2",
   "metadata": {},
   "source": [
    "En la celda anterior, hemos reemplazado todos los valores nulos que tenemos en la columna de **genre** por el valor **Missing**."
   ]
  },
  {
   "cell_type": "markdown",
   "id": "1be8cc83",
   "metadata": {},
   "source": [
    "En el ejemplo de antes, hemos introducido otro concepto muy importante cuando trabajamos con pandas **DataFrame**: **los boolean masks**.\n",
    "\n",
    "Cuando hemos **evaluado** si un valor determinado cumple o no una condición (si es nulo o no), obtenemos o bien un True o bien un False. A este conjunto de datos que son True o False lo llamamos **máscara booleana** y podemos usarla para filtar nuestro **DataFrame**."
   ]
  },
  {
   "cell_type": "code",
   "execution_count": 33,
   "id": "bd8c59a5",
   "metadata": {},
   "outputs": [
    {
     "data": {
      "text/plain": [
       "anime_id\n",
       "32281    False\n",
       "5114      True\n",
       "28977     True\n",
       "9253      True\n",
       "9969      True\n",
       "         ...  \n",
       "9316     False\n",
       "5543     False\n",
       "5621     False\n",
       "6133     False\n",
       "26081    False\n",
       "Name: type, Length: 12294, dtype: bool"
      ]
     },
     "execution_count": 33,
     "metadata": {},
     "output_type": "execute_result"
    }
   ],
   "source": [
    "# evaluamos si los valores que tenemos es TV o no\n",
    "df[\"type\"] == \"TV\""
   ]
  },
  {
   "cell_type": "code",
   "execution_count": 34,
   "id": "f4580ffa",
   "metadata": {},
   "outputs": [],
   "source": [
    "boolean_mask = df[\"type\"] == \"TV\""
   ]
  },
  {
   "cell_type": "markdown",
   "id": "bd594b7c",
   "metadata": {},
   "source": [
    "Si despúes ponemos nuestra máscara dentro de un corchete de pandas, podemos filtrar nuestro **DataFrame**.\n",
    "\n",
    "En este caso en concreto, obtenemos/filtramos únicamente los animes que son del `type TV`."
   ]
  },
  {
   "cell_type": "code",
   "execution_count": 35,
   "id": "7e6918f2",
   "metadata": {},
   "outputs": [],
   "source": [
    "tvs = df[boolean_mask]"
   ]
  },
  {
   "cell_type": "code",
   "execution_count": 36,
   "id": "be3bf2d4",
   "metadata": {},
   "outputs": [
    {
     "data": {
      "text/html": [
       "<div>\n",
       "<style scoped>\n",
       "    .dataframe tbody tr th:only-of-type {\n",
       "        vertical-align: middle;\n",
       "    }\n",
       "\n",
       "    .dataframe tbody tr th {\n",
       "        vertical-align: top;\n",
       "    }\n",
       "\n",
       "    .dataframe thead th {\n",
       "        text-align: right;\n",
       "    }\n",
       "</style>\n",
       "<table border=\"1\" class=\"dataframe\">\n",
       "  <thead>\n",
       "    <tr style=\"text-align: right;\">\n",
       "      <th></th>\n",
       "      <th>name</th>\n",
       "      <th>genre</th>\n",
       "      <th>type</th>\n",
       "      <th>episodes</th>\n",
       "      <th>rating</th>\n",
       "      <th>members</th>\n",
       "    </tr>\n",
       "    <tr>\n",
       "      <th>anime_id</th>\n",
       "      <th></th>\n",
       "      <th></th>\n",
       "      <th></th>\n",
       "      <th></th>\n",
       "      <th></th>\n",
       "      <th></th>\n",
       "    </tr>\n",
       "  </thead>\n",
       "  <tbody>\n",
       "    <tr>\n",
       "      <th>5114</th>\n",
       "      <td>Fullmetal Alchemist: Brotherhood</td>\n",
       "      <td>Action, Adventure, Drama, Fantasy, Magic, Mili...</td>\n",
       "      <td>TV</td>\n",
       "      <td>64</td>\n",
       "      <td>9.26</td>\n",
       "      <td>793665</td>\n",
       "    </tr>\n",
       "    <tr>\n",
       "      <th>28977</th>\n",
       "      <td>Gintama°</td>\n",
       "      <td>Action, Comedy, Historical, Parody, Samurai, S...</td>\n",
       "      <td>TV</td>\n",
       "      <td>51</td>\n",
       "      <td>9.25</td>\n",
       "      <td>114262</td>\n",
       "    </tr>\n",
       "    <tr>\n",
       "      <th>9253</th>\n",
       "      <td>Steins;Gate</td>\n",
       "      <td>Sci-Fi, Thriller</td>\n",
       "      <td>TV</td>\n",
       "      <td>24</td>\n",
       "      <td>9.17</td>\n",
       "      <td>673572</td>\n",
       "    </tr>\n",
       "  </tbody>\n",
       "</table>\n",
       "</div>"
      ],
      "text/plain": [
       "                                      name  \\\n",
       "anime_id                                     \n",
       "5114      Fullmetal Alchemist: Brotherhood   \n",
       "28977                             Gintama°   \n",
       "9253                           Steins;Gate   \n",
       "\n",
       "                                                      genre type episodes  \\\n",
       "anime_id                                                                    \n",
       "5114      Action, Adventure, Drama, Fantasy, Magic, Mili...   TV       64   \n",
       "28977     Action, Comedy, Historical, Parody, Samurai, S...   TV       51   \n",
       "9253                                       Sci-Fi, Thriller   TV       24   \n",
       "\n",
       "          rating  members  \n",
       "anime_id                   \n",
       "5114        9.26   793665  \n",
       "28977       9.25   114262  \n",
       "9253        9.17   673572  "
      ]
     },
     "execution_count": 36,
     "metadata": {},
     "output_type": "execute_result"
    }
   ],
   "source": [
    "tvs.head(3)"
   ]
  },
  {
   "cell_type": "code",
   "execution_count": 37,
   "id": "ccd85f20",
   "metadata": {},
   "outputs": [
    {
     "data": {
      "text/plain": [
       "3787"
      ]
     },
     "execution_count": 37,
     "metadata": {},
     "output_type": "execute_result"
    }
   ],
   "source": [
    "# en total tenemos 3.787 animes del tipo TV.\n",
    "\n",
    "tvs.shape[0]"
   ]
  },
  {
   "cell_type": "markdown",
   "id": "d6ebeaed",
   "metadata": {},
   "source": [
    "Las **boolean masks** es una forma muy versátil subseleccionar partes de nuestro **DataFrame** para hacer un zoom o un análisis más profundo."
   ]
  },
  {
   "cell_type": "markdown",
   "id": "bf8070aa",
   "metadata": {},
   "source": [
    "<a id='gbpt'></a>\n",
    "## 3.4 Groupby y pivot_table\n",
    "[Volver al índice](#index)<br>"
   ]
  },
  {
   "cell_type": "markdown",
   "id": "97870e90",
   "metadata": {},
   "source": [
    "Quizás la operación más frecuente que se realiza a la hora de analizar un dataset sea la del `groupby` o con la `pivot_table`.\n",
    "\n",
    "Cualquier persona que haya trabajado con datos y con excel, se habrá encontrado con que su jefe le pide: \n",
    "\n",
    "### ¿Podemos sacar las ventas medias por xyz subcategorías?\n",
    "\n",
    "Cuando nos piden este tipo de datos, normalmente en Excel hacemos una tabla_dinámica o una pivot_table.\n",
    "\n",
    "Pues bien, en pandas también lo podemos hacer de 2 maneras: con los métodos de `groupby` o con la `pivot_table`."
   ]
  },
  {
   "cell_type": "code",
   "execution_count": 38,
   "id": "f95aa7d2",
   "metadata": {},
   "outputs": [
    {
     "data": {
      "text/plain": [
       "type\n",
       "Movie      2348\n",
       "Music       488\n",
       "ONA         659\n",
       "OVA        3311\n",
       "Special    1676\n",
       "TV         3787\n",
       "Name: name, dtype: int64"
      ]
     },
     "execution_count": 38,
     "metadata": {},
     "output_type": "execute_result"
    }
   ],
   "source": [
    "df.groupby(by=[\"type\"])[\"name\"].count()"
   ]
  },
  {
   "cell_type": "markdown",
   "id": "fb8d731d",
   "metadata": {},
   "source": [
    "La lógica más simple de los groupbies es como sigue:\n",
    "\n",
    "1. Partimos de un DataFrame (en nuestro caso se llama df).\n",
    "1. Llamamos el método de `.groupby` del df y le pasamos las columnas por las que queremos agrupar en el parámetro by (en nuestro caso es [\"type\"]).\n",
    "1. Posteriormente seleccionamos la columna que nos interesa calcular entre corchetes (en nuestro caso es [\"name\"]).\n",
    "1. Por último llamamos una función de agregación cualquiera (en nuestro caso es `.count()` que viene a ser un contador normal y corriente).\n",
    "\n",
    "En el ejemplo anterior hacemos la agrupación de una única columna, pero en más de una ocasión nos interesa hacer varios cálculos de golpe.\n",
    "\n",
    "Por ejemplo: **el jefe nos pide no solo las ventas medias sino también las ventas totales.** En este caso podemos usar la siguiente síntaxis."
   ]
  },
  {
   "cell_type": "code",
   "execution_count": 39,
   "id": "db2facfb",
   "metadata": {},
   "outputs": [
    {
     "data": {
      "text/html": [
       "<div>\n",
       "<style scoped>\n",
       "    .dataframe tbody tr th:only-of-type {\n",
       "        vertical-align: middle;\n",
       "    }\n",
       "\n",
       "    .dataframe tbody tr th {\n",
       "        vertical-align: top;\n",
       "    }\n",
       "\n",
       "    .dataframe thead th {\n",
       "        text-align: right;\n",
       "    }\n",
       "</style>\n",
       "<table border=\"1\" class=\"dataframe\">\n",
       "  <thead>\n",
       "    <tr style=\"text-align: right;\">\n",
       "      <th></th>\n",
       "      <th>rating</th>\n",
       "      <th>name</th>\n",
       "    </tr>\n",
       "    <tr>\n",
       "      <th>type</th>\n",
       "      <th></th>\n",
       "      <th></th>\n",
       "    </tr>\n",
       "  </thead>\n",
       "  <tbody>\n",
       "    <tr>\n",
       "      <th>Movie</th>\n",
       "      <td>6.32</td>\n",
       "      <td>2348</td>\n",
       "    </tr>\n",
       "    <tr>\n",
       "      <th>Music</th>\n",
       "      <td>5.59</td>\n",
       "      <td>488</td>\n",
       "    </tr>\n",
       "    <tr>\n",
       "      <th>ONA</th>\n",
       "      <td>5.64</td>\n",
       "      <td>659</td>\n",
       "    </tr>\n",
       "    <tr>\n",
       "      <th>OVA</th>\n",
       "      <td>6.38</td>\n",
       "      <td>3311</td>\n",
       "    </tr>\n",
       "    <tr>\n",
       "      <th>Special</th>\n",
       "      <td>6.52</td>\n",
       "      <td>1676</td>\n",
       "    </tr>\n",
       "    <tr>\n",
       "      <th>TV</th>\n",
       "      <td>6.90</td>\n",
       "      <td>3787</td>\n",
       "    </tr>\n",
       "  </tbody>\n",
       "</table>\n",
       "</div>"
      ],
      "text/plain": [
       "         rating  name\n",
       "type                 \n",
       "Movie      6.32  2348\n",
       "Music      5.59   488\n",
       "ONA        5.64   659\n",
       "OVA        6.38  3311\n",
       "Special    6.52  1676\n",
       "TV         6.90  3787"
      ]
     },
     "execution_count": 39,
     "metadata": {},
     "output_type": "execute_result"
    }
   ],
   "source": [
    "df.groupby(by=[\"type\"]).agg({\"rating\":\"mean\", \"name\":\"count\"})"
   ]
  },
  {
   "cell_type": "markdown",
   "id": "b630e749",
   "metadata": {},
   "source": [
    "Lo único que cambia con respecto a la explicación anterior es que usamos el método especial `.agg()` que permite pasar un diccionario o pares de **llave:valor** `{\"key\":\"value\"}` tal y como lo hacemos a continuación.\n",
    "\n",
    "`.agg({\"rating\":\"mean\", \"name\":\"count\"})`\n",
    "\n",
    "Este mismo resultado lo podemos obtener con la `pivot_table` pero antes de seguir, vamos a introduccir otra **best practice** de pandas que es el **chaining** de las operaciones.\n",
    "\n",
    "Si somos muy críticos con nuestro código antes escrito:\n",
    "\n",
    "```python\n",
    "df.groupby(by=[\"type\"]).agg({\"rating\":\"mean\", \"name\":\"count\"})\n",
    "```\n",
    "\n",
    "Podemos reconocer que cuesta mucho leerlo porque esta escrito todo en una única línea.\n",
    "\n",
    "Podemos obtener un resultado mucho más visual y fácil de leer usando el **chaining**, para ello debemos \"encapsular\" nuestro código dentro de un paréntesis.\n",
    "\n",
    "Lo que obtenemos es básicamente una receta, donde cada línea de código viene a representar un paso en concreto que queremos hacer sobre nuestro **DataFrame**."
   ]
  },
  {
   "cell_type": "code",
   "execution_count": 40,
   "id": "95717e58",
   "metadata": {},
   "outputs": [
    {
     "data": {
      "text/html": [
       "<div>\n",
       "<style scoped>\n",
       "    .dataframe tbody tr th:only-of-type {\n",
       "        vertical-align: middle;\n",
       "    }\n",
       "\n",
       "    .dataframe tbody tr th {\n",
       "        vertical-align: top;\n",
       "    }\n",
       "\n",
       "    .dataframe thead th {\n",
       "        text-align: right;\n",
       "    }\n",
       "</style>\n",
       "<table border=\"1\" class=\"dataframe\">\n",
       "  <thead>\n",
       "    <tr style=\"text-align: right;\">\n",
       "      <th></th>\n",
       "      <th>rating</th>\n",
       "      <th>name</th>\n",
       "    </tr>\n",
       "    <tr>\n",
       "      <th>type</th>\n",
       "      <th></th>\n",
       "      <th></th>\n",
       "    </tr>\n",
       "  </thead>\n",
       "  <tbody>\n",
       "    <tr>\n",
       "      <th>Movie</th>\n",
       "      <td>6.32</td>\n",
       "      <td>2348</td>\n",
       "    </tr>\n",
       "    <tr>\n",
       "      <th>Music</th>\n",
       "      <td>5.59</td>\n",
       "      <td>488</td>\n",
       "    </tr>\n",
       "    <tr>\n",
       "      <th>ONA</th>\n",
       "      <td>5.64</td>\n",
       "      <td>659</td>\n",
       "    </tr>\n",
       "    <tr>\n",
       "      <th>OVA</th>\n",
       "      <td>6.38</td>\n",
       "      <td>3311</td>\n",
       "    </tr>\n",
       "    <tr>\n",
       "      <th>Special</th>\n",
       "      <td>6.52</td>\n",
       "      <td>1676</td>\n",
       "    </tr>\n",
       "    <tr>\n",
       "      <th>TV</th>\n",
       "      <td>6.90</td>\n",
       "      <td>3787</td>\n",
       "    </tr>\n",
       "  </tbody>\n",
       "</table>\n",
       "</div>"
      ],
      "text/plain": [
       "         rating  name\n",
       "type                 \n",
       "Movie      6.32  2348\n",
       "Music      5.59   488\n",
       "ONA        5.64   659\n",
       "OVA        6.38  3311\n",
       "Special    6.52  1676\n",
       "TV         6.90  3787"
      ]
     },
     "execution_count": 40,
     "metadata": {},
     "output_type": "execute_result"
    }
   ],
   "source": [
    "# antes\n",
    "df.groupby(by=[\"type\"]).agg({\"rating\":\"mean\", \"name\":\"count\"})"
   ]
  },
  {
   "cell_type": "code",
   "execution_count": 41,
   "id": "049da2a1",
   "metadata": {},
   "outputs": [
    {
     "data": {
      "text/html": [
       "<div>\n",
       "<style scoped>\n",
       "    .dataframe tbody tr th:only-of-type {\n",
       "        vertical-align: middle;\n",
       "    }\n",
       "\n",
       "    .dataframe tbody tr th {\n",
       "        vertical-align: top;\n",
       "    }\n",
       "\n",
       "    .dataframe thead th {\n",
       "        text-align: right;\n",
       "    }\n",
       "</style>\n",
       "<table border=\"1\" class=\"dataframe\">\n",
       "  <thead>\n",
       "    <tr style=\"text-align: right;\">\n",
       "      <th></th>\n",
       "      <th>rating</th>\n",
       "      <th>name</th>\n",
       "    </tr>\n",
       "    <tr>\n",
       "      <th>type</th>\n",
       "      <th></th>\n",
       "      <th></th>\n",
       "    </tr>\n",
       "  </thead>\n",
       "  <tbody>\n",
       "    <tr>\n",
       "      <th>Movie</th>\n",
       "      <td>6.32</td>\n",
       "      <td>2348</td>\n",
       "    </tr>\n",
       "    <tr>\n",
       "      <th>Music</th>\n",
       "      <td>5.59</td>\n",
       "      <td>488</td>\n",
       "    </tr>\n",
       "    <tr>\n",
       "      <th>ONA</th>\n",
       "      <td>5.64</td>\n",
       "      <td>659</td>\n",
       "    </tr>\n",
       "    <tr>\n",
       "      <th>OVA</th>\n",
       "      <td>6.38</td>\n",
       "      <td>3311</td>\n",
       "    </tr>\n",
       "    <tr>\n",
       "      <th>Special</th>\n",
       "      <td>6.52</td>\n",
       "      <td>1676</td>\n",
       "    </tr>\n",
       "    <tr>\n",
       "      <th>TV</th>\n",
       "      <td>6.90</td>\n",
       "      <td>3787</td>\n",
       "    </tr>\n",
       "  </tbody>\n",
       "</table>\n",
       "</div>"
      ],
      "text/plain": [
       "         rating  name\n",
       "type                 \n",
       "Movie      6.32  2348\n",
       "Music      5.59   488\n",
       "ONA        5.64   659\n",
       "OVA        6.38  3311\n",
       "Special    6.52  1676\n",
       "TV         6.90  3787"
      ]
     },
     "execution_count": 41,
     "metadata": {},
     "output_type": "execute_result"
    }
   ],
   "source": [
    "# ahora\n",
    "(\n",
    "    df                        # paso 1: parto de mi df\n",
    "    .groupby(by=[\"type\"])     # paso 2: hago el groupby por el campo type\n",
    "    .agg(                     # paso 3: llamo el método agg\n",
    "        {\n",
    "            \"rating\":\"mean\",  # paso 4: calcularé la media del campo rating (dentro de agg)\n",
    "            \"name\":\"count\"    # paso 5: calcularé el count del campo name (dentro del agg)\n",
    "        }\n",
    "    )                         # paso n: podemos seguir con más pasos\n",
    ")"
   ]
  },
  {
   "cell_type": "markdown",
   "id": "06e0eda5",
   "metadata": {},
   "source": [
    "Espero que todo el mundo esta de acuerdo en que esta forma de escribir nuestro código es mucho mas \"limpia\" y \"fácil de leer\".\n",
    "\n",
    "Ahora vayamos a obtener el mismo resultado de antes con la `.pivot_table`.\n",
    "\n",
    "La lógica más simple de las pivot_tables es:\n",
    "\n",
    "1. Partimos de un DataFrame (en nuestro caso se llama df).\n",
    "1. Llamamos el método de `.pivot_table` del df y le pasamos las columnas por las que queremos agrupar en el parámetro index (en nuestro caso es la columna **\"type\"**).\n",
    "1. En el parámetro `values` le especificamos a pandas con que columnas vamos a tener que trabajar (en determinados casos este valor se puede omitir).\n",
    "1. Por último, tenemos el parámetro de `aggfunc`. A este parámetro le podemos pasar diferentes valores, en nuestro caso le pasamos un diccionario de python o pares de **llave**:**valor** entre llaves ({}). Es exactamente lo mismo que hemos hecho en el caso anterior.\n",
    "1. Margins es otro parámetro opcional que nos permite hacer **totales** (aparece la fila \"All\")."
   ]
  },
  {
   "cell_type": "code",
   "execution_count": 42,
   "id": "fcf8d639",
   "metadata": {},
   "outputs": [
    {
     "data": {
      "text/html": [
       "<div>\n",
       "<style scoped>\n",
       "    .dataframe tbody tr th:only-of-type {\n",
       "        vertical-align: middle;\n",
       "    }\n",
       "\n",
       "    .dataframe tbody tr th {\n",
       "        vertical-align: top;\n",
       "    }\n",
       "\n",
       "    .dataframe thead th {\n",
       "        text-align: right;\n",
       "    }\n",
       "</style>\n",
       "<table border=\"1\" class=\"dataframe\">\n",
       "  <thead>\n",
       "    <tr style=\"text-align: right;\">\n",
       "      <th></th>\n",
       "      <th>name</th>\n",
       "      <th>rating</th>\n",
       "    </tr>\n",
       "    <tr>\n",
       "      <th>type</th>\n",
       "      <th></th>\n",
       "      <th></th>\n",
       "    </tr>\n",
       "  </thead>\n",
       "  <tbody>\n",
       "    <tr>\n",
       "      <th>Movie</th>\n",
       "      <td>2348</td>\n",
       "      <td>6.32</td>\n",
       "    </tr>\n",
       "    <tr>\n",
       "      <th>Music</th>\n",
       "      <td>488</td>\n",
       "      <td>5.59</td>\n",
       "    </tr>\n",
       "    <tr>\n",
       "      <th>ONA</th>\n",
       "      <td>659</td>\n",
       "      <td>5.64</td>\n",
       "    </tr>\n",
       "    <tr>\n",
       "      <th>OVA</th>\n",
       "      <td>3311</td>\n",
       "      <td>6.38</td>\n",
       "    </tr>\n",
       "    <tr>\n",
       "      <th>Special</th>\n",
       "      <td>1676</td>\n",
       "      <td>6.52</td>\n",
       "    </tr>\n",
       "    <tr>\n",
       "      <th>TV</th>\n",
       "      <td>3787</td>\n",
       "      <td>6.90</td>\n",
       "    </tr>\n",
       "    <tr>\n",
       "      <th>All</th>\n",
       "      <td>12064</td>\n",
       "      <td>6.47</td>\n",
       "    </tr>\n",
       "  </tbody>\n",
       "</table>\n",
       "</div>"
      ],
      "text/plain": [
       "          name  rating\n",
       "type                  \n",
       "Movie     2348    6.32\n",
       "Music      488    5.59\n",
       "ONA        659    5.64\n",
       "OVA       3311    6.38\n",
       "Special   1676    6.52\n",
       "TV        3787    6.90\n",
       "All      12064    6.47"
      ]
     },
     "execution_count": 42,
     "metadata": {},
     "output_type": "execute_result"
    }
   ],
   "source": [
    "(\n",
    "    df\n",
    "    .pivot_table(\n",
    "        index = \"type\",\n",
    "        values = [\"rating\", \"name\"],\n",
    "        aggfunc = {\n",
    "            \"rating\":\"mean\",\n",
    "            \"name\":\"count\"\n",
    "        },\n",
    "        margins = True\n",
    "    )\n",
    ")"
   ]
  },
  {
   "cell_type": "markdown",
   "id": "072fe699",
   "metadata": {},
   "source": [
    "<a id='merge_concat'></a>\n",
    "### 3.5 Merge y Concat\n",
    "[Volver al índice](#index)<br>"
   ]
  },
  {
   "cell_type": "markdown",
   "id": "e0cccd80",
   "metadata": {},
   "source": [
    "Hasta ahora siempre hemos trabajado con un único `df`, pero en más de una ocasión queremos o tenemos que analizar más de 1 `df` y a menudo nos interesa \"juntar\" estos **DataFrames** para hacer el análisis mucho más rápido y ágil.\n",
    "\n",
    "Los dos métodos clave que nos ofrece **pandas** para este tipo de operaciones son `pd.merge` y `pd.concat`.\n",
    "\n",
    "Veamos ahora cada uno de estos métodos por separado."
   ]
  },
  {
   "cell_type": "markdown",
   "id": "953987cc",
   "metadata": {},
   "source": [
    "El método `pd.merge` sirve para \"cruzar\" 2 **DataFrames** por algún campo en común. Es similar a un [join](https://www.w3schools.com/SQl/sql_join.asp) de SQL.\n",
    "\n",
    "<img src=\"./Pictures/SQL_JOINS.png\">\n",
    "\n",
    "[Fuente: www.w3schools.com](https://www.w3schools.com/SQl/sql_join.asp)\n",
    "\n",
    "### Para demostrar este método, vamos a ver cuáles son los top 30 animes más \"vistos\" cuando los han puntuado con un 10. Buscamos el anime perfecto."
   ]
  },
  {
   "cell_type": "code",
   "execution_count": 43,
   "id": "02b709ee",
   "metadata": {},
   "outputs": [],
   "source": [
    "rating_10 = pd.read_parquet(\"./input/cf_10.parquet.gzip\")"
   ]
  },
  {
   "cell_type": "code",
   "execution_count": 44,
   "id": "8d42de85",
   "metadata": {},
   "outputs": [
    {
     "data": {
      "text/html": [
       "<div>\n",
       "<style scoped>\n",
       "    .dataframe tbody tr th:only-of-type {\n",
       "        vertical-align: middle;\n",
       "    }\n",
       "\n",
       "    .dataframe tbody tr th {\n",
       "        vertical-align: top;\n",
       "    }\n",
       "\n",
       "    .dataframe thead th {\n",
       "        text-align: right;\n",
       "    }\n",
       "</style>\n",
       "<table border=\"1\" class=\"dataframe\">\n",
       "  <thead>\n",
       "    <tr style=\"text-align: right;\">\n",
       "      <th></th>\n",
       "      <th>user_id</th>\n",
       "      <th>anime_id</th>\n",
       "      <th>rating</th>\n",
       "    </tr>\n",
       "  </thead>\n",
       "  <tbody>\n",
       "    <tr>\n",
       "      <th>47</th>\n",
       "      <td>1</td>\n",
       "      <td>8074</td>\n",
       "      <td>10</td>\n",
       "    </tr>\n",
       "    <tr>\n",
       "      <th>81</th>\n",
       "      <td>1</td>\n",
       "      <td>11617</td>\n",
       "      <td>10</td>\n",
       "    </tr>\n",
       "    <tr>\n",
       "      <th>83</th>\n",
       "      <td>1</td>\n",
       "      <td>11757</td>\n",
       "      <td>10</td>\n",
       "    </tr>\n",
       "  </tbody>\n",
       "</table>\n",
       "</div>"
      ],
      "text/plain": [
       "    user_id  anime_id  rating\n",
       "47        1      8074      10\n",
       "81        1     11617      10\n",
       "83        1     11757      10"
      ]
     },
     "execution_count": 44,
     "metadata": {},
     "output_type": "execute_result"
    }
   ],
   "source": [
    "rating_10.head(3)"
   ]
  },
  {
   "cell_type": "code",
   "execution_count": 45,
   "id": "3945ba0b",
   "metadata": {},
   "outputs": [
    {
     "data": {
      "text/html": [
       "<div>\n",
       "<style scoped>\n",
       "    .dataframe tbody tr th:only-of-type {\n",
       "        vertical-align: middle;\n",
       "    }\n",
       "\n",
       "    .dataframe tbody tr th {\n",
       "        vertical-align: top;\n",
       "    }\n",
       "\n",
       "    .dataframe thead th {\n",
       "        text-align: right;\n",
       "    }\n",
       "</style>\n",
       "<table border=\"1\" class=\"dataframe\">\n",
       "  <thead>\n",
       "    <tr style=\"text-align: right;\">\n",
       "      <th></th>\n",
       "      <th>name</th>\n",
       "      <th>genre</th>\n",
       "      <th>type</th>\n",
       "      <th>episodes</th>\n",
       "      <th>rating</th>\n",
       "      <th>members</th>\n",
       "    </tr>\n",
       "    <tr>\n",
       "      <th>anime_id</th>\n",
       "      <th></th>\n",
       "      <th></th>\n",
       "      <th></th>\n",
       "      <th></th>\n",
       "      <th></th>\n",
       "      <th></th>\n",
       "    </tr>\n",
       "  </thead>\n",
       "  <tbody>\n",
       "    <tr>\n",
       "      <th>32281</th>\n",
       "      <td>Kimi no Na wa.</td>\n",
       "      <td>Drama, Romance, School, Supernatural</td>\n",
       "      <td>Movie</td>\n",
       "      <td>1</td>\n",
       "      <td>9.37</td>\n",
       "      <td>200630</td>\n",
       "    </tr>\n",
       "    <tr>\n",
       "      <th>5114</th>\n",
       "      <td>Fullmetal Alchemist: Brotherhood</td>\n",
       "      <td>Action, Adventure, Drama, Fantasy, Magic, Mili...</td>\n",
       "      <td>TV</td>\n",
       "      <td>64</td>\n",
       "      <td>9.26</td>\n",
       "      <td>793665</td>\n",
       "    </tr>\n",
       "    <tr>\n",
       "      <th>28977</th>\n",
       "      <td>Gintama°</td>\n",
       "      <td>Action, Comedy, Historical, Parody, Samurai, S...</td>\n",
       "      <td>TV</td>\n",
       "      <td>51</td>\n",
       "      <td>9.25</td>\n",
       "      <td>114262</td>\n",
       "    </tr>\n",
       "  </tbody>\n",
       "</table>\n",
       "</div>"
      ],
      "text/plain": [
       "                                      name  \\\n",
       "anime_id                                     \n",
       "32281                       Kimi no Na wa.   \n",
       "5114      Fullmetal Alchemist: Brotherhood   \n",
       "28977                             Gintama°   \n",
       "\n",
       "                                                      genre   type episodes  \\\n",
       "anime_id                                                                      \n",
       "32281                  Drama, Romance, School, Supernatural  Movie        1   \n",
       "5114      Action, Adventure, Drama, Fantasy, Magic, Mili...     TV       64   \n",
       "28977     Action, Comedy, Historical, Parody, Samurai, S...     TV       51   \n",
       "\n",
       "          rating  members  \n",
       "anime_id                   \n",
       "32281       9.37   200630  \n",
       "5114        9.26   793665  \n",
       "28977       9.25   114262  "
      ]
     },
     "execution_count": 45,
     "metadata": {},
     "output_type": "execute_result"
    }
   ],
   "source": [
    "df.head(3)"
   ]
  },
  {
   "cell_type": "code",
   "execution_count": 46,
   "id": "2ab517c8",
   "metadata": {},
   "outputs": [],
   "source": [
    "df.reset_index(inplace = True)"
   ]
  },
  {
   "cell_type": "markdown",
   "id": "f8cc0f3e",
   "metadata": {},
   "source": [
    "Como podemos ver, los dos campos que hay en común entre el `rating_10` y `df` es **anime_id**.\n",
    "\n",
    "Vamos a usar este campo para hacer el merge."
   ]
  },
  {
   "cell_type": "code",
   "execution_count": 47,
   "id": "5b55a3f4",
   "metadata": {},
   "outputs": [],
   "source": [
    "rating_with_names = pd.merge(          # invocamos el método merge de pandas\n",
    "    left = rating_10,                  # seleccionamos 1 df\n",
    "    right = df[[\"anime_id\", \"name\"]],  # seleccionamos 2 columnas del otro df\n",
    "    how = \"left\",                      # hacemos un left join\n",
    "    on = [\"anime_id\"]                  # el campo común es anime_id así que hacemos el cruce por este campo\n",
    ")"
   ]
  },
  {
   "cell_type": "code",
   "execution_count": 48,
   "id": "f32a0c70",
   "metadata": {},
   "outputs": [
    {
     "data": {
      "text/plain": [
       "name\n",
       "Death Note                                                  12892\n",
       "Fullmetal Alchemist: Brotherhood                            11869\n",
       "Code Geass: Hangyaku no Lelouch R2                          10082\n",
       "Code Geass: Hangyaku no Lelouch                              9500\n",
       "Steins;Gate                                                  9179\n",
       "Clannad: After Story                                         8570\n",
       "Shingeki no Kyojin                                           8183\n",
       "Sen to Chihiro no Kamikakushi                                7980\n",
       "Tengen Toppa Gurren Lagann                                   6959\n",
       "Angel Beats!                                                 6797\n",
       "Sword Art Online                                             6702\n",
       "Toradora!                                                    5599\n",
       "Clannad                                                      5583\n",
       "Cowboy Bebop                                                 5158\n",
       "Howl no Ugoku Shiro                                          5118\n",
       "Ano Hi Mita Hana no Namae wo Bokutachi wa Mada Shiranai.     5024\n",
       "Mononoke Hime                                                4914\n",
       "Elfen Lied                                                   4883\n",
       "Fullmetal Alchemist                                          4875\n",
       "No Game No Life                                              4462\n",
       "Mahou Shoujo Madoka★Magica                                   4192\n",
       "One Punch Man                                                4182\n",
       "Ouran Koukou Host Club                                       4180\n",
       "Neon Genesis Evangelion                                      4156\n",
       "Mirai Nikki (TV)                                             4078\n",
       "Dragon Ball Z                                                3894\n",
       "Hunter x Hunter (2011)                                       3791\n",
       "Durarara!!                                                   3778\n",
       "Naruto                                                       3544\n",
       "Shigatsu wa Kimi no Uso                                      3527\n",
       "dtype: int64"
      ]
     },
     "execution_count": 48,
     "metadata": {},
     "output_type": "execute_result"
    }
   ],
   "source": [
    "(\n",
    "    rating_with_names\n",
    "    .groupby([\"name\"])\n",
    "    .size()\n",
    "    .sort_values(ascending = False)\n",
    "    .head(30)\n",
    ")"
   ]
  },
  {
   "cell_type": "code",
   "execution_count": 49,
   "id": "3cc0b7f4",
   "metadata": {},
   "outputs": [],
   "source": [
    "del rating_10"
   ]
  },
  {
   "cell_type": "code",
   "execution_count": 50,
   "id": "d7b4134b",
   "metadata": {},
   "outputs": [],
   "source": [
    "del rating_with_names"
   ]
  },
  {
   "cell_type": "markdown",
   "id": "80ff91b2",
   "metadata": {},
   "source": [
    "A veces no interesa \"apilar\" diferentes `dfs`.\n",
    "\n",
    "Por ejemplo, en nuestro caso tenemos un df específico para cada uno de los ratings que han dejado los usuarios.\n",
    "\n",
    "Podría ser muy útil \"juntarlos\" todos en un único `df` para agilizar el análisis."
   ]
  },
  {
   "cell_type": "code",
   "execution_count": 51,
   "id": "adde2884",
   "metadata": {},
   "outputs": [
    {
     "name": "stdout",
     "output_type": "stream",
     "text": [
      "total 142840\r\n",
      "-rw-r--r--  1 nicolaepopescul  staff   9483708 11 ene 18:21 cf_-1.parquet.gzip\r\n",
      "-rw-r--r--  1 nicolaepopescul  staff    193900 11 ene 18:21 cf_1.parquet.gzip\r\n",
      "-rw-r--r--  1 nicolaepopescul  staff   6251475 11 ene 18:21 cf_10.parquet.gzip\r\n",
      "-rw-r--r--  1 nicolaepopescul  staff    270828 11 ene 18:21 cf_2.parquet.gzip\r\n",
      "-rw-r--r--  1 nicolaepopescul  staff    454624 11 ene 18:21 cf_3.parquet.gzip\r\n",
      "-rw-r--r--  1 nicolaepopescul  staff   1064510 11 ene 18:21 cf_4.parquet.gzip\r\n",
      "-rw-r--r--  1 nicolaepopescul  staff   2249386 11 ene 18:21 cf_5.parquet.gzip\r\n",
      "-rw-r--r--  1 nicolaepopescul  staff   4407473 11 ene 18:21 cf_6.parquet.gzip\r\n",
      "-rw-r--r--  1 nicolaepopescul  staff   8936548 11 ene 18:21 cf_7.parquet.gzip\r\n",
      "-rw-r--r--  1 nicolaepopescul  staff  10518165 11 ene 18:21 cf_8.parquet.gzip\r\n",
      "-rw-r--r--  1 nicolaepopescul  staff   8298450 11 ene 18:21 cf_9.parquet.gzip\r\n",
      "-rw-r--r--  1 nicolaepopescul  staff    985151  5 ene 18:56 cf_anime.csv\r\n",
      "-rw-r--r--@ 1 nicolaepopescul  staff    468099 21 dic 11:22 cf_anime.parquet.gzip\r\n",
      "-rw-r--r--  1 nicolaepopescul  staff    941696  5 ene 18:57 cf_anime.pkl\r\n",
      "-rw-r--r--  1 nicolaepopescul  staff    714680  5 ene 18:57 cf_anime.xlsx\r\n",
      "-rw-r--r--@ 1 nicolaepopescul  staff  17866289 21 dic 11:22 cf_rating.parquet.gzip\r\n"
     ]
    }
   ],
   "source": [
    "! ls -l ./input"
   ]
  },
  {
   "cell_type": "code",
   "execution_count": 52,
   "id": "20621185",
   "metadata": {},
   "outputs": [],
   "source": [
    "DFS_TO_CONCAT = [\n",
    "    \"cf_-1.parquet.gzip\",\n",
    "    \"cf_1.parquet.gzip\",\n",
    "    \"cf_2.parquet.gzip\",\n",
    "    \"cf_3.parquet.gzip\",\n",
    "    \"cf_4.parquet.gzip\",\n",
    "    \"cf_5.parquet.gzip\",\n",
    "    \"cf_6.parquet.gzip\",\n",
    "    \"cf_7.parquet.gzip\",\n",
    "    \"cf_8.parquet.gzip\",\n",
    "    \"cf_9.parquet.gzip\",\n",
    "    \"cf_10.parquet.gzip\"\n",
    "]"
   ]
  },
  {
   "cell_type": "code",
   "execution_count": 53,
   "id": "0ea09942",
   "metadata": {},
   "outputs": [],
   "source": [
    "r1 = pd.read_parquet(\"./input/cf_1.parquet.gzip\")\n",
    "r2 = pd.read_parquet(\"./input/cf_2.parquet.gzip\")"
   ]
  },
  {
   "cell_type": "code",
   "execution_count": 54,
   "id": "a3b4ccab",
   "metadata": {},
   "outputs": [
    {
     "data": {
      "text/html": [
       "<div>\n",
       "<style scoped>\n",
       "    .dataframe tbody tr th:only-of-type {\n",
       "        vertical-align: middle;\n",
       "    }\n",
       "\n",
       "    .dataframe tbody tr th {\n",
       "        vertical-align: top;\n",
       "    }\n",
       "\n",
       "    .dataframe thead th {\n",
       "        text-align: right;\n",
       "    }\n",
       "</style>\n",
       "<table border=\"1\" class=\"dataframe\">\n",
       "  <thead>\n",
       "    <tr style=\"text-align: right;\">\n",
       "      <th></th>\n",
       "      <th>user_id</th>\n",
       "      <th>anime_id</th>\n",
       "      <th>rating</th>\n",
       "    </tr>\n",
       "  </thead>\n",
       "  <tbody>\n",
       "    <tr>\n",
       "      <th>308</th>\n",
       "      <td>5</td>\n",
       "      <td>24</td>\n",
       "      <td>1</td>\n",
       "    </tr>\n",
       "  </tbody>\n",
       "</table>\n",
       "</div>"
      ],
      "text/plain": [
       "     user_id  anime_id  rating\n",
       "308        5        24       1"
      ]
     },
     "execution_count": 54,
     "metadata": {},
     "output_type": "execute_result"
    }
   ],
   "source": [
    "r1.head(1)"
   ]
  },
  {
   "cell_type": "code",
   "execution_count": 55,
   "id": "44db198c",
   "metadata": {},
   "outputs": [
    {
     "data": {
      "text/plain": [
       "(16649, 3)"
      ]
     },
     "execution_count": 55,
     "metadata": {},
     "output_type": "execute_result"
    }
   ],
   "source": [
    "r1.shape"
   ]
  },
  {
   "cell_type": "code",
   "execution_count": 56,
   "id": "85b602f3",
   "metadata": {},
   "outputs": [
    {
     "data": {
      "text/html": [
       "<div>\n",
       "<style scoped>\n",
       "    .dataframe tbody tr th:only-of-type {\n",
       "        vertical-align: middle;\n",
       "    }\n",
       "\n",
       "    .dataframe tbody tr th {\n",
       "        vertical-align: top;\n",
       "    }\n",
       "\n",
       "    .dataframe thead th {\n",
       "        text-align: right;\n",
       "    }\n",
       "</style>\n",
       "<table border=\"1\" class=\"dataframe\">\n",
       "  <thead>\n",
       "    <tr style=\"text-align: right;\">\n",
       "      <th></th>\n",
       "      <th>user_id</th>\n",
       "      <th>anime_id</th>\n",
       "      <th>rating</th>\n",
       "    </tr>\n",
       "  </thead>\n",
       "  <tbody>\n",
       "    <tr>\n",
       "      <th>321</th>\n",
       "      <td>5</td>\n",
       "      <td>150</td>\n",
       "      <td>2</td>\n",
       "    </tr>\n",
       "  </tbody>\n",
       "</table>\n",
       "</div>"
      ],
      "text/plain": [
       "     user_id  anime_id  rating\n",
       "321        5       150       2"
      ]
     },
     "execution_count": 56,
     "metadata": {},
     "output_type": "execute_result"
    }
   ],
   "source": [
    "r2.head(1)"
   ]
  },
  {
   "cell_type": "code",
   "execution_count": 57,
   "id": "0cf2cfb0",
   "metadata": {},
   "outputs": [
    {
     "data": {
      "text/plain": [
       "(23150, 3)"
      ]
     },
     "execution_count": 57,
     "metadata": {},
     "output_type": "execute_result"
    }
   ],
   "source": [
    "r2.shape"
   ]
  },
  {
   "cell_type": "code",
   "execution_count": 58,
   "id": "c2023c64",
   "metadata": {},
   "outputs": [
    {
     "data": {
      "text/plain": [
       "39799"
      ]
     },
     "execution_count": 58,
     "metadata": {},
     "output_type": "execute_result"
    }
   ],
   "source": [
    "16649 + 23150"
   ]
  },
  {
   "cell_type": "code",
   "execution_count": 59,
   "id": "e3bc5497",
   "metadata": {},
   "outputs": [],
   "source": [
    "r = pd.concat([r1, r2], axis = 0)"
   ]
  },
  {
   "cell_type": "code",
   "execution_count": 60,
   "id": "68512264",
   "metadata": {},
   "outputs": [
    {
     "data": {
      "text/html": [
       "<div>\n",
       "<style scoped>\n",
       "    .dataframe tbody tr th:only-of-type {\n",
       "        vertical-align: middle;\n",
       "    }\n",
       "\n",
       "    .dataframe tbody tr th {\n",
       "        vertical-align: top;\n",
       "    }\n",
       "\n",
       "    .dataframe thead th {\n",
       "        text-align: right;\n",
       "    }\n",
       "</style>\n",
       "<table border=\"1\" class=\"dataframe\">\n",
       "  <thead>\n",
       "    <tr style=\"text-align: right;\">\n",
       "      <th></th>\n",
       "      <th>user_id</th>\n",
       "      <th>anime_id</th>\n",
       "      <th>rating</th>\n",
       "    </tr>\n",
       "  </thead>\n",
       "  <tbody>\n",
       "    <tr>\n",
       "      <th>4730024</th>\n",
       "      <td>45179</td>\n",
       "      <td>1838</td>\n",
       "      <td>2</td>\n",
       "    </tr>\n",
       "    <tr>\n",
       "      <th>1502033</th>\n",
       "      <td>14454</td>\n",
       "      <td>1195</td>\n",
       "      <td>1</td>\n",
       "    </tr>\n",
       "    <tr>\n",
       "      <th>2274972</th>\n",
       "      <td>21909</td>\n",
       "      <td>4353</td>\n",
       "      <td>2</td>\n",
       "    </tr>\n",
       "    <tr>\n",
       "      <th>3749138</th>\n",
       "      <td>35033</td>\n",
       "      <td>20555</td>\n",
       "      <td>1</td>\n",
       "    </tr>\n",
       "    <tr>\n",
       "      <th>1236315</th>\n",
       "      <td>11635</td>\n",
       "      <td>11703</td>\n",
       "      <td>2</td>\n",
       "    </tr>\n",
       "    <tr>\n",
       "      <th>4118877</th>\n",
       "      <td>39148</td>\n",
       "      <td>143</td>\n",
       "      <td>2</td>\n",
       "    </tr>\n",
       "    <tr>\n",
       "      <th>3147458</th>\n",
       "      <td>29075</td>\n",
       "      <td>17397</td>\n",
       "      <td>1</td>\n",
       "    </tr>\n",
       "    <tr>\n",
       "      <th>7150783</th>\n",
       "      <td>66696</td>\n",
       "      <td>1277</td>\n",
       "      <td>2</td>\n",
       "    </tr>\n",
       "    <tr>\n",
       "      <th>3617424</th>\n",
       "      <td>33665</td>\n",
       "      <td>11679</td>\n",
       "      <td>1</td>\n",
       "    </tr>\n",
       "    <tr>\n",
       "      <th>3891001</th>\n",
       "      <td>36579</td>\n",
       "      <td>21881</td>\n",
       "      <td>2</td>\n",
       "    </tr>\n",
       "  </tbody>\n",
       "</table>\n",
       "</div>"
      ],
      "text/plain": [
       "         user_id  anime_id  rating\n",
       "4730024    45179      1838       2\n",
       "1502033    14454      1195       1\n",
       "2274972    21909      4353       2\n",
       "3749138    35033     20555       1\n",
       "1236315    11635     11703       2\n",
       "4118877    39148       143       2\n",
       "3147458    29075     17397       1\n",
       "7150783    66696      1277       2\n",
       "3617424    33665     11679       1\n",
       "3891001    36579     21881       2"
      ]
     },
     "execution_count": 60,
     "metadata": {},
     "output_type": "execute_result"
    }
   ],
   "source": [
    "r.sample(10)"
   ]
  },
  {
   "cell_type": "code",
   "execution_count": 61,
   "id": "d5e6f124",
   "metadata": {},
   "outputs": [
    {
     "data": {
      "text/plain": [
       "(39799, 3)"
      ]
     },
     "execution_count": 61,
     "metadata": {},
     "output_type": "execute_result"
    }
   ],
   "source": [
    "r.shape"
   ]
  },
  {
   "cell_type": "code",
   "execution_count": 62,
   "id": "36cc6187",
   "metadata": {},
   "outputs": [],
   "source": [
    "del r1, r2, r"
   ]
  },
  {
   "cell_type": "markdown",
   "id": "9a710122",
   "metadata": {},
   "source": [
    "En la siguiente celda, vamos a hacer un poco de \"magia\" de Python.\n",
    "\n",
    "Vamos a usar [list compherensions](https://www.w3schools.com/python/python_lists_comprehension.asp) para crear un lista rápida que contiene cada uno de los dfs.\n",
    "\n",
    "Una vez que estos están dentro de la lista, podemos hacer el `pd.concat` sin mayores problemas."
   ]
  },
  {
   "cell_type": "code",
   "execution_count": 63,
   "id": "caf8a530",
   "metadata": {},
   "outputs": [],
   "source": [
    "r = pd.concat(\n",
    "    [pd.read_parquet(f\"./input/{file}\") for file in DFS_TO_CONCAT],\n",
    "    axis = 0\n",
    ")"
   ]
  },
  {
   "cell_type": "code",
   "execution_count": 64,
   "id": "904b1875",
   "metadata": {},
   "outputs": [
    {
     "data": {
      "text/html": [
       "<div>\n",
       "<style scoped>\n",
       "    .dataframe tbody tr th:only-of-type {\n",
       "        vertical-align: middle;\n",
       "    }\n",
       "\n",
       "    .dataframe tbody tr th {\n",
       "        vertical-align: top;\n",
       "    }\n",
       "\n",
       "    .dataframe thead th {\n",
       "        text-align: right;\n",
       "    }\n",
       "</style>\n",
       "<table border=\"1\" class=\"dataframe\">\n",
       "  <thead>\n",
       "    <tr style=\"text-align: right;\">\n",
       "      <th></th>\n",
       "      <th>user_id</th>\n",
       "      <th>anime_id</th>\n",
       "      <th>rating</th>\n",
       "    </tr>\n",
       "  </thead>\n",
       "  <tbody>\n",
       "    <tr>\n",
       "      <th>3610795</th>\n",
       "      <td>33577</td>\n",
       "      <td>8795</td>\n",
       "      <td>8</td>\n",
       "    </tr>\n",
       "    <tr>\n",
       "      <th>3204864</th>\n",
       "      <td>29594</td>\n",
       "      <td>8129</td>\n",
       "      <td>9</td>\n",
       "    </tr>\n",
       "    <tr>\n",
       "      <th>3827536</th>\n",
       "      <td>35777</td>\n",
       "      <td>5902</td>\n",
       "      <td>10</td>\n",
       "    </tr>\n",
       "    <tr>\n",
       "      <th>2888500</th>\n",
       "      <td>26950</td>\n",
       "      <td>27891</td>\n",
       "      <td>-1</td>\n",
       "    </tr>\n",
       "    <tr>\n",
       "      <th>1162368</th>\n",
       "      <td>11099</td>\n",
       "      <td>237</td>\n",
       "      <td>8</td>\n",
       "    </tr>\n",
       "    <tr>\n",
       "      <th>3068648</th>\n",
       "      <td>28426</td>\n",
       "      <td>31430</td>\n",
       "      <td>6</td>\n",
       "    </tr>\n",
       "    <tr>\n",
       "      <th>2359824</th>\n",
       "      <td>22642</td>\n",
       "      <td>4196</td>\n",
       "      <td>7</td>\n",
       "    </tr>\n",
       "    <tr>\n",
       "      <th>1518010</th>\n",
       "      <td>14641</td>\n",
       "      <td>522</td>\n",
       "      <td>-1</td>\n",
       "    </tr>\n",
       "    <tr>\n",
       "      <th>4879320</th>\n",
       "      <td>46589</td>\n",
       "      <td>6045</td>\n",
       "      <td>8</td>\n",
       "    </tr>\n",
       "    <tr>\n",
       "      <th>5648822</th>\n",
       "      <td>53023</td>\n",
       "      <td>24439</td>\n",
       "      <td>8</td>\n",
       "    </tr>\n",
       "  </tbody>\n",
       "</table>\n",
       "</div>"
      ],
      "text/plain": [
       "         user_id  anime_id  rating\n",
       "3610795    33577      8795       8\n",
       "3204864    29594      8129       9\n",
       "3827536    35777      5902      10\n",
       "2888500    26950     27891      -1\n",
       "1162368    11099       237       8\n",
       "3068648    28426     31430       6\n",
       "2359824    22642      4196       7\n",
       "1518010    14641       522      -1\n",
       "4879320    46589      6045       8\n",
       "5648822    53023     24439       8"
      ]
     },
     "execution_count": 64,
     "metadata": {},
     "output_type": "execute_result"
    }
   ],
   "source": [
    "r.sample(10)"
   ]
  },
  {
   "cell_type": "code",
   "execution_count": 65,
   "id": "28c16364",
   "metadata": {},
   "outputs": [
    {
     "data": {
      "text/plain": [
       "(7813737, 3)"
      ]
     },
     "execution_count": 65,
     "metadata": {},
     "output_type": "execute_result"
    }
   ],
   "source": [
    "r.shape"
   ]
  },
  {
   "cell_type": "code",
   "execution_count": 66,
   "id": "7264b658",
   "metadata": {},
   "outputs": [],
   "source": [
    "del r"
   ]
  },
  {
   "cell_type": "markdown",
   "id": "b81c04ee",
   "metadata": {},
   "source": [
    "<a id='pipe'></a>\n",
    "### 3.6 Pipe\n",
    "[Volver al índice](#index)<br>\n",
    "\n",
    "Por último, vamos a introducir el método `.pipe` de **pandas** que es muy versátil.\n",
    "\n",
    "Usamos `.pipe` cuando queremos ejecutar una función sobre nuestro **DataFrame** sin tener que salir de un **chaining** de pandas.\n",
    "\n",
    "La idea básica del `.pipe` es tener nuestro código bien encapsulado y ordenado para evitar errores y sobre todo <ins>**evitar la siguiente forma de programar**</ins>:\n",
    "\n",
    "```python\n",
    "df = df.read_csv()\n",
    "columns = df.columns\n",
    "columns_upper = [str.upper(col) for col in columns]\n",
    "df.columns = columns_upper\n",
    "```\n",
    "\n",
    "El problema de escribir código tal y como se muestra más arriba es:\n",
    "1. No usamos funciones por tanto no fomentamos las buenas praxis.\n",
    "1. Repartimos diferentes operaciones en diferentes celdas y nuestro notebook se vuelve cada vez más grande y díficil de seguir.\n",
    "1. Podemos llegar a tener un \"spaghetti\" notebook (ejecutar una celda, saltar a otra y ejecutarla y luego volver a la inicial y volver a ejecutar) y con esto podemos llegar a introducir bus y errores.\n",
    "1. Acabamos usando muchas variables temporales que ocupan espacio en memoria y también hacen complicado seguir nuestra ejecución.\n",
    "\n",
    "Con pipe y con el **chaining** podemos escribir el código de antes de la siguiente manera:\n",
    "\n",
    "```python\n",
    "\n",
    "def upper(df):\n",
    "    df.columns = map(str.upper, df.columns)\n",
    "    return df\n",
    "\n",
    "(\n",
    "    pd.read_parquet(\"./input/cf_10.parquet.gzip\")\n",
    "    .pipe(upper)\n",
    ")\n",
    "```\n",
    "\n",
    "Ahora veamos un ejemplo práctico de `.pipe` aplicado a nuestro ejemplo. Lo vamos a usar para calcular la cuota que represante cada uno de los diferentes tipos de animes sobre el total y también para formatear nuestro código y añadirle %."
   ]
  },
  {
   "cell_type": "code",
   "execution_count": 67,
   "id": "32226e71",
   "metadata": {},
   "outputs": [
    {
     "data": {
      "text/html": [
       "<div>\n",
       "<style scoped>\n",
       "    .dataframe tbody tr th:only-of-type {\n",
       "        vertical-align: middle;\n",
       "    }\n",
       "\n",
       "    .dataframe tbody tr th {\n",
       "        vertical-align: top;\n",
       "    }\n",
       "\n",
       "    .dataframe thead th {\n",
       "        text-align: right;\n",
       "    }\n",
       "</style>\n",
       "<table border=\"1\" class=\"dataframe\">\n",
       "  <thead>\n",
       "    <tr style=\"text-align: right;\">\n",
       "      <th></th>\n",
       "      <th>nr</th>\n",
       "    </tr>\n",
       "    <tr>\n",
       "      <th>type</th>\n",
       "      <th></th>\n",
       "    </tr>\n",
       "  </thead>\n",
       "  <tbody>\n",
       "    <tr>\n",
       "      <th>TV</th>\n",
       "      <td>30.87%</td>\n",
       "    </tr>\n",
       "    <tr>\n",
       "      <th>OVA</th>\n",
       "      <td>26.99%</td>\n",
       "    </tr>\n",
       "    <tr>\n",
       "      <th>Movie</th>\n",
       "      <td>19.14%</td>\n",
       "    </tr>\n",
       "    <tr>\n",
       "      <th>Special</th>\n",
       "      <td>13.66%</td>\n",
       "    </tr>\n",
       "    <tr>\n",
       "      <th>ONA</th>\n",
       "      <td>5.37%</td>\n",
       "    </tr>\n",
       "    <tr>\n",
       "      <th>Music</th>\n",
       "      <td>3.98%</td>\n",
       "    </tr>\n",
       "  </tbody>\n",
       "</table>\n",
       "</div>"
      ],
      "text/plain": [
       "             nr\n",
       "type           \n",
       "TV       30.87%\n",
       "OVA      26.99%\n",
       "Movie    19.14%\n",
       "Special  13.66%\n",
       "ONA       5.37%\n",
       "Music     3.98%"
      ]
     },
     "execution_count": 67,
     "metadata": {},
     "output_type": "execute_result"
    }
   ],
   "source": [
    "(\n",
    "    df\n",
    "    .groupby([\"type\"])\n",
    "    .size()\n",
    "    .sort_values(ascending = False)\n",
    "    .to_frame()\n",
    "    .rename(columns = {0:\"nr\"})\n",
    "    .pipe(lambda df: df.divide(df.sum(axis = 0), axis = 1))\n",
    "    .pipe(lambda df: df[\"nr\"].apply(lambda nr: str(round((nr*100), 2)) + \"%\"))\n",
    "    .to_frame()\n",
    ")"
   ]
  },
  {
   "cell_type": "markdown",
   "id": "41fe7e1a",
   "metadata": {},
   "source": [
    "<a id='conclusion'></a>\n",
    "### 4. Wrap up y conclusiones\n",
    "[Volver al índice](#index)<br>\n",
    "\n",
    "Hemos hecho una breve introducción a pandas y hemos visto los principales métodos que hay.\n",
    "\n",
    "Pandas es una librería muy versátil y muy popular. \n",
    "\n",
    "A pesar de tener [muchas carencias](https://github.com/nicopyds/polanyt/blob/main/Workshop_Polars_vs_Pandas.ipynb) sigue siendo muy usada para hacer análisis de datos (datasets pequeños y medianos).\n",
    "\n",
    "Podemos cargar a pandas datos desde diferentes entornos (por ejemplo desde una base de datos o bien desde ficheros que están en nuestro disco duro). Existe más de 20 métodos `pd.read` para leer ficheros a Python por tanto lo más probable que podremos cargar cualquier fichero tabular.\n",
    "\n",
    "El objeto central en pandas es el **DataFrame** y las pandas **Series**.\n",
    "\n",
    "Los **DataFrames** disponen de decenas de métodos para hacer un análisis rápido (`head`, `tail`, `sample`, `describe`, `sum`, `max`, `min`, `mean` etc).\n",
    "\n",
    "`Groupby` y `pivot_table` son otros métodos muy comunes que nos permiten agrupar nuestros datos para sacar algún estadístico común (por ejemplo la suma o la media por un subgrupo). Básicamente son como las tablas dinámicas de Excel.\n",
    "\n",
    "`Chaining` de pandas nos ayuda a organizar nuestro código y hacerlo más fácil para leer. `Chaining` junto con `pipe` nos da la verstalidad para añadir funciones y operaciones custom dentro de nuestro preprocessing.\n",
    "\n",
    "Por último, si necesitamos trabajar con más de 1 dataset, podemos usar `pd.merge` para hacer algún join de 2 datasets que tienen algún campo en común o bien `pd.concat` apilar diferentes datasets."
   ]
  },
  {
   "cell_type": "markdown",
   "id": "669165f3",
   "metadata": {},
   "source": [
    "<a id='next_steps'></a>\n",
    "### 5. Next steps\n",
    "[Volver al índice](#index)<br>"
   ]
  },
  {
   "cell_type": "markdown",
   "id": "fad50dd7",
   "metadata": {},
   "source": [
    "En el siguiente notebook [CBRS.ipynb](./CBRS.ipynb) vamos a usar todo lo aprendido sobre **pandas** para hacer un \"Content Based Recommendation System\" end to end.\n",
    "\n",
    "**De cara a la próxima sesión sería de extrema utilidad que puedan repasar todo lo aprendido hoy sobre pandas.**\n",
    "\n",
    "Los puntos más importantes serían:\n",
    "1. Saber leer ficheros en un DataFrame (métodos que empiezan por `pd.read_`).\n",
    "1. Entender como podemos filtrar columnas y/o filas de un DataFrame (métodos como `df.loc` y `df.iloc`).\n",
    "1. Practicar y entender el método de `df.groupby`.\n",
    "1. Practicar y entender los métodos de `pd.merge` y `pd.concat`.\n",
    "\n",
    "Básicamente con lo expuesto antes y algunos métodos que veremos el próximo día vamos a poder hacer nuestro recomendador."
   ]
  },
  {
   "cell_type": "markdown",
   "id": "ff2355fc",
   "metadata": {},
   "source": [
    "<a id='referencias'></a>\n",
    "### 6. Referencias y lecturas recomendables\n",
    "[Volver al índice](#index)<br>\n",
    "\n",
    "A continuación dejamos algunos links útiles para profundizar en algunos de los conceptos que hemos visto en el notebook:\n",
    "\n",
    "[Sitio oficial de pandas](https://pandas.pydata.org/)\n",
    "\n",
    "[Is it too late for me to learn programming and land a job with it?\n",
    "](https://www.reddit.com/r/learnprogramming/comments/67bary/is_it_too_late_for_me_to_learn_programming_and/)"
   ]
  },
  {
   "cell_type": "code",
   "execution_count": null,
   "id": "aee847af",
   "metadata": {},
   "outputs": [],
   "source": []
  }
 ],
 "metadata": {
  "kernelspec": {
   "display_name": "env_main",
   "language": "python",
   "name": "env_main"
  },
  "language_info": {
   "codemirror_mode": {
    "name": "ipython",
    "version": 3
   },
   "file_extension": ".py",
   "mimetype": "text/x-python",
   "name": "python",
   "nbconvert_exporter": "python",
   "pygments_lexer": "ipython3",
   "version": "3.10.15"
  }
 },
 "nbformat": 4,
 "nbformat_minor": 5
}

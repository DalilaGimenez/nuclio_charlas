{
 "cells": [
  {
   "cell_type": "markdown",
   "id": "49912191",
   "metadata": {},
   "source": [
    "# Bienvenido al día 1 de la workshop de Nuclio\n",
    "## 14-Enero-2025\n",
    "\n",
    "<img src=\"./pictures/DALLE2.webp\" alt=\"DALLE\" width=\"300\" height=\"300\"/>"
   ]
  },
  {
   "cell_type": "markdown",
   "id": "33c1d53e",
   "metadata": {},
   "source": [
    "## Índice\n",
    "<a id='index'></a>\n",
    "\n",
    "---\n",
    "### Intro\n",
    "[Introducción de Nuclio Digital School](#intro_nuclio)<br>\n",
    "[Introducción del docente](#intro_docente)<br>\n",
    "[¿Que es el Data Science?](#intro_ds)<br>\n",
    "[Tipos de recomendadores](#intro_recommenders)<br>\n",
    "\n",
    "---\n",
    "### Herramientas utilizadas\n",
    "[Python: el mejor lenguaje de programación para principiantes](#python)<br>\n",
    "[Jupyter Notebook: un entorno para codificar](#jupyter)<br>\n",
    "[Pandas: un \"excel\" con esteroides](#pandas)<br>\n",
    "[Matplotlib: gráficos en Python](#matplotlib)<br>\n",
    "\n",
    "---\n",
    "### Let's go!"
   ]
  },
  {
   "cell_type": "markdown",
   "id": "73568734",
   "metadata": {},
   "source": [
    "<a id=\"intro_nuclio\"></a>\n",
    "### Introducción a Nuclio Digital School\n",
    "[Volver al índice](#index)\n",
    "\n",
    "<img src=\"./pictures/Nuclio.png\" alt=\"Nuclio\" height=\"300\" width=\"300\">\n",
    "\n",
    "---\n",
    "\n",
    "[Nuclio Digital School](https://nuclio.school/) es una escuela de formación en **nuevas tecnologías** con sede en Barcelona, España.\n",
    "\n",
    "Ofrece cursos tanto en online como en sus campus presenciales en Barcelona y Madrid.\n",
    "\n",
    "Desde sus inicios se ha consolidado como el líder en <ins>cursos, masters y bootcamps enfocados</ins> a las **nuevas competencias digitales**.\n",
    "\n",
    "Combina **clases intensivas**, **hands-on** y con un **temario actualizado** impartido por los **mejores docentes**, que cuentan con **experiencia real**, para ayudar a sus alumnos a construir **proyectos end-to-end**.\n",
    "\n",
    "Esta combinación de **docentes/clases prácticas/proyectos e2e** permiten a las personas que acaban el master de Nuclio a **destacar en el mercado laboral y en las entrevistas técnicas**.\n",
    "\n",
    "Actualmente en [Nuclio Digital School hay un total de 9 Masters](https://nuclio.school/all-programs/) que van desde [Inteligencia Artificial](https://nuclio.school/master-data-science/), [Full Stack Development](https://nuclio.school/master-full-stack-developer/) hasta [Digital Marketing](https://nuclio.school/master-digital-marketing/) y también se ofrecen **Dual Masters**."
   ]
  },
  {
   "cell_type": "markdown",
   "id": "e5eb365c",
   "metadata": {},
   "source": [
    "<a id=\"intro_docente\"></a>\n",
    "### Introducción del docente\n",
    "[Volver al índice](#index)"
   ]
  },
  {
   "cell_type": "markdown",
   "id": "db87d873",
   "metadata": {},
   "source": [
    "[Nico Popescul](https://www.linkedin.com/in/nico-popescul-a8a1a084/) es un profesional de Data Science y Data Analysis con **8 años de experiencia**.\n",
    "\n",
    "Su **carrera profesional** ha estado siempre ligada al **sector bancario.**\n",
    "\n",
    "Ha llevado a cabo proyectos de Analítica Avanzada y/o Machine Learning en algunos de los principales bancos de España y Andorra.\n",
    "\n",
    "Desde hace 5 años trabaja en **CaixaBank Advanced Business Analytics**, la filial de Analítica Avanzada y ML de CaixaBank.\n",
    "\n",
    "Desempeña como **Manager de Data Science** y es responsable de puesta en producción y monitorización de modelos **(MLOps)**.\n",
    "\n",
    "Desde junio de 2020 es profesor en Nuclio Digital School e imparte clases de Time Series, Aprendizaje No Supervisado, pandas y sklearn en los másters presenciales de Barcelona y Online España.\n",
    "\n",
    "Licenciado en economía, tiene un postgrado de **Data Science por la Universidad de Barcelona**. Desde Noviembre de 2023 es **Google Certified Machine Learning Engineer**. Estuvo en el **top 50 mundial en 2 categorías diferentes** (de un total de 4) de la prestigiosa plataforma Kaggle (> 17 millones de usuarios)."
   ]
  },
  {
   "cell_type": "markdown",
   "id": "86e3c973",
   "metadata": {},
   "source": [
    "<a id=\"intro_ds\"></a>\n",
    "### ¿Que es el Data Science?\n",
    "[Volver al índice](#index)"
   ]
  },
  {
   "cell_type": "markdown",
   "id": "5647cdaa",
   "metadata": {},
   "source": [
    "El **[Data Science](https://www.ibm.com/think/topics/data-science)** es una disciplina que combina las **matemáticas** y la estadística junto con la **programación** y el **conocimiento de negocio** para analizar grandes cantidades de datos para poder **tomar decisiones empresariales**, descubrir **nuevos insights** o bien entender el nuestro alrededor.\n",
    "\n",
    "---\n",
    "<img src=\"./pictures/VernDataScience.png\" alt=\"VernDataScience\" width=\"300\" height=\"300\"/>\n",
    "\n",
    "---\n",
    "Dentro del mundo de Data Science, podemos encontrar diferentes tipos de problemas a resolver.\n",
    "\n",
    "El siguiente árbol es una resumen visual:"
   ]
  },
  {
   "cell_type": "markdown",
   "id": "caf9e429",
   "metadata": {},
   "source": [
    "<a id=\"intro_recommenders\"></a>\n",
    "### Tipos de recomendadores\n",
    "[Volver al índice](#index)"
   ]
  },
  {
   "cell_type": "code",
   "execution_count": null,
   "id": "7e7cf40d",
   "metadata": {},
   "outputs": [],
   "source": []
  },
  {
   "cell_type": "code",
   "execution_count": null,
   "id": "9e2b43df",
   "metadata": {},
   "outputs": [],
   "source": []
  },
  {
   "cell_type": "code",
   "execution_count": null,
   "id": "45bff078",
   "metadata": {},
   "outputs": [],
   "source": []
  },
  {
   "cell_type": "code",
   "execution_count": null,
   "id": "8b5ffede",
   "metadata": {},
   "outputs": [],
   "source": []
  },
  {
   "cell_type": "markdown",
   "id": "3305a7c0",
   "metadata": {},
   "source": [
    "<a id=\"python\"></a>\n",
    "### Python: el mejor lenguaje de programación para principiantes\n",
    "[Volver al índice](#index)"
   ]
  },
  {
   "cell_type": "code",
   "execution_count": null,
   "id": "59b7a811",
   "metadata": {},
   "outputs": [],
   "source": []
  },
  {
   "cell_type": "code",
   "execution_count": null,
   "id": "5c5f8704",
   "metadata": {},
   "outputs": [],
   "source": []
  },
  {
   "cell_type": "code",
   "execution_count": null,
   "id": "e0ed77e9",
   "metadata": {},
   "outputs": [],
   "source": []
  },
  {
   "cell_type": "code",
   "execution_count": null,
   "id": "ae75480e",
   "metadata": {},
   "outputs": [],
   "source": []
  },
  {
   "cell_type": "code",
   "execution_count": null,
   "id": "36c43b6a",
   "metadata": {},
   "outputs": [],
   "source": []
  },
  {
   "cell_type": "code",
   "execution_count": null,
   "id": "17408a66",
   "metadata": {},
   "outputs": [],
   "source": []
  },
  {
   "cell_type": "code",
   "execution_count": null,
   "id": "fc0fac53",
   "metadata": {},
   "outputs": [],
   "source": []
  },
  {
   "cell_type": "markdown",
   "id": "33355148",
   "metadata": {},
   "source": [
    "<a id=\"jupyter\"></a>\n",
    "### Jupyter Notebook: un entorno para codificar\n",
    "[Volver al índice](#index)"
   ]
  },
  {
   "cell_type": "code",
   "execution_count": null,
   "id": "87d0cdc7",
   "metadata": {},
   "outputs": [],
   "source": []
  },
  {
   "cell_type": "code",
   "execution_count": null,
   "id": "8dd6b38a",
   "metadata": {},
   "outputs": [],
   "source": []
  },
  {
   "cell_type": "code",
   "execution_count": null,
   "id": "49754a45",
   "metadata": {},
   "outputs": [],
   "source": []
  },
  {
   "cell_type": "code",
   "execution_count": null,
   "id": "3e94e91f",
   "metadata": {},
   "outputs": [],
   "source": []
  },
  {
   "cell_type": "code",
   "execution_count": null,
   "id": "45d7b78f",
   "metadata": {},
   "outputs": [],
   "source": []
  },
  {
   "cell_type": "code",
   "execution_count": null,
   "id": "bdd31efb",
   "metadata": {},
   "outputs": [],
   "source": []
  },
  {
   "cell_type": "code",
   "execution_count": null,
   "id": "460c3bf7",
   "metadata": {},
   "outputs": [],
   "source": []
  },
  {
   "cell_type": "markdown",
   "id": "9824d0b6",
   "metadata": {},
   "source": [
    "<a id=\"pandas\"></a>\n",
    "### Pandas: un \"excel\" con esteroides\n",
    "[Volver al índice](#index)"
   ]
  },
  {
   "cell_type": "code",
   "execution_count": null,
   "id": "0db0ef81",
   "metadata": {},
   "outputs": [],
   "source": []
  },
  {
   "cell_type": "code",
   "execution_count": null,
   "id": "37f583f5",
   "metadata": {},
   "outputs": [],
   "source": []
  },
  {
   "cell_type": "code",
   "execution_count": null,
   "id": "bf0eea34",
   "metadata": {},
   "outputs": [],
   "source": []
  },
  {
   "cell_type": "code",
   "execution_count": null,
   "id": "73df8a79",
   "metadata": {},
   "outputs": [],
   "source": []
  },
  {
   "cell_type": "code",
   "execution_count": null,
   "id": "a5663770",
   "metadata": {},
   "outputs": [],
   "source": []
  },
  {
   "cell_type": "code",
   "execution_count": null,
   "id": "9cf4b341",
   "metadata": {},
   "outputs": [],
   "source": []
  },
  {
   "cell_type": "code",
   "execution_count": null,
   "id": "1eeb83b3",
   "metadata": {},
   "outputs": [],
   "source": []
  },
  {
   "cell_type": "code",
   "execution_count": null,
   "id": "9fd9afe3",
   "metadata": {},
   "outputs": [],
   "source": []
  },
  {
   "cell_type": "code",
   "execution_count": null,
   "id": "174d277b",
   "metadata": {},
   "outputs": [],
   "source": []
  },
  {
   "cell_type": "markdown",
   "id": "2800b0a9",
   "metadata": {},
   "source": [
    "<a id=\"matplotlib\"></a>\n",
    "### Matplotlib: gráficos en Python\n",
    "[Volver al índice](#index)"
   ]
  },
  {
   "cell_type": "code",
   "execution_count": null,
   "id": "35f1adcc",
   "metadata": {},
   "outputs": [],
   "source": []
  },
  {
   "cell_type": "code",
   "execution_count": null,
   "id": "36e63119",
   "metadata": {},
   "outputs": [],
   "source": []
  },
  {
   "cell_type": "code",
   "execution_count": null,
   "id": "4ea5fd21",
   "metadata": {},
   "outputs": [],
   "source": []
  },
  {
   "cell_type": "code",
   "execution_count": null,
   "id": "db1a07b3",
   "metadata": {},
   "outputs": [],
   "source": []
  },
  {
   "cell_type": "code",
   "execution_count": null,
   "id": "0df957ba",
   "metadata": {},
   "outputs": [],
   "source": []
  },
  {
   "cell_type": "code",
   "execution_count": null,
   "id": "ea1e93cf",
   "metadata": {},
   "outputs": [],
   "source": []
  },
  {
   "cell_type": "code",
   "execution_count": null,
   "id": "c8f368fb",
   "metadata": {},
   "outputs": [],
   "source": []
  },
  {
   "cell_type": "code",
   "execution_count": null,
   "id": "451874bf",
   "metadata": {},
   "outputs": [],
   "source": []
  },
  {
   "cell_type": "code",
   "execution_count": null,
   "id": "4cf7f078",
   "metadata": {},
   "outputs": [],
   "source": []
  },
  {
   "cell_type": "code",
   "execution_count": null,
   "id": "62721334",
   "metadata": {},
   "outputs": [],
   "source": []
  }
 ],
 "metadata": {
  "kernelspec": {
   "display_name": "env_main",
   "language": "python",
   "name": "env_main"
  },
  "language_info": {
   "codemirror_mode": {
    "name": "ipython",
    "version": 3
   },
   "file_extension": ".py",
   "mimetype": "text/x-python",
   "name": "python",
   "nbconvert_exporter": "python",
   "pygments_lexer": "ipython3",
   "version": "3.10.15"
  }
 },
 "nbformat": 4,
 "nbformat_minor": 5
}

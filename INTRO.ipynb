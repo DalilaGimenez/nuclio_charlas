{
 "cells": [
  {
   "cell_type": "markdown",
   "id": "003f01ed",
   "metadata": {},
   "source": [
    "# Bienvenido al día 1 del workshop de Nuclio Digital School (1/2)\n",
    "## 14-Enero-2025\n",
    "\n",
    "<img src=\"./pictures/DALLE2.webp\" alt=\"DALLE\" width=\"500\" height=\"300\"/><br>"
   ]
  },
  {
   "cell_type": "markdown",
   "id": "472ed2d9",
   "metadata": {},
   "source": [
    "# Índice\n",
    "<a id='index'></a>\n",
    "\n",
    "---\n",
    "## 1. Intro\n",
    "[1.1 Introducción de Nuclio Digital School](#intro_nuclio)<br>\n",
    "[1.2 Introducción del docente](#intro_docente)<br>\n",
    "[1.3 ¿Que es el Data Science?](#intro_ds)<br>\n",
    "[1.4 Tipos de recomendadores](#intro_recommenders)<br>\n",
    "\n",
    "---\n",
    "## 2. Herramientas utilizadas\n",
    "[2.1 Python: el mejor lenguaje de programación para principiantes](#python)<br>\n",
    "[2.2 Jupyter Notebook: un entorno para codificar](#jupyter)<br>\n",
    "[2.3 Pandas: un \"excel vitaminado\"](#pandas)<br>\n",
    "[2.4 Matplotlib: gráficos en Python](#matplotlib)<br>\n",
    "\n",
    "---\n",
    "## 3. Conclusión\n",
    "[3.1 Conclusión](#conclusion)<br>\n",
    "\n",
    "---\n",
    "# Let's go!"
   ]
  },
  {
   "cell_type": "markdown",
   "id": "78bc9c0e",
   "metadata": {},
   "source": [
    "# 1. Intro\n",
    "\n",
    "<a id=\"intro_nuclio\"></a>\n",
    "# 1.1 Introducción de Nuclio Digital School\n",
    "[Volver al índice](#index)\n",
    "\n",
    "<img src=\"./pictures/NUCLIO_NEW.png\" alt=\"Nuclio\" height=\"300\" width=\"300\">\n",
    "\n",
    "---\n",
    "\n",
    "[Nuclio Digital School](https://nuclio.school/) es una escuela de formación en **nuevas tecnologías** con sede en Barcelona, España.\n",
    "\n",
    "Ofrece masters online y presenciales (en sus campus de Barcelona y Madrid) para aprender las últimas tecnologías del mercado.\n",
    "\n",
    "Desde sus inicios se ha consolidado como el líder en <ins>cursos, masters y bootcamps enfocados</ins> a adquirir **las competencias digitales** necesarias para triunfar hoy en día.\n",
    "\n",
    "Combina **clases intensivas**, **hands-on** y con un **temario actualizado** impartido por los **mejores docentes**, que cuentan con **experiencia real**, para ayudar a sus alumnos a construir **proyectos end-to-end**.\n",
    "\n",
    "Esta combinación de **docentes/clases prácticas/proyectos e2e** permiten a las personas que acaban el master de Nuclio a **destacar en el mercado laboral y en las entrevistas técnicas**.\n",
    "\n",
    "Actualmente en [Nuclio Digital School hay un total de 9 Masters](https://nuclio.school/all-programs/) que van desde [Inteligencia Artificial](https://nuclio.school/master-data-science/), [Full Stack Development](https://nuclio.school/master-full-stack-developer/) hasta [Digital Marketing](https://nuclio.school/master-digital-marketing/) y otros."
   ]
  },
  {
   "cell_type": "markdown",
   "id": "c3f15eed",
   "metadata": {},
   "source": [
    "<a id=\"intro_docente\"></a>\n",
    "# 1.2 Introducción del docente\n",
    "[Volver al índice](#index)\n",
    "\n",
    "[Nico](https://www.linkedin.com/in/nico-popescul-a8a1a084/) es un profesional de Data Science y Data Analysis con **9 años de experiencia**.\n",
    "\n",
    "Su **carrera profesional** ha estado siempre ligada al **sector bancario.**\n",
    "\n",
    "Ha llevado a cabo proyectos de Analítica Avanzada y/o Machine Learning en algunos de los principales bancos de España y Andorra.\n",
    "\n",
    "Desde hace Abril-2019 trabaja en **CaixaBank Advanced Business Analytics**, la filial de Analítica Avanzada y ML de CaixaBank.\n",
    "\n",
    "Desempeña como **Manager de Data Science** y es responsable de puesta en producción y monitorización de modelos **(MLOps)** así como de **creación de arquetipos y nuevas herramientas internas**.\n",
    "\n",
    "Desde Junio-2020 es profesor en **Nuclio Digital School** e imparte clases de Time Series, Aprendizaje No Supervisado, pandas y scikit-learn en los másters presenciales de Barcelona y Online España.\n",
    "\n",
    "Licenciado en **Economía por la UPNA**, tiene un postgrado de **Data Science por la Universidad de Barcelona**. \n",
    "\n",
    "Desde Noviembre de 2023 es **Google Certified Machine Learning Engineer**.\n",
    "\n",
    "Estuvo en el **top 50 mundial en 2 categorías diferentes** (de un total de 4) de la prestigiosa plataforma Kaggle (> 17 millones de usuarios)."
   ]
  },
  {
   "cell_type": "markdown",
   "id": "72702116",
   "metadata": {},
   "source": [
    "<a id=\"intro_ds\"></a>\n",
    "# 1.3 ¿Que es el Data Science?\n",
    "[Volver al índice](#index)\n",
    "\n",
    "El **[Data Science](https://www.ibm.com/think/topics/data-science)** es una disciplina que combina las **matemáticas**, la **programación** y el **conocimiento de negocio** para analizar grandes cantidades de datos y poder **tomar decisiones empresariales**, descubrir **nuevos insights** o bien entender el nuestro alrededor.\n",
    "\n",
    "---\n",
    "<img src=\"./pictures/VERNDS.png\" alt=\"VernDataScience\" width=\"300\" height=\"300\"/>\n",
    "\n",
    "[Fuente: www.researchgate.net](https://www.researchgate.net/figure/Data-Science-Venn-Diagram_fig1_365946272)\n",
    "\n",
    "---\n",
    "\n",
    "Dentro del mundo de Data Science, existe un subcampo que es el de la Inteligencia Artificial que se encarga de **crear algoritmos y procesos que puedan ayudar a las máquinas a \"pensar\", tomar decisiones de forma autónoma y resolver problemas complejos**\n",
    "\n",
    "A su vez, el Machine Learning es otro subconjunto de la IA que entrena algoritmos a partir de grandes cantidades de datos del pasado para detectar patrones y resolver 1 tarea en concreto.\n",
    "\n",
    "El siguiente árbol es una resumen visual de los diferentes problemas que intenta resolver el Machine Learning:\n",
    "\n",
    "<img src=\"./pictures/DS2.png\">\n",
    "\n",
    "<span style=\"color:#0000FF\">Fuente: Elaboración Propia</span>.\n",
    "\n",
    "---\n",
    "\n",
    "### En nuestro workshop vamos a hablar \"Recomendadores\" y sus diferentes tipologías. \n",
    "\n",
    "### Se trata por tanto de un problema de Machine Learning \"No Supervisado\" de \"Asociación\"."
   ]
  },
  {
   "cell_type": "markdown",
   "id": "5c0f3500",
   "metadata": {},
   "source": [
    "<a id=\"intro_recommenders\"></a>\n",
    "# 1.4 Tipos de recomendadores\n",
    "[Volver al índice](#index)"
   ]
  },
  {
   "cell_type": "markdown",
   "id": "5ee06c6d",
   "metadata": {},
   "source": [
    "Ahora que tenemos una idea de lo que es el ML y los problemas que intenta resolver, podemos hacer un overview sobre los diferentes tipos de recomendadores que existen.\n",
    "\n",
    "No es para nada una lista completa dado que muy a menudo salen nuevas técnicas:\n",
    "\n",
    "<img src=\"./Pictures/RECOMMENDERS.png\">\n",
    "\n",
    "[Fuente: www.researchgate.net](https://www.researchgate.net/figure/Types-of-recommender-system_fig2_342967182)"
   ]
  },
  {
   "cell_type": "markdown",
   "id": "dd9c63b6",
   "metadata": {},
   "source": [
    "---\n",
    "\n",
    "1. **Knowledge Based RS:** es el recomendador más sencillo. A menudo se utiliza cuando tenemos un nuevo cliente y **le preguntamos directamente por las cosas que le gustan**. Por ejemplo cuado nos registramos en una página web y nos preguntan los géneros de películas que nos gustan. Si decimos que nos gustan las películas de terror, el recomendador utilizará esta información para empezar a sugerir películas de terror. Conforme vamos viendo pelis, **empezamos a acumular datos** y entonces podemos empezar a implementar recomendadores más complejos.\n",
    "\n",
    "---\n",
    "\n",
    "2. **Content Based RS:** si tenemos una base de datos con clientes y estos **clientes han usado nuestro servicio**, podemos empezar a hacer una recomendación \"content based\" en decir, basada en su historial. **Este es el tipo de recomendador que vamos a implementar a lo largo de nuestros workshops.**\n",
    "\n",
    "---\n",
    "\n",
    "### Nuestro gran objetivo a lo largo de estos dos días es seleccionar un cliente al azar de nuestra base de datos y recomendarle aquellos animes que más le podrían gustar.\n",
    "\n",
    "---\n",
    "\n",
    "3. **Collaborative Filtering RS:** es un recomendador más complejo que los dos anteriores porque al contrario que los que vimos antes, empezamos a utilizar algoritmos de ML (en el caso de Model Based) y o bien calculos más complejos (en el caso de Memory Based). Además, son algoritmos que empiezan a requerir mucha cantidad de información para obtener buenos resultados. **Estas dos tipologías de recomendadores son los que implementamos en el Master de Data Science de Nuclio Digital School.**\n",
    "\n",
    "---\n",
    "\n",
    "4. **Hybrid RS**: son ejemplos de recomendadores que combinan las técnicas anteriores u otras (Matrix Factorization, Redes Neuronales etc) para afinar incluso más la recomendación. Por lo general, se consideran técnicas avanzadas y no las vamos a abordar en nuestro workshop.\n",
    "\n",
    "---\n",
    "\n",
    "Antes de empezar a trabajar en nuestro recomendador, veamos un momento que herramientas vamos a utilizar."
   ]
  },
  {
   "cell_type": "markdown",
   "id": "0748bf07",
   "metadata": {},
   "source": [
    "# 2. Herramientas utilizadas\n",
    "\n",
    "<a id=\"python\"></a>\n",
    "# 2.1 Python: el mejor lenguaje de programación para principiantes\n",
    "[Volver al índice](#index)\n",
    "\n",
    "<img src=\"./Pictures/PYTHON.png\">\n",
    "\n",
    "---\n",
    "\n",
    "[Python](https://www.python.org/) es el lenguaje de programación [más popular del mundo](https://www.tiobe.com/tiobe-index/) y además es considerado el lenguaje más \"asequible\" y fácil de aprender.\n",
    "\n",
    "Es un lenguaje que hace mucho hincapié en la simplicidad de la síntaxis así como en que el código sea fácil de leer a la vista.\n",
    "\n",
    "Python es utilizado para hacer un montón de cosas:\n",
    "\n",
    "1. Construir páginas web con frameworks como [Flask](https://flask.palletsprojects.com/en/3.0.x/) o [Django](https://www.djangoproject.com/)\n",
    "2. Entrenar Redes Neuronales con [PyTorch](https://pytorch.org/)\n",
    "3. Hacer Machine Learning con [sklearn](https://scikit-learn.org/stable/)\n",
    "4. O bien desarrollar videojuegos con [PyGame](https://www.pygame.org/news)\n",
    "5. Y un largo etc...\n",
    "\n",
    "### Empresas como LinkedIn, Instagram, Google o Apple utilizan este lenguaje en sus procesos internos y en muchos de sus productos.\n",
    "\n",
    "Algunos hasta afirman que [**Artificial General Intelligence\n",
    "(AGI)**](https://es.wikipedia.org/wiki/Inteligencia_artificial_general) será implementado en Python:\n",
    "\n",
    "<img src=\"./Pictures/AGI.png\" width=\"600\" height=\"600\">"
   ]
  },
  {
   "cell_type": "markdown",
   "id": "917a9d17",
   "metadata": {},
   "source": [
    "<a id=\"jupyter\"></a>\n",
    "# 2.2 Jupyter Notebook: un entorno para codificar\n",
    "[Volver al índice](#index)\n",
    "\n",
    "<img src=\"./Pictures/JUPYTER.png\">\n",
    "\n",
    "---\n",
    "\n",
    "Python es un lenguaje de programación pero necesitamos un \"entorno de desarrollo\". Es decir, un sitio donde podemos escribir, evaluar y ejecutar nuestro código. Para ello vamos a utilizar los [Jupyter Notebook](https://jupyter.org/).\n",
    "\n",
    "**Jupyter** tiene una interfaz muy sencilla que permite escribir y ejecutar enseguida nuestro código. \n",
    "\n",
    "**Es una herramienta muy user friendly para empezar a programar o bien hacer análisis de datos.**\n",
    "\n",
    "Los notebooks son muy utilizados por los equipos de Data Science porque permiten generar documentos que son fáciles de compartir y muy visuales. En Jupyter podemos insertar imágenes, texto formateado, latex además de código.\n",
    "\n",
    "**Ahora mismo, estáis viendo todo el contenido dentro de un Jupyter Notebook.**"
   ]
  },
  {
   "cell_type": "code",
   "execution_count": 1,
   "id": "ac3e7d7f",
   "metadata": {},
   "outputs": [
    {
     "name": "stdout",
     "output_type": "stream",
     "text": [
      "Estamos usando Python dentro de un Jupyter Notebook\n"
     ]
    }
   ],
   "source": [
    "print(\"Estamos usando Python dentro de un Jupyter Notebook\")"
   ]
  },
  {
   "cell_type": "markdown",
   "id": "e1f4b6aa",
   "metadata": {},
   "source": [
    "[Kaggle](https://www.kaggle.com/) o bien [Colab](https://colab.research.google.com/) son dos plataformas (propiedad de Google) gratuitas para aprender Python y Data Science que utilizan la tecnología de Jupyter Notebooks."
   ]
  },
  {
   "cell_type": "markdown",
   "id": "61a08aee",
   "metadata": {},
   "source": [
    "<a id=\"pandas\"></a>\n",
    "# 2.3 Pandas: un \"excel vitaminado\"\n",
    "[Volver al índice](#index)\n",
    "\n",
    "<img src=\"./Pictures/PANDAS.png\" width=\"700\">\n",
    "\n",
    "[Pandas](https://pandas.pydata.org/) es una herramienta muy flexible para hacer **análisis de datos tabulares.**\n",
    "\n",
    "Es uno de los software más utilizados dentro del mundo de Python con un total de [291.340.824](https://pypistats.org/packages/pandas) descargas en Diciembre-2024.\n",
    "\n",
    "Podemos pensar en pandas como una especie de \"Excel Vitaminado\" que nos permite hacer sumas, diferentes agrupaciones, tablas dinámicas y análisis directamente desde Python.\n",
    "\n",
    "Los objetos de pandas los llamamos **\"DataFrames\"** y son lo que nos permite manipular con facilidad nuestros datos.\n",
    "\n",
    "Veamos un ejemplo muy sencillo:"
   ]
  },
  {
   "cell_type": "code",
   "execution_count": 2,
   "id": "ce80f903",
   "metadata": {},
   "outputs": [],
   "source": [
    "#      MINI-DEMO\n",
    "# --------------------\n",
    "\n",
    "import pandas as pd"
   ]
  },
  {
   "cell_type": "code",
   "execution_count": 3,
   "id": "889ad2a4",
   "metadata": {},
   "outputs": [],
   "source": [
    "df = pd.read_parquet(\"./input/cf_anime.parquet.gzip\")"
   ]
  },
  {
   "cell_type": "code",
   "execution_count": 4,
   "id": "e90f4acc",
   "metadata": {},
   "outputs": [
    {
     "data": {
      "text/plain": [
       "array(['Movie', 'TV', 'OVA', 'Special', 'Music', 'ONA', None],\n",
       "      dtype=object)"
      ]
     },
     "execution_count": 4,
     "metadata": {},
     "output_type": "execute_result"
    }
   ],
   "source": [
    "df[\"type\"].unique()"
   ]
  },
  {
   "cell_type": "code",
   "execution_count": 5,
   "id": "fc11d085",
   "metadata": {},
   "outputs": [],
   "source": [
    "pt = df.pivot_table(\n",
    "    index = \"type\",\n",
    "    values = \"rating\",\n",
    "    aggfunc = len\n",
    ").sort_values(by = \"rating\", ascending = False)"
   ]
  },
  {
   "cell_type": "code",
   "execution_count": 6,
   "id": "517a6eb0",
   "metadata": {},
   "outputs": [
    {
     "data": {
      "text/html": [
       "<div>\n",
       "<style scoped>\n",
       "    .dataframe tbody tr th:only-of-type {\n",
       "        vertical-align: middle;\n",
       "    }\n",
       "\n",
       "    .dataframe tbody tr th {\n",
       "        vertical-align: top;\n",
       "    }\n",
       "\n",
       "    .dataframe thead th {\n",
       "        text-align: right;\n",
       "    }\n",
       "</style>\n",
       "<table border=\"1\" class=\"dataframe\">\n",
       "  <thead>\n",
       "    <tr style=\"text-align: right;\">\n",
       "      <th></th>\n",
       "      <th>rating</th>\n",
       "    </tr>\n",
       "    <tr>\n",
       "      <th>type</th>\n",
       "      <th></th>\n",
       "    </tr>\n",
       "  </thead>\n",
       "  <tbody>\n",
       "    <tr>\n",
       "      <th>TV</th>\n",
       "      <td>3787</td>\n",
       "    </tr>\n",
       "    <tr>\n",
       "      <th>OVA</th>\n",
       "      <td>3311</td>\n",
       "    </tr>\n",
       "    <tr>\n",
       "      <th>Movie</th>\n",
       "      <td>2348</td>\n",
       "    </tr>\n",
       "    <tr>\n",
       "      <th>Special</th>\n",
       "      <td>1676</td>\n",
       "    </tr>\n",
       "    <tr>\n",
       "      <th>ONA</th>\n",
       "      <td>659</td>\n",
       "    </tr>\n",
       "    <tr>\n",
       "      <th>Music</th>\n",
       "      <td>488</td>\n",
       "    </tr>\n",
       "  </tbody>\n",
       "</table>\n",
       "</div>"
      ],
      "text/plain": [
       "         rating\n",
       "type           \n",
       "TV         3787\n",
       "OVA        3311\n",
       "Movie      2348\n",
       "Special    1676\n",
       "ONA         659\n",
       "Music       488"
      ]
     },
     "execution_count": 6,
     "metadata": {},
     "output_type": "execute_result"
    }
   ],
   "source": [
    "pt"
   ]
  },
  {
   "cell_type": "code",
   "execution_count": 7,
   "id": "2e5609d1",
   "metadata": {},
   "outputs": [
    {
     "data": {
      "text/plain": [
       "<Axes: xlabel='type'>"
      ]
     },
     "execution_count": 7,
     "metadata": {},
     "output_type": "execute_result"
    },
    {
     "data": {
      "image/png": "[encoded data removed]",
      "text/plain": [
       "<Figure size 640x480 with 1 Axes>"
      ]
     },
     "metadata": {},
     "output_type": "display_data"
    }
   ],
   "source": [
    "pt.plot(kind = \"bar\")"
   ]
  },
  {
   "cell_type": "markdown",
   "id": "357ca3d8",
   "metadata": {},
   "source": [
    "<a id=\"matplotlib\"></a>\n",
    "# 2.4 Matplotlib: gráficos en Python\n",
    "[Volver al índice](#index)\n",
    "\n",
    "Por último en nuestro workshop vamos a trabajar con [matplotlib](https://matplotlib.org/).\n",
    "\n",
    "**Matplotlib** es una de las librerías más antiguas de Python y una de las más utilizadas con [64.156.870](https://pypistats.org/packages/matplotlib) de descargas en el mes de Diciembre-2024.\n",
    "\n",
    "Esta librería se usa para hacer [gráficos muy avanzadas](https://numpy.org/case-studies/blackhole-image/) y de una calidad excepcional porque da total acceso a los elementos de un plot.\n",
    "\n",
    "\n",
    "En el [siguiente enlace](https://www.kaggle.com/code/nicopyds/learn-matpotlib-doing-50-plots) tenéis una pequeña colección de diferentes gráficos que se pueden realizar con Matplotlib.\n",
    "\n",
    "---\n",
    "\n",
    "\n",
    "<img src=\"./Pictures/MATPLOTLIB_EXAMPLE.png\">"
   ]
  },
  {
   "cell_type": "markdown",
   "id": "92db20a7",
   "metadata": {},
   "source": [
    "# 3. Conclusión\n",
    "\n",
    "<a id=\"conclusion\"></a>\n",
    "# 3.1 Conclusión\n",
    "[Volver al índice](#index)\n",
    "\n",
    "El ecosistema de Python y las librerías que se han generado alrededor son herramientas muy versátiles que se utilizan a diario por millones de programadores y data scientists de todo el mundo.\n",
    "\n",
    "En empresas tan punteras como [Google: Python es uno de los 5 \"lenguajes oficiales\" para subir a producción.](https://arxiv.org/pdf/1702.01715)\n",
    "\n",
    "A su vez, el ecosistema Python es utilizado para hacer algunos de los grandes descubrimientos del siglo XXI.\n",
    "\n",
    "<img src=\"./Pictures/PYTHON_STACK.png\">\n",
    "\n",
    "## Nunca ha habido un mejor momento de aprender a programar en Python.\n",
    "\n",
    "Nos vemos en el siguiente [PANDAS.ipynb](./PANDAS.ipynb)"
   ]
  },
  {
   "cell_type": "code",
   "execution_count": null,
   "id": "4da2ce34",
   "metadata": {},
   "outputs": [],
   "source": []
  }
 ],
 "metadata": {
  "kernelspec": {
   "display_name": "env_main",
   "language": "python",
   "name": "env_main"
  },
  "language_info": {
   "codemirror_mode": {
    "name": "ipython",
    "version": 3
   },
   "file_extension": ".py",
   "mimetype": "text/x-python",
   "name": "python",
   "nbconvert_exporter": "python",
   "pygments_lexer": "ipython3",
   "version": "3.10.15"
  }
 },
 "nbformat": 4,
 "nbformat_minor": 5
}

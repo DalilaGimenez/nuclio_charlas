{
 "cells": [
  {
   "cell_type": "markdown",
   "id": "003f01ed",
   "metadata": {},
   "source": [
    "# Bienvenido al día 1 de la workshop de Nuclio\n",
    "## 14-Enero-2025\n",
    "\n",
    "<img src=\"./pictures/DALLE2.webp\" alt=\"DALLE\" width=\"300\" height=\"300\"/>"
   ]
  },
  {
   "cell_type": "markdown",
   "id": "472ed2d9",
   "metadata": {},
   "source": [
    "## Índice\n",
    "<a id='index'></a>\n",
    "\n",
    "---\n",
    "### Intro\n",
    "[Introducción de Nuclio Digital School](#intro_nuclio)<br>\n",
    "[Introducción del docente](#intro_docente)<br>\n",
    "[¿Que es el Data Science?](#intro_ds)<br>\n",
    "[Tipos de recomendadores](#intro_recommenders)<br>\n",
    "\n",
    "---\n",
    "### Herramientas utilizadas\n",
    "[Python: el mejor lenguaje de programación para principiantes](#python)<br>\n",
    "[Jupyter Notebook: un entorno para codificar](#jupyter)<br>\n",
    "[Pandas: un \"excel\" con esteroides](#pandas)<br>\n",
    "[Matplotlib: gráficos en Python](#matplotlib)<br>\n",
    "\n",
    "---\n",
    "### Let's go!"
   ]
  },
  {
   "cell_type": "markdown",
   "id": "78bc9c0e",
   "metadata": {},
   "source": [
    "<a id=\"intro_nuclio\"></a>\n",
    "### Introducción a Nuclio Digital School\n",
    "[Volver al índice](#index)\n",
    "\n",
    "<img src=\"./pictures/Nuclio.png\" alt=\"Nuclio\" height=\"300\" width=\"300\">\n",
    "\n",
    "---\n",
    "\n",
    "[Nuclio Digital School](https://nuclio.school/) es una escuela de formación en **nuevas tecnologías** con sede en Barcelona, España.\n",
    "\n",
    "Ofrece cursos tanto en online como en sus campus presenciales en Barcelona y Madrid.\n",
    "\n",
    "Desde sus inicios se ha consolidado como el líder en <ins>cursos, masters y bootcamps enfocados</ins> a las **nuevas competencias digitales**.\n",
    "\n",
    "Combina **clases intensivas**, **hands-on** y con un **temario actualizado** impartido por los **mejores docentes**, que cuentan con **experiencia real**, para ayudar a sus alumnos a construir **proyectos end-to-end**.\n",
    "\n",
    "Esta combinación de **docentes/clases prácticas/proyectos e2e** permiten a las personas que acaban el master de Nuclio a **destacar en el mercado laboral y en las entrevistas técnicas**.\n",
    "\n",
    "Actualmente en [Nuclio Digital School hay un total de 9 Masters](https://nuclio.school/all-programs/) que van desde [Inteligencia Artificial](https://nuclio.school/master-data-science/), [Full Stack Development](https://nuclio.school/master-full-stack-developer/) hasta [Digital Marketing](https://nuclio.school/master-digital-marketing/) y también se ofrecen **Dual Masters**."
   ]
  },
  {
   "cell_type": "markdown",
   "id": "c3f15eed",
   "metadata": {},
   "source": [
    "<a id=\"intro_docente\"></a>\n",
    "### Introducción del docente\n",
    "[Volver al índice](#index)"
   ]
  },
  {
   "cell_type": "markdown",
   "id": "60aa48d9",
   "metadata": {},
   "source": [
    "[Nico Popescul](https://www.linkedin.com/in/nico-popescul-a8a1a084/) es un profesional de Data Science y Data Analysis con **8 años de experiencia**.\n",
    "\n",
    "Su **carrera profesional** ha estado siempre ligada al **sector bancario.**\n",
    "\n",
    "Ha llevado a cabo proyectos de Analítica Avanzada y/o Machine Learning en algunos de los principales bancos de España y Andorra.\n",
    "\n",
    "Desde hace 5 años trabaja en **CaixaBank Advanced Business Analytics**, la filial de Analítica Avanzada y ML de CaixaBank.\n",
    "\n",
    "Desempeña como **Manager de Data Science** y es responsable de puesta en producción y monitorización de modelos **(MLOps)**.\n",
    "\n",
    "Desde junio de 2020 es profesor en Nuclio Digital School e imparte clases de Time Series, Aprendizaje No Supervisado, pandas y sklearn en los másters presenciales de Barcelona y Online España.\n",
    "\n",
    "Licenciado en economía, tiene un postgrado de **Data Science por la Universidad de Barcelona**. Desde Noviembre de 2023 es **Google Certified Machine Learning Engineer**. Estuvo en el **top 50 mundial en 2 categorías diferentes** (de un total de 4) de la prestigiosa plataforma Kaggle (> 17 millones de usuarios)."
   ]
  },
  {
   "cell_type": "markdown",
   "id": "72702116",
   "metadata": {},
   "source": [
    "<a id=\"intro_ds\"></a>\n",
    "### ¿Que es el Data Science?\n",
    "[Volver al índice](#index)"
   ]
  },
  {
   "cell_type": "markdown",
   "id": "775a8fee",
   "metadata": {},
   "source": [
    "El **[Data Science](https://www.ibm.com/think/topics/data-science)** es una disciplina que combina las **matemáticas**, la **programación** y el **conocimiento de negocio** para analizar grandes cantidades de datos para poder **tomar decisiones empresariales**, descubrir **nuevos insights** o bien entender el nuestro alrededor.\n",
    "\n",
    "---\n",
    "<img src=\"./pictures/VernDataScience.png\" alt=\"VernDataScience\" width=\"300\" height=\"300\"/>\n",
    "\n",
    "[Fuente: www.researchgate.net](https://www.researchgate.net/figure/Data-Science-Venn-Diagram_fig1_365946272)\n",
    "\n",
    "---"
   ]
  },
  {
   "cell_type": "markdown",
   "id": "107e13b4",
   "metadata": {},
   "source": [
    "Dentro del mundo de Data Science, podemos encontrar diferentes tipos de problemas a resolver.\n",
    "\n",
    "El siguiente árbol es una resumen visual:\n",
    "\n",
    "<img src=\"./pictures/DS2.png\">\n",
    "\n",
    "<span style=\"color:#0000FF\">Fuente: Elaboración Propia</span>.\n",
    "\n",
    "En nuestro workshop vamos a hablar **\"Recomendadores\"** y sus diferentes tipologías, se trata por tanto de una problema de **\"No Supervisado\"** de **\"Asociación\"**."
   ]
  },
  {
   "cell_type": "markdown",
   "id": "5c0f3500",
   "metadata": {},
   "source": [
    "<a id=\"intro_recommenders\"></a>\n",
    "### Tipos de recomendadores\n",
    "[Volver al índice](#index)"
   ]
  },
  {
   "cell_type": "markdown",
   "id": "5ee06c6d",
   "metadata": {},
   "source": [
    "Ahora que tenemos una idea de lo que es el ML y los problemas que intenta resolver, podemos hacer un overview sobre los diferentes tipos de recomendadores que existen.\n",
    "\n",
    "No es para nada una lista completa, sino más bien diferentes tipologías dado que muy a menudo salen nuevas técnicas.\n",
    "\n",
    "<img src=\"./Pictures/TypesRecommenders.png\">\n",
    "\n",
    "[Fuente: www.researchgate.net](https://www.researchgate.net/figure/Types-of-recommender-system_fig2_342967182)"
   ]
  },
  {
   "cell_type": "markdown",
   "id": "dd9c63b6",
   "metadata": {},
   "source": [
    "---\n",
    "\n",
    "1. **Knowledge Based RS:** es el recomendador más sencillo. A menudo se utiliza cuando tenemos un cliente y le preguntamos directamente por las cosas que le gustan. Por ejemplo cuado nos registramos en una página web y nos preguntan los géneros de péliculas que nos gustan. Si decimos que nos gustan las péliculas de terror, el recomendador utilizará esta información para empezar a sugerir péliculas. Conforme vamos viendo pelis, empezamos a acumular datos y entonces podemos empezar a implementar recomendadores más complejos.\n",
    "\n",
    "---\n",
    "\n",
    "2. **Content Based RS:** si tenemos una base de datos con clientes y estos clientes han usado nuestro servicio, podemos empezar a hacer una recomendación \"content based\" en decir, basada en su historial. **Este es el tipo de recomendador que vamos a implementar a lo largo de nuestros workshops.**\n",
    "\n",
    "---\n",
    "\n",
    "3. **Collaborative Filtering RS:** es un recomendador más complejo que los dos anteriores, porque al contrario que los que vimos antes, empezamos a utilizar algoritmos de ML (en el caso de Model Based) y o bien calculos más complejos (en el caso de Memory Based). Además, son algoritmos que empienzan a requerir mucha cantidad de información para obtener buenos resultados. **Estas dos tipologías de recomendadores son los que implementamos en el Master de Data Science de Nuclio Digital School.**\n",
    "\n",
    "---\n",
    "\n",
    "4. **Hybrid RS**: son ejemplos de recomendadores que combinan las técnicas anteriores u otras (Matrix Factorization, Redes Neuronales etc) para afinar incluso más la recomendación.\n",
    "\n",
    "---\n",
    "\n",
    "Antes de empezar a trabajar en nuestro recomendador, veamos un momento que herramientas vamos a utilizar."
   ]
  },
  {
   "cell_type": "markdown",
   "id": "0748bf07",
   "metadata": {},
   "source": [
    "<a id=\"python\"></a>\n",
    "### Python: el mejor lenguaje de programación para principiantes\n",
    "[Volver al índice](#index)"
   ]
  },
  {
   "cell_type": "markdown",
   "id": "ab12d565",
   "metadata": {},
   "source": [
    "[Python](https://www.python.org/) es el lenguaje [más popular del mundo](https://www.tiobe.com/tiobe-index/) y además es considerador el lenguaje más \"asequible\" y fácil de aprender.\n",
    "\n",
    "Es un lenguaje que hace mucho hincapié en la simplicidad de la síntaxis así como en que el código sea fácil de leer a la vista.\n",
    "\n",
    "Python es utilizado para hacer un montón de cosas:\n",
    "\n",
    "1. Construir páginas web con frameworks como [Flask](https://flask.palletsprojects.com/en/3.0.x/) o [Django](https://www.djangoproject.com/)\n",
    "2. Entrenar Redes Neuronales con [PyTorch](https://pytorch.org/)\n",
    "3. Hacer Machine Learning con [sklearn](https://scikit-learn.org/stable/)\n",
    "4. O bien desarrollar videojuegos con [PyGame](https://www.pygame.org/news)\n",
    "5. Y un largo etc..."
   ]
  },
  {
   "cell_type": "code",
   "execution_count": 2,
   "id": "35032a65",
   "metadata": {},
   "outputs": [],
   "source": [
    "import this"
   ]
  },
  {
   "cell_type": "markdown",
   "id": "de1ac02b",
   "metadata": {},
   "source": [
    "Algunos hasta afirman que AGI será implementado en Python:\n",
    "\n",
    "<img src=\"./Pictures/AGI.png\">"
   ]
  },
  {
   "cell_type": "markdown",
   "id": "917a9d17",
   "metadata": {},
   "source": [
    "<a id=\"jupyter\"></a>\n",
    "### Jupyter Notebook: un entorno para codificar\n",
    "[Volver al índice](#index)"
   ]
  },
  {
   "cell_type": "code",
   "execution_count": null,
   "id": "224ab625",
   "metadata": {},
   "outputs": [],
   "source": []
  },
  {
   "cell_type": "code",
   "execution_count": null,
   "id": "34a4fdd3",
   "metadata": {},
   "outputs": [],
   "source": []
  },
  {
   "cell_type": "code",
   "execution_count": null,
   "id": "9b5baa01",
   "metadata": {},
   "outputs": [],
   "source": []
  },
  {
   "cell_type": "code",
   "execution_count": null,
   "id": "c73f7551",
   "metadata": {},
   "outputs": [],
   "source": []
  },
  {
   "cell_type": "code",
   "execution_count": null,
   "id": "5085c366",
   "metadata": {},
   "outputs": [],
   "source": []
  },
  {
   "cell_type": "code",
   "execution_count": null,
   "id": "79059868",
   "metadata": {},
   "outputs": [],
   "source": []
  },
  {
   "cell_type": "code",
   "execution_count": null,
   "id": "e4b49a11",
   "metadata": {},
   "outputs": [],
   "source": []
  },
  {
   "cell_type": "markdown",
   "id": "61a08aee",
   "metadata": {},
   "source": [
    "<a id=\"pandas\"></a>\n",
    "### Pandas: un \"excel\" con esteroides\n",
    "[Volver al índice](#index)"
   ]
  },
  {
   "cell_type": "code",
   "execution_count": null,
   "id": "15e423db",
   "metadata": {},
   "outputs": [],
   "source": []
  },
  {
   "cell_type": "code",
   "execution_count": null,
   "id": "c3b4db56",
   "metadata": {},
   "outputs": [],
   "source": []
  },
  {
   "cell_type": "code",
   "execution_count": null,
   "id": "2f60edd6",
   "metadata": {},
   "outputs": [],
   "source": []
  },
  {
   "cell_type": "code",
   "execution_count": null,
   "id": "e55c745e",
   "metadata": {},
   "outputs": [],
   "source": []
  },
  {
   "cell_type": "code",
   "execution_count": null,
   "id": "b67b94e5",
   "metadata": {},
   "outputs": [],
   "source": []
  },
  {
   "cell_type": "code",
   "execution_count": null,
   "id": "fb081b7d",
   "metadata": {},
   "outputs": [],
   "source": []
  },
  {
   "cell_type": "code",
   "execution_count": null,
   "id": "14e53c8c",
   "metadata": {},
   "outputs": [],
   "source": []
  },
  {
   "cell_type": "code",
   "execution_count": null,
   "id": "45dd7720",
   "metadata": {},
   "outputs": [],
   "source": []
  },
  {
   "cell_type": "code",
   "execution_count": null,
   "id": "ffa38764",
   "metadata": {},
   "outputs": [],
   "source": []
  },
  {
   "cell_type": "markdown",
   "id": "357ca3d8",
   "metadata": {},
   "source": [
    "<a id=\"matplotlib\"></a>\n",
    "### Matplotlib: gráficos en Python\n",
    "[Volver al índice](#index)"
   ]
  },
  {
   "cell_type": "code",
   "execution_count": null,
   "id": "5454e55a",
   "metadata": {},
   "outputs": [],
   "source": []
  },
  {
   "cell_type": "code",
   "execution_count": null,
   "id": "733e37e3",
   "metadata": {},
   "outputs": [],
   "source": []
  },
  {
   "cell_type": "code",
   "execution_count": null,
   "id": "7535ce61",
   "metadata": {},
   "outputs": [],
   "source": []
  },
  {
   "cell_type": "code",
   "execution_count": null,
   "id": "a6fc80e0",
   "metadata": {},
   "outputs": [],
   "source": []
  },
  {
   "cell_type": "code",
   "execution_count": null,
   "id": "033dc2dd",
   "metadata": {},
   "outputs": [],
   "source": []
  },
  {
   "cell_type": "code",
   "execution_count": null,
   "id": "25e9088e",
   "metadata": {},
   "outputs": [],
   "source": []
  },
  {
   "cell_type": "code",
   "execution_count": null,
   "id": "62475528",
   "metadata": {},
   "outputs": [],
   "source": []
  },
  {
   "cell_type": "code",
   "execution_count": null,
   "id": "6dc08435",
   "metadata": {},
   "outputs": [],
   "source": []
  },
  {
   "cell_type": "code",
   "execution_count": null,
   "id": "ee0aeb7a",
   "metadata": {},
   "outputs": [],
   "source": []
  }
 ],
 "metadata": {
  "kernelspec": {
   "display_name": "env_main",
   "language": "python",
   "name": "env_main"
  },
  "language_info": {
   "codemirror_mode": {
    "name": "ipython",
    "version": 3
   },
   "file_extension": ".py",
   "mimetype": "text/x-python",
   "name": "python",
   "nbconvert_exporter": "python",
   "pygments_lexer": "ipython3",
   "version": "3.10.15"
  }
 },
 "nbformat": 4,
 "nbformat_minor": 5
}
